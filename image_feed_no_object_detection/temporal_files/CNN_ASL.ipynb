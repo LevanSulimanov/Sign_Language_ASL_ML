{
 "cells": [
  {
   "cell_type": "markdown",
   "metadata": {},
   "source": [
    "# ASL Sign Language: Aphabet Gesture Recognition using ML"
   ]
  },
  {
   "cell_type": "markdown",
   "metadata": {},
   "source": [
    "## Dataset\n",
    "\n",
    "- Link to dataset source: https://www.kaggle.com/datamunge/sign-language-mnist\n",
    "\n",
    "\n",
    "- <b>Label/target</b> description - What column in your dataset you are trying to predict? Specify exactly what your target feature (label) is. It must be one of the dataset columns. For image classification, specify your class labels.\n",
    "\n",
    "- Dataset itself contains three CSV files: train_set, test_set, and combined full_set (train+test sets).\n",
    "\n",
    "- Feature description: Inside of dataset, there are 34627 samples of 28\\*28 pictures, thus the dataset has <b>34627 rows</b> and <b>784 columns + label column</b>. Each column (except 'label') is a pixel values, no RGB values, thus the image is stored in black and white color (grayscale). For visual representation of the data, please see recollected image from CSV pixel values down below, once the dataset is imported. In addition to that, we have 'label' column that has numbers that symbolize alphabet letters accordingly: 0=A, 1=B, etc. Note: Letter 'J' and 'Z' not included, b/c they are shown as moving gestures, thus not suitable for dataset."
   ]
  },
  {
   "cell_type": "markdown",
   "metadata": {},
   "source": [
    "- Code for loading, showing the data head, is located in the following cells below.\n",
    "\n",
    "\n",
    "- Pixels recollected back into images are also shown below."
   ]
  },
  {
   "cell_type": "code",
   "execution_count": 41,
   "metadata": {},
   "outputs": [],
   "source": [
    "# Import necessary Python, sklearn and/or tensorflow/keras modules for loading the dataset\n",
    "# Import necessary Python modules\n",
    "import pandas as pd\n",
    "import numpy as np\n",
    "import os\n",
    "\n",
    "import matplotlib.pyplot as plt\n",
    "%matplotlib inline\n",
    "\n",
    "# TENSORFLOW IMPORTS\n",
    "import tensorflow as tf"
   ]
  },
  {
   "cell_type": "code",
   "execution_count": 42,
   "metadata": {},
   "outputs": [
    {
     "name": "stdout",
     "output_type": "stream",
     "text": [
      "tf Version:  2.0.0\n",
      "Eager Execution mode:  True\n"
     ]
    }
   ],
   "source": [
    "# making sure same version is used (2.0.0) and Eager Execution is TRUE\n",
    "print(\"tf Version: \", tf.__version__)\n",
    "print(\"Eager Execution mode: \", tf.executing_eagerly())"
   ]
  },
  {
   "cell_type": "code",
   "execution_count": 43,
   "metadata": {},
   "outputs": [],
   "source": [
    "# Load the data\n",
    "\n",
    "# we are getting current directory + the folder that contains our datasets\n",
    "current_Directory = str(os.getcwd() + '\\\\sign-language-mnist\\\\')\n",
    "\n",
    "# once the directory for CSV files is stored we start to gather the data:\n",
    "\n",
    "# gathering FULL dataset:\n",
    "full_dataset = pd.read_csv(current_Directory + \"\\\\full_dataset.csv\")\n",
    "\n",
    "# gathering TRAIN dataset\n",
    "train_set = pd.read_csv(current_Directory + \"\\\\sign_mnist_train.csv\")\n",
    "\n",
    "# gathering TEST dataset:\n",
    "test_set = pd.read_csv(current_Directory + \"\\\\sign_mnist_test.csv\")"
   ]
  },
  {
   "cell_type": "code",
   "execution_count": 44,
   "metadata": {},
   "outputs": [
    {
     "name": "stdout",
     "output_type": "stream",
     "text": [
      "Full dataset shape: (34627, 785)\n"
     ]
    }
   ],
   "source": [
    "# Print data shape via built-in methods of sklearn, pandas or tensorflow/keras (or other modules)\n",
    "\n",
    "# - full dataset's shape:\n",
    "print(\"Full dataset shape:\", full_dataset.shape)"
   ]
  },
  {
   "cell_type": "code",
   "execution_count": 45,
   "metadata": {},
   "outputs": [
    {
     "data": {
      "text/html": [
       "<div>\n",
       "<style scoped>\n",
       "    .dataframe tbody tr th:only-of-type {\n",
       "        vertical-align: middle;\n",
       "    }\n",
       "\n",
       "    .dataframe tbody tr th {\n",
       "        vertical-align: top;\n",
       "    }\n",
       "\n",
       "    .dataframe thead th {\n",
       "        text-align: right;\n",
       "    }\n",
       "</style>\n",
       "<table border=\"1\" class=\"dataframe\">\n",
       "  <thead>\n",
       "    <tr style=\"text-align: right;\">\n",
       "      <th></th>\n",
       "      <th>label</th>\n",
       "      <th>pixel1</th>\n",
       "      <th>pixel2</th>\n",
       "      <th>pixel3</th>\n",
       "      <th>pixel4</th>\n",
       "      <th>pixel5</th>\n",
       "      <th>pixel6</th>\n",
       "      <th>pixel7</th>\n",
       "      <th>pixel8</th>\n",
       "      <th>pixel9</th>\n",
       "      <th>...</th>\n",
       "      <th>pixel775</th>\n",
       "      <th>pixel776</th>\n",
       "      <th>pixel777</th>\n",
       "      <th>pixel778</th>\n",
       "      <th>pixel779</th>\n",
       "      <th>pixel780</th>\n",
       "      <th>pixel781</th>\n",
       "      <th>pixel782</th>\n",
       "      <th>pixel783</th>\n",
       "      <th>pixel784</th>\n",
       "    </tr>\n",
       "  </thead>\n",
       "  <tbody>\n",
       "    <tr>\n",
       "      <th>0</th>\n",
       "      <td>3</td>\n",
       "      <td>107</td>\n",
       "      <td>118</td>\n",
       "      <td>127</td>\n",
       "      <td>134</td>\n",
       "      <td>139</td>\n",
       "      <td>143</td>\n",
       "      <td>146</td>\n",
       "      <td>150</td>\n",
       "      <td>153</td>\n",
       "      <td>...</td>\n",
       "      <td>207</td>\n",
       "      <td>207</td>\n",
       "      <td>207</td>\n",
       "      <td>207</td>\n",
       "      <td>206</td>\n",
       "      <td>206</td>\n",
       "      <td>206</td>\n",
       "      <td>204</td>\n",
       "      <td>203</td>\n",
       "      <td>202</td>\n",
       "    </tr>\n",
       "    <tr>\n",
       "      <th>1</th>\n",
       "      <td>6</td>\n",
       "      <td>155</td>\n",
       "      <td>157</td>\n",
       "      <td>156</td>\n",
       "      <td>156</td>\n",
       "      <td>156</td>\n",
       "      <td>157</td>\n",
       "      <td>156</td>\n",
       "      <td>158</td>\n",
       "      <td>158</td>\n",
       "      <td>...</td>\n",
       "      <td>69</td>\n",
       "      <td>149</td>\n",
       "      <td>128</td>\n",
       "      <td>87</td>\n",
       "      <td>94</td>\n",
       "      <td>163</td>\n",
       "      <td>175</td>\n",
       "      <td>103</td>\n",
       "      <td>135</td>\n",
       "      <td>149</td>\n",
       "    </tr>\n",
       "    <tr>\n",
       "      <th>2</th>\n",
       "      <td>2</td>\n",
       "      <td>187</td>\n",
       "      <td>188</td>\n",
       "      <td>188</td>\n",
       "      <td>187</td>\n",
       "      <td>187</td>\n",
       "      <td>186</td>\n",
       "      <td>187</td>\n",
       "      <td>188</td>\n",
       "      <td>187</td>\n",
       "      <td>...</td>\n",
       "      <td>202</td>\n",
       "      <td>201</td>\n",
       "      <td>200</td>\n",
       "      <td>199</td>\n",
       "      <td>198</td>\n",
       "      <td>199</td>\n",
       "      <td>198</td>\n",
       "      <td>195</td>\n",
       "      <td>194</td>\n",
       "      <td>195</td>\n",
       "    </tr>\n",
       "    <tr>\n",
       "      <th>3</th>\n",
       "      <td>2</td>\n",
       "      <td>211</td>\n",
       "      <td>211</td>\n",
       "      <td>212</td>\n",
       "      <td>212</td>\n",
       "      <td>211</td>\n",
       "      <td>210</td>\n",
       "      <td>211</td>\n",
       "      <td>210</td>\n",
       "      <td>210</td>\n",
       "      <td>...</td>\n",
       "      <td>235</td>\n",
       "      <td>234</td>\n",
       "      <td>233</td>\n",
       "      <td>231</td>\n",
       "      <td>230</td>\n",
       "      <td>226</td>\n",
       "      <td>225</td>\n",
       "      <td>222</td>\n",
       "      <td>229</td>\n",
       "      <td>163</td>\n",
       "    </tr>\n",
       "    <tr>\n",
       "      <th>4</th>\n",
       "      <td>13</td>\n",
       "      <td>164</td>\n",
       "      <td>167</td>\n",
       "      <td>170</td>\n",
       "      <td>172</td>\n",
       "      <td>176</td>\n",
       "      <td>179</td>\n",
       "      <td>180</td>\n",
       "      <td>184</td>\n",
       "      <td>185</td>\n",
       "      <td>...</td>\n",
       "      <td>92</td>\n",
       "      <td>105</td>\n",
       "      <td>105</td>\n",
       "      <td>108</td>\n",
       "      <td>133</td>\n",
       "      <td>163</td>\n",
       "      <td>157</td>\n",
       "      <td>163</td>\n",
       "      <td>164</td>\n",
       "      <td>179</td>\n",
       "    </tr>\n",
       "  </tbody>\n",
       "</table>\n",
       "<p>5 rows × 785 columns</p>\n",
       "</div>"
      ],
      "text/plain": [
       "   label  pixel1  pixel2  pixel3  pixel4  pixel5  pixel6  pixel7  pixel8  \\\n",
       "0      3     107     118     127     134     139     143     146     150   \n",
       "1      6     155     157     156     156     156     157     156     158   \n",
       "2      2     187     188     188     187     187     186     187     188   \n",
       "3      2     211     211     212     212     211     210     211     210   \n",
       "4     13     164     167     170     172     176     179     180     184   \n",
       "\n",
       "   pixel9  ...  pixel775  pixel776  pixel777  pixel778  pixel779  pixel780  \\\n",
       "0     153  ...       207       207       207       207       206       206   \n",
       "1     158  ...        69       149       128        87        94       163   \n",
       "2     187  ...       202       201       200       199       198       199   \n",
       "3     210  ...       235       234       233       231       230       226   \n",
       "4     185  ...        92       105       105       108       133       163   \n",
       "\n",
       "   pixel781  pixel782  pixel783  pixel784  \n",
       "0       206       204       203       202  \n",
       "1       175       103       135       149  \n",
       "2       198       195       194       195  \n",
       "3       225       222       229       163  \n",
       "4       157       163       164       179  \n",
       "\n",
       "[5 rows x 785 columns]"
      ]
     },
     "execution_count": 45,
     "metadata": {},
     "output_type": "execute_result"
    }
   ],
   "source": [
    "# Show the data head (if pandas is used)\n",
    "# If the dataset contains images or is non-pandas/non-tabular, show at least one sample of the data\n",
    "# Create X and y datasets (merged = test + train)\n",
    "X = full_dataset.drop('label', axis=1)\n",
    "y = full_dataset['label']\n",
    "\n",
    "full_dataset.head()"
   ]
  },
  {
   "cell_type": "code",
   "execution_count": 46,
   "metadata": {},
   "outputs": [
    {
     "name": "stdout",
     "output_type": "stream",
     "text": [
      "Features Shape:  (34627, 784)\n",
      "Features:\n",
      " [[107 118 127 ... 204 203 202]\n",
      " [155 157 156 ... 103 135 149]\n",
      " [187 188 188 ... 195 194 195]\n",
      " ...\n",
      " [190 191 190 ... 211 209 208]\n",
      " [201 205 208 ...  67  70  63]\n",
      " [173 174 173 ... 195 193 192]]\n",
      "\n",
      "Labels Shape: (34627,)\n",
      "Labels:\n",
      " [3 6 2 ... 2 4 2]\n"
     ]
    },
    {
     "data": {
      "image/png": "[encoded data removed]",
      "text/plain": [
       "<Figure size 432x288 with 1 Axes>"
      ]
     },
     "metadata": {
      "needs_background": "light"
     },
     "output_type": "display_data"
    }
   ],
   "source": [
    "# and visualize the data:\n",
    "x_visualize = full_dataset.iloc[:, 1:].values\n",
    "y_visualize = full_dataset.iloc[:, :1].values.flatten()\n",
    "\n",
    "print('Features Shape: ', x_visualize.shape)\n",
    "print('Features:\\n', x_visualize)\n",
    "\n",
    "print('\\nLabels Shape:', y_visualize.shape)\n",
    "print('Labels:\\n', y_visualize)\n",
    "\n",
    "# borrowed from https://www.kaggle.com/soumikrakshit/sign-language-translation-mlp\n",
    "# used to visualize the image\n",
    "def display(index):\n",
    "    plt.imshow(x_visualize[index].reshape(28, 28), cmap = 'gray')\n",
    "    plt.title( \"'G' = \" + str(y_visualize[index]))\n",
    "    plt.show()\n",
    "    \n",
    "display(1)"
   ]
  },
  {
   "cell_type": "markdown",
   "metadata": {},
   "source": [
    "## Data Preprocessing"
   ]
  },
  {
   "cell_type": "markdown",
   "metadata": {},
   "source": [
    "<b>Preprocessing Steps:</b> \n",
    "- Convert pandas DataFrame into numpy for Logistic Regression\n",
    "- drop label from dataset and store rest into X_train/X_test\n",
    "- store only 'label' column into y_train/y_test datasets\n",
    "- For MLP Neural Network: reduce pixel values by 255, so that it is easier to train\n",
    "- For MLP Neural Network: hot encode 'label' values\n",
    "- For CNN: reduce pixel values by 255, so that it is easier to train\n",
    "- For CNN: hot encode 'label' values\n",
    "- For CNN: reshape X_train to feed into Input layer in the form of (28, 28, 1)\n",
    "<br>\n",
    "\n",
    "- Specify the details of data splitting to train/test or cross validation. Mention the ratio for splitting and number of folds for cv.\n",
    "- Both Train and Test sets are stored in separate CSV files. Ratio: 80% Train and 20% Test. \n",
    "- For cross validation, cv=10.\n",
    "- Train and Test were also merged together to produce X and y sets, so there is also full dataset CSV file.\n",
    "<br>"
   ]
  },
  {
   "cell_type": "code",
   "execution_count": 47,
   "metadata": {},
   "outputs": [
    {
     "name": "stdout",
     "output_type": "stream",
     "text": [
      "\n",
      "X_train set shape: (27455, 784)\n",
      "y_train set shape: (27455,)\n",
      "\n",
      "X_test set shape: (7172, 784)\n",
      "y_test set shape: (7172,)\n",
      "\n",
      "X set shape: (34627, 784)\n",
      "y shape: (34627,)\n"
     ]
    }
   ],
   "source": [
    "# Data Preprocessing code here\n",
    "# and declaring train and test sets as X_train, y_train, X_test, y_test\n",
    "# train and test were already separated in original dataset zip file\n",
    "\n",
    "# dropping the column (that we are trying to predict) from X_train\n",
    "X_train = train_set.drop('label', axis=1)\n",
    "y_train = train_set['label']\n",
    "\n",
    "# dropping the column (that we are trying to predict) from X_test\n",
    "X_test = test_set.drop('label', axis=1)\n",
    "y_test = test_set['label']\n",
    "\n",
    "# sets for Neural Network are defined in its own data processing section\n",
    "\n",
    "# following 2 lines were done earlier for visualization to work:\n",
    "#X = full_dataset.drop('label', axis=1)\n",
    "#y = full_dataset['label']\n",
    "\n",
    "# - train dataset's shape:\n",
    "print(\"\\nX_train set shape:\", X_train.shape)\n",
    "print(\"y_train set shape:\", y_train.shape)\n",
    "\n",
    "# - test dataset's shape\n",
    "print(\"\\nX_test set shape:\", X_test.shape)\n",
    "print(\"y_test set shape:\", y_test.shape)\n",
    "\n",
    "print(\"\\nX set shape:\", X.shape)\n",
    "print(\"y shape:\", y.shape)"
   ]
  },
  {
   "cell_type": "code",
   "execution_count": 48,
   "metadata": {},
   "outputs": [
    {
     "name": "stdout",
     "output_type": "stream",
     "text": [
      "(27455, 784)\n"
     ]
    }
   ],
   "source": [
    "# This following cells is for Convolutional Network 2D:\n",
    "input_shape = X_train.shape\n",
    "print(input_shape)\n",
    "\n",
    "# we need to get it down to (27455, 28, 28, 1) in order to input it into CNN"
   ]
  },
  {
   "cell_type": "code",
   "execution_count": 49,
   "metadata": {},
   "outputs": [
    {
     "name": "stdout",
     "output_type": "stream",
     "text": [
      "\n",
      "X_train_Conv set shape: (27455, 784)\n",
      "y_train_Conv set shape: (27455,)\n",
      "\n",
      "X_test_Conv set shape: (7172, 784)\n",
      "y_test_Conv set shape: (7172,)\n"
     ]
    }
   ],
   "source": [
    "# list of datasets (in numpy) for CNN's inputs and evaluation, predifined in preprocessing section\n",
    "X_train_NN = X_train.values\n",
    "X_test_NN = X_test.values\n",
    "\n",
    "y_train_Conv = y_train.values\n",
    "y_test_Conv = y_test.values\n",
    "\n",
    "# - train dataset's shape:\n",
    "print(\"\\nX_train_Conv set shape:\", X_train_NN.shape)\n",
    "print(\"y_train_Conv set shape:\", y_train_Conv.shape)\n",
    "\n",
    "# - test dataset's shape\n",
    "print(\"\\nX_test_Conv set shape:\", X_test_NN.shape)\n",
    "print(\"y_test_Conv set shape:\", y_test_Conv.shape)"
   ]
  },
  {
   "cell_type": "code",
   "execution_count": 50,
   "metadata": {},
   "outputs": [
    {
     "data": {
      "text/plain": [
       "24"
      ]
     },
     "execution_count": 50,
     "metadata": {},
     "output_type": "execute_result"
    }
   ],
   "source": [
    "np.unique(y_train)\n",
    "len(np.unique(y_train))"
   ]
  },
  {
   "cell_type": "code",
   "execution_count": 51,
   "metadata": {},
   "outputs": [],
   "source": [
    "# defining number of classes for y_set categorical set up\n",
    "number_of_classes = len(np.unique(y_train)) # = 24 classes actually, but letter \"J\" is missing (#9), because it is dynamic gesture\n",
    "\n",
    "# casting from list to numpy array\n",
    "X_train_NN = X_train_NN / 255.0\n",
    "#np_y_train\n",
    "\n",
    "X_test_NN = X_test_NN / 255.0\n",
    "#np_y_test"
   ]
  },
  {
   "cell_type": "code",
   "execution_count": 52,
   "metadata": {},
   "outputs": [],
   "source": [
    "# categorize train test: doing it manually b/c it was found out that 'J' is missing, which is 9th class\n",
    "# if we do regular binarize, everything after 'J' shifts by one class and hurts results\n",
    "# thus it was decided to simply keep 9 as empty array of 0's and technically ignore it due to absense of pixels for it in dataset\n",
    "# the removal of it and renumbering of classes was not done, because it was found only on CNN analyses that showed the absense of 'J' on confusion matrix\n",
    "# did not want to renumber due to time, since then it would take a lot of time to rerun SVC, LogReg, RF, and Hard Voting\n",
    "\n",
    "# categorize train test\n",
    "y_train_2D = []\n",
    "length = len(y_train)\n",
    "for i in range(0, len(y_train)):\n",
    "    arr = [0] * 25\n",
    "    arr[y_train[i]] = 1\n",
    "    y_train_2D.append(arr)\n",
    "\n",
    "y_train_Conv = np.array(y_train_2D)\n",
    "\n",
    "# categorize test test\n",
    "y_test_2D = []\n",
    "length = len(y_test)\n",
    "for i in range(0, len(y_test)):\n",
    "    arr = [0] * 25\n",
    "    arr[y_test[i]] = 1\n",
    "    y_test_2D.append(arr)\n",
    "\n",
    "y_test_Conv = np.array(y_test_2D)"
   ]
  },
  {
   "cell_type": "code",
   "execution_count": 53,
   "metadata": {},
   "outputs": [
    {
     "name": "stdout",
     "output_type": "stream",
     "text": [
      "[[0 0 0 ... 0 0 0]\n",
      " [0 0 0 ... 0 0 0]\n",
      " [0 0 1 ... 0 0 0]\n",
      " ...\n",
      " [0 0 0 ... 0 0 0]\n",
      " [0 0 0 ... 0 0 0]\n",
      " [0 0 0 ... 0 1 0]]\n"
     ]
    }
   ],
   "source": [
    "print(y_train_Conv)"
   ]
  },
  {
   "cell_type": "code",
   "execution_count": 54,
   "metadata": {},
   "outputs": [
    {
     "name": "stdout",
     "output_type": "stream",
     "text": [
      "(27455, 25)\n",
      "(7172, 25)\n"
     ]
    }
   ],
   "source": [
    "print(y_train_Conv.shape)\n",
    "print(y_test_Conv.shape)"
   ]
  },
  {
   "cell_type": "code",
   "execution_count": 55,
   "metadata": {},
   "outputs": [
    {
     "name": "stdout",
     "output_type": "stream",
     "text": [
      "Number of classes: 24\n",
      "X_train.shape:  (27455, 28, 28, 1)\n",
      "y_train.shape (27455, 25)\n",
      "X_test.shape (7172, 28, 28, 1)\n",
      "y_test.shape (7172, 25)\n"
     ]
    }
   ],
   "source": [
    "number_of_classes = len(y_test.unique())\n",
    "print(\"Number of classes:\", number_of_classes)\n",
    "\n",
    "# List of numpy array for X_train, y_train, X_test, y_test:\n",
    "\n",
    "X_train_Conv = X_train_NN.reshape(X_train_NN.shape[0], 28, 28, 1)\n",
    "#y_train_Conv\n",
    "\n",
    "X_test_Conv = X_test_NN.reshape(X_test_NN.shape[0], 28, 28, 1)\n",
    "#y_test_Conv\n",
    "\n",
    "# check their shapes\n",
    "print(\"X_train.shape: \", X_train_Conv.shape)\n",
    "print(\"y_train.shape\", y_train_Conv.shape)\n",
    "\n",
    "print(\"X_test.shape\", X_test_Conv.shape)\n",
    "print(\"y_test.shape\", y_test_Conv.shape)\n",
    "\n",
    "# end of data processing for convolutional network"
   ]
  },
  {
   "cell_type": "code",
   "execution_count": 62,
   "metadata": {},
   "outputs": [],
   "source": [
    "# Import any necessary method/algorithm modules from sklearn and tf/keras here\n",
    "from keras.utils import np_utils\n",
    "\n",
    "\n",
    "# TENSORFLOW IMPORTS:\n",
    "from tensorflow.keras import Sequential\n",
    "from tensorflow.keras.layers import Flatten, Dense, Dropout, BatchNormalization, Conv2D, MaxPool2D, MaxPooling2D\n",
    "\n",
    "# additional, some defined just in case if needed\n",
    "from sklearn.model_selection import train_test_split\n",
    "import sklearn.metrics as metrics\n",
    "from sklearn.metrics import accuracy_score\n",
    "\n",
    "from sklearn.model_selection import cross_val_score\n",
    "from sklearn.metrics import classification_report, confusion_matrix\n",
    "\n",
    "from sklearn.model_selection import GridSearchCV"
   ]
  },
  {
   "cell_type": "code",
   "execution_count": 63,
   "metadata": {},
   "outputs": [
    {
     "name": "stdout",
     "output_type": "stream",
     "text": [
      "X_train.shape:  (27455, 28, 28, 1)\n",
      "y_train.shape (27455, 25)\n",
      "X_test.shape (7172, 28, 28, 1)\n",
      "y_test.shape (7172, 25)\n"
     ]
    }
   ],
   "source": [
    "# just for reminder of set names:\n",
    "#X_train_Conv.shape\n",
    "#y_train_Conv\n",
    "\n",
    "#X_test_Conv\n",
    "#y_test_Conv\n",
    "\n",
    "# check their shapes\n",
    "print(\"X_train.shape: \", X_train_Conv.shape)\n",
    "print(\"y_train.shape\", y_train_Conv.shape)\n",
    "\n",
    "print(\"X_test.shape\", X_test_Conv.shape)\n",
    "print(\"y_test.shape\", y_test_Conv.shape)"
   ]
  },
  {
   "cell_type": "code",
   "execution_count": 64,
   "metadata": {},
   "outputs": [],
   "source": [
    "# I made a mistake when it was looping over 1st layer, but it still had no more than 92% accuracy, \n",
    "# thus let's just start from 2 hidden layers right away\n",
    "\n",
    "def build_model(n_hidden, n_neurons, double_neurons):\n",
    "    \n",
    "    model = tf.keras.models.Sequential()\n",
    "    model.add(tf.keras.layers.Conv2D(n_neurons, 3, activation = 'relu', input_shape=(28, 28 ,1) ))\n",
    "    model.add(tf.keras.layers.MaxPooling2D(2))\n",
    "\n",
    "    for layer in range(0, n_hidden):\n",
    "        \n",
    "        if(double_neurons):            \n",
    "            model.add(tf.keras.layers.Conv2D(n_neurons, 3, activation = 'relu'))\n",
    "            model.add(tf.keras.layers.MaxPooling2D(2))\n",
    "            n_neurons = n_neurons * 2\n",
    "            \n",
    "        else:\n",
    "            model.add(tf.keras.layers.Conv2D(n_neurons, 3, activation = 'relu'))\n",
    "            model.add(tf.keras.layers.MaxPooling2D(2))\n",
    "            \n",
    "\n",
    "    model.add(tf.keras.layers.Flatten())\n",
    "    model.add(tf.keras.layers.Dense(128, activation = 'relu'))\n",
    "    model.add(tf.keras.layers.Dropout(0.20))\n",
    "\n",
    "    model.add(tf.keras.layers.Dense(25, activation = 'softmax'))\n",
    "    \n",
    "    return model"
   ]
  },
  {
   "cell_type": "code",
   "execution_count": 25,
   "metadata": {},
   "outputs": [
    {
     "data": {
      "text/plain": [
       "'\\nlayer = 2\\nfor neurons in range(32, 62, 2):\\n        \\n    model = build_model(n_hidden=layer, n_neurons=neurons, double_neurons=True)\\n\\n    model.compile(loss = \"categorical_crossentropy\", optimizer=\"adam\",\\n                      metrics=[\\'accuracy\\'])\\n        \\n    history = model.fit(X_train_Conv, y_train_Conv, epochs=5)\\n        \\n    y_preds = model.evaluate(X_test_Conv, y_test_Conv, verbose=2)\\n        \\n    print(\"hidden layers:\", layer)\\n    print(\"neurons in each:\", neurons)\\n    print(\"Accuracy: \", y_preds[1], \"; Loss: \", y_preds[0])\\n    print(\"*******\\n\")\\n    \\n'"
      ]
     },
     "execution_count": 25,
     "metadata": {},
     "output_type": "execute_result"
    }
   ],
   "source": [
    "'''\n",
    "layer = 2\n",
    "for neurons in range(32, 62, 2):\n",
    "        \n",
    "    model = build_model(n_hidden=layer, n_neurons=neurons, double_neurons=True)\n",
    "\n",
    "    model.compile(loss = \"categorical_crossentropy\", optimizer=\"adam\",\n",
    "                      metrics=['accuracy'])\n",
    "        \n",
    "    history = model.fit(X_train_Conv, y_train_Conv, epochs=5)\n",
    "        \n",
    "    y_preds = model.evaluate(X_test_Conv, y_test_Conv, verbose=2)\n",
    "        \n",
    "    print(\"hidden layers:\", layer)\n",
    "    print(\"neurons in each:\", neurons)\n",
    "    print(\"Accuracy: \", y_preds[1], \"; Loss: \", y_preds[0])\n",
    "    print(\"*******\\n\")\n",
    "    \n",
    "'''"
   ]
  },
  {
   "cell_type": "code",
   "execution_count": 65,
   "metadata": {},
   "outputs": [],
   "source": [
    "num_of_classes = 25\n",
    "\n",
    "# from analyses above, it seems that 2 layers and 44 neurons one each work good enough with neurons doulbe each inner layer\n",
    "# from analyses above, it seems that 2 layers and 44 neurons one each work good enough with neurons doulbe each inner layer\n",
    "model = tf.keras.models.Sequential()\n",
    "model.add(tf.keras.layers.Conv2D(44, 3, activation = 'relu', input_shape=(28, 28 ,1) ))\n",
    "model.add(tf.keras.layers.MaxPooling2D(2))         \n",
    "          \n",
    "model.add(tf.keras.layers.Conv2D(88, 3, activation = 'relu'))\n",
    "model.add(tf.keras.layers.MaxPooling2D(2))\n",
    "\n",
    "model.add(tf.keras.layers.Conv2D(172, 3, activation = 'relu'))\n",
    "model.add(tf.keras.layers.MaxPooling2D(2))\n",
    "\n",
    "model.add(tf.keras.layers.Flatten())\n",
    "model.add(tf.keras.layers.Dense(128, activation = 'relu'))\n",
    "model.add(tf.keras.layers.Dropout(0.20))\n",
    "model.add(tf.keras.layers.Dense(25, activation = 'softmax'))"
   ]
  },
  {
   "cell_type": "code",
   "execution_count": 66,
   "metadata": {},
   "outputs": [],
   "source": [
    "early_stop = tf.keras.callbacks.EarlyStopping(monitor='val_loss', min_delta=0.001, patience=10)"
   ]
  },
  {
   "cell_type": "code",
   "execution_count": 68,
   "metadata": {},
   "outputs": [],
   "source": [
    "Adam_optimizer = tf.keras.optimizers.Adam(lr=0.001)\n",
    "\n",
    "model.compile(loss = \"categorical_crossentropy\", optimizer=Adam_optimizer,\n",
    "                      metrics=['accuracy'])"
   ]
  },
  {
   "cell_type": "code",
   "execution_count": 69,
   "metadata": {},
   "outputs": [
    {
     "name": "stdout",
     "output_type": "stream",
     "text": [
      "Train on 27455 samples, validate on 7172 samples\n",
      "Epoch 1/50\n",
      "27455/27455 [==============================] - 23s 830us/sample - loss: 1.3323 - accuracy: 0.5707 - val_loss: 0.5951 - val_accuracy: 0.7755\n",
      "Epoch 2/50\n",
      "27455/27455 [==============================] - 22s 797us/sample - loss: 0.1764 - accuracy: 0.9434 - val_loss: 0.3193 - val_accuracy: 0.8986\n",
      "Epoch 3/50\n",
      "27455/27455 [==============================] - 22s 789us/sample - loss: 0.0521 - accuracy: 0.9845 - val_loss: 0.3802 - val_accuracy: 0.8958\n",
      "Epoch 4/50\n",
      "27455/27455 [==============================] - 22s 792us/sample - loss: 0.0321 - accuracy: 0.9901 - val_loss: 0.5152 - val_accuracy: 0.8806\n",
      "Epoch 5/50\n",
      "27455/27455 [==============================] - 22s 802us/sample - loss: 0.0180 - accuracy: 0.9948 - val_loss: 0.4197 - val_accuracy: 0.9120\n",
      "Epoch 6/50\n",
      "27455/27455 [==============================] - 24s 872us/sample - loss: 0.0219 - accuracy: 0.9942 - val_loss: 0.6395 - val_accuracy: 0.8583\n",
      "Epoch 7/50\n",
      "27455/27455 [==============================] - 24s 865us/sample - loss: 0.0249 - accuracy: 0.9916 - val_loss: 0.3644 - val_accuracy: 0.9261\n",
      "Epoch 8/50\n",
      "27455/27455 [==============================] - 25s 925us/sample - loss: 0.0135 - accuracy: 0.9960 - val_loss: 0.3524 - val_accuracy: 0.9219\n",
      "Epoch 9/50\n",
      "27455/27455 [==============================] - 23s 835us/sample - loss: 0.0120 - accuracy: 0.9961 - val_loss: 0.5934 - val_accuracy: 0.8806\n",
      "Epoch 10/50\n",
      "27455/27455 [==============================] - 23s 827us/sample - loss: 0.0104 - accuracy: 0.9973 - val_loss: 0.5053 - val_accuracy: 0.9044\n",
      "Epoch 11/50\n",
      "27455/27455 [==============================] - 22s 797us/sample - loss: 0.0131 - accuracy: 0.9965 - val_loss: 0.4283 - val_accuracy: 0.9248\n",
      "Epoch 12/50\n",
      "27455/27455 [==============================] - 22s 790us/sample - loss: 0.0120 - accuracy: 0.9961 - val_loss: 0.3354 - val_accuracy: 0.9257\n"
     ]
    }
   ],
   "source": [
    "history_CNN = model.fit(X_train_Conv, y_train_Conv, validation_data=(X_test_Conv, y_test_Conv), epochs=50, callbacks=[early_stop])"
   ]
  },
  {
   "cell_type": "code",
   "execution_count": 70,
   "metadata": {},
   "outputs": [
    {
     "name": "stdout",
     "output_type": "stream",
     "text": [
      "7172/1 - 1s - loss: 0.3750 - accuracy: 0.9257\n",
      "Accuracy:  0.9256832 ; Loss:  0.3353994174154524\n"
     ]
    }
   ],
   "source": [
    "y_preds = model.evaluate(X_test_Conv, y_test_Conv, verbose=2)\n",
    "\n",
    "print(\"Accuracy: \", y_preds[1], \"; Loss: \", y_preds[0])"
   ]
  },
  {
   "cell_type": "code",
   "execution_count": 71,
   "metadata": {},
   "outputs": [],
   "source": [
    "y_pred_CNN = model.predict_classes(X_test_Conv)"
   ]
  },
  {
   "cell_type": "code",
   "execution_count": 72,
   "metadata": {},
   "outputs": [
    {
     "name": "stdout",
     "output_type": "stream",
     "text": [
      "tf.Tensor([ 6  5 10 ...  2  4  2], shape=(7172,), dtype=int64)\n"
     ]
    }
   ],
   "source": [
    "y_test_cm = tf.argmax(y_test_Conv, axis=1)\n",
    "print(y_test_cm)"
   ]
  },
  {
   "cell_type": "code",
   "execution_count": 73,
   "metadata": {},
   "outputs": [
    {
     "data": {
      "image/png": "[encoded data removed]",
      "text/plain": [
       "<Figure size 288x288 with 2 Axes>"
      ]
     },
     "metadata": {
      "needs_background": "light"
     },
     "output_type": "display_data"
    }
   ],
   "source": [
    "cm_CNN = confusion_matrix(y_test, y_pred_CNN)\n",
    "\n",
    "# Show confusion matrix in a separate window\n",
    "plt.matshow(cm_CNN)\n",
    "plt.title('Confusion matrix\\n')\n",
    "plt.colorbar()\n",
    "plt.ylabel('True label')\n",
    "plt.xlabel('Predicted label')\n",
    "plt.show()"
   ]
  },
  {
   "cell_type": "code",
   "execution_count": 74,
   "metadata": {},
   "outputs": [],
   "source": [
    "accuracy_CNN = accuracy_score(y_test, y_pred_CNN)\n",
    "precision_CNN = np.mean(np.diag(cm_CNN) / np.sum(cm_CNN, axis = 1))\n",
    "recall_CNN = np.mean(np.diag(cm_CNN) / np.sum(cm_CNN, axis = 0))"
   ]
  },
  {
   "cell_type": "code",
   "execution_count": 75,
   "metadata": {},
   "outputs": [
    {
     "name": "stdout",
     "output_type": "stream",
     "text": [
      "0.9256832124930284\n",
      "0.9171454480015814\n",
      "0.917949296455926\n"
     ]
    }
   ],
   "source": [
    "print(accuracy_CNN)\n",
    "print(precision_CNN)\n",
    "print(recall_CNN)"
   ]
  },
  {
   "cell_type": "code",
   "execution_count": 76,
   "metadata": {},
   "outputs": [
    {
     "name": "stdout",
     "output_type": "stream",
     "text": [
      "7172/1 - 1s - loss: 0.3750 - accuracy: 0.9257\n"
     ]
    }
   ],
   "source": [
    "accuracy_CNN = model.evaluate(X_test_Conv, y_test_Conv, verbose=2)"
   ]
  },
  {
   "cell_type": "markdown",
   "metadata": {},
   "source": [
    "# CNN Plot:"
   ]
  },
  {
   "cell_type": "code",
   "execution_count": 77,
   "metadata": {},
   "outputs": [
    {
     "data": {
      "text/plain": [
       "(0, 8)"
      ]
     },
     "execution_count": 77,
     "metadata": {},
     "output_type": "execute_result"
    },
    {
     "data": {
      "image/png": "[encoded data removed]",
      "text/plain": [
       "<Figure size 720x360 with 1 Axes>"
      ]
     },
     "metadata": {
      "needs_background": "light"
     },
     "output_type": "display_data"
    }
   ],
   "source": [
    "# Convolutional Network:\n",
    "# Plot shows good results with loss (train and test) going down, while both of the accuracies going up\n",
    "pd.DataFrame(history_CNN.history).plot(figsize=(10, 5))\n",
    "plt.grid(True)\n",
    "\n",
    "# set the y-axis range to [0-1]\n",
    "plt.title('CNN')\n",
    "\n",
    "plt.xlabel('Epochs')\n",
    "plt.ylabel('Loss | Accuracy')\n",
    "\n",
    "plt.gca().set_ylim(0, 2)\n",
    "plt.gca().set_xlim(0, 8) "
   ]
  }
 ],
 "metadata": {
  "kernelspec": {
   "display_name": "Python 3",
   "language": "python",
   "name": "python3"
  },
  "language_info": {
   "codemirror_mode": {
    "name": "ipython",
    "version": 3
   },
   "file_extension": ".py",
   "mimetype": "text/x-python",
   "name": "python",
   "nbconvert_exporter": "python",
   "pygments_lexer": "ipython3",
   "version": "3.6.9"
  }
 },
 "nbformat": 4,
 "nbformat_minor": 2
}
