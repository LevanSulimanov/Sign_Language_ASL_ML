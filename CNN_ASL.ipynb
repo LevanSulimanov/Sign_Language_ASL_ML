{
 "cells": [
  {
   "cell_type": "markdown",
   "metadata": {},
   "source": [
    "# ASL Sign Language: Aphabet Gesture Recognition using ML"
   ]
  },
  {
   "cell_type": "markdown",
   "metadata": {},
   "source": [
    "## Dataset\n",
    "\n",
    "- Link to dataset source: https://www.kaggle.com/datamunge/sign-language-mnist\n",
    "\n",
    "\n",
    "- <b>Label/target</b> description - What column in your dataset you are trying to predict? Specify exactly what your target feature (label) is. It must be one of the dataset columns. For image classification, specify your class labels.\n",
    "\n",
    "- Dataset itself contains three CSV files: train_set, test_set, and combined full_set (train+test sets).\n",
    "\n",
    "- Feature description: Inside of dataset, there are 34627 samples of 28\\*28 pictures, thus the dataset has <b>34627 rows</b> and <b>784 columns + label column</b>. Each column (except 'label') is a pixel values, no RGB values, thus the image is stored in black and white color (grayscale). For visual representation of the data, please see recollected image from CSV pixel values down below, once the dataset is imported. In addition to that, we have 'label' column that has numbers that symbolize alphabet letters accordingly: 0=A, 1=B, etc. Note: Letter 'J' and 'Z' not included, b/c they are shown as moving gestures, thus not suitable for dataset."
   ]
  },
  {
   "cell_type": "markdown",
   "metadata": {},
   "source": [
    "- Code for loading, showing the data head, is located in the following cells below.\n",
    "\n",
    "\n",
    "- Pixels recollected back into images are also shown below."
   ]
  },
  {
   "cell_type": "code",
   "execution_count": null,
   "metadata": {},
   "outputs": [],
   "source": []
  }
 ],
 "metadata": {
  "kernelspec": {
   "display_name": "Python 3",
   "language": "python",
   "name": "python3"
  },
  "language_info": {
   "codemirror_mode": {
    "name": "ipython",
    "version": 3
   },
   "file_extension": ".py",
   "mimetype": "text/x-python",
   "name": "python",
   "nbconvert_exporter": "python",
   "pygments_lexer": "ipython3",
   "version": "3.6.9"
  }
 },
 "nbformat": 4,
 "nbformat_minor": 2
}
