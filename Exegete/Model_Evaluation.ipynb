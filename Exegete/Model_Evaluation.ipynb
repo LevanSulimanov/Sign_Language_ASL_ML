{
 "cells": [
  {
   "cell_type": "markdown",
   "id": "5e891a1c-0bb1-40b5-aca5-373d32844289",
   "metadata": {},
   "source": [
    "# Final Project: ASL Recognition\n",
    "### Professor: Weizhe Li\n",
    "### Student: Levan Sulimanov"
   ]
  },
  {
   "cell_type": "markdown",
   "id": "b3c17fc6-e3f9-46da-aa6d-2c7d3d53d0aa",
   "metadata": {},
   "source": [
    "# Model Evaluation Code:"
   ]
  },
  {
   "cell_type": "code",
   "execution_count": 2,
   "id": "ed07a4c4-d785-48c4-92cc-6c9e7aa2d205",
   "metadata": {},
   "outputs": [
    {
     "data": {
      "text/plain": [
       "<contextlib.ExitStack at 0x1d485f79570>"
      ]
     },
     "execution_count": 2,
     "metadata": {},
     "output_type": "execute_result"
    }
   ],
   "source": [
    "from __future__ import print_function, division\n",
    "import os\n",
    "import torch\n",
    "import pandas as pd\n",
    "import numpy as np\n",
    "import matplotlib.pyplot as plt\n",
    "from torch.utils.data import Dataset, DataLoader\n",
    "from torchvision import transforms, utils\n",
    "\n",
    "# Ignore warnings\n",
    "import warnings\n",
    "warnings.filterwarnings(\"ignore\")\n",
    "\n",
    "plt.ion()   # interactive mode"
   ]
  },
  {
   "cell_type": "markdown",
   "id": "7fa4c4c2-9f31-45b0-a65d-9f014ac3e278",
   "metadata": {},
   "source": [
    "# Defining Dataloaders:"
   ]
  },
  {
   "cell_type": "code",
   "execution_count": 17,
   "id": "935271cd-508f-4958-9ade-1df223014163",
   "metadata": {},
   "outputs": [],
   "source": [
    "###################################### CREDITS ######################################\n",
    "# https://learnopencv.com/human-action-recognition-using-detectron2-and-lstm/\n",
    "#####################################################################################\n",
    "\n",
    "import numpy as np\n",
    "import torch.optim as optim\n",
    "import torchmetrics\n",
    "import pytorch_lightning as pl\n",
    "\n",
    "import torch\n",
    "import torch.nn as nn\n",
    "from torch.utils.data import Dataset, DataLoader\n",
    "import torch.nn.functional as F\n",
    "import time\n",
    "from numpy import genfromtxt\n",
    "\n",
    "class PoseDataset(Dataset):\n",
    "    def __init__(self, data_arr):\n",
    "        self.data_arr = data_arr\n",
    "\n",
    "    def __len__(self):\n",
    "        return len(self.data_arr)\n",
    "\n",
    "    def __getitem__(self, idx):\n",
    "        X_path = self.data_arr[idx][0]\n",
    "        y = self.data_arr[idx][1]\n",
    "        \n",
    "        X = torch.from_numpy(genfromtxt(X_path, delimiter=',')).float()\n",
    "        \n",
    "        return X, y\n",
    "    \n",
    "    \n",
    "def load_X_and_Y(data_path, train_mode=\"train\"):\n",
    "        \n",
    "        data_x_y_arr = []\n",
    "        \n",
    "        read_from_dir = os.path.join(data_path, train_mode)\n",
    "        \n",
    "        # go over each class folder, get subsamples per class, and return tuples [sample_path, class_number]\n",
    "        for class_folder in os.listdir(read_from_dir):\n",
    "            class_abs_path = os.path.join(read_from_dir, class_folder)\n",
    "            for sample in os.listdir(class_abs_path):\n",
    "                sample_path = os.path.join(class_abs_path, sample)\n",
    "                class_num = class_to_label_num[class_folder]\n",
    "                data_x_y_arr.append([sample_path, class_num])\n",
    "\n",
    "        # print(f\"Collected full list for {train_mode}:\\n{data_x_y_arr}\")\n",
    "        return data_x_y_arr\n",
    "\n",
    "\n",
    "class PoseDataModule():\n",
    "    def __init__(self, data_root, batch_size=32):\n",
    "        super().__init__()\n",
    "\n",
    "        self.data_root = data_root\n",
    "        self.batch_size = batch_size\n",
    "        \n",
    "        train_data_arr = load_X_and_Y(self.data_root, train_mode=\"train\")\n",
    "        eval_data_arr = load_X_and_Y(self.data_root, train_mode=\"val\")\n",
    "        test_data_arr = load_X_and_Y(self.data_root, train_mode=\"test\")\n",
    "        self.train_dataset = PoseDataset(train_data_arr)\n",
    "        self.val_dataset = PoseDataset(eval_data_arr)\n",
    "        self.test_dataset = PoseDataset(test_data_arr)\n",
    "\n",
    "    def train_dataloader(self):\n",
    "        # train loader\n",
    "        train_loader = torch.utils.data.DataLoader(\n",
    "            self.train_dataset,\n",
    "            batch_size=self.batch_size,\n",
    "            shuffle=True,\n",
    "            num_workers=0\n",
    "        )\n",
    "        return train_loader\n",
    "\n",
    "    def val_dataloader(self):\n",
    "        # validation loader\n",
    "        val_loader = torch.utils.data.DataLoader(\n",
    "            self.val_dataset,\n",
    "            batch_size=self.batch_size,\n",
    "            shuffle=False,\n",
    "            num_workers=0\n",
    "        )\n",
    "        return val_loader\n",
    "    \n",
    "    def test_dataloader(self):\n",
    "        # validation loader\n",
    "        test_loader = torch.utils.data.DataLoader(\n",
    "            self.test_dataset,\n",
    "            batch_size=self.batch_size,\n",
    "            shuffle=False,\n",
    "            num_workers=0\n",
    "        )\n",
    "        return test_loader\n",
    "    \n",
    "\n",
    "# We have 6 output action classes.\n",
    "TOT_ACTION_CLASSES = 9 #6\n",
    "\n",
    "#lstm classifier definition\n",
    "class ActionClassificationLSTM(pl.LightningModule):\n",
    "    # initialise method\n",
    "    def __init__(self, input_features, hidden_dim, learning_rate=0.001):\n",
    "        super().__init__()\n",
    "        # save hyperparameters\n",
    "        self.save_hyperparameters()\n",
    "        # The LSTM takes word embeddings as inputs, and outputs hidden states\n",
    "        # with dimensionality hidden_dim.\n",
    "        self.lstm = nn.LSTM(input_features, hidden_dim, batch_first=True)\n",
    "        # The linear layer that maps from hidden state space to classes\n",
    "        self.linear = nn.Linear(hidden_dim, TOT_ACTION_CLASSES)\n",
    "\n",
    "    def forward(self, x):\n",
    "        # invoke lstm layer\n",
    "        lstm_out, (ht, ct) = self.lstm(x)\n",
    "        # invoke linear layer\n",
    "        return self.linear(ht[-1])"
   ]
  },
  {
   "cell_type": "code",
   "execution_count": 36,
   "id": "eb27dad0-9f80-4027-a408-664878a71724",
   "metadata": {},
   "outputs": [],
   "source": [
    "#####################################################################################################################################\n",
    "## Credits: https://yeseullee0311.medium.com/pytorch-performance-evaluation-of-a-classification-model-confusion-matrix-fbec6f4e8d0 ##\n",
    "#####################################################################################################################################\n",
    "\n",
    "# function to collect Model's Accuracy, Precision, Recall, F1-Score, Confusion Matrix, and NPV\n",
    "from sklearn.metrics import confusion_matrix\n",
    "import torch.nn.functional as F\n",
    "def test_model(model,test_dataloader):  # ,device):\n",
    "    CM=0\n",
    "    model.eval()\n",
    "    with torch.no_grad():\n",
    "        for data in test_dataloader:\n",
    "            keypoints, labels = data[0], data[1]\n",
    "            #print(keypoints)\n",
    "            #print(labels)\n",
    "            #keypoints = keypoints  # .to(device)\n",
    "            #labels = labels  # .to(device)\n",
    "            \n",
    "            outputs = model(keypoints) #file_name\n",
    "            preds = torch.argmax(outputs.data, 1)\n",
    "            CM+=confusion_matrix(labels.cpu(), preds.cpu(),labels=[0,1,2,3,4,5,6,7,8])\n",
    "            \n",
    "        tn=CM[0][0]\n",
    "        tp=CM[1][1]\n",
    "        fp=CM[0][1]\n",
    "        fn=CM[1][0]\n",
    "        acc=np.sum(np.diag(CM)/np.sum(CM))\n",
    "        sensitivity=tp/(tp+fn)\n",
    "        precision=tp/(tp+fp)\n",
    "        \n",
    "        print('\\nTestset Accuracy(mean): %f %%' % (100 * acc))\n",
    "        print()\n",
    "        print('Confusion Matirx : ')\n",
    "        print(CM)\n",
    "        print('- Sensitivity : ',(tp/(tp+fn))*100)\n",
    "        print('- Specificity : ',(tn/(tn+fp))*100)\n",
    "        print('- Precision: ',(tp/(tp+fp))*100)\n",
    "        print('- NPV: ',(tn/(tn+fn))*100)\n",
    "        print('- F1 : ',((2*sensitivity*precision)/(sensitivity+precision))*100)\n",
    "        print()\n",
    "                \n",
    "    return acc, CM"
   ]
  },
  {
   "cell_type": "markdown",
   "id": "6ce8a9bc-542d-4553-a920-e76b6786aff0",
   "metadata": {},
   "source": [
    "# Computing Scores:"
   ]
  },
  {
   "cell_type": "code",
   "execution_count": 3,
   "id": "d576a547-8afa-4067-9a71-782751f592f0",
   "metadata": {},
   "outputs": [],
   "source": [
    "class_names_lst = [\"hello\", \"my\", \"world\", \"me\", \"every\", \"moment\", \"is\", \"new\", \"beginning\"]\n",
    "class_to_label_num = {\"hello\": 0, \"my\": 1, \"world\": 2, \"me\": 3, \"every\": 4, \"moment\": 5, \"is\": 6, \"new\": 7, \"beginning\": 8}\n",
    "\n",
    "def main(model_weights_path):\n",
    "    # setup our LSTM and load its weights\n",
    "    model_path_dir = model_weights_path\n",
    "\n",
    "    lstm_classifier = ActionClassificationLSTM.load_from_checkpoint(model_path_dir)\n",
    "    lstm_classifier.eval()\n",
    "    \n",
    "    test_dataloader = PoseDataModule(data_root=os.path.join(os.getcwd(), \"keypoints_data\")).test_dataloader()\n",
    "    \n",
    "    acc, CM = test_model(lstm_classifier,test_dataloader)\n",
    "    \n",
    "    return acc, CM\n",
    "    \n",
    "acc, CM = main(model_weights_path=os.path.join(os.getcwd(), \"models\", \"9_class_model_base_lstm.ckpt\"))"
   ]
  },
  {
   "cell_type": "code",
   "execution_count": 39,
   "id": "a80b45c6-46cd-41bc-a66c-475a657084a5",
   "metadata": {},
   "outputs": [
    {
     "data": {
      "text/plain": [
       "<AxesSubplot: >"
      ]
     },
     "execution_count": 39,
     "metadata": {},
     "output_type": "execute_result"
    },
    {
     "data": {
      "image/png": "[encoded data removed]",
      "text/plain": [
       "<Figure size 1000x700 with 2 Axes>"
      ]
     },
     "metadata": {},
     "output_type": "display_data"
    }
   ],
   "source": [
    "df_cm = pd.DataFrame(CM, index = [i for i in class_names_lst],\n",
    "                  columns = [i for i in class_names_lst])\n",
    "plt.figure(figsize = (10,7))\n",
    "sn.heatmap(df_cm, annot=True)"
   ]
  },
  {
   "cell_type": "code",
   "execution_count": null,
   "id": "7af382a1-7d98-4a78-9441-afc16ef208b4",
   "metadata": {},
   "outputs": [],
   "source": []
  }
 ],
 "metadata": {
  "kernelspec": {
   "display_name": "Python 3 (ipykernel)",
   "language": "python",
   "name": "python3"
  },
  "language_info": {
   "codemirror_mode": {
    "name": "ipython",
    "version": 3
   },
   "file_extension": ".py",
   "mimetype": "text/x-python",
   "name": "python",
   "nbconvert_exporter": "python",
   "pygments_lexer": "ipython3",
   "version": "3.10.8"
  }
 },
 "nbformat": 4,
 "nbformat_minor": 5
}
