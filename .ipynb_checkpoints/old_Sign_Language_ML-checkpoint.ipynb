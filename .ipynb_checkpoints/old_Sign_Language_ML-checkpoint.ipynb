{
 "cells": [
  {
   "cell_type": "markdown",
   "metadata": {},
   "source": [
    "# 478 Machine Learning / 471 Artificial Intelligence Fall 2019\n",
    "# Sign Language Project\n",
    "# Author: Levan Sulimanov\n",
    "<br> <br>"
   ]
  },
  {
   "cell_type": "markdown",
   "metadata": {},
   "source": [
    "# Importing necessary libraries"
   ]
  },
  {
   "cell_type": "code",
   "execution_count": 52,
   "metadata": {},
   "outputs": [],
   "source": [
    "# Import necessary Python modules\n",
    "import pandas as pd\n",
    "import numpy as np\n",
    "import os\n",
    "\n",
    "import matplotlib.pyplot as plt\n",
    "%matplotlib inline\n",
    "\n",
    "from keras.utils import np_utils\n",
    "\n",
    "# SKLEARN IMPORTS\n",
    "from sklearn.linear_model import LogisticRegression\n",
    "from sklearn.ensemble import RandomForestClassifier\n",
    "from sklearn.ensemble import VotingClassifier\n",
    "from sklearn.ensemble import BaggingClassifier\n",
    "\n",
    "from tensorflow.keras import Sequential\n",
    "from tensorflow.keras.layers import Flatten, Dense, Dropout, BatchNormalization, Conv2D, MaxPool2D\n",
    "\n",
    "from sklearn.model_selection import train_test_split\n",
    "import sklearn.metrics as metrics\n",
    "from sklearn.metrics import accuracy_score\n",
    "\n",
    "from sklearn.model_selection import cross_val_score\n",
    "from sklearn.metrics import classification_report, confusion_matrix\n",
    "\n",
    "from sklearn.decomposition import PCA\n",
    "from sklearn.svm import SVC\n",
    "\n",
    "from sklearn.model_selection import GridSearchCV\n",
    "\n",
    "from sklearn.preprocessing import LabelBinarizer\n",
    "\n",
    "\n",
    "# TENSORFLOW IMPORTS\n",
    "import tensorflow as tf\n"
   ]
  },
  {
   "cell_type": "code",
   "execution_count": 53,
   "metadata": {},
   "outputs": [
    {
     "name": "stdout",
     "output_type": "stream",
     "text": [
      "tf Version:  2.0.0\n",
      "Eager Execution mode:  True\n"
     ]
    }
   ],
   "source": [
    "# making sure same version is used (2.0.0) and Eager Execution is TRUE\n",
    "print(\"tf Version: \", tf.__version__)\n",
    "print(\"Eager Execution mode: \", tf.executing_eagerly())"
   ]
  },
  {
   "cell_type": "markdown",
   "metadata": {},
   "source": [
    "# Importing all necessary datasets\n",
    "- train_dataset, \n",
    "- test_dataset, \n",
    "- merged (full dataset for cross_val)"
   ]
  },
  {
   "cell_type": "code",
   "execution_count": 54,
   "metadata": {},
   "outputs": [],
   "source": [
    "# Load the data:\n",
    "\n",
    "# we are getting current directory + the folder that contains our datasets\n",
    "current_Directory = str(os.getcwd() + '\\\\sign-language-mnist\\\\')\n",
    "\n",
    "# once the directory for CSV files is stored we start to gather the data:\n",
    "\n",
    "# gathering FULL dataset:\n",
    "full_dataset = pd.read_csv(current_Directory + \"\\\\full_dataset.csv\")\n",
    "\n",
    "# gathering TRAIN dataset\n",
    "# and splitting it into feature (X_train) and label (y_train) sets\n",
    "train_set = pd.read_csv(current_Directory + \"\\\\sign_mnist_train.csv\")\n",
    "# dropping the column (that we are trying to predict) from X_train\n",
    "X_train = train_set.drop('label', axis=1)\n",
    "y_train = train_set['label']\n",
    "\n",
    "# gathering TEST dataset:\n",
    "# and splitting it into feature (X_test) and label (y_test) sets\n",
    "test_set = pd.read_csv(current_Directory + \"\\\\sign_mnist_test.csv\")\n",
    "# dropping the column (that we are trying to predict) from X_test\n",
    "X_test = test_set.drop('label', axis=1)\n",
    "y_test = test_set['label']"
   ]
  },
  {
   "cell_type": "code",
   "execution_count": 55,
   "metadata": {},
   "outputs": [
    {
     "name": "stdout",
     "output_type": "stream",
     "text": [
      "Full dataset shape: (34627, 785)\n",
      "\n",
      "X_train set shape: (27455, 784)\n",
      "y_train set shape: (27455,)\n",
      "\n",
      "X_test set shape: (7172, 784)\n",
      "y_test set shape: (7172,)\n"
     ]
    }
   ],
   "source": [
    "# Get data shape (of each) set via built-in methods of sklearn, pandas or tensorflow/keras:\n",
    "\n",
    "# - full dataset's shape:\n",
    "print(\"Full dataset shape:\", full_dataset.shape)\n",
    "\n",
    "# - train dataset's shape:\n",
    "print(\"\\nX_train set shape:\", X_train.shape)\n",
    "print(\"y_train set shape:\", y_train.shape)\n",
    "\n",
    "# - test dataset's shape\n",
    "print(\"\\nX_test set shape:\", X_test.shape)\n",
    "print(\"y_test set shape:\", y_test.shape)"
   ]
  },
  {
   "cell_type": "code",
   "execution_count": 56,
   "metadata": {},
   "outputs": [
    {
     "name": "stdout",
     "output_type": "stream",
     "text": [
      "\n",
      "numpy_X_train set shape: (27455, 784)\n",
      "numpy_y_train set shape: (7172, 784)\n",
      "\n",
      "numpy_X_test set shape: (27455,)\n",
      "numpy_y_test set shape: (7172,)\n"
     ]
    }
   ],
   "source": [
    "# creating numpy array if needed in future\n",
    "np_X_train = X_train.values\n",
    "np_X_test = X_test.values\n",
    "\n",
    "np_y_train = y_train.values\n",
    "np_y_test = y_test.values\n",
    "\n",
    "# - train dataset's shape:\n",
    "print(\"\\nnumpy_X_train set shape:\", np_X_train.shape)\n",
    "print(\"numpy_y_train set shape:\", np_X_test.shape)\n",
    "\n",
    "# - test dataset's shape\n",
    "print(\"\\nnumpy_X_test set shape:\", np_y_train.shape)\n",
    "print(\"numpy_y_test set shape:\", np_y_test.shape)"
   ]
  },
  {
   "cell_type": "code",
   "execution_count": 62,
   "metadata": {},
   "outputs": [],
   "source": [
    "##################################################\n",
    "X_train_MLP = X_train.values\n",
    "X_test_MLP = X_test.values\n",
    "\n",
    "X_train_MLP = X_train_MLP.astype(float) / 255.0\n",
    "X_test_MLP = X_test.astype(float) / 255.0\n",
    "\n",
    "y_train_MLP = y_train.values\n",
    "y_test_MLP = y_test.values"
   ]
  },
  {
   "cell_type": "code",
   "execution_count": 63,
   "metadata": {},
   "outputs": [
    {
     "name": "stdout",
     "output_type": "stream",
     "text": [
      "(27455, 784)\n",
      "(27455,)\n",
      "(7172, 784)\n",
      "(7172,)\n"
     ]
    }
   ],
   "source": [
    "print(X_train_MLP.shape)\n",
    "print(y_train_MLP.shape)\n",
    "\n",
    "print(X_test_MLP.shape)\n",
    "print(y_test_MLP.shape)"
   ]
  },
  {
   "cell_type": "code",
   "execution_count": 64,
   "metadata": {},
   "outputs": [],
   "source": [
    "# following categorical transformation and part of data processing is borrowed from:\n",
    "# https://www.kaggle.com/ranjeetjain3/deep-learning-using-sign-langugage\n",
    "label_binrizer = LabelBinarizer()\n",
    "y_train_MLP = label_binrizer.fit_transform(y_train_MLP)\n",
    "y_test_MLP = label_binrizer.fit_transform(y_test_MLP)"
   ]
  },
  {
   "cell_type": "code",
   "execution_count": 65,
   "metadata": {},
   "outputs": [
    {
     "name": "stdout",
     "output_type": "stream",
     "text": [
      "(27455, 24)\n",
      "(7172, 24)\n"
     ]
    }
   ],
   "source": [
    "print(y_train_MLP.shape)\n",
    "print(y_test_MLP.shape)"
   ]
  },
  {
   "cell_type": "code",
   "execution_count": 86,
   "metadata": {},
   "outputs": [
    {
     "name": "stdout",
     "output_type": "stream",
     "text": [
      "Train on 27455 samples\n",
      "Epoch 1/50\n",
      "27455/27455 [==============================] - 2s 56us/sample - loss: 2.6271 - accuracy: 0.1581\n",
      "Epoch 2/50\n",
      "27455/27455 [==============================] - 1s 41us/sample - loss: 1.9693 - accuracy: 0.3170\n",
      "Epoch 3/50\n",
      "27455/27455 [==============================] - 1s 41us/sample - loss: 1.7513 - accuracy: 0.3831\n",
      "Epoch 4/50\n",
      "27455/27455 [==============================] - 1s 41us/sample - loss: 1.6104 - accuracy: 0.4223\n",
      "Epoch 5/50\n",
      "27455/27455 [==============================] - 1s 41us/sample - loss: 1.5153 - accuracy: 0.4580\n",
      "Epoch 6/50\n",
      "27455/27455 [==============================] - 1s 41us/sample - loss: 1.4484 - accuracy: 0.4786\n",
      "Epoch 7/50\n",
      "27455/27455 [==============================] - 1s 41us/sample - loss: 1.3864 - accuracy: 0.4955\n",
      "Epoch 8/50\n",
      "27455/27455 [==============================] - 1s 41us/sample - loss: 1.3337 - accuracy: 0.5140\n",
      "Epoch 9/50\n",
      "27455/27455 [==============================] - 1s 41us/sample - loss: 1.3153 - accuracy: 0.5197\n",
      "Epoch 10/50\n",
      "27455/27455 [==============================] - 1s 43us/sample - loss: 1.2724 - accuracy: 0.5328\n",
      "Epoch 11/50\n",
      "27455/27455 [==============================] - 1s 42us/sample - loss: 1.2235 - accuracy: 0.5516\n",
      "Epoch 12/50\n",
      "27455/27455 [==============================] - 1s 42us/sample - loss: 1.2132 - accuracy: 0.5517\n",
      "Epoch 13/50\n",
      "27455/27455 [==============================] - 1s 42us/sample - loss: 1.1738 - accuracy: 0.5666\n",
      "Epoch 14/50\n",
      "27455/27455 [==============================] - 1s 42us/sample - loss: 1.1585 - accuracy: 0.5719\n",
      "Epoch 15/50\n",
      "27455/27455 [==============================] - 1s 43us/sample - loss: 1.1242 - accuracy: 0.5817\n",
      "Epoch 16/50\n",
      "27455/27455 [==============================] - 1s 43us/sample - loss: 1.1132 - accuracy: 0.5874\n",
      "Epoch 17/50\n",
      "27455/27455 [==============================] - 1s 44us/sample - loss: 1.0908 - accuracy: 0.5968\n",
      "Epoch 18/50\n",
      "27455/27455 [==============================] - 1s 42us/sample - loss: 1.0846 - accuracy: 0.5994\n",
      "Epoch 19/50\n",
      "27455/27455 [==============================] - 1s 42us/sample - loss: 1.0571 - accuracy: 0.6071\n",
      "Epoch 20/50\n",
      "27455/27455 [==============================] - 1s 42us/sample - loss: 1.0448 - accuracy: 0.6113\n",
      "Epoch 21/50\n",
      "27455/27455 [==============================] - 1s 42us/sample - loss: 1.0506 - accuracy: 0.6069\n",
      "Epoch 22/50\n",
      "27455/27455 [==============================] - 1s 45us/sample - loss: 1.0015 - accuracy: 0.6261\n",
      "Epoch 23/50\n",
      "27455/27455 [==============================] - 1s 42us/sample - loss: 0.9996 - accuracy: 0.6222\n",
      "Epoch 24/50\n",
      "27455/27455 [==============================] - 1s 42us/sample - loss: 0.9901 - accuracy: 0.6304\n",
      "Epoch 25/50\n",
      "27455/27455 [==============================] - 1s 43us/sample - loss: 0.9684 - accuracy: 0.6359\n",
      "Epoch 26/50\n",
      "27455/27455 [==============================] - 1s 42us/sample - loss: 0.9418 - accuracy: 0.6463\n",
      "Epoch 27/50\n",
      "27455/27455 [==============================] - 1s 42us/sample - loss: 0.9393 - accuracy: 0.6485\n",
      "Epoch 28/50\n",
      "27455/27455 [==============================] - 1s 42us/sample - loss: 0.9448 - accuracy: 0.6493\n",
      "Epoch 29/50\n",
      "27455/27455 [==============================] - 1s 42us/sample - loss: 0.9303 - accuracy: 0.6488\n",
      "Epoch 30/50\n",
      "27455/27455 [==============================] - 1s 42us/sample - loss: 0.9120 - accuracy: 0.6546\n",
      "Epoch 31/50\n",
      "27455/27455 [==============================] - 1s 43us/sample - loss: 0.9379 - accuracy: 0.6492\n",
      "Epoch 32/50\n",
      "27455/27455 [==============================] - 1s 43us/sample - loss: 0.8808 - accuracy: 0.6687\n",
      "Epoch 33/50\n",
      "27455/27455 [==============================] - 1s 43us/sample - loss: 0.8983 - accuracy: 0.6614\n",
      "Epoch 34/50\n",
      "27455/27455 [==============================] - 1s 44us/sample - loss: 0.8841 - accuracy: 0.6685\n",
      "Epoch 35/50\n",
      "27455/27455 [==============================] - 1s 42us/sample - loss: 0.8603 - accuracy: 0.6769\n",
      "Epoch 36/50\n",
      "27455/27455 [==============================] - 1s 42us/sample - loss: 0.8614 - accuracy: 0.6771\n",
      "Epoch 37/50\n",
      "27455/27455 [==============================] - 1s 42us/sample - loss: 0.8791 - accuracy: 0.6688\n",
      "Epoch 38/50\n",
      "27455/27455 [==============================] - 1s 42us/sample - loss: 0.8547 - accuracy: 0.6787\n",
      "Epoch 39/50\n",
      "27455/27455 [==============================] - 1s 42us/sample - loss: 0.8575 - accuracy: 0.6801\n",
      "Epoch 40/50\n",
      "27455/27455 [==============================] - 1s 42us/sample - loss: 0.8510 - accuracy: 0.6788\n",
      "Epoch 41/50\n",
      "27455/27455 [==============================] - 1s 42us/sample - loss: 0.8172 - accuracy: 0.6954\n",
      "Epoch 42/50\n",
      "27455/27455 [==============================] - 1s 43us/sample - loss: 0.8158 - accuracy: 0.6949\n",
      "Epoch 43/50\n",
      "27455/27455 [==============================] - 1s 42us/sample - loss: 0.8413 - accuracy: 0.6861\n",
      "Epoch 44/50\n",
      "27455/27455 [==============================] - 1s 42us/sample - loss: 0.8174 - accuracy: 0.6905\n",
      "Epoch 45/50\n",
      "27455/27455 [==============================] - 1s 42us/sample - loss: 0.7978 - accuracy: 0.6946\n",
      "Epoch 46/50\n",
      "27455/27455 [==============================] - ETA: 0s - loss: 0.8066 - accuracy: 0.69 - 1s 42us/sample - loss: 0.8045 - accuracy: 0.6971\n",
      "Epoch 47/50\n",
      "27455/27455 [==============================] - 1s 44us/sample - loss: 0.8246 - accuracy: 0.6890\n",
      "Epoch 48/50\n",
      "27455/27455 [==============================] - 1s 44us/sample - loss: 0.7918 - accuracy: 0.7007\n",
      "Epoch 49/50\n",
      "27455/27455 [==============================] - 1s 42us/sample - loss: 0.7693 - accuracy: 0.7109\n",
      "Epoch 50/50\n",
      "27455/27455 [==============================] - 1s 42us/sample - loss: 0.7920 - accuracy: 0.7041\n"
     ]
    },
    {
     "data": {
      "text/plain": [
       "<tensorflow.python.keras.callbacks.History at 0x245824eab38>"
      ]
     },
     "execution_count": 86,
     "metadata": {},
     "output_type": "execute_result"
    }
   ],
   "source": [
    "model = tf.keras.models.Sequential()\n",
    "\n",
    "model.add(tf.keras.layers.Dense(units=64, input_dim = X_train_MLP.shape[1], \n",
    "                                activation='relu'))\n",
    "\n",
    "model.add(tf.keras.layers.Dense(units=64, input_dim=50, \n",
    "                                activation='relu'))\n",
    "model.add(tf.keras.layers.Dropout(0.5))\n",
    "\n",
    "model.add(tf.keras.layers.Dense(units=64, input_dim=50, \n",
    "                                activation='relu'))\n",
    "model.add(tf.keras.layers.Dropout(0.5))\n",
    "\n",
    "model.add(tf.keras.layers.Dense(units=y_train_MLP.shape[1], input_dim=50,\n",
    "                                activation='softmax'))\n",
    "\n",
    "sgd_optimizer = tf.keras.optimizers.Adam(lr=0.001, decay=1e-7)\n",
    "\n",
    "model.compile(optimizer=sgd_optimizer, loss='categorical_crossentropy', metrics=['accuracy'])\n",
    "\n",
    "model.fit(X_train_MLP, y_train_MLP, batch_size=64, epochs=50, verbose=1)"
   ]
  },
  {
   "cell_type": "code",
   "execution_count": 88,
   "metadata": {},
   "outputs": [
    {
     "name": "stdout",
     "output_type": "stream",
     "text": [
      "WARNING:tensorflow:Falling back from v2 loop because of error: Failed to find data adapter that can handle input: <class 'pandas.core.frame.DataFrame'>, <class 'NoneType'>\n"
     ]
    },
    {
     "data": {
      "text/plain": [
       "0.27816508644729504"
      ]
     },
     "execution_count": 88,
     "metadata": {},
     "output_type": "execute_result"
    }
   ],
   "source": [
    "y_preds = model.predict_classes(X_test_MLP)\n",
    "accuracy_score(y_test, y_preds)"
   ]
  },
  {
   "cell_type": "markdown",
   "metadata": {},
   "source": [
    "# Define X and y that would contain data from whole dataset \n",
    "- (can be used for cross_val_score and similar methods):"
   ]
  },
  {
   "cell_type": "code",
   "execution_count": 41,
   "metadata": {},
   "outputs": [
    {
     "name": "stdout",
     "output_type": "stream",
     "text": [
      "(34627, 784)\n",
      "(34627,)\n"
     ]
    }
   ],
   "source": [
    "# Create X and y datasets (merged = test + train)\n",
    "X = full_dataset.drop('label', axis=1)\n",
    "y = full_dataset['label']\n",
    "\n",
    "# and print their shapes\n",
    "print(X.shape)\n",
    "print(y.shape)"
   ]
  },
  {
   "cell_type": "markdown",
   "metadata": {},
   "source": [
    "# Let us print part of dataset:"
   ]
  },
  {
   "cell_type": "code",
   "execution_count": 42,
   "metadata": {},
   "outputs": [
    {
     "data": {
      "text/html": [
       "<div>\n",
       "<style scoped>\n",
       "    .dataframe tbody tr th:only-of-type {\n",
       "        vertical-align: middle;\n",
       "    }\n",
       "\n",
       "    .dataframe tbody tr th {\n",
       "        vertical-align: top;\n",
       "    }\n",
       "\n",
       "    .dataframe thead th {\n",
       "        text-align: right;\n",
       "    }\n",
       "</style>\n",
       "<table border=\"1\" class=\"dataframe\">\n",
       "  <thead>\n",
       "    <tr style=\"text-align: right;\">\n",
       "      <th></th>\n",
       "      <th>label</th>\n",
       "      <th>pixel1</th>\n",
       "      <th>pixel2</th>\n",
       "      <th>pixel3</th>\n",
       "      <th>pixel4</th>\n",
       "      <th>pixel5</th>\n",
       "      <th>pixel6</th>\n",
       "      <th>pixel7</th>\n",
       "      <th>pixel8</th>\n",
       "      <th>pixel9</th>\n",
       "      <th>...</th>\n",
       "      <th>pixel775</th>\n",
       "      <th>pixel776</th>\n",
       "      <th>pixel777</th>\n",
       "      <th>pixel778</th>\n",
       "      <th>pixel779</th>\n",
       "      <th>pixel780</th>\n",
       "      <th>pixel781</th>\n",
       "      <th>pixel782</th>\n",
       "      <th>pixel783</th>\n",
       "      <th>pixel784</th>\n",
       "    </tr>\n",
       "  </thead>\n",
       "  <tbody>\n",
       "    <tr>\n",
       "      <th>0</th>\n",
       "      <td>3</td>\n",
       "      <td>107</td>\n",
       "      <td>118</td>\n",
       "      <td>127</td>\n",
       "      <td>134</td>\n",
       "      <td>139</td>\n",
       "      <td>143</td>\n",
       "      <td>146</td>\n",
       "      <td>150</td>\n",
       "      <td>153</td>\n",
       "      <td>...</td>\n",
       "      <td>207</td>\n",
       "      <td>207</td>\n",
       "      <td>207</td>\n",
       "      <td>207</td>\n",
       "      <td>206</td>\n",
       "      <td>206</td>\n",
       "      <td>206</td>\n",
       "      <td>204</td>\n",
       "      <td>203</td>\n",
       "      <td>202</td>\n",
       "    </tr>\n",
       "    <tr>\n",
       "      <th>1</th>\n",
       "      <td>6</td>\n",
       "      <td>155</td>\n",
       "      <td>157</td>\n",
       "      <td>156</td>\n",
       "      <td>156</td>\n",
       "      <td>156</td>\n",
       "      <td>157</td>\n",
       "      <td>156</td>\n",
       "      <td>158</td>\n",
       "      <td>158</td>\n",
       "      <td>...</td>\n",
       "      <td>69</td>\n",
       "      <td>149</td>\n",
       "      <td>128</td>\n",
       "      <td>87</td>\n",
       "      <td>94</td>\n",
       "      <td>163</td>\n",
       "      <td>175</td>\n",
       "      <td>103</td>\n",
       "      <td>135</td>\n",
       "      <td>149</td>\n",
       "    </tr>\n",
       "    <tr>\n",
       "      <th>2</th>\n",
       "      <td>2</td>\n",
       "      <td>187</td>\n",
       "      <td>188</td>\n",
       "      <td>188</td>\n",
       "      <td>187</td>\n",
       "      <td>187</td>\n",
       "      <td>186</td>\n",
       "      <td>187</td>\n",
       "      <td>188</td>\n",
       "      <td>187</td>\n",
       "      <td>...</td>\n",
       "      <td>202</td>\n",
       "      <td>201</td>\n",
       "      <td>200</td>\n",
       "      <td>199</td>\n",
       "      <td>198</td>\n",
       "      <td>199</td>\n",
       "      <td>198</td>\n",
       "      <td>195</td>\n",
       "      <td>194</td>\n",
       "      <td>195</td>\n",
       "    </tr>\n",
       "    <tr>\n",
       "      <th>3</th>\n",
       "      <td>2</td>\n",
       "      <td>211</td>\n",
       "      <td>211</td>\n",
       "      <td>212</td>\n",
       "      <td>212</td>\n",
       "      <td>211</td>\n",
       "      <td>210</td>\n",
       "      <td>211</td>\n",
       "      <td>210</td>\n",
       "      <td>210</td>\n",
       "      <td>...</td>\n",
       "      <td>235</td>\n",
       "      <td>234</td>\n",
       "      <td>233</td>\n",
       "      <td>231</td>\n",
       "      <td>230</td>\n",
       "      <td>226</td>\n",
       "      <td>225</td>\n",
       "      <td>222</td>\n",
       "      <td>229</td>\n",
       "      <td>163</td>\n",
       "    </tr>\n",
       "    <tr>\n",
       "      <th>4</th>\n",
       "      <td>13</td>\n",
       "      <td>164</td>\n",
       "      <td>167</td>\n",
       "      <td>170</td>\n",
       "      <td>172</td>\n",
       "      <td>176</td>\n",
       "      <td>179</td>\n",
       "      <td>180</td>\n",
       "      <td>184</td>\n",
       "      <td>185</td>\n",
       "      <td>...</td>\n",
       "      <td>92</td>\n",
       "      <td>105</td>\n",
       "      <td>105</td>\n",
       "      <td>108</td>\n",
       "      <td>133</td>\n",
       "      <td>163</td>\n",
       "      <td>157</td>\n",
       "      <td>163</td>\n",
       "      <td>164</td>\n",
       "      <td>179</td>\n",
       "    </tr>\n",
       "  </tbody>\n",
       "</table>\n",
       "<p>5 rows × 785 columns</p>\n",
       "</div>"
      ],
      "text/plain": [
       "   label  pixel1  pixel2  pixel3  pixel4  pixel5  pixel6  pixel7  pixel8  \\\n",
       "0      3     107     118     127     134     139     143     146     150   \n",
       "1      6     155     157     156     156     156     157     156     158   \n",
       "2      2     187     188     188     187     187     186     187     188   \n",
       "3      2     211     211     212     212     211     210     211     210   \n",
       "4     13     164     167     170     172     176     179     180     184   \n",
       "\n",
       "   pixel9  ...  pixel775  pixel776  pixel777  pixel778  pixel779  pixel780  \\\n",
       "0     153  ...       207       207       207       207       206       206   \n",
       "1     158  ...        69       149       128        87        94       163   \n",
       "2     187  ...       202       201       200       199       198       199   \n",
       "3     210  ...       235       234       233       231       230       226   \n",
       "4     185  ...        92       105       105       108       133       163   \n",
       "\n",
       "   pixel781  pixel782  pixel783  pixel784  \n",
       "0       206       204       203       202  \n",
       "1       175       103       135       149  \n",
       "2       198       195       194       195  \n",
       "3       225       222       229       163  \n",
       "4       157       163       164       179  \n",
       "\n",
       "[5 rows x 785 columns]"
      ]
     },
     "execution_count": 42,
     "metadata": {},
     "output_type": "execute_result"
    }
   ],
   "source": [
    "full_dataset.head()"
   ]
  },
  {
   "cell_type": "markdown",
   "metadata": {},
   "source": [
    "# And visualize the data"
   ]
  },
  {
   "cell_type": "code",
   "execution_count": 9,
   "metadata": {},
   "outputs": [],
   "source": [
    "x_visualize = full_dataset.iloc[:, 1:].values\n",
    "y_visualize = full_dataset.iloc[:, :1].values.flatten()"
   ]
  },
  {
   "cell_type": "code",
   "execution_count": 10,
   "metadata": {},
   "outputs": [
    {
     "name": "stdout",
     "output_type": "stream",
     "text": [
      "Features Shape:  (34627, 784)\n",
      "Features:\n",
      " [[107 118 127 ... 204 203 202]\n",
      " [155 157 156 ... 103 135 149]\n",
      " [187 188 188 ... 195 194 195]\n",
      " ...\n",
      " [190 191 190 ... 211 209 208]\n",
      " [201 205 208 ...  67  70  63]\n",
      " [173 174 173 ... 195 193 192]]\n",
      "\n",
      "Labels Shape: (34627,)\n",
      "Labels:\n",
      " [3 6 2 ... 2 4 2]\n"
     ]
    }
   ],
   "source": [
    "print('Features Shape: ', x_visualize.shape)\n",
    "print('Features:\\n', x_visualize)\n",
    "\n",
    "print('\\nLabels Shape:', y_visualize.shape)\n",
    "print('Labels:\\n', y_visualize)"
   ]
  },
  {
   "cell_type": "code",
   "execution_count": 11,
   "metadata": {},
   "outputs": [],
   "source": [
    "# borrowed from https://www.kaggle.com/soumikrakshit/sign-language-translation-mlp\n",
    "# used to visualize the image\n",
    "def display(index):\n",
    "    plt.imshow(x_visualize[index].reshape(28, 28), cmap = 'gray')\n",
    "    plt.title(str(y_visualize[index]))\n",
    "    plt.show()"
   ]
  },
  {
   "cell_type": "code",
   "execution_count": 12,
   "metadata": {},
   "outputs": [
    {
     "data": {
      "image/png": "[encoded data removed]",
      "text/plain": [
       "<Figure size 432x288 with 1 Axes>"
      ]
     },
     "metadata": {
      "needs_background": "light"
     },
     "output_type": "display_data"
    }
   ],
   "source": [
    "for img in range(0, 1):\n",
    "    display(img)"
   ]
  },
  {
   "cell_type": "markdown",
   "metadata": {},
   "source": [
    "# Let's train the models!"
   ]
  },
  {
   "cell_type": "markdown",
   "metadata": {},
   "source": [
    "*Methods planned to be used:* \n",
    "* Random Forest,\n",
    "* SVM,\n",
    "* Logistic Regression,\n",
    "* Soft Voting Classifier (using Random Forest, SVM, Logistic Regression)\n",
    "* Sequential Neural Networks,\n",
    "* Convolutional Neural Networks,\n",
    "\n",
    "\n",
    "On reserve: Ensemble, Bagging & Pasting, Ada Boost, SGD Boost.  "
   ]
  },
  {
   "cell_type": "markdown",
   "metadata": {},
   "source": [
    "# Logistic Regression\n",
    "*LogisticRegression(penalty=’l2’, dual=False, tol=0.0001, C=1.0, fit_intercept=True, intercept_scaling=1, class_weight=None, random_state=None, solver=’warn’, max_iter=100, multi_class=’warn’, verbose=0, warm_start=False, n_jobs=None, l1_ratio=None)*"
   ]
  },
  {
   "cell_type": "code",
   "execution_count": null,
   "metadata": {},
   "outputs": [],
   "source": [
    "# declaring logistic regession classifier\n",
    "log_clf = LogisticRegression(random_state=42, multi_class='multinomial', solver='saga', n_jobs=-1, max_iter=200)\n",
    "\n",
    "# training:\n",
    "log_clf.fit(np_X_train, np_y_train)\n",
    "\n",
    "# predict:\n",
    "y_preds_log = log_clf.predict_proba(np_X_test)\n",
    "print(\"Accuracy Score: \", results.mean())"
   ]
  },
  {
   "cell_type": "code",
   "execution_count": null,
   "metadata": {},
   "outputs": [],
   "source": [
    "cm = confusion_matrix(y_test, y_preds_log)\n",
    "\n",
    "# Show confusion matrix in a separate window\n",
    "plt.matshow(cm)\n",
    "plt.title('Random Forest Confusion matrix\\n')\n",
    "plt.colorbar()\n",
    "plt.ylabel('True label')\n",
    "plt.xlabel('Predicted label')\n",
    "plt.show()"
   ]
  },
  {
   "cell_type": "markdown",
   "metadata": {},
   "source": [
    "# Random Forest Classifier + parameter tuning (manual & grid):"
   ]
  },
  {
   "cell_type": "code",
   "execution_count": 10,
   "metadata": {},
   "outputs": [],
   "source": [
    "# Create a random forest classifier with 100 estimators and max_leaf_nodes=16 and n_jobs=-1\n",
    "### START CODING HERE ###\n",
    "rf_clf = RandomForestClassifier(n_estimators=100, max_leaf_nodes=16, n_jobs=-1)\n",
    "### END CODING HERE ###"
   ]
  },
  {
   "cell_type": "code",
   "execution_count": 20,
   "metadata": {},
   "outputs": [
    {
     "name": "stdout",
     "output_type": "stream",
     "text": [
      "cross val score (mean):  0.208169699229149 ; max_leafs =  2\n",
      "cross val score (mean):  0.2617938185125104 ; max_leafs =  3\n",
      "cross val score (mean):  0.290258510046024 ; max_leafs =  4\n",
      "cross val score (mean):  0.31625439084869555 ; max_leafs =  5\n",
      "cross val score (mean):  0.34060122663767156 ; max_leafs =  6\n",
      "cross val score (mean):  0.36390127848326964 ; max_leafs =  7\n",
      "cross val score (mean):  0.3856267546484453 ; max_leafs =  8\n",
      "cross val score (mean):  0.4006020532744 ; max_leafs =  9\n",
      "cross val score (mean):  0.4192651108560634 ; max_leafs =  10\n",
      "cross val score (mean):  0.43783051229082554 ; max_leafs =  11\n",
      "cross val score (mean):  0.45152052430774364 ; max_leafs =  12\n",
      "cross val score (mean):  0.466537141385061 ; max_leafs =  13\n",
      "cross val score (mean):  0.4795018063008854 ; max_leafs =  14\n",
      "cross val score (mean):  0.4905593604411469 ; max_leafs =  15\n",
      "cross val score (mean):  0.49500305387356197 ; max_leafs =  16\n",
      "cross val score (mean):  0.5096159335223112 ; max_leafs =  17\n",
      "cross val score (mean):  0.5152494350469703 ; max_leafs =  18\n",
      "cross val score (mean):  0.5216041407141624 ; max_leafs =  19\n",
      "cross val score (mean):  0.5310981024310598 ; max_leafs =  20\n",
      "cross val score (mean):  0.5382667398325716 ; max_leafs =  21\n",
      "cross val score (mean):  0.5428234715791029 ; max_leafs =  22\n",
      "cross val score (mean):  0.55353884180727 ; max_leafs =  23\n",
      "cross val score (mean):  0.5609623314827465 ; max_leafs =  24\n",
      "cross val score (mean):  0.565787456083578 ; max_leafs =  25\n",
      "cross val score (mean):  0.5733453869811931 ; max_leafs =  26\n",
      "cross val score (mean):  0.5814374491179038 ; max_leafs =  27\n",
      "cross val score (mean):  0.5874129943746265 ; max_leafs =  28\n",
      "cross val score (mean):  0.594717941651639 ; max_leafs =  29\n",
      "cross val score (mean):  0.6019892626380757 ; max_leafs =  30\n",
      "cross val score (mean):  0.6035525247372543 ; max_leafs =  31\n"
     ]
    }
   ],
   "source": [
    "for max_leaf_nodes in range(2, 32):\n",
    "    rf_clf = RandomForestClassifier(n_estimators=100, max_leaf_nodes = max_leaf_nodes, n_jobs=-1)\n",
    "    rf_cv_score = cross_val_score(rf_clf, X, y, cv=10)\n",
    "    print(\"cross val score (mean): \", rf_cv_score.mean(), \"; max_leafs = \", max_leaf_nodes)"
   ]
  },
  {
   "cell_type": "code",
   "execution_count": 22,
   "metadata": {},
   "outputs": [
    {
     "name": "stdout",
     "output_type": "stream",
     "text": [
      "cross val score (mean):  0.21455055835350198 ; n_estimators =  1\n",
      "cross val score (mean):  0.2723435041064346 ; n_estimators =  2\n",
      "cross val score (mean):  0.3055716290499061 ; n_estimators =  3\n",
      "cross val score (mean):  0.3208324256204816 ; n_estimators =  4\n",
      "cross val score (mean):  0.3516340188016167 ; n_estimators =  5\n",
      "cross val score (mean):  0.36366514436361663 ; n_estimators =  6\n",
      "cross val score (mean):  0.3759476274452991 ; n_estimators =  7\n",
      "cross val score (mean):  0.38327440288308956 ; n_estimators =  8\n",
      "cross val score (mean):  0.3922169719537269 ; n_estimators =  9\n",
      "cross val score (mean):  0.4122672225335083 ; n_estimators =  10\n",
      "cross val score (mean):  0.42122859965034876 ; n_estimators =  11\n",
      "cross val score (mean):  0.4277236538218811 ; n_estimators =  12\n",
      "cross val score (mean):  0.42814991695816484 ; n_estimators =  13\n",
      "cross val score (mean):  0.4237391373260633 ; n_estimators =  14\n",
      "cross val score (mean):  0.43811998052677464 ; n_estimators =  15\n",
      "cross val score (mean):  0.44381101969793074 ; n_estimators =  16\n",
      "cross val score (mean):  0.43966545258968104 ; n_estimators =  17\n",
      "cross val score (mean):  0.4442201696398482 ; n_estimators =  18\n",
      "cross val score (mean):  0.4478153374617101 ; n_estimators =  19\n",
      "cross val score (mean):  0.4527901257154232 ; n_estimators =  20\n",
      "cross val score (mean):  0.46431032757763074 ; n_estimators =  21\n",
      "cross val score (mean):  0.461304397597496 ; n_estimators =  22\n",
      "cross val score (mean):  0.45812373127872325 ; n_estimators =  23\n",
      "cross val score (mean):  0.46431176299943894 ; n_estimators =  24\n",
      "cross val score (mean):  0.4601204270192702 ; n_estimators =  25\n",
      "cross val score (mean):  0.4617949615543564 ; n_estimators =  26\n",
      "cross val score (mean):  0.47041980687650076 ; n_estimators =  27\n",
      "cross val score (mean):  0.46852867552908933 ; n_estimators =  28\n",
      "cross val score (mean):  0.4683767265615268 ; n_estimators =  29\n",
      "cross val score (mean):  0.4700553104108258 ; n_estimators =  30\n",
      "cross val score (mean):  0.465759352774951 ; n_estimators =  31\n",
      "cross val score (mean):  0.4713065086682587 ; n_estimators =  32\n",
      "cross val score (mean):  0.47650390497036615 ; n_estimators =  33\n",
      "cross val score (mean):  0.47546365862061063 ; n_estimators =  34\n",
      "cross val score (mean):  0.4706561284392226 ; n_estimators =  35\n",
      "cross val score (mean):  0.47195332853601935 ; n_estimators =  36\n",
      "cross val score (mean):  0.4725705859020494 ; n_estimators =  37\n",
      "cross val score (mean):  0.4810836277408038 ; n_estimators =  38\n",
      "cross val score (mean):  0.47462197539105766 ; n_estimators =  39\n",
      "cross val score (mean):  0.471556179109012 ; n_estimators =  40\n",
      "cross val score (mean):  0.47637405818445505 ; n_estimators =  41\n",
      "cross val score (mean):  0.4846658739492032 ; n_estimators =  42\n",
      "cross val score (mean):  0.479733453775202 ; n_estimators =  43\n",
      "cross val score (mean):  0.48139735211490253 ; n_estimators =  44\n",
      "cross val score (mean):  0.480703138217592 ; n_estimators =  45\n",
      "cross val score (mean):  0.4764086747238469 ; n_estimators =  46\n",
      "cross val score (mean):  0.49087659134631745 ; n_estimators =  47\n",
      "cross val score (mean):  0.48125713343730725 ; n_estimators =  48\n",
      "cross val score (mean):  0.48010055765077925 ; n_estimators =  49\n",
      "cross val score (mean):  0.48732209386533965 ; n_estimators =  50\n",
      "cross val score (mean):  0.48458949156768566 ; n_estimators =  51\n",
      "cross val score (mean):  0.48036794187679543 ; n_estimators =  52\n",
      "cross val score (mean):  0.4850675668164315 ; n_estimators =  53\n",
      "cross val score (mean):  0.48655057686025954 ; n_estimators =  54\n",
      "cross val score (mean):  0.48039624459468666 ; n_estimators =  55\n",
      "cross val score (mean):  0.48961371751741084 ; n_estimators =  56\n",
      "cross val score (mean):  0.4844978573294895 ; n_estimators =  57\n",
      "cross val score (mean):  0.4875915985781381 ; n_estimators =  58\n",
      "cross val score (mean):  0.4838317260506792 ; n_estimators =  59\n",
      "cross val score (mean):  0.48680582449170606 ; n_estimators =  60\n",
      "cross val score (mean):  0.49041067597661936 ; n_estimators =  61\n",
      "cross val score (mean):  0.4895207751944758 ; n_estimators =  62\n",
      "cross val score (mean):  0.4861125508339561 ; n_estimators =  63\n",
      "cross val score (mean):  0.4880744945905491 ; n_estimators =  64\n",
      "cross val score (mean):  0.48680649617399074 ; n_estimators =  65\n",
      "cross val score (mean):  0.48914325193534075 ; n_estimators =  66\n",
      "cross val score (mean):  0.4906824997451902 ; n_estimators =  67\n",
      "cross val score (mean):  0.492757801073501 ; n_estimators =  68\n",
      "cross val score (mean):  0.48685656631223984 ; n_estimators =  69\n",
      "cross val score (mean):  0.4939097276742685 ; n_estimators =  70\n",
      "cross val score (mean):  0.48965609790553016 ; n_estimators =  71\n",
      "cross val score (mean):  0.487558647646564 ; n_estimators =  72\n",
      "cross val score (mean):  0.4938002804109094 ; n_estimators =  73\n",
      "cross val score (mean):  0.48859450222900386 ; n_estimators =  74\n",
      "cross val score (mean):  0.4885989201026696 ; n_estimators =  75\n",
      "cross val score (mean):  0.48983668909049766 ; n_estimators =  76\n",
      "cross val score (mean):  0.4945822409146891 ; n_estimators =  77\n",
      "cross val score (mean):  0.4943384998599584 ; n_estimators =  78\n",
      "cross val score (mean):  0.4883959115236164 ; n_estimators =  79\n",
      "cross val score (mean):  0.4982979410547859 ; n_estimators =  80\n",
      "cross val score (mean):  0.4957034481753671 ; n_estimators =  81\n",
      "cross val score (mean):  0.4963883207843261 ; n_estimators =  82\n",
      "cross val score (mean):  0.4944220174234557 ; n_estimators =  83\n",
      "cross val score (mean):  0.4938843030788491 ; n_estimators =  84\n",
      "cross val score (mean):  0.4917750045549806 ; n_estimators =  85\n",
      "cross val score (mean):  0.49578305930707317 ; n_estimators =  86\n",
      "cross val score (mean):  0.4976380913711365 ; n_estimators =  87\n",
      "cross val score (mean):  0.49722835901691054 ; n_estimators =  88\n",
      "cross val score (mean):  0.48980551823964247 ; n_estimators =  89\n",
      "cross val score (mean):  0.49086309603660594 ; n_estimators =  90\n",
      "cross val score (mean):  0.4916809589664052 ; n_estimators =  91\n",
      "cross val score (mean):  0.49258579577876577 ; n_estimators =  92\n",
      "cross val score (mean):  0.4934786295781641 ; n_estimators =  93\n",
      "cross val score (mean):  0.4967419416624179 ; n_estimators =  94\n",
      "cross val score (mean):  0.4946080836904051 ; n_estimators =  95\n",
      "cross val score (mean):  0.496540165417132 ; n_estimators =  96\n",
      "cross val score (mean):  0.4963943242780817 ; n_estimators =  97\n",
      "cross val score (mean):  0.49053379050981916 ; n_estimators =  98\n",
      "cross val score (mean):  0.4901056964286691 ; n_estimators =  99\n",
      "cross val score (mean):  0.49780932904412944 ; n_estimators =  100\n"
     ]
    }
   ],
   "source": [
    "for n_estimators in range(1, 101):\n",
    "    rf_clf = RandomForestClassifier(n_estimators=n_estimators, max_leaf_nodes = 16, n_jobs=-1)\n",
    "    rf_cv_score = cross_val_score(rf_clf, X, y, cv=10)\n",
    "    print(\"cross val score (mean): \", rf_cv_score.mean(), \"; n_estimators = \", n_estimators)"
   ]
  },
  {
   "cell_type": "code",
   "execution_count": 13,
   "metadata": {},
   "outputs": [
    {
     "name": "stdout",
     "output_type": "stream",
     "text": [
      "cross val score (mean):  0.588801565879043\n"
     ]
    }
   ],
   "source": [
    "# based on manual hyperparameter tuning for n_estimators and max_leaf_nodes,\n",
    "# it seems that model performs well on the following setup:\n",
    "rf_clf = RandomForestClassifier(n_estimators=45, max_leaf_nodes=32, n_jobs=-1)\n",
    "# proceeding with cross validation score and printing its average value:\n",
    "rf_cv_score = cross_val_score(rf_clf, X, y, cv=10)\n",
    "print(\"cross val score (mean): \", rf_cv_score.mean())"
   ]
  },
  {
   "cell_type": "code",
   "execution_count": 17,
   "metadata": {},
   "outputs": [],
   "source": [
    "# training random forest and then evaluating\n",
    "rf_clf.fit(X_train, y_train)\n",
    "\n",
    "y_preds = rf_clf.predict(X_test)"
   ]
  },
  {
   "cell_type": "code",
   "execution_count": 18,
   "metadata": {},
   "outputs": [
    {
     "name": "stdout",
     "output_type": "stream",
     "text": [
      "Accuracy: 0.4668153931957613\n"
     ]
    }
   ],
   "source": [
    "print(\"Accuracy:\", metrics.accuracy_score(y_test, y_preds))"
   ]
  },
  {
   "cell_type": "code",
   "execution_count": 54,
   "metadata": {},
   "outputs": [
    {
     "name": "stdout",
     "output_type": "stream",
     "text": [
      "Accuracy: 0.46807027328499723\n",
      "cross val score (mean):  0.5883300867318353\n",
      "Accuracy: 0.4721137757947574\n",
      "cross val score (mean):  0.5890303843525049\n",
      "Accuracy: 0.4530117122141662\n",
      "cross val score (mean):  0.5890869250299695\n",
      "Accuracy: 0.4854991634132738\n",
      "cross val score (mean):  0.5832731287642929\n",
      "Accuracy: 0.47796988287785835\n",
      "cross val score (mean):  0.5930519004853079\n",
      "Accuracy: 0.4721137757947574\n",
      "cross val score (mean):  0.5916572895718019\n",
      "Accuracy: 0.5015337423312883\n",
      "cross val score (mean):  0.593163047660718\n",
      "Accuracy: 0.4675125488008924\n",
      "cross val score (mean):  0.5915406056670524\n",
      "Accuracy: 0.5036252091466815\n",
      "cross val score (mean):  0.5938422671211607\n",
      "Accuracy: 0.49804796430563303\n",
      "cross val score (mean):  0.5948896211984269\n",
      "Accuracy: 0.5179866146123815\n",
      "cross val score (mean):  0.5897462160025796\n",
      "Accuracy: 0.507250418293363\n",
      "cross val score (mean):  0.593388863913993\n",
      "Accuracy: 0.5047406581148912\n",
      "cross val score (mean):  0.5902685551861139\n",
      "Accuracy: 0.5156162855549359\n",
      "cross val score (mean):  0.5864868003693734\n",
      "Accuracy: 0.5151979921918572\n",
      "cross val score (mean):  0.5882484327083507\n",
      "Accuracy: 0.5094813162297824\n",
      "cross val score (mean):  0.5911349099531025\n",
      "Accuracy: 0.5270496374790853\n",
      "cross val score (mean):  0.5925160885896215\n",
      "Accuracy: 0.5246793084216397\n",
      "cross val score (mean):  0.5923244031313881\n",
      "Accuracy: 0.5217512548800892\n",
      "cross val score (mean):  0.58997839498708\n",
      "Accuracy: 0.5323480200780815\n",
      "cross val score (mean):  0.5918028228507278\n",
      "Accuracy: 0.5416899051868377\n",
      "cross val score (mean):  0.5898605656155778\n",
      "Accuracy: 0.5301171221416621\n",
      "cross val score (mean):  0.5939945079945581\n",
      "Accuracy: 0.5492191857222533\n",
      "cross val score (mean):  0.5919071262959209\n",
      "Accuracy: 0.5362520914668154\n",
      "cross val score (mean):  0.5884740772570746\n",
      "Accuracy: 0.5497769102063581\n",
      "cross val score (mean):  0.5898684377707395\n",
      "Accuracy: 0.540574456218628\n",
      "cross val score (mean):  0.5916244068432359\n",
      "Accuracy: 0.5421081985499163\n",
      "cross val score (mean):  0.5883118137878798\n",
      "Accuracy: 0.552983825989961\n",
      "cross val score (mean):  0.5955510173783789\n",
      "Accuracy: 0.5426659230340212\n",
      "cross val score (mean):  0.5961346669329053\n",
      "Accuracy: 0.553680981595092\n",
      "cross val score (mean):  0.5914530899517879\n",
      "Accuracy: 0.5585610708310095\n",
      "cross val score (mean):  0.5903209898681523\n",
      "Accuracy: 0.5494980479643057\n",
      "cross val score (mean):  0.5939418942722278\n",
      "Accuracy: 0.5642777467930842\n",
      "cross val score (mean):  0.592956685190158\n",
      "Accuracy: 0.5639988845510318\n",
      "cross val score (mean):  0.5906088865860468\n",
      "Accuracy: 0.5506134969325154\n",
      "cross val score (mean):  0.5894898330979188\n",
      "Accuracy: 0.5557724484104852\n",
      "cross val score (mean):  0.5924921622265278\n",
      "Accuracy: 0.5571667596207474\n",
      "cross val score (mean):  0.5843166773403199\n",
      "Accuracy: 0.5658114891243725\n",
      "cross val score (mean):  0.5900646992068685\n",
      "Accuracy: 0.5584216397099833\n",
      "cross val score (mean):  0.5909122665709134\n",
      "Accuracy: 0.5752928053541551\n",
      "cross val score (mean):  0.593450852753126\n"
     ]
    }
   ],
   "source": [
    "for max_leaf_nodes in range(32, 72):\n",
    "    temp_rf_clf = RandomForestClassifier(n_estimators=42, max_leaf_nodes=max_leaf_nodes, n_jobs=-1)\n",
    "    temp_rf_clf.fit(X_train, y_train)\n",
    "    y_preds_rf = temp_rf_clf.predict(X_test)\n",
    "    print(\"max_leaf_nodes=\", max_leaf_nodes)\n",
    "    print(\"Accuracy:\", metrics.accuracy_score(y_test, y_preds_rf))\n",
    "    rf_cv_score = cross_val_score(rf_clf, X, y, cv=10)\n",
    "    print(\"cross val score (mean): \", rf_cv_score.mean())\n",
    "    print(\"***\\n\")"
   ]
  },
  {
   "cell_type": "code",
   "execution_count": 61,
   "metadata": {},
   "outputs": [
    {
     "ename": "NameError",
     "evalue": "name 'y_preds_rf' is not defined",
     "output_type": "error",
     "traceback": [
      "\u001b[1;31m---------------------------------------------------------------------------\u001b[0m",
      "\u001b[1;31mNameError\u001b[0m                                 Traceback (most recent call last)",
      "\u001b[1;32m<ipython-input-61-e3b286ab9530>\u001b[0m in \u001b[0;36m<module>\u001b[1;34m\u001b[0m\n\u001b[1;32m----> 1\u001b[1;33m \u001b[0mcm\u001b[0m \u001b[1;33m=\u001b[0m \u001b[0mconfusion_matrix\u001b[0m\u001b[1;33m(\u001b[0m\u001b[0my_test\u001b[0m\u001b[1;33m,\u001b[0m \u001b[0my_preds_rf\u001b[0m\u001b[1;33m)\u001b[0m\u001b[1;33m\u001b[0m\u001b[1;33m\u001b[0m\u001b[0m\n\u001b[0m\u001b[0;32m      2\u001b[0m \u001b[1;33m\u001b[0m\u001b[0m\n\u001b[0;32m      3\u001b[0m \u001b[1;31m# Show confusion matrix in a separate window\u001b[0m\u001b[1;33m\u001b[0m\u001b[1;33m\u001b[0m\u001b[1;33m\u001b[0m\u001b[0m\n\u001b[0;32m      4\u001b[0m \u001b[0mplt\u001b[0m\u001b[1;33m.\u001b[0m\u001b[0mmatshow\u001b[0m\u001b[1;33m(\u001b[0m\u001b[0mcm\u001b[0m\u001b[1;33m)\u001b[0m\u001b[1;33m\u001b[0m\u001b[1;33m\u001b[0m\u001b[0m\n\u001b[0;32m      5\u001b[0m \u001b[0mplt\u001b[0m\u001b[1;33m.\u001b[0m\u001b[0mtitle\u001b[0m\u001b[1;33m(\u001b[0m\u001b[1;34m'Random Forest Confusion matrix\\n'\u001b[0m\u001b[1;33m)\u001b[0m\u001b[1;33m\u001b[0m\u001b[1;33m\u001b[0m\u001b[0m\n",
      "\u001b[1;31mNameError\u001b[0m: name 'y_preds_rf' is not defined"
     ]
    }
   ],
   "source": [
    "cm = confusion_matrix(y_test, y_preds_rf)\n",
    "\n",
    "# Show confusion matrix in a separate window\n",
    "plt.matshow(cm)\n",
    "plt.title('Random Forest Confusion matrix\\n')\n",
    "plt.colorbar()\n",
    "plt.ylabel('True label')\n",
    "plt.xlabel('Predicted label')\n",
    "plt.show()"
   ]
  },
  {
   "cell_type": "code",
   "execution_count": 32,
   "metadata": {},
   "outputs": [
    {
     "name": "stdout",
     "output_type": "stream",
     "text": [
      "[0.63327576 0.6314121  0.63368907 0.63502597 0.6391455  0.63439306\n",
      " 0.63699422 0.64893002 0.58437048 0.58239212]\n"
     ]
    }
   ],
   "source": [
    "print(rf_cv_score)"
   ]
  },
  {
   "cell_type": "markdown",
   "metadata": {},
   "source": [
    "# Result from manual hyperparameter tuning:\n",
    "\n",
    "* It was found out that best hyperparam values of n_estimators and max_leaf_nodes is this set up:\n",
    "\n",
    "* *rf_clf = RandomForestClassifier(n_estimators=<b>45</b>, max_leaf_nodes=<b>32</b>, n_jobs=-1)*"
   ]
  },
  {
   "cell_type": "markdown",
   "metadata": {},
   "source": [
    "# Applying Grid Search for hyperparameters tuning for Random Forest:\n",
    "## First attempt:"
   ]
  },
  {
   "cell_type": "code",
   "execution_count": 13,
   "metadata": {},
   "outputs": [],
   "source": [
    "param_grid = [{'n_estimators': [3, 10, 30, 60, 65], 'max_features': [2, 4, 6, 8]}, \n",
    "              {'bootstrap': [False], 'n_estimators': [3, 10], 'max_features': [2, 3, 4]}]"
   ]
  },
  {
   "cell_type": "code",
   "execution_count": 17,
   "metadata": {},
   "outputs": [],
   "source": [
    "forest_classifier = RandomForestClassifier()"
   ]
  },
  {
   "cell_type": "code",
   "execution_count": 18,
   "metadata": {},
   "outputs": [
    {
     "name": "stderr",
     "output_type": "stream",
     "text": [
      "D:\\AI_ML\\envs\\ML_Projects\\lib\\site-packages\\sklearn\\model_selection\\_search.py:814: DeprecationWarning: The default of the `iid` parameter will change from True to False in version 0.22 and will be removed in 0.24. This will change numeric results when test-set sizes are unequal.\n",
      "  DeprecationWarning)\n"
     ]
    },
    {
     "data": {
      "text/plain": [
       "GridSearchCV(cv=5, error_score='raise-deprecating',\n",
       "             estimator=RandomForestClassifier(bootstrap=True, class_weight=None,\n",
       "                                              criterion='gini', max_depth=None,\n",
       "                                              max_features='auto',\n",
       "                                              max_leaf_nodes=None,\n",
       "                                              min_impurity_decrease=0.0,\n",
       "                                              min_impurity_split=None,\n",
       "                                              min_samples_leaf=1,\n",
       "                                              min_samples_split=2,\n",
       "                                              min_weight_fraction_leaf=0.0,\n",
       "                                              n_estimators='warn', n_jobs=None,\n",
       "                                              oob_score=False,\n",
       "                                              random_state=None, verbose=0,\n",
       "                                              warm_start=False),\n",
       "             iid='warn', n_jobs=None,\n",
       "             param_grid=[{'max_features': [2, 4, 6, 8],\n",
       "                          'n_estimators': [3, 10, 30, 60, 65]},\n",
       "                         {'bootstrap': [False], 'max_features': [2, 3, 4],\n",
       "                          'n_estimators': [3, 10]}],\n",
       "             pre_dispatch='2*n_jobs', refit=True, return_train_score=True,\n",
       "             scoring='neg_mean_squared_error', verbose=0)"
      ]
     },
     "execution_count": 18,
     "metadata": {},
     "output_type": "execute_result"
    }
   ],
   "source": [
    "grid_search = GridSearchCV(forest_classifier, param_grid, cv=5, scoring='neg_mean_squared_error', return_train_score=True)\n",
    "grid_search.fit(X_train, y_train)"
   ]
  },
  {
   "cell_type": "code",
   "execution_count": 20,
   "metadata": {},
   "outputs": [
    {
     "data": {
      "text/plain": [
       "RandomForestClassifier(bootstrap=True, class_weight=None, criterion='gini',\n",
       "                       max_depth=None, max_features=6, max_leaf_nodes=None,\n",
       "                       min_impurity_decrease=0.0, min_impurity_split=None,\n",
       "                       min_samples_leaf=1, min_samples_split=2,\n",
       "                       min_weight_fraction_leaf=0.0, n_estimators=65,\n",
       "                       n_jobs=None, oob_score=False, random_state=None,\n",
       "                       verbose=0, warm_start=False)"
      ]
     },
     "execution_count": 20,
     "metadata": {},
     "output_type": "execute_result"
    }
   ],
   "source": [
    "grid_search.best_estimator_"
   ]
  },
  {
   "cell_type": "code",
   "execution_count": 21,
   "metadata": {},
   "outputs": [
    {
     "name": "stdout",
     "output_type": "stream",
     "text": [
      "Mean Cross Validation Score is: 0.5245753013419595\n"
     ]
    }
   ],
   "source": [
    "# Fit the rf_clf on the training set\n",
    "rf_clf_1 = RandomForestClassifier(max_features=6, n_estimators=70, max_leaf_nodes = 16, n_jobs=-1)\n",
    "\n",
    "rf_clf_1.fit(X_train,y_train)\n",
    "\n",
    "rf_probs = rf_clf_1.predict_proba(X_test)\n",
    "rf_cv_score = cross_val_score(rf_clf_1, X, y, cv=10)\n",
    "print(\"Mean Cross Validation Score is:\", rf_cv_score.mean())"
   ]
  },
  {
   "cell_type": "code",
   "execution_count": null,
   "metadata": {},
   "outputs": [],
   "source": [
    "y_pred_rf_1 = rf_clf_1.predict(X_test)\n",
    "\n",
    "cm = confusion_matrix(y_test, y_pred_rf_1)\n",
    "\n",
    "# Show confusion matrix in a separate window\n",
    "plt.matshow(cm)\n",
    "plt.title('Random Forest Confusion matrix\\n')\n",
    "plt.colorbar()\n",
    "plt.ylabel('True label')\n",
    "plt.xlabel('Predicted label')\n",
    "plt.show()"
   ]
  },
  {
   "cell_type": "markdown",
   "metadata": {},
   "source": [
    "## Second attempt (based on manual tuning insights):"
   ]
  },
  {
   "cell_type": "code",
   "execution_count": null,
   "metadata": {},
   "outputs": [],
   "source": [
    "# since from manual tuning it was found that 45 estimators is pretty much enough, 45 is is stable,\n",
    "# in order to improve performance and save time\n",
    "# also, after 38 max_leaf_nodes, we get over 50% of accuracy from both accuracy metrics and cross validation,\n",
    "# thus grid search will start from 38 max leaf nodes and go from there\n",
    "param_grid = [{'n_estimators': [45], 'max_features': [2, 4, 6, 8], 'max_leaf_node': [42, 64, 72, 84]}, \n",
    "              {'bootstrap': [False], 'max_features': [2, 3, 4, 6], 'max_leaf_node': [42, 64, 72, 84]}]"
   ]
  },
  {
   "cell_type": "code",
   "execution_count": null,
   "metadata": {},
   "outputs": [],
   "source": [
    "forest_classifier = RandomForestClassifier()"
   ]
  },
  {
   "cell_type": "code",
   "execution_count": null,
   "metadata": {},
   "outputs": [],
   "source": [
    "grid_search = GridSearchCV(forest_classifier, param_grid, cv=5, scoring='neg_mean_squared_error', return_train_score=True)\n",
    "grid_search.fit(X_train, y_train)"
   ]
  },
  {
   "cell_type": "code",
   "execution_count": null,
   "metadata": {},
   "outputs": [],
   "source": [
    "grid_search.best_estimator_"
   ]
  },
  {
   "cell_type": "code",
   "execution_count": null,
   "metadata": {},
   "outputs": [],
   "source": [
    "# Fit the rf_clf on the training set\n",
    "rf_clf_2 = RandomForestClassifier(max_features=6, n_estimators=70, max_leaf_nodes = 16, n_jobs=-1)\n",
    "\n",
    "rf_clf_2.fit(X_train,y_train)\n",
    "\n",
    "rf_probs = rf_clf_2.predict_proba(X_test)\n",
    "rf_cv_score = cross_val_score(rf_clf_2, X, y, cv=10)\n",
    "print(\"Mean Cross Validation Score is:\", rf_cv_score.mean())\n",
    "\n",
    "y_preds_rf2 = rf_clf_2.predict_proba(X_test)"
   ]
  },
  {
   "cell_type": "code",
   "execution_count": null,
   "metadata": {},
   "outputs": [],
   "source": [
    "cm = confusion_matrix(y_test, y_preds_rf2)\n",
    "\n",
    "# Show confusion matrix in a separate window\n",
    "plt.matshow(cm)\n",
    "plt.title('Random Forest Confusion matrix\\n')\n",
    "plt.colorbar()\n",
    "plt.ylabel('True label')\n",
    "plt.xlabel('Predicted label')\n",
    "plt.show()"
   ]
  },
  {
   "cell_type": "markdown",
   "metadata": {},
   "source": [
    "# SVC (Support Vector Classifier) using OvR"
   ]
  },
  {
   "cell_type": "code",
   "execution_count": 156,
   "metadata": {},
   "outputs": [],
   "source": [
    "svm_clf = SVC(decision_function_shape = 'ovr', gamma='scale')\n",
    "svm_clf.fit(X_train, y_train)\n",
    "y_pred_svm = svm_clf.predict(X_test)\n",
    "print(accuracy_score(y_test, y_pred_svm))"
   ]
  },
  {
   "cell_type": "code",
   "execution_count": null,
   "metadata": {},
   "outputs": [],
   "source": [
    "cm = confusion_matrix(y_test, y_pred_svm)\n",
    "\n",
    "# Show confusion matrix in a separate window\n",
    "plt.matshow(cm)\n",
    "plt.title('Random Forest Confusion matrix\\n')\n",
    "plt.colorbar()\n",
    "plt.ylabel('True label')\n",
    "plt.xlabel('Predicted label')\n",
    "plt.show()"
   ]
  },
  {
   "cell_type": "code",
   "execution_count": 122,
   "metadata": {},
   "outputs": [
    {
     "name": "stdout",
     "output_type": "stream",
     "text": [
      "[0.99956735 0.9998557  0.9998556  1.         0.90096863]\n"
     ]
    }
   ],
   "source": [
    "svm_clf = SVC(decision_function_shape = 'ovr', gamma='scale')\n",
    "scores = cross_val_score(svm_clf, X, y, cv=10)\n",
    "print(scores)"
   ]
  },
  {
   "cell_type": "code",
   "execution_count": 123,
   "metadata": {},
   "outputs": [
    {
     "name": "stdout",
     "output_type": "stream",
     "text": [
      "0.9800494545669668\n"
     ]
    }
   ],
   "source": [
    "print(scores.mean())"
   ]
  },
  {
   "cell_type": "markdown",
   "metadata": {},
   "source": [
    "# Ensemble Method: Hard Voting"
   ]
  },
  {
   "cell_type": "code",
   "execution_count": 150,
   "metadata": {
    "scrolled": true
   },
   "outputs": [
    {
     "name": "stdout",
     "output_type": "stream",
     "text": [
      "VotingClassifier(estimators=[('lr',\n",
      "                              LogisticRegression(C=1.0, class_weight=None,\n",
      "                                                 dual=False, fit_intercept=True,\n",
      "                                                 intercept_scaling=1,\n",
      "                                                 l1_ratio=None, max_iter=200,\n",
      "                                                 multi_class='ovr', n_jobs=-1,\n",
      "                                                 penalty='l2', random_state=42,\n",
      "                                                 solver='saga', tol=0.0001,\n",
      "                                                 verbose=0, warm_start=False)),\n",
      "                             ('rf',\n",
      "                              RandomForestClassifier(bootstrap=True,\n",
      "                                                     class_weight=None,\n",
      "                                                     criterion='gini',\n",
      "                                                     max_d...\n",
      "                                                     n_estimators=45, n_jobs=-1,\n",
      "                                                     oob_score=False,\n",
      "                                                     random_state=None,\n",
      "                                                     verbose=0,\n",
      "                                                     warm_start=False)),\n",
      "                             ('svc',\n",
      "                              SVC(C=1.0, cache_size=200, class_weight=None,\n",
      "                                  coef0=0.0, decision_function_shape='ovr',\n",
      "                                  degree=3, gamma='scale', kernel='rbf',\n",
      "                                  max_iter=-1, probability=False,\n",
      "                                  random_state=None, shrinking=True, tol=0.001,\n",
      "                                  verbose=False))],\n",
      "                 flatten_transform=True, n_jobs=None, voting='hard',\n",
      "                 weights=None)\n"
     ]
    },
    {
     "ename": "AttributeError",
     "evalue": "'VotingClassifier' object has no attribute 'mean'",
     "output_type": "error",
     "traceback": [
      "\u001b[1;31m---------------------------------------------------------------------------\u001b[0m",
      "\u001b[1;31mAttributeError\u001b[0m                            Traceback (most recent call last)",
      "\u001b[1;32m<ipython-input-150-b8e86d8b9717>\u001b[0m in \u001b[0;36m<module>\u001b[1;34m\u001b[0m\n\u001b[0;32m     10\u001b[0m \u001b[0my_preds\u001b[0m \u001b[1;33m=\u001b[0m \u001b[0mvoting_clf\u001b[0m\u001b[1;33m.\u001b[0m\u001b[0mfit\u001b[0m\u001b[1;33m(\u001b[0m\u001b[0mX_train\u001b[0m\u001b[1;33m,\u001b[0m \u001b[0my_train\u001b[0m\u001b[1;33m)\u001b[0m\u001b[1;33m\u001b[0m\u001b[1;33m\u001b[0m\u001b[0m\n\u001b[0;32m     11\u001b[0m \u001b[0mprint\u001b[0m\u001b[1;33m(\u001b[0m\u001b[0my_preds\u001b[0m\u001b[1;33m)\u001b[0m\u001b[1;33m\u001b[0m\u001b[1;33m\u001b[0m\u001b[0m\n\u001b[1;32m---> 12\u001b[1;33m \u001b[0mprint\u001b[0m\u001b[1;33m(\u001b[0m\u001b[0my_preds\u001b[0m\u001b[1;33m.\u001b[0m\u001b[0mmean\u001b[0m\u001b[1;33m(\u001b[0m\u001b[1;33m)\u001b[0m\u001b[1;33m)\u001b[0m\u001b[1;33m\u001b[0m\u001b[1;33m\u001b[0m\u001b[0m\n\u001b[0m",
      "\u001b[1;31mAttributeError\u001b[0m: 'VotingClassifier' object has no attribute 'mean'"
     ]
    }
   ],
   "source": [
    "log_clf = LogisticRegression(random_state=42, multi_class='ovr', solver='saga', n_jobs=-1, max_iter=200)\n",
    "\n",
    "rf_clf = RandomForestClassifier(n_estimators=45, max_leaf_nodes=32, n_jobs=-1)\n",
    "\n",
    "svm_clf = SVC(decision_function_shape = 'ovr', gamma='scale')\n",
    "\n",
    "voting_clf = VotingClassifier(estimators=[('lr', log_clf), ('rf', rf_clf), ('svc', svm_clf)],\n",
    "                              voting='hard')\n",
    "\n",
    "voting_clf.fit(X_train, y_train)"
   ]
  },
  {
   "cell_type": "code",
   "execution_count": 154,
   "metadata": {},
   "outputs": [
    {
     "name": "stdout",
     "output_type": "stream",
     "text": [
      "0.7523703290574456\n"
     ]
    }
   ],
   "source": [
    "y_pred_hard_voting = voting_clf.predict(X_test)\n",
    "\n",
    "print(\"Ensemble Accuracy Score:\", accuracy_score(y_test, y_pred_hard_voting))"
   ]
  },
  {
   "cell_type": "code",
   "execution_count": null,
   "metadata": {},
   "outputs": [],
   "source": [
    "cm = confusion_matrix(y_test, y_pred_hard_voting)\n",
    "\n",
    "# Show confusion matrix in a separate window\n",
    "plt.matshow(cm)\n",
    "plt.title('Confusion matrix\\n')\n",
    "plt.colorbar()\n",
    "plt.ylabel('True label')\n",
    "plt.xlabel('Predicted label')\n",
    "plt.show()"
   ]
  },
  {
   "cell_type": "markdown",
   "metadata": {},
   "source": [
    "## Bagging"
   ]
  },
  {
   "cell_type": "code",
   "execution_count": 58,
   "metadata": {},
   "outputs": [
    {
     "data": {
      "text/plain": [
       "BaggingClassifier(base_estimator=RandomForestClassifier(bootstrap=True,\n",
       "                                                        class_weight=None,\n",
       "                                                        criterion='gini',\n",
       "                                                        max_depth=None,\n",
       "                                                        max_features=6,\n",
       "                                                        max_leaf_nodes=72,\n",
       "                                                        min_impurity_decrease=0.0,\n",
       "                                                        min_impurity_split=None,\n",
       "                                                        min_samples_leaf=1,\n",
       "                                                        min_samples_split=2,\n",
       "                                                        min_weight_fraction_leaf=0.0,\n",
       "                                                        n_estimators=45,\n",
       "                                                        n_jobs=-1,\n",
       "                                                        oob_score=False,\n",
       "                                                        random_state=None,\n",
       "                                                        verbose=0,\n",
       "                                                        warm_start=False),\n",
       "                  bootstrap=True, bootstrap_features=False, max_features=1.0,\n",
       "                  max_samples=100, n_estimators=500, n_jobs=-1, oob_score=False,\n",
       "                  random_state=None, verbose=0, warm_start=False)"
      ]
     },
     "execution_count": 58,
     "metadata": {},
     "output_type": "execute_result"
    }
   ],
   "source": [
    "rf_clf_for_bagging = RandomForestClassifier(max_features=6, n_estimators=45, max_leaf_nodes = 72, n_jobs=-1)\n",
    "\n",
    "bag_clf = BaggingClassifier(rf_clf_for_bagging,\n",
    "                            n_estimators=500,\n",
    "                            max_samples=100,\n",
    "                            bootstrap=True,\n",
    "                            n_jobs=-1\n",
    "                           )\n",
    "\n",
    "bag_clf.fit(X_train, y_train)"
   ]
  },
  {
   "cell_type": "code",
   "execution_count": 59,
   "metadata": {},
   "outputs": [
    {
     "name": "stdout",
     "output_type": "stream",
     "text": [
      "Accuracy: 0.5214723926380368\n"
     ]
    }
   ],
   "source": [
    "y_pred_bag = bag_clf.predict(X_test)\n",
    "print(\"Accuracy:\", accuracy_score(y_test, y_pred_bag))"
   ]
  },
  {
   "cell_type": "code",
   "execution_count": 60,
   "metadata": {},
   "outputs": [
    {
     "data": {
      "image/png": "[encoded data removed]",
      "text/plain": [
       "<Figure size 288x288 with 2 Axes>"
      ]
     },
     "metadata": {
      "needs_background": "light"
     },
     "output_type": "display_data"
    }
   ],
   "source": [
    "cm = confusion_matrix(y_test, y_pred_bag)\n",
    "\n",
    "# Show confusion matrix in a separate window\n",
    "plt.matshow(cm)\n",
    "plt.title('Confusion matrix\\n')\n",
    "plt.colorbar()\n",
    "plt.ylabel('True label')\n",
    "plt.xlabel('Predicted label')\n",
    "plt.show()"
   ]
  },
  {
   "cell_type": "markdown",
   "metadata": {},
   "source": [
    "# Convolutional Neural Network (2D)"
   ]
  },
  {
   "cell_type": "markdown",
   "metadata": {},
   "source": [
    "### Converting arrays into numpy and reshaping to 28x28"
   ]
  },
  {
   "cell_type": "code",
   "execution_count": 43,
   "metadata": {},
   "outputs": [
    {
     "name": "stdout",
     "output_type": "stream",
     "text": [
      "(27455, 784)\n"
     ]
    }
   ],
   "source": [
    "input_shape = X_train.shape\n",
    "print(input_shape)\n",
    "\n",
    "# we need to get it down to (27455, 28, 28, 1) in order to input it into CNN"
   ]
  },
  {
   "cell_type": "code",
   "execution_count": 44,
   "metadata": {},
   "outputs": [],
   "source": [
    "# max length for train\n",
    "train_length = len(np_X_train)\n",
    "test_length = len(np_X_test)\n",
    "\n",
    "# declaring final datasets (in numpy) for CNN's inputs and evaluation\n",
    "#np_X_train = X_train.values\n",
    "#np_X_test = X_test.values\n",
    "\n",
    "#np_y_train = y_train.values\n",
    "#np_y_test = y_test.values\n",
    "\n",
    "\n",
    "#train_CNN = []\n",
    "#Y_train_CNN = np_y_train\n",
    "\n",
    "#test_CNN = []\n",
    "#Y_test_CNN= np_y_test\n",
    "\n",
    "\n",
    "#for i in range(0, train_length):\n",
    "#    train_CNN.append(np_X_train[0].reshape(28, 28))\n",
    "    \n",
    "#for i in range(0, test_length):\n",
    "#    test_CNN.append(np_X_test[0].reshape(28, 28))"
   ]
  },
  {
   "cell_type": "code",
   "execution_count": 45,
   "metadata": {},
   "outputs": [
    {
     "data": {
      "text/plain": [
       "24"
      ]
     },
     "execution_count": 45,
     "metadata": {},
     "output_type": "execute_result"
    }
   ],
   "source": [
    "np.unique(y_train)\n",
    "len(np.unique(y_train))"
   ]
  },
  {
   "cell_type": "code",
   "execution_count": 46,
   "metadata": {},
   "outputs": [],
   "source": [
    "# np_utils.to_categorical suggestement is borrowed from:\n",
    "# https://yashk2810.github.io/Applying-Convolutional-Neural-Network-on-the-MNIST-dataset/\n",
    "# because it was stated that such structure is better for CNN input\n",
    "\n",
    "# defining number of classes for y_set categorical set up\n",
    "number_of_classes = len(np.unique(y_train)) # = 24 classes actually, but letter \"J\" is missing (#9), because it is dynamic gesture\n",
    "\n",
    "# casting from list to numpy array\n",
    "np_X_train = np_X_train / 255\n",
    "#np_y_train\n",
    "#y_train_CNN = np_utils.to_categorical(Y_train_CNN, number_of_classes)\n",
    "\n",
    "X_test_CNN = np_X_test / 255\n",
    "#np_y_train"
   ]
  },
  {
   "cell_type": "code",
   "execution_count": 47,
   "metadata": {},
   "outputs": [],
   "source": [
    "\n",
    "label_binrizer = LabelBinarizer()\n",
    "y_train_CNN = label_binrizer.fit_transform(np_y_train)\n",
    "y_test_CNN = label_binrizer.fit_transform(np_y_test)"
   ]
  },
  {
   "cell_type": "code",
   "execution_count": 48,
   "metadata": {},
   "outputs": [
    {
     "name": "stdout",
     "output_type": "stream",
     "text": [
      "Number of classes: 24\n",
      "X_train.shape:  (27455, 28, 28, 1)\n",
      "y_train.shape (27455, 24)\n",
      "X_test.shape (7172, 28, 28, 1)\n",
      "y_test.shape (7172, 24)\n"
     ]
    }
   ],
   "source": [
    "number_of_classes = len(y_test.unique())\n",
    "print(\"Number of classes:\", number_of_classes)\n",
    "\n",
    "# List of numpy array for X_train, y_train, X_test, y_test:\n",
    "\n",
    "X_train_CNN = np_X_train.reshape(np_X_train.shape[0], 28, 28, 1)\n",
    "#y_train_CNN\n",
    "\n",
    "X_test_CNN = X_test_CNN.reshape(X_test_CNN.shape[0], 28, 28, 1)\n",
    "#y_test_CNN\n",
    "\n",
    "# check their shapes\n",
    "print(\"X_train.shape: \", X_train_CNN.shape)\n",
    "print(\"y_train.shape\", y_train_CNN.shape)\n",
    "\n",
    "print(\"X_test.shape\", X_test_CNN.shape)\n",
    "print(\"y_test.shape\", y_test_CNN.shape)"
   ]
  },
  {
   "cell_type": "code",
   "execution_count": 49,
   "metadata": {},
   "outputs": [],
   "source": [
    "model = tf.keras.models.Sequential()\n",
    "model.add(tf.keras.layers.Conv2D(64, kernel_size=(3,3), activation = 'relu', input_shape=(28, 28 ,1) ))\n",
    "model.add(tf.keras.layers.MaxPooling2D(pool_size = (2, 2)))\n",
    "\n",
    "model.add(tf.keras.layers.Conv2D(64, kernel_size = (3, 3), activation = 'relu'))\n",
    "model.add(tf.keras.layers.MaxPooling2D(pool_size = (2, 2)))\n",
    "\n",
    "model.add(tf.keras.layers.Conv2D(64, kernel_size = (3, 3), activation = 'relu'))\n",
    "model.add(tf.keras.layers.MaxPooling2D(pool_size = (2, 2)))\n",
    "\n",
    "model.add(tf.keras.layers.Flatten())\n",
    "model.add(tf.keras.layers.Dense(128, activation = 'relu'))\n",
    "model.add(tf.keras.layers.Dropout(0.20))\n",
    "\n",
    "model.add(tf.keras.layers.Dense(24, activation = 'softmax'))"
   ]
  },
  {
   "cell_type": "code",
   "execution_count": 50,
   "metadata": {},
   "outputs": [],
   "source": [
    "model.compile(loss = tf.keras.losses.categorical_crossentropy, optimizer=tf.keras.optimizers.Adam(),\n",
    "              metrics=['accuracy'])"
   ]
  },
  {
   "cell_type": "code",
   "execution_count": 51,
   "metadata": {},
   "outputs": [
    {
     "name": "stdout",
     "output_type": "stream",
     "text": [
      "Train on 27455 samples\n",
      "Epoch 1/50\n",
      " 2688/27455 [=>............................] - ETA: 25s - loss: 3.1738 - accuracy: 0.0504"
     ]
    },
    {
     "ename": "KeyboardInterrupt",
     "evalue": "",
     "output_type": "error",
     "traceback": [
      "\u001b[1;31m---------------------------------------------------------------------------\u001b[0m",
      "\u001b[1;31mKeyboardInterrupt\u001b[0m                         Traceback (most recent call last)",
      "\u001b[1;32m<ipython-input-51-314a150858c1>\u001b[0m in \u001b[0;36m<module>\u001b[1;34m\u001b[0m\n\u001b[0;32m      1\u001b[0m \u001b[1;31m#model.fit(X_train_CNN, y_train_CNN, epochs=5)\u001b[0m\u001b[1;33m\u001b[0m\u001b[1;33m\u001b[0m\u001b[1;33m\u001b[0m\u001b[0m\n\u001b[1;32m----> 2\u001b[1;33m \u001b[0mhistory\u001b[0m \u001b[1;33m=\u001b[0m \u001b[0mmodel\u001b[0m\u001b[1;33m.\u001b[0m\u001b[0mfit\u001b[0m\u001b[1;33m(\u001b[0m\u001b[0mX_train_CNN\u001b[0m\u001b[1;33m,\u001b[0m \u001b[0my_train_CNN\u001b[0m\u001b[1;33m,\u001b[0m \u001b[0mepochs\u001b[0m\u001b[1;33m=\u001b[0m\u001b[1;36m50\u001b[0m\u001b[1;33m,\u001b[0m \u001b[0mbatch_size\u001b[0m\u001b[1;33m=\u001b[0m\u001b[1;36m128\u001b[0m\u001b[1;33m)\u001b[0m\u001b[1;33m\u001b[0m\u001b[1;33m\u001b[0m\u001b[0m\n\u001b[0m",
      "\u001b[1;32mD:\\AI_ML\\envs\\ML_Projects\\lib\\site-packages\\tensorflow_core\\python\\keras\\engine\\training.py\u001b[0m in \u001b[0;36mfit\u001b[1;34m(self, x, y, batch_size, epochs, verbose, callbacks, validation_split, validation_data, shuffle, class_weight, sample_weight, initial_epoch, steps_per_epoch, validation_steps, validation_freq, max_queue_size, workers, use_multiprocessing, **kwargs)\u001b[0m\n\u001b[0;32m    726\u001b[0m         \u001b[0mmax_queue_size\u001b[0m\u001b[1;33m=\u001b[0m\u001b[0mmax_queue_size\u001b[0m\u001b[1;33m,\u001b[0m\u001b[1;33m\u001b[0m\u001b[1;33m\u001b[0m\u001b[0m\n\u001b[0;32m    727\u001b[0m         \u001b[0mworkers\u001b[0m\u001b[1;33m=\u001b[0m\u001b[0mworkers\u001b[0m\u001b[1;33m,\u001b[0m\u001b[1;33m\u001b[0m\u001b[1;33m\u001b[0m\u001b[0m\n\u001b[1;32m--> 728\u001b[1;33m         use_multiprocessing=use_multiprocessing)\n\u001b[0m\u001b[0;32m    729\u001b[0m \u001b[1;33m\u001b[0m\u001b[0m\n\u001b[0;32m    730\u001b[0m   def evaluate(self,\n",
      "\u001b[1;32mD:\\AI_ML\\envs\\ML_Projects\\lib\\site-packages\\tensorflow_core\\python\\keras\\engine\\training_v2.py\u001b[0m in \u001b[0;36mfit\u001b[1;34m(self, model, x, y, batch_size, epochs, verbose, callbacks, validation_split, validation_data, shuffle, class_weight, sample_weight, initial_epoch, steps_per_epoch, validation_steps, validation_freq, **kwargs)\u001b[0m\n\u001b[0;32m    322\u001b[0m                 \u001b[0mmode\u001b[0m\u001b[1;33m=\u001b[0m\u001b[0mModeKeys\u001b[0m\u001b[1;33m.\u001b[0m\u001b[0mTRAIN\u001b[0m\u001b[1;33m,\u001b[0m\u001b[1;33m\u001b[0m\u001b[1;33m\u001b[0m\u001b[0m\n\u001b[0;32m    323\u001b[0m                 \u001b[0mtraining_context\u001b[0m\u001b[1;33m=\u001b[0m\u001b[0mtraining_context\u001b[0m\u001b[1;33m,\u001b[0m\u001b[1;33m\u001b[0m\u001b[1;33m\u001b[0m\u001b[0m\n\u001b[1;32m--> 324\u001b[1;33m                 total_epochs=epochs)\n\u001b[0m\u001b[0;32m    325\u001b[0m             \u001b[0mcbks\u001b[0m\u001b[1;33m.\u001b[0m\u001b[0mmake_logs\u001b[0m\u001b[1;33m(\u001b[0m\u001b[0mmodel\u001b[0m\u001b[1;33m,\u001b[0m \u001b[0mepoch_logs\u001b[0m\u001b[1;33m,\u001b[0m \u001b[0mtraining_result\u001b[0m\u001b[1;33m,\u001b[0m \u001b[0mModeKeys\u001b[0m\u001b[1;33m.\u001b[0m\u001b[0mTRAIN\u001b[0m\u001b[1;33m)\u001b[0m\u001b[1;33m\u001b[0m\u001b[1;33m\u001b[0m\u001b[0m\n\u001b[0;32m    326\u001b[0m \u001b[1;33m\u001b[0m\u001b[0m\n",
      "\u001b[1;32mD:\\AI_ML\\envs\\ML_Projects\\lib\\site-packages\\tensorflow_core\\python\\keras\\engine\\training_v2.py\u001b[0m in \u001b[0;36mrun_one_epoch\u001b[1;34m(model, iterator, execution_function, dataset_size, batch_size, strategy, steps_per_epoch, num_samples, mode, training_context, total_epochs)\u001b[0m\n\u001b[0;32m    121\u001b[0m         step=step, mode=mode, size=current_batch_size) as batch_logs:\n\u001b[0;32m    122\u001b[0m       \u001b[1;32mtry\u001b[0m\u001b[1;33m:\u001b[0m\u001b[1;33m\u001b[0m\u001b[1;33m\u001b[0m\u001b[0m\n\u001b[1;32m--> 123\u001b[1;33m         \u001b[0mbatch_outs\u001b[0m \u001b[1;33m=\u001b[0m \u001b[0mexecution_function\u001b[0m\u001b[1;33m(\u001b[0m\u001b[0miterator\u001b[0m\u001b[1;33m)\u001b[0m\u001b[1;33m\u001b[0m\u001b[1;33m\u001b[0m\u001b[0m\n\u001b[0m\u001b[0;32m    124\u001b[0m       \u001b[1;32mexcept\u001b[0m \u001b[1;33m(\u001b[0m\u001b[0mStopIteration\u001b[0m\u001b[1;33m,\u001b[0m \u001b[0merrors\u001b[0m\u001b[1;33m.\u001b[0m\u001b[0mOutOfRangeError\u001b[0m\u001b[1;33m)\u001b[0m\u001b[1;33m:\u001b[0m\u001b[1;33m\u001b[0m\u001b[1;33m\u001b[0m\u001b[0m\n\u001b[0;32m    125\u001b[0m         \u001b[1;31m# TODO(kaftan): File bug about tf function and errors.OutOfRangeError?\u001b[0m\u001b[1;33m\u001b[0m\u001b[1;33m\u001b[0m\u001b[1;33m\u001b[0m\u001b[0m\n",
      "\u001b[1;32mD:\\AI_ML\\envs\\ML_Projects\\lib\\site-packages\\tensorflow_core\\python\\keras\\engine\\training_v2_utils.py\u001b[0m in \u001b[0;36mexecution_function\u001b[1;34m(input_fn)\u001b[0m\n\u001b[0;32m     84\u001b[0m     \u001b[1;31m# `numpy` translates Tensors to values in Eager mode.\u001b[0m\u001b[1;33m\u001b[0m\u001b[1;33m\u001b[0m\u001b[1;33m\u001b[0m\u001b[0m\n\u001b[0;32m     85\u001b[0m     return nest.map_structure(_non_none_constant_value,\n\u001b[1;32m---> 86\u001b[1;33m                               distributed_function(input_fn))\n\u001b[0m\u001b[0;32m     87\u001b[0m \u001b[1;33m\u001b[0m\u001b[0m\n\u001b[0;32m     88\u001b[0m   \u001b[1;32mreturn\u001b[0m \u001b[0mexecution_function\u001b[0m\u001b[1;33m\u001b[0m\u001b[1;33m\u001b[0m\u001b[0m\n",
      "\u001b[1;32mD:\\AI_ML\\envs\\ML_Projects\\lib\\site-packages\\tensorflow_core\\python\\eager\\def_function.py\u001b[0m in \u001b[0;36m__call__\u001b[1;34m(self, *args, **kwds)\u001b[0m\n\u001b[0;32m    455\u001b[0m \u001b[1;33m\u001b[0m\u001b[0m\n\u001b[0;32m    456\u001b[0m     \u001b[0mtracing_count\u001b[0m \u001b[1;33m=\u001b[0m \u001b[0mself\u001b[0m\u001b[1;33m.\u001b[0m\u001b[0m_get_tracing_count\u001b[0m\u001b[1;33m(\u001b[0m\u001b[1;33m)\u001b[0m\u001b[1;33m\u001b[0m\u001b[1;33m\u001b[0m\u001b[0m\n\u001b[1;32m--> 457\u001b[1;33m     \u001b[0mresult\u001b[0m \u001b[1;33m=\u001b[0m \u001b[0mself\u001b[0m\u001b[1;33m.\u001b[0m\u001b[0m_call\u001b[0m\u001b[1;33m(\u001b[0m\u001b[1;33m*\u001b[0m\u001b[0margs\u001b[0m\u001b[1;33m,\u001b[0m \u001b[1;33m**\u001b[0m\u001b[0mkwds\u001b[0m\u001b[1;33m)\u001b[0m\u001b[1;33m\u001b[0m\u001b[1;33m\u001b[0m\u001b[0m\n\u001b[0m\u001b[0;32m    458\u001b[0m     \u001b[1;32mif\u001b[0m \u001b[0mtracing_count\u001b[0m \u001b[1;33m==\u001b[0m \u001b[0mself\u001b[0m\u001b[1;33m.\u001b[0m\u001b[0m_get_tracing_count\u001b[0m\u001b[1;33m(\u001b[0m\u001b[1;33m)\u001b[0m\u001b[1;33m:\u001b[0m\u001b[1;33m\u001b[0m\u001b[1;33m\u001b[0m\u001b[0m\n\u001b[0;32m    459\u001b[0m       \u001b[0mself\u001b[0m\u001b[1;33m.\u001b[0m\u001b[0m_call_counter\u001b[0m\u001b[1;33m.\u001b[0m\u001b[0mcalled_without_tracing\u001b[0m\u001b[1;33m(\u001b[0m\u001b[1;33m)\u001b[0m\u001b[1;33m\u001b[0m\u001b[1;33m\u001b[0m\u001b[0m\n",
      "\u001b[1;32mD:\\AI_ML\\envs\\ML_Projects\\lib\\site-packages\\tensorflow_core\\python\\eager\\def_function.py\u001b[0m in \u001b[0;36m_call\u001b[1;34m(self, *args, **kwds)\u001b[0m\n\u001b[0;32m    485\u001b[0m       \u001b[1;31m# In this case we have created variables on the first call, so we run the\u001b[0m\u001b[1;33m\u001b[0m\u001b[1;33m\u001b[0m\u001b[1;33m\u001b[0m\u001b[0m\n\u001b[0;32m    486\u001b[0m       \u001b[1;31m# defunned version which is guaranteed to never create variables.\u001b[0m\u001b[1;33m\u001b[0m\u001b[1;33m\u001b[0m\u001b[1;33m\u001b[0m\u001b[0m\n\u001b[1;32m--> 487\u001b[1;33m       \u001b[1;32mreturn\u001b[0m \u001b[0mself\u001b[0m\u001b[1;33m.\u001b[0m\u001b[0m_stateless_fn\u001b[0m\u001b[1;33m(\u001b[0m\u001b[1;33m*\u001b[0m\u001b[0margs\u001b[0m\u001b[1;33m,\u001b[0m \u001b[1;33m**\u001b[0m\u001b[0mkwds\u001b[0m\u001b[1;33m)\u001b[0m  \u001b[1;31m# pylint: disable=not-callable\u001b[0m\u001b[1;33m\u001b[0m\u001b[1;33m\u001b[0m\u001b[0m\n\u001b[0m\u001b[0;32m    488\u001b[0m     \u001b[1;32melif\u001b[0m \u001b[0mself\u001b[0m\u001b[1;33m.\u001b[0m\u001b[0m_stateful_fn\u001b[0m \u001b[1;32mis\u001b[0m \u001b[1;32mnot\u001b[0m \u001b[1;32mNone\u001b[0m\u001b[1;33m:\u001b[0m\u001b[1;33m\u001b[0m\u001b[1;33m\u001b[0m\u001b[0m\n\u001b[0;32m    489\u001b[0m       \u001b[1;31m# Release the lock early so that multiple threads can perform the call\u001b[0m\u001b[1;33m\u001b[0m\u001b[1;33m\u001b[0m\u001b[1;33m\u001b[0m\u001b[0m\n",
      "\u001b[1;32mD:\\AI_ML\\envs\\ML_Projects\\lib\\site-packages\\tensorflow_core\\python\\eager\\function.py\u001b[0m in \u001b[0;36m__call__\u001b[1;34m(self, *args, **kwargs)\u001b[0m\n\u001b[0;32m   1821\u001b[0m     \u001b[1;34m\"\"\"Calls a graph function specialized to the inputs.\"\"\"\u001b[0m\u001b[1;33m\u001b[0m\u001b[1;33m\u001b[0m\u001b[0m\n\u001b[0;32m   1822\u001b[0m     \u001b[0mgraph_function\u001b[0m\u001b[1;33m,\u001b[0m \u001b[0margs\u001b[0m\u001b[1;33m,\u001b[0m \u001b[0mkwargs\u001b[0m \u001b[1;33m=\u001b[0m \u001b[0mself\u001b[0m\u001b[1;33m.\u001b[0m\u001b[0m_maybe_define_function\u001b[0m\u001b[1;33m(\u001b[0m\u001b[0margs\u001b[0m\u001b[1;33m,\u001b[0m \u001b[0mkwargs\u001b[0m\u001b[1;33m)\u001b[0m\u001b[1;33m\u001b[0m\u001b[1;33m\u001b[0m\u001b[0m\n\u001b[1;32m-> 1823\u001b[1;33m     \u001b[1;32mreturn\u001b[0m \u001b[0mgraph_function\u001b[0m\u001b[1;33m.\u001b[0m\u001b[0m_filtered_call\u001b[0m\u001b[1;33m(\u001b[0m\u001b[0margs\u001b[0m\u001b[1;33m,\u001b[0m \u001b[0mkwargs\u001b[0m\u001b[1;33m)\u001b[0m  \u001b[1;31m# pylint: disable=protected-access\u001b[0m\u001b[1;33m\u001b[0m\u001b[1;33m\u001b[0m\u001b[0m\n\u001b[0m\u001b[0;32m   1824\u001b[0m \u001b[1;33m\u001b[0m\u001b[0m\n\u001b[0;32m   1825\u001b[0m   \u001b[1;33m@\u001b[0m\u001b[0mproperty\u001b[0m\u001b[1;33m\u001b[0m\u001b[1;33m\u001b[0m\u001b[0m\n",
      "\u001b[1;32mD:\\AI_ML\\envs\\ML_Projects\\lib\\site-packages\\tensorflow_core\\python\\eager\\function.py\u001b[0m in \u001b[0;36m_filtered_call\u001b[1;34m(self, args, kwargs)\u001b[0m\n\u001b[0;32m   1139\u001b[0m          if isinstance(t, (ops.Tensor,\n\u001b[0;32m   1140\u001b[0m                            resource_variable_ops.BaseResourceVariable))),\n\u001b[1;32m-> 1141\u001b[1;33m         self.captured_inputs)\n\u001b[0m\u001b[0;32m   1142\u001b[0m \u001b[1;33m\u001b[0m\u001b[0m\n\u001b[0;32m   1143\u001b[0m   \u001b[1;32mdef\u001b[0m \u001b[0m_call_flat\u001b[0m\u001b[1;33m(\u001b[0m\u001b[0mself\u001b[0m\u001b[1;33m,\u001b[0m \u001b[0margs\u001b[0m\u001b[1;33m,\u001b[0m \u001b[0mcaptured_inputs\u001b[0m\u001b[1;33m,\u001b[0m \u001b[0mcancellation_manager\u001b[0m\u001b[1;33m=\u001b[0m\u001b[1;32mNone\u001b[0m\u001b[1;33m)\u001b[0m\u001b[1;33m:\u001b[0m\u001b[1;33m\u001b[0m\u001b[1;33m\u001b[0m\u001b[0m\n",
      "\u001b[1;32mD:\\AI_ML\\envs\\ML_Projects\\lib\\site-packages\\tensorflow_core\\python\\eager\\function.py\u001b[0m in \u001b[0;36m_call_flat\u001b[1;34m(self, args, captured_inputs, cancellation_manager)\u001b[0m\n\u001b[0;32m   1222\u001b[0m     \u001b[1;32mif\u001b[0m \u001b[0mexecuting_eagerly\u001b[0m\u001b[1;33m:\u001b[0m\u001b[1;33m\u001b[0m\u001b[1;33m\u001b[0m\u001b[0m\n\u001b[0;32m   1223\u001b[0m       flat_outputs = forward_function.call(\n\u001b[1;32m-> 1224\u001b[1;33m           ctx, args, cancellation_manager=cancellation_manager)\n\u001b[0m\u001b[0;32m   1225\u001b[0m     \u001b[1;32melse\u001b[0m\u001b[1;33m:\u001b[0m\u001b[1;33m\u001b[0m\u001b[1;33m\u001b[0m\u001b[0m\n\u001b[0;32m   1226\u001b[0m       \u001b[0mgradient_name\u001b[0m \u001b[1;33m=\u001b[0m \u001b[0mself\u001b[0m\u001b[1;33m.\u001b[0m\u001b[0m_delayed_rewrite_functions\u001b[0m\u001b[1;33m.\u001b[0m\u001b[0mregister\u001b[0m\u001b[1;33m(\u001b[0m\u001b[1;33m)\u001b[0m\u001b[1;33m\u001b[0m\u001b[1;33m\u001b[0m\u001b[0m\n",
      "\u001b[1;32mD:\\AI_ML\\envs\\ML_Projects\\lib\\site-packages\\tensorflow_core\\python\\eager\\function.py\u001b[0m in \u001b[0;36mcall\u001b[1;34m(self, ctx, args, cancellation_manager)\u001b[0m\n\u001b[0;32m    509\u001b[0m               \u001b[0minputs\u001b[0m\u001b[1;33m=\u001b[0m\u001b[0margs\u001b[0m\u001b[1;33m,\u001b[0m\u001b[1;33m\u001b[0m\u001b[1;33m\u001b[0m\u001b[0m\n\u001b[0;32m    510\u001b[0m               \u001b[0mattrs\u001b[0m\u001b[1;33m=\u001b[0m\u001b[1;33m(\u001b[0m\u001b[1;34m\"executor_type\"\u001b[0m\u001b[1;33m,\u001b[0m \u001b[0mexecutor_type\u001b[0m\u001b[1;33m,\u001b[0m \u001b[1;34m\"config_proto\"\u001b[0m\u001b[1;33m,\u001b[0m \u001b[0mconfig\u001b[0m\u001b[1;33m)\u001b[0m\u001b[1;33m,\u001b[0m\u001b[1;33m\u001b[0m\u001b[1;33m\u001b[0m\u001b[0m\n\u001b[1;32m--> 511\u001b[1;33m               ctx=ctx)\n\u001b[0m\u001b[0;32m    512\u001b[0m         \u001b[1;32melse\u001b[0m\u001b[1;33m:\u001b[0m\u001b[1;33m\u001b[0m\u001b[1;33m\u001b[0m\u001b[0m\n\u001b[0;32m    513\u001b[0m           outputs = execute.execute_with_cancellation(\n",
      "\u001b[1;32mD:\\AI_ML\\envs\\ML_Projects\\lib\\site-packages\\tensorflow_core\\python\\eager\\execute.py\u001b[0m in \u001b[0;36mquick_execute\u001b[1;34m(op_name, num_outputs, inputs, attrs, ctx, name)\u001b[0m\n\u001b[0;32m     59\u001b[0m     tensors = pywrap_tensorflow.TFE_Py_Execute(ctx._handle, device_name,\n\u001b[0;32m     60\u001b[0m                                                \u001b[0mop_name\u001b[0m\u001b[1;33m,\u001b[0m \u001b[0minputs\u001b[0m\u001b[1;33m,\u001b[0m \u001b[0mattrs\u001b[0m\u001b[1;33m,\u001b[0m\u001b[1;33m\u001b[0m\u001b[1;33m\u001b[0m\u001b[0m\n\u001b[1;32m---> 61\u001b[1;33m                                                num_outputs)\n\u001b[0m\u001b[0;32m     62\u001b[0m   \u001b[1;32mexcept\u001b[0m \u001b[0mcore\u001b[0m\u001b[1;33m.\u001b[0m\u001b[0m_NotOkStatusException\u001b[0m \u001b[1;32mas\u001b[0m \u001b[0me\u001b[0m\u001b[1;33m:\u001b[0m\u001b[1;33m\u001b[0m\u001b[1;33m\u001b[0m\u001b[0m\n\u001b[0;32m     63\u001b[0m     \u001b[1;32mif\u001b[0m \u001b[0mname\u001b[0m \u001b[1;32mis\u001b[0m \u001b[1;32mnot\u001b[0m \u001b[1;32mNone\u001b[0m\u001b[1;33m:\u001b[0m\u001b[1;33m\u001b[0m\u001b[1;33m\u001b[0m\u001b[0m\n",
      "\u001b[1;31mKeyboardInterrupt\u001b[0m: "
     ]
    }
   ],
   "source": [
    "#model.fit(X_train_CNN, y_train_CNN, epochs=5)\n",
    "history = model.fit(X_train_CNN, y_train_CNN, epochs=50, batch_size=128)"
   ]
  },
  {
   "cell_type": "code",
   "execution_count": 108,
   "metadata": {},
   "outputs": [
    {
     "name": "stdout",
     "output_type": "stream",
     "text": [
      "7172/1 - 2s - loss: 3.1735 - accuracy: 0.0343\n"
     ]
    },
    {
     "data": {
      "text/plain": [
       "[3.18074629922453, 0.034300055]"
      ]
     },
     "execution_count": 108,
     "metadata": {},
     "output_type": "execute_result"
    }
   ],
   "source": [
    "model.evaluate(X_test_CNN,  y_test_CNN, verbose=2)"
   ]
  },
  {
   "cell_type": "code",
   "execution_count": null,
   "metadata": {},
   "outputs": [],
   "source": []
  }
 ],
 "metadata": {
  "kernelspec": {
   "display_name": "Python 3",
   "language": "python",
   "name": "python3"
  },
  "language_info": {
   "codemirror_mode": {
    "name": "ipython",
    "version": 3
   },
   "file_extension": ".py",
   "mimetype": "text/x-python",
   "name": "python",
   "nbconvert_exporter": "python",
   "pygments_lexer": "ipython3",
   "version": "3.6.9"
  }
 },
 "nbformat": 4,
 "nbformat_minor": 2
}
