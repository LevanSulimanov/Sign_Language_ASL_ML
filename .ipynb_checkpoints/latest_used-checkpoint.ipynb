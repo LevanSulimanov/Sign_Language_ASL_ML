{
 "cells": [
  {
   "cell_type": "markdown",
   "metadata": {},
   "source": [
    "# CMSC478 Machine Learning\n",
    "\n",
    "# Project Final Submission"
   ]
  },
  {
   "cell_type": "markdown",
   "metadata": {},
   "source": [
    "## ASL Sign Language, Aphabet Gesture Recognition"
   ]
  },
  {
   "cell_type": "markdown",
   "metadata": {},
   "source": [
    "*Levan Sulimanov | NO58458*"
   ]
  },
  {
   "cell_type": "markdown",
   "metadata": {},
   "source": [
    "## Problem Description\n",
    "\n",
    "- Following project aim to create a multi-class classification models and serves as an comminication alternative for people with loss of hearing.\n",
    "- Deaf people continue to struggle communicating with hearing people who have no knowledge of Sign Language. There does not exist a device that would be able to translate Sign Language into text or voiced form to hearing people. This project attempts to resolve this issue by creating (for this stage) an image classifier that would be able to differentiate Sign Language alphabet and link it with American Alphabet letters (current gestures are ASL = American Sign Language)."
   ]
  },
  {
   "cell_type": "markdown",
   "metadata": {},
   "source": [
    "## Motivation\n",
    "\n",
    "* Medical Research is my main reason for doing Computer Science Major and I am very interested in developing new medical software that would help people in new ways. This project was one of the two ideas for my Undergraduate Research, but at that time I've decided to do second idea (VR Mirror Therapy for Post-Stroke patients => <a href=\"https://dl.acm.org/citation.cfm?id=3338601\">ACM publication link</a>), because I had no Machine Learning knowledge.\n",
    "* I belive it is important, because many deaf people live isolated from hearing people due to communication boundaries, but with this device, there is a chance to create an easy fast communication system between these two groups."
   ]
  },
  {
   "cell_type": "markdown",
   "metadata": {},
   "source": [
    "## Dataset\n",
    "\n",
    "- Link to dataset source: https://www.kaggle.com/datamunge/sign-language-mnist\n",
    "\n",
    "\n",
    "- <b>Label/target</b> description - What column in your dataset you are trying to predict? Specify exactly what your target feature (label) is. It must be one of the dataset columns. For image classification, specify your class labels.\n",
    "\n",
    "- Dataset itself contains three CSV files: train_set, test_set, and combined full_set (train+test sets).\n",
    "\n",
    "- Feature description: Inside of dataset, there are 34627 samples of 28\\*28 pictures, thus the dataset has <b>34627 rows</b> and <b>784 columns + label column</b>. Each column (except 'label') is a pixel values, no RGB values, thus the image is stored in black and white color (grayscale). For visual representation of the data, please see recollected image from CSV pixel values down below, once the dataset is imported. In addition to that, we have 'label' column that has numbers that symbolize alphabet letters accordingly: 0=A, 1=B, etc. Note: Letter 'J' and 'Z' not included, b/c they are shown as moving gestures, thus not suitable for dataset.\n",
    "\n"
   ]
  },
  {
   "cell_type": "markdown",
   "metadata": {},
   "source": [
    "- Code for loading, showing the data head, is located in the following cells below.\n",
    "\n",
    "\n",
    "- Pixels recollected back into images are also shown below."
   ]
  },
  {
   "cell_type": "markdown",
   "metadata": {},
   "source": [
    "## <font color=\"red\"> Required Coding"
   ]
  },
  {
   "cell_type": "code",
   "execution_count": 2,
   "metadata": {},
   "outputs": [],
   "source": [
    "# Import necessary Python, sklearn and/or tensorflow/keras modules for loading the dataset\n",
    "# Import necessary Python modules\n",
    "import pandas as pd\n",
    "import numpy as np\n",
    "import os\n",
    "\n",
    "import matplotlib.pyplot as plt\n",
    "%matplotlib inline\n",
    "\n",
    "# TENSORFLOW IMPORTS\n",
    "import tensorflow as tf"
   ]
  },
  {
   "cell_type": "code",
   "execution_count": 3,
   "metadata": {},
   "outputs": [
    {
     "name": "stdout",
     "output_type": "stream",
     "text": [
      "tf Version:  2.0.0\n",
      "Eager Execution mode:  True\n"
     ]
    }
   ],
   "source": [
    "# making sure same version is used (2.0.0) and Eager Execution is TRUE\n",
    "print(\"tf Version: \", tf.__version__)\n",
    "print(\"Eager Execution mode: \", tf.executing_eagerly())"
   ]
  },
  {
   "cell_type": "code",
   "execution_count": 4,
   "metadata": {},
   "outputs": [],
   "source": [
    "# Load the data\n",
    "\n",
    "# we are getting current directory + the folder that contains our datasets\n",
    "current_Directory = str(os.getcwd() + '\\\\sign-language-mnist\\\\')\n",
    "\n",
    "# once the directory for CSV files is stored we start to gather the data:\n",
    "\n",
    "# gathering FULL dataset:\n",
    "full_dataset = pd.read_csv(current_Directory + \"\\\\full_dataset.csv\")\n",
    "\n",
    "# gathering TRAIN dataset\n",
    "train_set = pd.read_csv(current_Directory + \"\\\\sign_mnist_train.csv\")\n",
    "\n",
    "# gathering TEST dataset:\n",
    "test_set = pd.read_csv(current_Directory + \"\\\\sign_mnist_test.csv\")"
   ]
  },
  {
   "cell_type": "code",
   "execution_count": 5,
   "metadata": {},
   "outputs": [
    {
     "name": "stdout",
     "output_type": "stream",
     "text": [
      "Full dataset shape: (34627, 785)\n"
     ]
    }
   ],
   "source": [
    "# Print data shape via built-in methods of sklearn, pandas or tensorflow/keras (or other modules)\n",
    "\n",
    "# - full dataset's shape:\n",
    "print(\"Full dataset shape:\", full_dataset.shape)"
   ]
  },
  {
   "cell_type": "code",
   "execution_count": 6,
   "metadata": {},
   "outputs": [
    {
     "data": {
      "text/html": [
       "<div>\n",
       "<style scoped>\n",
       "    .dataframe tbody tr th:only-of-type {\n",
       "        vertical-align: middle;\n",
       "    }\n",
       "\n",
       "    .dataframe tbody tr th {\n",
       "        vertical-align: top;\n",
       "    }\n",
       "\n",
       "    .dataframe thead th {\n",
       "        text-align: right;\n",
       "    }\n",
       "</style>\n",
       "<table border=\"1\" class=\"dataframe\">\n",
       "  <thead>\n",
       "    <tr style=\"text-align: right;\">\n",
       "      <th></th>\n",
       "      <th>label</th>\n",
       "      <th>pixel1</th>\n",
       "      <th>pixel2</th>\n",
       "      <th>pixel3</th>\n",
       "      <th>pixel4</th>\n",
       "      <th>pixel5</th>\n",
       "      <th>pixel6</th>\n",
       "      <th>pixel7</th>\n",
       "      <th>pixel8</th>\n",
       "      <th>pixel9</th>\n",
       "      <th>...</th>\n",
       "      <th>pixel775</th>\n",
       "      <th>pixel776</th>\n",
       "      <th>pixel777</th>\n",
       "      <th>pixel778</th>\n",
       "      <th>pixel779</th>\n",
       "      <th>pixel780</th>\n",
       "      <th>pixel781</th>\n",
       "      <th>pixel782</th>\n",
       "      <th>pixel783</th>\n",
       "      <th>pixel784</th>\n",
       "    </tr>\n",
       "  </thead>\n",
       "  <tbody>\n",
       "    <tr>\n",
       "      <th>0</th>\n",
       "      <td>3</td>\n",
       "      <td>107</td>\n",
       "      <td>118</td>\n",
       "      <td>127</td>\n",
       "      <td>134</td>\n",
       "      <td>139</td>\n",
       "      <td>143</td>\n",
       "      <td>146</td>\n",
       "      <td>150</td>\n",
       "      <td>153</td>\n",
       "      <td>...</td>\n",
       "      <td>207</td>\n",
       "      <td>207</td>\n",
       "      <td>207</td>\n",
       "      <td>207</td>\n",
       "      <td>206</td>\n",
       "      <td>206</td>\n",
       "      <td>206</td>\n",
       "      <td>204</td>\n",
       "      <td>203</td>\n",
       "      <td>202</td>\n",
       "    </tr>\n",
       "    <tr>\n",
       "      <th>1</th>\n",
       "      <td>6</td>\n",
       "      <td>155</td>\n",
       "      <td>157</td>\n",
       "      <td>156</td>\n",
       "      <td>156</td>\n",
       "      <td>156</td>\n",
       "      <td>157</td>\n",
       "      <td>156</td>\n",
       "      <td>158</td>\n",
       "      <td>158</td>\n",
       "      <td>...</td>\n",
       "      <td>69</td>\n",
       "      <td>149</td>\n",
       "      <td>128</td>\n",
       "      <td>87</td>\n",
       "      <td>94</td>\n",
       "      <td>163</td>\n",
       "      <td>175</td>\n",
       "      <td>103</td>\n",
       "      <td>135</td>\n",
       "      <td>149</td>\n",
       "    </tr>\n",
       "    <tr>\n",
       "      <th>2</th>\n",
       "      <td>2</td>\n",
       "      <td>187</td>\n",
       "      <td>188</td>\n",
       "      <td>188</td>\n",
       "      <td>187</td>\n",
       "      <td>187</td>\n",
       "      <td>186</td>\n",
       "      <td>187</td>\n",
       "      <td>188</td>\n",
       "      <td>187</td>\n",
       "      <td>...</td>\n",
       "      <td>202</td>\n",
       "      <td>201</td>\n",
       "      <td>200</td>\n",
       "      <td>199</td>\n",
       "      <td>198</td>\n",
       "      <td>199</td>\n",
       "      <td>198</td>\n",
       "      <td>195</td>\n",
       "      <td>194</td>\n",
       "      <td>195</td>\n",
       "    </tr>\n",
       "    <tr>\n",
       "      <th>3</th>\n",
       "      <td>2</td>\n",
       "      <td>211</td>\n",
       "      <td>211</td>\n",
       "      <td>212</td>\n",
       "      <td>212</td>\n",
       "      <td>211</td>\n",
       "      <td>210</td>\n",
       "      <td>211</td>\n",
       "      <td>210</td>\n",
       "      <td>210</td>\n",
       "      <td>...</td>\n",
       "      <td>235</td>\n",
       "      <td>234</td>\n",
       "      <td>233</td>\n",
       "      <td>231</td>\n",
       "      <td>230</td>\n",
       "      <td>226</td>\n",
       "      <td>225</td>\n",
       "      <td>222</td>\n",
       "      <td>229</td>\n",
       "      <td>163</td>\n",
       "    </tr>\n",
       "    <tr>\n",
       "      <th>4</th>\n",
       "      <td>13</td>\n",
       "      <td>164</td>\n",
       "      <td>167</td>\n",
       "      <td>170</td>\n",
       "      <td>172</td>\n",
       "      <td>176</td>\n",
       "      <td>179</td>\n",
       "      <td>180</td>\n",
       "      <td>184</td>\n",
       "      <td>185</td>\n",
       "      <td>...</td>\n",
       "      <td>92</td>\n",
       "      <td>105</td>\n",
       "      <td>105</td>\n",
       "      <td>108</td>\n",
       "      <td>133</td>\n",
       "      <td>163</td>\n",
       "      <td>157</td>\n",
       "      <td>163</td>\n",
       "      <td>164</td>\n",
       "      <td>179</td>\n",
       "    </tr>\n",
       "  </tbody>\n",
       "</table>\n",
       "<p>5 rows × 785 columns</p>\n",
       "</div>"
      ],
      "text/plain": [
       "   label  pixel1  pixel2  pixel3  pixel4  pixel5  pixel6  pixel7  pixel8  \\\n",
       "0      3     107     118     127     134     139     143     146     150   \n",
       "1      6     155     157     156     156     156     157     156     158   \n",
       "2      2     187     188     188     187     187     186     187     188   \n",
       "3      2     211     211     212     212     211     210     211     210   \n",
       "4     13     164     167     170     172     176     179     180     184   \n",
       "\n",
       "   pixel9  ...  pixel775  pixel776  pixel777  pixel778  pixel779  pixel780  \\\n",
       "0     153  ...       207       207       207       207       206       206   \n",
       "1     158  ...        69       149       128        87        94       163   \n",
       "2     187  ...       202       201       200       199       198       199   \n",
       "3     210  ...       235       234       233       231       230       226   \n",
       "4     185  ...        92       105       105       108       133       163   \n",
       "\n",
       "   pixel781  pixel782  pixel783  pixel784  \n",
       "0       206       204       203       202  \n",
       "1       175       103       135       149  \n",
       "2       198       195       194       195  \n",
       "3       225       222       229       163  \n",
       "4       157       163       164       179  \n",
       "\n",
       "[5 rows x 785 columns]"
      ]
     },
     "execution_count": 6,
     "metadata": {},
     "output_type": "execute_result"
    }
   ],
   "source": [
    "# Show the data head (if pandas is used)\n",
    "# If the dataset contains images or is non-pandas/non-tabular, show at least one sample of the data\n",
    "# Create X and y datasets (merged = test + train)\n",
    "X = full_dataset.drop('label', axis=1)\n",
    "y = full_dataset['label']\n",
    "\n",
    "full_dataset.head()"
   ]
  },
  {
   "cell_type": "code",
   "execution_count": 7,
   "metadata": {},
   "outputs": [
    {
     "name": "stdout",
     "output_type": "stream",
     "text": [
      "Features Shape:  (34627, 784)\n",
      "Features:\n",
      " [[107 118 127 ... 204 203 202]\n",
      " [155 157 156 ... 103 135 149]\n",
      " [187 188 188 ... 195 194 195]\n",
      " ...\n",
      " [190 191 190 ... 211 209 208]\n",
      " [201 205 208 ...  67  70  63]\n",
      " [173 174 173 ... 195 193 192]]\n",
      "\n",
      "Labels Shape: (34627,)\n",
      "Labels:\n",
      " [3 6 2 ... 2 4 2]\n"
     ]
    },
    {
     "data": {
      "image/png": "[encoded data removed]",
      "text/plain": [
       "<Figure size 432x288 with 1 Axes>"
      ]
     },
     "metadata": {
      "needs_background": "light"
     },
     "output_type": "display_data"
    }
   ],
   "source": [
    "# and visualize the data:\n",
    "x_visualize = full_dataset.iloc[:, 1:].values\n",
    "y_visualize = full_dataset.iloc[:, :1].values.flatten()\n",
    "\n",
    "print('Features Shape: ', x_visualize.shape)\n",
    "print('Features:\\n', x_visualize)\n",
    "\n",
    "print('\\nLabels Shape:', y_visualize.shape)\n",
    "print('Labels:\\n', y_visualize)\n",
    "\n",
    "# borrowed from https://www.kaggle.com/soumikrakshit/sign-language-translation-mlp\n",
    "# used to visualize the image\n",
    "def display(index):\n",
    "    plt.imshow(x_visualize[index].reshape(28, 28), cmap = 'gray')\n",
    "    plt.title( \"'G' = \" + str(y_visualize[index]))\n",
    "    plt.show()\n",
    "    \n",
    "display(1)"
   ]
  },
  {
   "cell_type": "markdown",
   "metadata": {},
   "source": [
    "## Data Preprocessing"
   ]
  },
  {
   "cell_type": "markdown",
   "metadata": {},
   "source": [
    "List any steps you have taken for preprocessing, such as cleaning, dropping NAs, dropping any redundant/irrelevant column, normalizing/scaling, etc. HERE:\n",
    "\n",
    "<b>Preprocessing Steps:</b> \n",
    "- Convert pandas DataFrame into numpy for Logistic Regression\n",
    "- drop label from dataset and store rest into X_train/X_test\n",
    "- store only 'label' column into y_train/y_test datasets\n",
    "- For MLP Neural Network: reduce pixel values by 255, so that it is easier to train\n",
    "- For MLP Neural Network: hot encode 'label' values\n",
    "- For CNN: reduce pixel values by 255, so that it is easier to train\n",
    "- For CNN: hot encode 'label' values\n",
    "- For CNN: reshape X_train to feed into Input layer in the form of (28, 28, 1)\n",
    "<br>\n",
    "\n",
    "- Specify the details of data splitting to train/test or cross validation. Mention the ratio for splitting and number of folds for cv.\n",
    "- Both Train and Test sets are stored in separate CSV files. Ratio: 80% Train and 20% Test. \n",
    "- For cross validation, cv=10.\n",
    "- Train and Test were also merged together to produce X and y sets, so there is also full dataset CSV file.\n",
    "<br>"
   ]
  },
  {
   "cell_type": "markdown",
   "metadata": {},
   "source": [
    "## <font color=\"red\"> Required Coding"
   ]
  },
  {
   "cell_type": "code",
   "execution_count": 8,
   "metadata": {},
   "outputs": [],
   "source": [
    "# Import necessary preprocessing modules\n",
    "\n",
    "# for categorical conversion for Conv2D\n",
    "from sklearn.preprocessing import LabelBinarizer\n",
    "# numpy was already imported"
   ]
  },
  {
   "cell_type": "code",
   "execution_count": 9,
   "metadata": {},
   "outputs": [
    {
     "name": "stdout",
     "output_type": "stream",
     "text": [
      "\n",
      "X_train set shape: (27455, 784)\n",
      "y_train set shape: (27455,)\n",
      "\n",
      "X_test set shape: (7172, 784)\n",
      "y_test set shape: (7172,)\n",
      "\n",
      "numpy_X_test set shape: (7172, 784)\n",
      "numpy_y_test set shape: (7172,)\n",
      "\n",
      "X set shape: (34627, 784)\n",
      "y shape: (34627,)\n"
     ]
    }
   ],
   "source": [
    "# Data Preprocessing code here\n",
    "# and declaring train and test sets as X_train, y_train, X_test, y_test\n",
    "# train and test were already separated in original dataset zip file\n",
    "\n",
    "# dropping the column (that we are trying to predict) from X_train\n",
    "X_train = train_set.drop('label', axis=1)\n",
    "y_train = train_set['label']\n",
    "\n",
    "# dropping the column (that we are trying to predict) from X_test\n",
    "X_test = test_set.drop('label', axis=1)\n",
    "y_test = test_set['label']\n",
    "\n",
    "# creating numpy array if needed in future\n",
    "# logReg and Neural network classifiers have their own variable set\n",
    "# the reason for that is that each classifier uses their own shape, but if each of\n",
    "# these sets are used interchangeably, it creates confusion + some of the variables get\n",
    "# stored in the memory and cause errors, due to inconsistent shapes\n",
    "\n",
    "# for Log Reg - numpy array\n",
    "X_train_LogReg = X_train.values\n",
    "X_test_LogReg = X_test.values\n",
    "\n",
    "y_train_LogReg = y_train.values\n",
    "y_test_LogReg = y_test.values\n",
    "\n",
    "# sets for Neural Network are defined in its own data processing section\n",
    "\n",
    "# following 2 lines were done earlier for visualization to work:\n",
    "#X = full_dataset.drop('label', axis=1)\n",
    "#y = full_dataset['label']\n",
    "\n",
    "# - train dataset's shape:\n",
    "print(\"\\nX_train set shape:\", X_train.shape)\n",
    "print(\"y_train set shape:\", y_train.shape)\n",
    "\n",
    "# - test dataset's shape\n",
    "print(\"\\nX_test set shape:\", X_test.shape)\n",
    "print(\"y_test set shape:\", y_test.shape)\n",
    "\n",
    "# - test dataset's shape\n",
    "print(\"\\nnumpy_X_test set shape:\", X_test_LogReg.shape)\n",
    "print(\"numpy_y_test set shape:\", y_test_LogReg.shape)\n",
    "\n",
    "print(\"\\nX set shape:\", X.shape)\n",
    "print(\"y shape:\", y.shape)"
   ]
  },
  {
   "cell_type": "markdown",
   "metadata": {},
   "source": [
    "##### Data Preprocessing just for Convolutional Neural Network"
   ]
  },
  {
   "cell_type": "code",
   "execution_count": 10,
   "metadata": {},
   "outputs": [
    {
     "name": "stdout",
     "output_type": "stream",
     "text": [
      "(27455, 784)\n"
     ]
    }
   ],
   "source": [
    "# This following cells is for Convolutional Network 2D:\n",
    "input_shape = X_train.shape\n",
    "print(input_shape)\n",
    "\n",
    "# we need to get it down to (27455, 28, 28, 1) in order to input it into CNN"
   ]
  },
  {
   "cell_type": "code",
   "execution_count": 11,
   "metadata": {},
   "outputs": [
    {
     "name": "stdout",
     "output_type": "stream",
     "text": [
      "\n",
      "X_train_Conv set shape: (27455, 784)\n",
      "y_train_Conv set shape: (27455,)\n",
      "\n",
      "X_test_Conv set shape: (7172, 784)\n",
      "y_test_Conv set shape: (7172,)\n"
     ]
    }
   ],
   "source": [
    "# list of datasets (in numpy) for CNN's inputs and evaluation, predifined in preprocessing section\n",
    "X_train_NN = X_train.values\n",
    "X_test_NN = X_test.values\n",
    "\n",
    "y_train_Conv = y_train.values\n",
    "y_test_Conv = y_test.values\n",
    "\n",
    "# - train dataset's shape:\n",
    "print(\"\\nX_train_Conv set shape:\", X_train_NN.shape)\n",
    "print(\"y_train_Conv set shape:\", y_train_Conv.shape)\n",
    "\n",
    "# - test dataset's shape\n",
    "print(\"\\nX_test_Conv set shape:\", X_test_NN.shape)\n",
    "print(\"y_test_Conv set shape:\", y_test_Conv.shape)"
   ]
  },
  {
   "cell_type": "code",
   "execution_count": 12,
   "metadata": {},
   "outputs": [
    {
     "data": {
      "text/plain": [
       "24"
      ]
     },
     "execution_count": 12,
     "metadata": {},
     "output_type": "execute_result"
    }
   ],
   "source": [
    "np.unique(y_train)\n",
    "len(np.unique(y_train))"
   ]
  },
  {
   "cell_type": "code",
   "execution_count": 13,
   "metadata": {},
   "outputs": [],
   "source": [
    "# defining number of classes for y_set categorical set up\n",
    "number_of_classes = len(np.unique(y_train)) # = 24 classes actually, but letter \"J\" is missing (#9), because it is dynamic gesture\n",
    "\n",
    "# casting from list to numpy array\n",
    "X_train_NN = X_train_NN / 255.0\n",
    "#np_y_train\n",
    "\n",
    "X_test_NN = X_test_NN / 255.0\n",
    "#np_y_test"
   ]
  },
  {
   "cell_type": "code",
   "execution_count": 14,
   "metadata": {},
   "outputs": [],
   "source": [
    "# following categorical transformation and part of data processing is borrowed from:\n",
    "# https://www.kaggle.com/ranjeetjain3/deep-learning-using-sign-langugage\n",
    "label_binrizer = LabelBinarizer()\n",
    "y_train_Conv = label_binrizer.fit_transform(y_train_Conv)\n",
    "y_test_Conv = label_binrizer.fit_transform(y_test_Conv)"
   ]
  },
  {
   "cell_type": "code",
   "execution_count": 20,
   "metadata": {},
   "outputs": [
    {
     "name": "stdout",
     "output_type": "stream",
     "text": [
      "27455\n"
     ]
    }
   ],
   "source": [
    "length = "
   ]
  },
  {
   "cell_type": "code",
   "execution_count": 16,
   "metadata": {},
   "outputs": [
    {
     "name": "stdout",
     "output_type": "stream",
     "text": [
      "Number of classes: 24\n",
      "X_train.shape:  (27455, 28, 28, 1)\n",
      "y_train.shape (27455, 24)\n",
      "X_test.shape (7172, 28, 28, 1)\n",
      "y_test.shape (7172, 24)\n"
     ]
    }
   ],
   "source": [
    "number_of_classes = len(y_test.unique())\n",
    "print(\"Number of classes:\", number_of_classes)\n",
    "\n",
    "# List of numpy array for X_train, y_train, X_test, y_test:\n",
    "\n",
    "X_train_Conv = X_train_NN.reshape(X_train_NN.shape[0], 28, 28, 1)\n",
    "#y_train_Conv\n",
    "\n",
    "X_test_Conv = X_test_NN.reshape(X_test_NN.shape[0], 28, 28, 1)\n",
    "#y_test_Conv\n",
    "\n",
    "# check their shapes\n",
    "print(\"X_train.shape: \", X_train_Conv.shape)\n",
    "print(\"y_train.shape\", y_train_Conv.shape)\n",
    "\n",
    "print(\"X_test.shape\", X_test_Conv.shape)\n",
    "print(\"y_test.shape\", y_test_Conv.shape)\n",
    "\n",
    "# end of data processing for convolutional network"
   ]
  },
  {
   "cell_type": "markdown",
   "metadata": {},
   "source": [
    "##### Data Preprocessing just for MLP"
   ]
  },
  {
   "cell_type": "code",
   "execution_count": 17,
   "metadata": {},
   "outputs": [
    {
     "name": "stdout",
     "output_type": "stream",
     "text": [
      "(27455, 784)\n",
      "(27455,)\n",
      "(7172, 784)\n",
      "(7172,)\n"
     ]
    }
   ],
   "source": [
    "##################################################\n",
    "X_train_MLP = X_train.values\n",
    "X_test_MLP = X_test.values\n",
    "\n",
    "X_train_MLP = X_train_MLP.astype(float) / 255.0\n",
    "X_test_MLP = X_test_MLP.astype(float) / 255.0\n",
    "\n",
    "y_train_MLP = y_train.values\n",
    "y_test_MLP = y_test.values\n",
    "\n",
    "print(X_train_MLP.shape)\n",
    "print(y_train_MLP.shape)\n",
    "\n",
    "print(X_test_MLP.shape)\n",
    "print(y_test_MLP.shape)"
   ]
  },
  {
   "cell_type": "code",
   "execution_count": 18,
   "metadata": {},
   "outputs": [
    {
     "name": "stdout",
     "output_type": "stream",
     "text": [
      "(27455, 24)\n",
      "(7172, 24)\n"
     ]
    }
   ],
   "source": [
    "# following categorical transformation and part of data processing is borrowed from:\n",
    "# https://www.kaggle.com/ranjeetjain3/deep-learning-using-sign-langugage\n",
    "label_binrizer = LabelBinarizer()\n",
    "y_train_MLP = label_binrizer.fit_transform(y_train_MLP)\n",
    "y_test_MLP = label_binrizer.fit_transform(y_test_MLP)\n",
    "\n",
    "print(y_train_MLP.shape)\n",
    "print(y_test_MLP.shape)"
   ]
  },
  {
   "cell_type": "markdown",
   "metadata": {},
   "source": [
    "## Methods\n",
    "\n",
    "List your sklearn and tensorflow methods HERE:\n",
    "\n",
    "1- Sklearn Method No.1: Logistic Regression (OvR method)\n",
    "\n",
    "2- Sklearn Method No.2: Random Forest Classifier + Manual hyperparam tuning and Grid Search tuning\n",
    "\n",
    "3- Sklearn Method No.3: SVM Classifier (OvR method)\n",
    "\n",
    "4- Sklearn Method No.4: Hard Voting using LogReg, RFC, & SVC\n",
    "\n",
    "5- Tensorflow Method: Convolutional Network 2D\n",
    "\n",
    "6- Tensorflow Method: Multi Layer Perceptron\n",
    "\n",
    "<b>Notice:</b> You should fine-tune at least one hyperparameter of each method by using multiple values (at least 3 different values)."
   ]
  },
  {
   "cell_type": "markdown",
   "metadata": {},
   "source": [
    "## <font color=\"red\"> Required Coding"
   ]
  },
  {
   "cell_type": "code",
   "execution_count": 19,
   "metadata": {},
   "outputs": [
    {
     "name": "stderr",
     "output_type": "stream",
     "text": [
      "Using TensorFlow backend.\n"
     ]
    }
   ],
   "source": [
    "# Import any necessary method/algorithm modules from sklearn and tf/keras here\n",
    "from keras.utils import np_utils\n",
    "\n",
    "# SKLEARN IMPORTS:\n",
    "from sklearn.linear_model import LogisticRegression\n",
    "from sklearn.ensemble import RandomForestClassifier\n",
    "from sklearn.svm import SVC\n",
    "from sklearn.ensemble import VotingClassifier\n",
    "\n",
    "# TENSORFLOW IMPORTS:\n",
    "from tensorflow.keras import Sequential\n",
    "from tensorflow.keras.layers import Flatten, Dense, Dropout, BatchNormalization, Conv2D, MaxPool2D\n",
    "\n",
    "# additional, some defined just in case if needed\n",
    "from sklearn.model_selection import train_test_split\n",
    "import sklearn.metrics as metrics\n",
    "from sklearn.metrics import accuracy_score\n",
    "\n",
    "from sklearn.model_selection import cross_val_score\n",
    "from sklearn.metrics import classification_report, confusion_matrix\n",
    "\n",
    "from sklearn.model_selection import GridSearchCV"
   ]
  },
  {
   "cell_type": "markdown",
   "metadata": {},
   "source": [
    "### Sklearn Method 1: Logistic Regression (OvR)"
   ]
  },
  {
   "cell_type": "code",
   "execution_count": 19,
   "metadata": {},
   "outputs": [
    {
     "name": "stderr",
     "output_type": "stream",
     "text": [
      "D:\\AI_ML\\envs\\ML_Projects\\lib\\site-packages\\sklearn\\linear_model\\sag.py:337: ConvergenceWarning: The max_iter was reached which means the coef_ did not converge\n",
      "  \"the coef_ did not converge\", ConvergenceWarning)\n"
     ]
    },
    {
     "name": "stdout",
     "output_type": "stream",
     "text": [
      "Accuracy Score:  0.6766592303402119\n"
     ]
    }
   ],
   "source": [
    "# Sklearn Method 1: LogReg\n",
    "\n",
    "# declaring logistic regession classifier\n",
    "#log_clf = LogisticRegression(random_state=42, multi_class='ovr', solver='saga', n_jobs=-1, max_iter=200)\n",
    "log_clf = LogisticRegression(random_state=42, multi_class='ovr', solver='saga', n_jobs=-1)\n",
    "\n",
    "# training:\n",
    "log_clf.fit(X_train_LogReg, y_train_LogReg)\n",
    "\n",
    "# predict:\n",
    "y_preds_log = log_clf.predict(X_test_LogReg)\n",
    "Accuracy_Log_Reg = accuracy_score(y_test, y_preds_log)\n",
    "print(\"Accuracy Score: \", metrics.accuracy_score(y_test, y_preds_log))"
   ]
  },
  {
   "cell_type": "markdown",
   "metadata": {},
   "source": [
    "##### LogReg accuracy: 67.3%"
   ]
  },
  {
   "cell_type": "code",
   "execution_count": 20,
   "metadata": {},
   "outputs": [
    {
     "data": {
      "image/png": "[encoded data removed]",
      "text/plain": [
       "<Figure size 288x288 with 2 Axes>"
      ]
     },
     "metadata": {
      "needs_background": "light"
     },
     "output_type": "display_data"
    }
   ],
   "source": [
    "cm_LR = confusion_matrix(y_test, y_preds_log)\n",
    "\n",
    "# Show confusion matrix in a separate window\n",
    "plt.matshow(cm_LR)\n",
    "plt.title('Random Forest Confusion matrix\\n')\n",
    "plt.colorbar()\n",
    "plt.ylabel('True label')\n",
    "plt.xlabel('Predicted label')\n",
    "plt.show()"
   ]
  },
  {
   "cell_type": "code",
   "execution_count": 21,
   "metadata": {},
   "outputs": [],
   "source": [
    "accuracy_LR = accuracy_score(y_test, y_preds_log)\n",
    "precision_LR = np.mean(np.diag(cm_LR) / np.sum(cm_LR, axis = 1))\n",
    "recall_LR = np.mean(np.diag(cm_LR) / np.sum(cm_LR, axis = 0))"
   ]
  },
  {
   "cell_type": "markdown",
   "metadata": {},
   "source": [
    "### Sklearn Method 2: Random Forest Classifier (Ensemble Method of Decision Trees)"
   ]
  },
  {
   "cell_type": "code",
   "execution_count": 22,
   "metadata": {},
   "outputs": [],
   "source": [
    "# Sklearn Method 2 code here \n",
    "\n",
    "# Creating random forest classifier with 100 estimators and max_leaf_nodes=16 and n_jobs=-1\n",
    "rf_clf = RandomForestClassifier(n_estimators=100, max_leaf_nodes=16, n_jobs=-1)"
   ]
  },
  {
   "cell_type": "code",
   "execution_count": 23,
   "metadata": {},
   "outputs": [
    {
     "name": "stdout",
     "output_type": "stream",
     "text": [
      "cross val score (mean):  0.2128913685668123 ; max_leafs =  2\n",
      "cross val score (mean):  0.2658077706987753 ; max_leafs =  3\n",
      "cross val score (mean):  0.2941321825159192 ; max_leafs =  4\n",
      "cross val score (mean):  0.3187077373359243 ; max_leafs =  5\n",
      "cross val score (mean):  0.34207474356865475 ; max_leafs =  6\n",
      "cross val score (mean):  0.3641586794184102 ; max_leafs =  7\n",
      "cross val score (mean):  0.385761890740729 ; max_leafs =  8\n",
      "cross val score (mean):  0.404798884305572 ; max_leafs =  9\n",
      "cross val score (mean):  0.42515357187443803 ; max_leafs =  10\n",
      "cross val score (mean):  0.4342791775339692 ; max_leafs =  11\n",
      "cross val score (mean):  0.44698736613629475 ; max_leafs =  12\n",
      "cross val score (mean):  0.46250148697310384 ; max_leafs =  13\n",
      "cross val score (mean):  0.476864630092053 ; max_leafs =  14\n",
      "cross val score (mean):  0.48154720161197495 ; max_leafs =  15\n",
      "cross val score (mean):  0.4963408053331405 ; max_leafs =  16\n",
      "cross val score (mean):  0.5021446516930863 ; max_leafs =  17\n",
      "cross val score (mean):  0.5179375406758895 ; max_leafs =  18\n",
      "cross val score (mean):  0.5251911315074399 ; max_leafs =  19\n",
      "cross val score (mean):  0.5338427882988996 ; max_leafs =  20\n",
      "cross val score (mean):  0.5400585652881901 ; max_leafs =  21\n",
      "cross val score (mean):  0.5489457104860584 ; max_leafs =  22\n",
      "cross val score (mean):  0.5555875706670842 ; max_leafs =  23\n",
      "cross val score (mean):  0.5607873127644025 ; max_leafs =  24\n",
      "cross val score (mean):  0.5731180352562054 ; max_leafs =  25\n",
      "cross val score (mean):  0.5760120066150173 ; max_leafs =  26\n",
      "cross val score (mean):  0.5835172686659003 ; max_leafs =  27\n",
      "cross val score (mean):  0.5852836937695983 ; max_leafs =  28\n",
      "cross val score (mean):  0.5909595039356819 ; max_leafs =  29\n",
      "cross val score (mean):  0.5976091063811719 ; max_leafs =  30\n",
      "cross val score (mean):  0.6018433096279592 ; max_leafs =  31\n"
     ]
    }
   ],
   "source": [
    "# proceeding with manual hyperparameter tuning\n",
    "# 1st hyperparam is max_leaf_nodes\n",
    "for max_leaf_nodes in range(2, 32):\n",
    "    rf_clf = RandomForestClassifier(n_estimators=100, max_leaf_nodes = max_leaf_nodes, n_jobs=-1)\n",
    "    rf_cv_score = cross_val_score(rf_clf, X, y, cv=10)\n",
    "    print(\"cross val score (mean): \", rf_cv_score.mean(), \"; max_leafs = \", max_leaf_nodes)"
   ]
  },
  {
   "cell_type": "code",
   "execution_count": 24,
   "metadata": {},
   "outputs": [
    {
     "name": "stdout",
     "output_type": "stream",
     "text": [
      "cross val score (mean):  0.2639072320596451 ; n_estimators =  1\n",
      "cross val score (mean):  0.33502425372563777 ; n_estimators =  2\n",
      "cross val score (mean):  0.3859341624365452 ; n_estimators =  3\n",
      "cross val score (mean):  0.4145488733644577 ; n_estimators =  4\n",
      "cross val score (mean):  0.43013608210413395 ; n_estimators =  5\n",
      "cross val score (mean):  0.4576383547227164 ; n_estimators =  6\n",
      "cross val score (mean):  0.47126921932458343 ; n_estimators =  7\n",
      "cross val score (mean):  0.4841118626125141 ; n_estimators =  8\n",
      "cross val score (mean):  0.5007954657500074 ; n_estimators =  9\n",
      "cross val score (mean):  0.506376026418961 ; n_estimators =  10\n",
      "cross val score (mean):  0.5142723685892546 ; n_estimators =  11\n",
      "cross val score (mean):  0.5227334605461803 ; n_estimators =  12\n",
      "cross val score (mean):  0.530647074514013 ; n_estimators =  13\n",
      "cross val score (mean):  0.5332907058946655 ; n_estimators =  14\n",
      "cross val score (mean):  0.5366133063279208 ; n_estimators =  15\n",
      "cross val score (mean):  0.5455410335075765 ; n_estimators =  16\n",
      "cross val score (mean):  0.5492620509135582 ; n_estimators =  17\n",
      "cross val score (mean):  0.5554070300182872 ; n_estimators =  18\n",
      "cross val score (mean):  0.5528757155639762 ; n_estimators =  19\n",
      "cross val score (mean):  0.55559573998328 ; n_estimators =  20\n",
      "cross val score (mean):  0.5543210821071101 ; n_estimators =  21\n",
      "cross val score (mean):  0.567146379795233 ; n_estimators =  22\n",
      "cross val score (mean):  0.5642536841870704 ; n_estimators =  23\n",
      "cross val score (mean):  0.5657827886457126 ; n_estimators =  24\n",
      "cross val score (mean):  0.5707167621423894 ; n_estimators =  25\n",
      "cross val score (mean):  0.5665951821094848 ; n_estimators =  26\n",
      "cross val score (mean):  0.5752578382907896 ; n_estimators =  27\n",
      "cross val score (mean):  0.5785471071779851 ; n_estimators =  28\n",
      "cross val score (mean):  0.5714163929427043 ; n_estimators =  29\n",
      "cross val score (mean):  0.5767037604285661 ; n_estimators =  30\n",
      "cross val score (mean):  0.5778861852860209 ; n_estimators =  31\n",
      "cross val score (mean):  0.5803062625041799 ; n_estimators =  32\n",
      "cross val score (mean):  0.5822705889059124 ; n_estimators =  33\n",
      "cross val score (mean):  0.580418428892901 ; n_estimators =  34\n",
      "cross val score (mean):  0.5818916461755375 ; n_estimators =  35\n",
      "cross val score (mean):  0.5820695111337841 ; n_estimators =  36\n",
      "cross val score (mean):  0.587006661541467 ; n_estimators =  37\n",
      "cross val score (mean):  0.5824170627990228 ; n_estimators =  38\n",
      "cross val score (mean):  0.5886262302120754 ; n_estimators =  39\n",
      "cross val score (mean):  0.5789801196824227 ; n_estimators =  40\n",
      "cross val score (mean):  0.5874995573766142 ; n_estimators =  41\n",
      "cross val score (mean):  0.5888247522830719 ; n_estimators =  42\n",
      "cross val score (mean):  0.5882767591751297 ; n_estimators =  43\n",
      "cross val score (mean):  0.5873865548552057 ; n_estimators =  44\n",
      "cross val score (mean):  0.5920034730198415 ; n_estimators =  45\n",
      "cross val score (mean):  0.5909583840721748 ; n_estimators =  46\n",
      "cross val score (mean):  0.5901280025161295 ; n_estimators =  47\n",
      "cross val score (mean):  0.5941960381314806 ; n_estimators =  48\n",
      "cross val score (mean):  0.593758890919444 ; n_estimators =  49\n",
      "cross val score (mean):  0.5961083450204792 ; n_estimators =  50\n",
      "cross val score (mean):  0.5978900583675911 ; n_estimators =  51\n",
      "cross val score (mean):  0.5958228573385026 ; n_estimators =  52\n",
      "cross val score (mean):  0.5940828172201819 ; n_estimators =  53\n",
      "cross val score (mean):  0.5924308992015732 ; n_estimators =  54\n",
      "cross val score (mean):  0.5954952257549228 ; n_estimators =  55\n",
      "cross val score (mean):  0.5984965358778375 ; n_estimators =  56\n",
      "cross val score (mean):  0.5978661034375252 ; n_estimators =  57\n",
      "cross val score (mean):  0.599687908744533 ; n_estimators =  58\n",
      "cross val score (mean):  0.599456827217524 ; n_estimators =  59\n",
      "cross val score (mean):  0.6003092955584703 ; n_estimators =  60\n",
      "cross val score (mean):  0.6024601118938157 ; n_estimators =  61\n",
      "cross val score (mean):  0.6015840724251691 ; n_estimators =  62\n",
      "cross val score (mean):  0.5977203747401874 ; n_estimators =  63\n",
      "cross val score (mean):  0.5991982435062899 ; n_estimators =  64\n",
      "cross val score (mean):  0.6015244916232636 ; n_estimators =  65\n",
      "cross val score (mean):  0.5981876848506661 ; n_estimators =  66\n",
      "cross val score (mean):  0.6049414928447348 ; n_estimators =  67\n",
      "cross val score (mean):  0.5998194101442225 ; n_estimators =  68\n",
      "cross val score (mean):  0.6030199455568931 ; n_estimators =  69\n",
      "cross val score (mean):  0.6050038570623636 ; n_estimators =  70\n",
      "cross val score (mean):  0.6030330381353335 ; n_estimators =  71\n",
      "cross val score (mean):  0.5989923886871387 ; n_estimators =  72\n",
      "cross val score (mean):  0.6066744190761649 ; n_estimators =  73\n",
      "cross val score (mean):  0.6020132212357732 ; n_estimators =  74\n",
      "cross val score (mean):  0.6026534422393965 ; n_estimators =  75\n",
      "cross val score (mean):  0.6030938923561265 ; n_estimators =  76\n",
      "cross val score (mean):  0.6055135893162295 ; n_estimators =  77\n",
      "cross val score (mean):  0.6013859909952585 ; n_estimators =  78\n",
      "cross val score (mean):  0.6052039887037652 ; n_estimators =  79\n",
      "cross val score (mean):  0.6046795823160482 ; n_estimators =  80\n",
      "cross val score (mean):  0.6010719518565535 ; n_estimators =  81\n",
      "cross val score (mean):  0.6042462235197665 ; n_estimators =  82\n",
      "cross val score (mean):  0.6034297899658035 ; n_estimators =  83\n",
      "cross val score (mean):  0.6056351655122542 ; n_estimators =  84\n",
      "cross val score (mean):  0.6039229810395044 ; n_estimators =  85\n",
      "cross val score (mean):  0.6045933468140008 ; n_estimators =  86\n",
      "cross val score (mean):  0.6061261409960985 ; n_estimators =  87\n",
      "cross val score (mean):  0.6072209880932113 ; n_estimators =  88\n",
      "cross val score (mean):  0.6095315224475195 ; n_estimators =  89\n",
      "cross val score (mean):  0.6068458290828538 ; n_estimators =  90\n",
      "cross val score (mean):  0.6077143120812375 ; n_estimators =  91\n",
      "cross val score (mean):  0.6062006036108653 ; n_estimators =  92\n",
      "cross val score (mean):  0.6018163951440375 ; n_estimators =  93\n",
      "cross val score (mean):  0.6070773642614247 ; n_estimators =  94\n",
      "cross val score (mean):  0.6078869393632503 ; n_estimators =  95\n",
      "cross val score (mean):  0.6095878589951242 ; n_estimators =  96\n",
      "cross val score (mean):  0.6083192207873086 ; n_estimators =  97\n",
      "cross val score (mean):  0.6042444329753961 ; n_estimators =  98\n",
      "cross val score (mean):  0.6062139828444029 ; n_estimators =  99\n",
      "cross val score (mean):  0.607535416635228 ; n_estimators =  100\n"
     ]
    }
   ],
   "source": [
    "# as we saw with max_leafs, it is useful to keep around 32, but it might be the cast that we can even increase it\n",
    "\n",
    "# proceeding with manual hyperparameter tuning\n",
    "# 2nd hyperparam is n_estimators\n",
    "for n_estimators in range(1, 101):\n",
    "    rf_clf = RandomForestClassifier(n_estimators=n_estimators, max_leaf_nodes = 32, n_jobs=-1)\n",
    "    rf_cv_score = cross_val_score(rf_clf, X, y, cv=10)\n",
    "    print(\"cross val score (mean): \", rf_cv_score.mean(), \"; n_estimators = \", n_estimators)"
   ]
  },
  {
   "cell_type": "code",
   "execution_count": 25,
   "metadata": {},
   "outputs": [
    {
     "name": "stdout",
     "output_type": "stream",
     "text": [
      "cross val score (mean):  0.5957598003779281\n"
     ]
    }
   ],
   "source": [
    "# from the tuning above, it is possible to see that estimators amount does not give much improvement after ~50, thus:\n",
    "# based on manual hyperparameter tuning for n_estimators and max_leaf_nodes,\n",
    "# it seems that model performs well on the following setup:\n",
    "rf_clf = RandomForestClassifier(n_estimators=50, max_leaf_nodes=32, n_jobs=-1)\n",
    "# proceeding with cross validation score and printing its average value:\n",
    "rf_cv_score = cross_val_score(rf_clf, X, y, cv=10)\n",
    "print(\"cross val score (mean): \", rf_cv_score.mean())"
   ]
  },
  {
   "cell_type": "code",
   "execution_count": 26,
   "metadata": {},
   "outputs": [],
   "source": [
    "rf_clf = RandomForestClassifier(n_estimators=50, max_leaf_nodes=32, n_jobs=-1)\n",
    "\n",
    "# training random forest and then evaluating\n",
    "rf_clf.fit(X_train, y_train)\n",
    "\n",
    "y_preds = rf_clf.predict(X_test)"
   ]
  },
  {
   "cell_type": "code",
   "execution_count": 27,
   "metadata": {},
   "outputs": [
    {
     "name": "stdout",
     "output_type": "stream",
     "text": [
      "Accuracy: 0.4703011712214166\n"
     ]
    }
   ],
   "source": [
    "print(\"Accuracy:\", metrics.accuracy_score(y_test, y_preds))"
   ]
  },
  {
   "cell_type": "code",
   "execution_count": 28,
   "metadata": {},
   "outputs": [
    {
     "name": "stdout",
     "output_type": "stream",
     "text": [
      "max_leaf_nodes= 32\n",
      "Accuracy: 0.4807585052983826\n",
      "cross val score (mean):  0.594809426462706\n",
      "***\n",
      "\n",
      "max_leaf_nodes= 33\n",
      "Accuracy: 0.4703011712214166\n",
      "cross val score (mean):  0.591135161721293\n",
      "***\n",
      "\n",
      "max_leaf_nodes= 34\n",
      "Accuracy: 0.4906581148912437\n",
      "cross val score (mean):  0.590836953674083\n",
      "***\n",
      "\n",
      "max_leaf_nodes= 35\n",
      "Accuracy: 0.49107640825432236\n",
      "cross val score (mean):  0.5909594061175707\n",
      "***\n",
      "\n",
      "max_leaf_nodes= 36\n",
      "Accuracy: 0.4690462911321807\n",
      "cross val score (mean):  0.5945105928338263\n",
      "***\n",
      "\n",
      "max_leaf_nodes= 37\n",
      "Accuracy: 0.48020078081427775\n",
      "cross val score (mean):  0.5960768488479132\n",
      "***\n",
      "\n",
      "max_leaf_nodes= 38\n",
      "Accuracy: 0.5059955382041271\n",
      "cross val score (mean):  0.5974877534004144\n",
      "***\n",
      "\n",
      "max_leaf_nodes= 39\n",
      "Accuracy: 0.49344673731176797\n",
      "cross val score (mean):  0.5953505821619747\n",
      "***\n",
      "\n",
      "max_leaf_nodes= 40\n",
      "Accuracy: 0.49944227551589515\n",
      "cross val score (mean):  0.592917485986627\n",
      "***\n",
      "\n",
      "max_leaf_nodes= 41\n",
      "Accuracy: 0.4878694924707195\n",
      "cross val score (mean):  0.5945791436336272\n",
      "***\n",
      "\n",
      "max_leaf_nodes= 42\n",
      "Accuracy: 0.5122699386503068\n",
      "cross val score (mean):  0.5967626497713503\n",
      "***\n",
      "\n",
      "max_leaf_nodes= 43\n",
      "Accuracy: 0.5186837702175126\n",
      "cross val score (mean):  0.5909328998009966\n",
      "***\n",
      "\n",
      "max_leaf_nodes= 44\n",
      "Accuracy: 0.5121305075292806\n",
      "cross val score (mean):  0.5913035256340656\n",
      "***\n",
      "\n",
      "max_leaf_nodes= 45\n",
      "Accuracy: 0.5101784718349136\n",
      "cross val score (mean):  0.5951484549770579\n",
      "***\n",
      "\n",
      "max_leaf_nodes= 46\n",
      "Accuracy: 0.5202175125488009\n",
      "cross val score (mean):  0.5947488764879332\n",
      "***\n",
      "\n",
      "max_leaf_nodes= 47\n",
      "Accuracy: 0.5199386503067485\n",
      "cross val score (mean):  0.5942450488826981\n",
      "***\n",
      "\n",
      "max_leaf_nodes= 48\n",
      "Accuracy: 0.5117122141662019\n",
      "cross val score (mean):  0.5952849682146766\n",
      "***\n",
      "\n",
      "max_leaf_nodes= 49\n",
      "Accuracy: 0.5284439486893474\n",
      "cross val score (mean):  0.5966517876604638\n",
      "***\n",
      "\n",
      "max_leaf_nodes= 50\n",
      "Accuracy: 0.5319297267150028\n",
      "cross val score (mean):  0.5992530718428214\n",
      "***\n",
      "\n",
      "max_leaf_nodes= 51\n",
      "Accuracy: 0.5154768544339097\n",
      "cross val score (mean):  0.5915369233780992\n",
      "***\n",
      "\n",
      "max_leaf_nodes= 52\n",
      "Accuracy: 0.5402955939765756\n",
      "cross val score (mean):  0.5945442336439503\n",
      "***\n",
      "\n",
      "max_leaf_nodes= 53\n",
      "Accuracy: 0.5493586168432795\n",
      "cross val score (mean):  0.5924249621784923\n",
      "***\n",
      "\n",
      "max_leaf_nodes= 54\n",
      "Accuracy: 0.5387618516452872\n",
      "cross val score (mean):  0.5938486512160921\n",
      "***\n",
      "\n",
      "max_leaf_nodes= 55\n",
      "Accuracy: 0.5287228109313998\n",
      "cross val score (mean):  0.5975090891460421\n",
      "***\n",
      "\n",
      "max_leaf_nodes= 56\n",
      "Accuracy: 0.5323480200780815\n",
      "cross val score (mean):  0.5923474944611558\n",
      "***\n",
      "\n",
      "max_leaf_nodes= 57\n",
      "Accuracy: 0.5465699944227551\n",
      "cross val score (mean):  0.5942824059768429\n",
      "***\n",
      "\n",
      "max_leaf_nodes= 58\n",
      "Accuracy: 0.5423870607919687\n",
      "cross val score (mean):  0.5922369534449451\n",
      "***\n",
      "\n",
      "max_leaf_nodes= 59\n",
      "Accuracy: 0.5577244841048522\n",
      "cross val score (mean):  0.5936741342964872\n",
      "***\n",
      "\n",
      "max_leaf_nodes= 60\n",
      "Accuracy: 0.5479643056330172\n",
      "cross val score (mean):  0.5907389451825871\n",
      "***\n",
      "\n",
      "max_leaf_nodes= 61\n",
      "Accuracy: 0.5578639152258784\n",
      "cross val score (mean):  0.5947757889333528\n",
      "***\n",
      "\n",
      "max_leaf_nodes= 62\n",
      "Accuracy: 0.5542387060791969\n",
      "cross val score (mean):  0.5927522607225071\n",
      "***\n",
      "\n",
      "max_leaf_nodes= 63\n",
      "Accuracy: 0.5598159509202454\n",
      "cross val score (mean):  0.5888571977659215\n",
      "***\n",
      "\n",
      "max_leaf_nodes= 64\n",
      "Accuracy: 0.559537088678193\n",
      "cross val score (mean):  0.5901541117307004\n",
      "***\n",
      "\n",
      "max_leaf_nodes= 65\n",
      "Accuracy: 0.5568878973786949\n",
      "cross val score (mean):  0.592662831233785\n",
      "***\n",
      "\n",
      "max_leaf_nodes= 66\n",
      "Accuracy: 0.5538204127161183\n",
      "cross val score (mean):  0.5938746694024226\n",
      "***\n",
      "\n",
      "max_leaf_nodes= 67\n",
      "Accuracy: 0.5426659230340212\n",
      "cross val score (mean):  0.5945994626114055\n",
      "***\n",
      "\n",
      "max_leaf_nodes= 68\n",
      "Accuracy: 0.5732013385387619\n",
      "cross val score (mean):  0.5915376735231788\n",
      "***\n",
      "\n",
      "max_leaf_nodes= 69\n",
      "Accuracy: 0.5422476296709425\n",
      "cross val score (mean):  0.5940809969267924\n",
      "***\n",
      "\n",
      "max_leaf_nodes= 70\n",
      "Accuracy: 0.5628834355828221\n",
      "cross val score (mean):  0.5956685210044723\n",
      "***\n",
      "\n",
      "max_leaf_nodes= 71\n",
      "Accuracy: 0.5637200223089793\n",
      "cross val score (mean):  0.59544155361429\n",
      "***\n",
      "\n"
     ]
    }
   ],
   "source": [
    "# not the best we can go with, so it is possible to try more hyperparameter tuning:\n",
    "for max_leaf_nodes in range(32, 72):\n",
    "    temp_rf_clf = RandomForestClassifier(n_estimators=42, max_leaf_nodes=max_leaf_nodes, n_jobs=-1)\n",
    "    temp_rf_clf.fit(X_train, y_train)\n",
    "    y_preds_rf = temp_rf_clf.predict(X_test)\n",
    "    print(\"max_leaf_nodes=\", max_leaf_nodes)\n",
    "    print(\"Accuracy:\", metrics.accuracy_score(y_test, y_preds_rf))\n",
    "    rf_cv_score = cross_val_score(rf_clf, X, y, cv=10)\n",
    "    print(\"cross val score (mean): \", rf_cv_score.mean())\n",
    "    print(\"***\\n\")"
   ]
  },
  {
   "cell_type": "code",
   "execution_count": 29,
   "metadata": {},
   "outputs": [
    {
     "name": "stdout",
     "output_type": "stream",
     "text": [
      "Accuracy: 0.5637200223089793\n"
     ]
    }
   ],
   "source": [
    "print(\"Accuracy:\", accuracy_score(y_test, y_preds_rf))"
   ]
  },
  {
   "cell_type": "code",
   "execution_count": 30,
   "metadata": {},
   "outputs": [
    {
     "name": "stderr",
     "output_type": "stream",
     "text": [
      "D:\\AI_ML\\envs\\ML_Projects\\lib\\site-packages\\sklearn\\model_selection\\_search.py:814: DeprecationWarning: The default of the `iid` parameter will change from True to False in version 0.22 and will be removed in 0.24. This will change numeric results when test-set sizes are unequal.\n",
      "  DeprecationWarning)\n"
     ]
    },
    {
     "data": {
      "text/plain": [
       "RandomForestClassifier(bootstrap=True, class_weight=None, criterion='gini',\n",
       "                       max_depth=None, max_features=8, max_leaf_nodes=None,\n",
       "                       min_impurity_decrease=0.0, min_impurity_split=None,\n",
       "                       min_samples_leaf=1, min_samples_split=2,\n",
       "                       min_weight_fraction_leaf=0.0, n_estimators=60,\n",
       "                       n_jobs=None, oob_score=False, random_state=None,\n",
       "                       verbose=0, warm_start=False)"
      ]
     },
     "execution_count": 30,
     "metadata": {},
     "output_type": "execute_result"
    }
   ],
   "source": [
    "# Result from manual hyperparameter tuning:\n",
    "\n",
    "# It was found out that best hyperparam values of n_estimators and max_leaf_nodes is this set up:\n",
    "# rf_clf = RandomForestClassifier(n_estimators=~50, max_leaf_nodes=32, n_jobs=-1)*\n",
    "\n",
    "# now with this information, we can try Grid Search:\n",
    "param_grid = [{'n_estimators': [3, 10, 30, 60, 65], 'max_features': [2, 4, 6, 8]}, \n",
    "              {'bootstrap': [False], 'n_estimators': [3, 10], 'max_features': [2, 3, 4]}]\n",
    "\n",
    "forest_classifier = RandomForestClassifier()\n",
    "\n",
    "grid_search = GridSearchCV(forest_classifier, param_grid, cv=5, scoring='neg_mean_squared_error', return_train_score=True)\n",
    "grid_search.fit(X_train, y_train)\n",
    "\n",
    "grid_search.best_estimator_"
   ]
  },
  {
   "cell_type": "code",
   "execution_count": 31,
   "metadata": {},
   "outputs": [
    {
     "name": "stdout",
     "output_type": "stream",
     "text": [
      "Mean Cross Validation Score is: 0.6108604421969229\n"
     ]
    }
   ],
   "source": [
    "# Fit the rf_clf on the training set\n",
    "rf_clf_1 = RandomForestClassifier(max_features=6, n_estimators=50, max_leaf_nodes = 32, n_jobs=-1)\n",
    "\n",
    "rf_clf_1.fit(X_train,y_train)\n",
    "\n",
    "rf_probs = rf_clf_1.predict_proba(X_test)\n",
    "rf_cv_score = cross_val_score(rf_clf_1, X, y, cv=10)\n",
    "print(\"Mean Cross Validation Score is:\", rf_cv_score.mean())"
   ]
  },
  {
   "cell_type": "code",
   "execution_count": 32,
   "metadata": {},
   "outputs": [
    {
     "data": {
      "text/plain": [
       "RandomForestClassifier(bootstrap=False, class_weight=None, criterion='gini',\n",
       "                       max_depth=None, max_features=2, max_leaf_nodes=84,\n",
       "                       min_impurity_decrease=0.0, min_impurity_split=None,\n",
       "                       min_samples_leaf=1, min_samples_split=2,\n",
       "                       min_weight_fraction_leaf=0.0, n_estimators=50,\n",
       "                       n_jobs=None, oob_score=False, random_state=None,\n",
       "                       verbose=0, warm_start=False)"
      ]
     },
     "execution_count": 32,
     "metadata": {},
     "output_type": "execute_result"
    }
   ],
   "source": [
    "# since from manual tuning it was found that 45 estimators is pretty much enough, 45 is is stable,\n",
    "# in order to improve performance and save time\n",
    "# also, after 38 max_leaf_nodes, we get over 50% of accuracy from both accuracy metrics and cross validation,\n",
    "# thus grid search will start from 38 max leaf nodes and go from there\n",
    "param_grid = [{'n_estimators': [50], 'max_features': [2, 4, 6, 8], 'max_leaf_nodes': [42, 64, 72, 84]}, \n",
    "              {'bootstrap': [False], 'n_estimators': [50], 'max_features': [2, 3, 4, 6], 'max_leaf_nodes': [42, 64, 72, 84]}]\n",
    "\n",
    "forest_classifier = RandomForestClassifier()\n",
    "\n",
    "grid_search = GridSearchCV(forest_classifier, param_grid, cv=5, scoring='neg_mean_squared_error', return_train_score=True)\n",
    "grid_search.fit(X_train, y_train)\n",
    "\n",
    "grid_search.best_estimator_"
   ]
  },
  {
   "cell_type": "code",
   "execution_count": 33,
   "metadata": {},
   "outputs": [
    {
     "name": "stdout",
     "output_type": "stream",
     "text": [
      "Mean Cross Validation Score is: 0.7273760767498288\n"
     ]
    }
   ],
   "source": [
    "# Fit the rf_clf on the training set\n",
    "rf_clf_2 = RandomForestClassifier(max_features=6, n_estimators=50, max_leaf_nodes = 72, n_jobs=-1)\n",
    "\n",
    "rf_clf_2.fit(X_train,y_train)\n",
    "\n",
    "rf_probs = rf_clf_2.predict_proba(X_test)\n",
    "rf_cv_score = cross_val_score(rf_clf_2, X, y, cv=10)\n",
    "print(\"Mean Cross Validation Score is:\", rf_cv_score.mean())"
   ]
  },
  {
   "cell_type": "code",
   "execution_count": 34,
   "metadata": {},
   "outputs": [],
   "source": [
    "y_preds_rf2 = rf_clf_2.predict(X_test)"
   ]
  },
  {
   "cell_type": "code",
   "execution_count": 35,
   "metadata": {},
   "outputs": [
    {
     "name": "stdout",
     "output_type": "stream",
     "text": [
      "Accuracy: 0.5631622978248745\n"
     ]
    }
   ],
   "source": [
    "print(\"Accuracy:\", accuracy_score(y_test, y_preds_rf2))"
   ]
  },
  {
   "cell_type": "code",
   "execution_count": 36,
   "metadata": {},
   "outputs": [
    {
     "data": {
      "image/png": "[encoded data removed]",
      "text/plain": [
       "<Figure size 288x288 with 2 Axes>"
      ]
     },
     "metadata": {
      "needs_background": "light"
     },
     "output_type": "display_data"
    }
   ],
   "source": [
    "cm_RF = confusion_matrix(y_test, y_preds_rf2)\n",
    "\n",
    "# Show confusion matrix in a separate window\n",
    "plt.matshow(cm_RF)\n",
    "plt.title('Random Forest Confusion matrix\\n')\n",
    "plt.colorbar()\n",
    "plt.ylabel('True label')\n",
    "plt.xlabel('Predicted label')\n",
    "plt.show()\n",
    "\n",
    "# alright, let's try SVC then."
   ]
  },
  {
   "cell_type": "code",
   "execution_count": 37,
   "metadata": {},
   "outputs": [],
   "source": [
    "# we know though that max_leaf by default is infinite, so let's try as they suggest:"
   ]
  },
  {
   "cell_type": "code",
   "execution_count": 38,
   "metadata": {},
   "outputs": [
    {
     "name": "stdout",
     "output_type": "stream",
     "text": [
      "Mean Cross Validation Score is: 0.9919637001045922\n"
     ]
    }
   ],
   "source": [
    "# Fit the rf_clf on the training set\n",
    "rf_clf_2 = RandomForestClassifier(max_features=6, n_estimators=50, n_jobs=-1)\n",
    "\n",
    "rf_clf_2.fit(X_train,y_train)\n",
    "\n",
    "rf_probs = rf_clf_2.predict_proba(X_test)\n",
    "rf_cv_score = cross_val_score(rf_clf_2, X, y, cv=10)\n",
    "print(\"Mean Cross Validation Score is:\", rf_cv_score.mean())"
   ]
  },
  {
   "cell_type": "code",
   "execution_count": 39,
   "metadata": {},
   "outputs": [],
   "source": [
    "rf_clf_2 = RandomForestClassifier(max_features=6, n_estimators=50, n_jobs=-1)\n",
    "rf_clf_2.fit(X_train,y_train)\n",
    "y_preds_rf2 = rf_clf_2.predict(X_test)"
   ]
  },
  {
   "cell_type": "code",
   "execution_count": 40,
   "metadata": {},
   "outputs": [
    {
     "name": "stdout",
     "output_type": "stream",
     "text": [
      "Accuracy: 0.770914668153932\n"
     ]
    }
   ],
   "source": [
    "# 77% accuracy, better then the rest, which is good\n",
    "print(\"Accuracy:\", accuracy_score(y_test, y_preds_rf2))"
   ]
  },
  {
   "cell_type": "markdown",
   "metadata": {},
   "source": [
    "##### RF accuracy: 77.5%"
   ]
  },
  {
   "cell_type": "code",
   "execution_count": 41,
   "metadata": {},
   "outputs": [
    {
     "data": {
      "image/png": "[encoded data removed]",
      "text/plain": [
       "<Figure size 288x288 with 2 Axes>"
      ]
     },
     "metadata": {
      "needs_background": "light"
     },
     "output_type": "display_data"
    }
   ],
   "source": [
    "cm_RF = confusion_matrix(y_test, y_preds_rf2)\n",
    "\n",
    "# Show confusion matrix in a separate window\n",
    "plt.matshow(cm_RF)\n",
    "plt.title('Random Forest Confusion matrix\\n')\n",
    "plt.colorbar()\n",
    "plt.ylabel('True label')\n",
    "plt.xlabel('Predicted label')\n",
    "plt.show()\n",
    "\n",
    "# alright, let's try SVC then."
   ]
  },
  {
   "cell_type": "code",
   "execution_count": 42,
   "metadata": {},
   "outputs": [],
   "source": [
    "accuracy_RF = accuracy_score(y_test, y_preds_rf2)\n",
    "precision_RF = np.mean(np.diag(cm_RF) / np.sum(cm_RF, axis = 1))\n",
    "recall_RF = np.mean(np.diag(cm_RF) / np.sum(cm_RF, axis = 0))"
   ]
  },
  {
   "cell_type": "markdown",
   "metadata": {},
   "source": [
    "### Sklearn Method 3: SVM Classifier (OvR)"
   ]
  },
  {
   "cell_type": "code",
   "execution_count": 43,
   "metadata": {},
   "outputs": [
    {
     "name": "stdout",
     "output_type": "stream",
     "text": [
      "0.8418851087562744\n"
     ]
    }
   ],
   "source": [
    "svm_clf = SVC(decision_function_shape = 'ovr', gamma='scale')\n",
    "svm_clf.fit(X_train, y_train)\n",
    "y_pred_svm = svm_clf.predict(X_test)\n",
    "print(accuracy_score(y_test, y_pred_svm))"
   ]
  },
  {
   "cell_type": "code",
   "execution_count": 44,
   "metadata": {},
   "outputs": [
    {
     "data": {
      "image/png": "[encoded data removed]",
      "text/plain": [
       "<Figure size 288x288 with 2 Axes>"
      ]
     },
     "metadata": {
      "needs_background": "light"
     },
     "output_type": "display_data"
    }
   ],
   "source": [
    "cm_SVC = confusion_matrix(y_test, y_pred_svm)\n",
    "\n",
    "# Show confusion matrix in a separate window\n",
    "plt.matshow(cm_SVC)\n",
    "plt.title('Random Forest Confusion matrix\\n')\n",
    "plt.colorbar()\n",
    "plt.ylabel('True label')\n",
    "plt.xlabel('Predicted label')\n",
    "plt.show()"
   ]
  },
  {
   "cell_type": "code",
   "execution_count": 45,
   "metadata": {},
   "outputs": [],
   "source": [
    "accuracy_SVC = accuracy_score(y_test, y_pred_svm)\n",
    "precision_SVC = np.mean(np.diag(cm_SVC) / np.sum(cm_SVC, axis = 1))\n",
    "recall_SVC = np.mean(np.diag(cm_SVC) / np.sum(cm_SVC, axis = 0))"
   ]
  },
  {
   "cell_type": "code",
   "execution_count": 46,
   "metadata": {},
   "outputs": [
    {
     "name": "stdout",
     "output_type": "stream",
     "text": [
      "[1.         0.99971182 1.         0.99971148 1.         1.\n",
      " 1.         1.         1.         0.97480452]\n"
     ]
    }
   ],
   "source": [
    "# this one gives very high predictions, no matter if cv=5 or 10\n",
    "svm_clf_for_cross_val = SVC(decision_function_shape = 'ovr', gamma='scale')\n",
    "scores = cross_val_score(svm_clf_for_cross_val, X, y, cv=10)\n",
    "print(scores)"
   ]
  },
  {
   "cell_type": "code",
   "execution_count": 47,
   "metadata": {},
   "outputs": [
    {
     "name": "stdout",
     "output_type": "stream",
     "text": [
      "0.9974227816350055\n"
     ]
    }
   ],
   "source": [
    "print(scores.mean())"
   ]
  },
  {
   "cell_type": "code",
   "execution_count": 48,
   "metadata": {},
   "outputs": [],
   "source": [
    "# skipping hyperparameter tuning for SVC: OvR takes too long \n",
    "# and after trying various C's in different ranges, results are similar\n",
    "\n",
    "\n",
    "#C_values = [1, 5, 9, 12, 18, 25, 40, 55, 70, 78, 88]\n",
    "#acc_scores = []\n",
    "\n",
    "#for c in C_values:\n",
    "#    svm_result = SVC(decision_function_shape = 'ovr', gamma='scale', C=c)\n",
    "    \n",
    "#    svm_result.fit(X_train, y_train)\n",
    "    \n",
    "#    y_pred_SVC = svm_result.predict(X_test)\n",
    "\n",
    "#    acc = accuracy_score(y_test, y_pred_SVC)\n",
    "#    acc_scores.append(acc)\n",
    "#    print(acc)    "
   ]
  },
  {
   "cell_type": "markdown",
   "metadata": {},
   "source": [
    "### Sklearn Method 4: Hard Voting, Ensemble Method of LogReg, RFC, & SVC"
   ]
  },
  {
   "cell_type": "code",
   "execution_count": 49,
   "metadata": {},
   "outputs": [
    {
     "data": {
      "text/plain": [
       "VotingClassifier(estimators=[('lr',\n",
       "                              LogisticRegression(C=1.0, class_weight=None,\n",
       "                                                 dual=False, fit_intercept=True,\n",
       "                                                 intercept_scaling=1,\n",
       "                                                 l1_ratio=None, max_iter=200,\n",
       "                                                 multi_class='ovr', n_jobs=-1,\n",
       "                                                 penalty='l2', random_state=42,\n",
       "                                                 solver='saga', tol=0.0001,\n",
       "                                                 verbose=0, warm_start=False)),\n",
       "                             ('rf',\n",
       "                              RandomForestClassifier(bootstrap=True,\n",
       "                                                     class_weight=None,\n",
       "                                                     criterion='gini',\n",
       "                                                     max_d...\n",
       "                                                     n_estimators=50, n_jobs=-1,\n",
       "                                                     oob_score=False,\n",
       "                                                     random_state=None,\n",
       "                                                     verbose=0,\n",
       "                                                     warm_start=False)),\n",
       "                             ('svc',\n",
       "                              SVC(C=1.0, cache_size=200, class_weight=None,\n",
       "                                  coef0=0.0, decision_function_shape='ovr',\n",
       "                                  degree=3, gamma='scale', kernel='rbf',\n",
       "                                  max_iter=-1, probability=False,\n",
       "                                  random_state=None, shrinking=True, tol=0.001,\n",
       "                                  verbose=False))],\n",
       "                 flatten_transform=True, n_jobs=None, voting='hard',\n",
       "                 weights=None)"
      ]
     },
     "execution_count": 49,
     "metadata": {},
     "output_type": "execute_result"
    }
   ],
   "source": [
    "# defining each classifier, based on previous analyses and tunings\n",
    "# logistic regression\n",
    "log_clf = LogisticRegression(random_state=42, multi_class='ovr', solver='saga', n_jobs=-1, max_iter=200)\n",
    "\n",
    "# random forest\n",
    "rf_clf = RandomForestClassifier(max_features=6, n_estimators=50, n_jobs=-1)\n",
    "\n",
    "# svc\n",
    "svm_clf = SVC(decision_function_shape = 'ovr', gamma='scale')\n",
    "\n",
    "# finally, put all of them inside of voting classifier and set voting to hard\n",
    "# the reason why it was decided to go with hard, is that Logistic Regression performs badly,\n",
    "# thus if it would have been soft voting, then it would take average of all votes, thus Logistic regression would bring it down\n",
    "# maybe, it is even better to do just two methods for Ensemble, let's see:\n",
    "voting_clf = VotingClassifier(estimators=[('lr', log_clf), ('rf', rf_clf), ('svc', svm_clf)],\n",
    "                              voting='hard')\n",
    "\n",
    "voting_clf.fit(X_train, y_train)"
   ]
  },
  {
   "cell_type": "code",
   "execution_count": 50,
   "metadata": {},
   "outputs": [
    {
     "name": "stdout",
     "output_type": "stream",
     "text": [
      "Ensemble Accuracy Score: 0.8156720580033463\n"
     ]
    }
   ],
   "source": [
    "y_pred_hard_voting = voting_clf.predict(X_test)\n",
    "\n",
    "print(\"Ensemble Accuracy Score:\", accuracy_score(y_test, y_pred_hard_voting))"
   ]
  },
  {
   "cell_type": "code",
   "execution_count": 51,
   "metadata": {},
   "outputs": [
    {
     "data": {
      "image/png": "[encoded data removed]",
      "text/plain": [
       "<Figure size 288x288 with 2 Axes>"
      ]
     },
     "metadata": {
      "needs_background": "light"
     },
     "output_type": "display_data"
    }
   ],
   "source": [
    "cm_HVote = confusion_matrix(y_test, y_pred_hard_voting)\n",
    "\n",
    "# Show confusion matrix in a separate window\n",
    "plt.matshow(cm_HVote)\n",
    "plt.title('Confusion matrix\\n')\n",
    "plt.colorbar()\n",
    "plt.ylabel('True label')\n",
    "plt.xlabel('Predicted label')\n",
    "plt.show()"
   ]
  },
  {
   "cell_type": "code",
   "execution_count": 52,
   "metadata": {},
   "outputs": [],
   "source": [
    "accuracy_HV = accuracy_score(y_test, y_pred_hard_voting)\n",
    "precision_HV = np.mean(np.diag(cm_HVote) / np.sum(cm_HVote, axis = 1))\n",
    "recall_HV = np.mean(np.diag(cm_HVote) / np.sum(cm_HVote, axis = 0))"
   ]
  },
  {
   "cell_type": "markdown",
   "metadata": {},
   "source": [
    "### Sklearn Method 5: MLP"
   ]
  },
  {
   "cell_type": "code",
   "execution_count": 53,
   "metadata": {},
   "outputs": [],
   "source": [
    "# model is not successful. To make it, it needs further hyperparameter tuning. It seems that MLP is much more gentle,\n",
    "# compared to Convolutional Neural Network. Even slight change in decay, changes results drastically. Thus, this MLP model,\n",
    "# simply needs more time for hyperparameter tuning, in order to avoid overfitting that it definetely has.\n",
    "model_MLP = tf.keras.models.Sequential()\n",
    "\n",
    "model_MLP.add(tf.keras.layers.Dense(units=64, input_dim = X_train_MLP.shape[1], \n",
    "                                activation='relu'))\n",
    "\n",
    "# 2 hidden layers with 128 neurons on each. A lot of hyperparameter tuning was done, but this was most successful by far\n",
    "model_MLP.add(tf.keras.layers.Dense(units=128, activation='relu'))\n",
    "model_MLP.add(tf.keras.layers.Dropout(0.2))\n",
    "\n",
    "model_MLP.add(tf.keras.layers.Dense(units=128, activation='relu'))\n",
    "model_MLP.add(tf.keras.layers.Dropout(0.2))\n",
    "\n",
    "model_MLP.add(tf.keras.layers.Dense(units=y_train_MLP.shape[1], activation='softmax'))"
   ]
  },
  {
   "cell_type": "code",
   "execution_count": 54,
   "metadata": {},
   "outputs": [
    {
     "name": "stdout",
     "output_type": "stream",
     "text": [
      "Train on 27455 samples, validate on 7172 samples\n",
      "Epoch 1/200\n",
      "27455/27455 [==============================] - 2s 75us/sample - loss: 3.1937 - accuracy: 0.0461 - val_loss: 3.1819 - val_accuracy: 0.0379\n",
      "Epoch 2/200\n",
      "27455/27455 [==============================] - 1s 43us/sample - loss: 3.1649 - accuracy: 0.0581 - val_loss: 3.1674 - val_accuracy: 0.0487\n",
      "Epoch 3/200\n",
      "27455/27455 [==============================] - 1s 43us/sample - loss: 3.1547 - accuracy: 0.0653 - val_loss: 3.1582 - val_accuracy: 0.0718\n",
      "Epoch 4/200\n",
      "27455/27455 [==============================] - 1s 43us/sample - loss: 3.1452 - accuracy: 0.0713 - val_loss: 3.1472 - val_accuracy: 0.0916\n",
      "Epoch 5/200\n",
      "27455/27455 [==============================] - 1s 44us/sample - loss: 3.1333 - accuracy: 0.0802 - val_loss: 3.1345 - val_accuracy: 0.0979\n",
      "Epoch 6/200\n",
      "27455/27455 [==============================] - 1s 43us/sample - loss: 3.1209 - accuracy: 0.0869 - val_loss: 3.1203 - val_accuracy: 0.1089\n",
      "Epoch 7/200\n",
      "27455/27455 [==============================] - 1s 43us/sample - loss: 3.1058 - accuracy: 0.0928 - val_loss: 3.1017 - val_accuracy: 0.1302\n",
      "Epoch 8/200\n",
      "27455/27455 [==============================] - 1s 43us/sample - loss: 3.0870 - accuracy: 0.1021 - val_loss: 3.0800 - val_accuracy: 0.1283\n",
      "Epoch 9/200\n",
      "27455/27455 [==============================] - 1s 44us/sample - loss: 3.0672 - accuracy: 0.1116 - val_loss: 3.0527 - val_accuracy: 0.1386\n",
      "Epoch 10/200\n",
      "27455/27455 [==============================] - 1s 43us/sample - loss: 3.0413 - accuracy: 0.1213 - val_loss: 3.0208 - val_accuracy: 0.1532\n",
      "Epoch 11/200\n",
      "27455/27455 [==============================] - 1s 43us/sample - loss: 3.0100 - accuracy: 0.1359 - val_loss: 2.9821 - val_accuracy: 0.1651\n",
      "Epoch 12/200\n",
      "27455/27455 [==============================] - 1s 44us/sample - loss: 2.9749 - accuracy: 0.1450 - val_loss: 2.9414 - val_accuracy: 0.1991\n",
      "Epoch 13/200\n",
      "27455/27455 [==============================] - 1s 43us/sample - loss: 2.9306 - accuracy: 0.1521 - val_loss: 2.8870 - val_accuracy: 0.1991\n",
      "Epoch 14/200\n",
      "27455/27455 [==============================] - 1s 42us/sample - loss: 2.8843 - accuracy: 0.1677 - val_loss: 2.8302 - val_accuracy: 0.2065\n",
      "Epoch 15/200\n",
      "27455/27455 [==============================] - 1s 42us/sample - loss: 2.8297 - accuracy: 0.1754 - val_loss: 2.7675 - val_accuracy: 0.2071\n",
      "Epoch 16/200\n",
      "27455/27455 [==============================] - 1s 42us/sample - loss: 2.7755 - accuracy: 0.1869 - val_loss: 2.7009 - val_accuracy: 0.2301\n",
      "Epoch 17/200\n",
      "27455/27455 [==============================] - 1s 42us/sample - loss: 2.7160 - accuracy: 0.1944 - val_loss: 2.6354 - val_accuracy: 0.2376\n",
      "Epoch 18/200\n",
      "27455/27455 [==============================] - 1s 42us/sample - loss: 2.6581 - accuracy: 0.2028 - val_loss: 2.5715 - val_accuracy: 0.2560\n",
      "Epoch 19/200\n",
      "27455/27455 [==============================] - 1s 42us/sample - loss: 2.6049 - accuracy: 0.2103 - val_loss: 2.5081 - val_accuracy: 0.2815\n",
      "Epoch 20/200\n",
      "27455/27455 [==============================] - 1s 42us/sample - loss: 2.5495 - accuracy: 0.2195 - val_loss: 2.4511 - val_accuracy: 0.3008\n",
      "Epoch 21/200\n",
      "27455/27455 [==============================] - 1s 42us/sample - loss: 2.4975 - accuracy: 0.2281 - val_loss: 2.3951 - val_accuracy: 0.3035\n",
      "Epoch 22/200\n",
      "27455/27455 [==============================] - 1s 42us/sample - loss: 2.4489 - accuracy: 0.2372 - val_loss: 2.3461 - val_accuracy: 0.3067\n",
      "Epoch 23/200\n",
      "27455/27455 [==============================] - 1s 42us/sample - loss: 2.4040 - accuracy: 0.2494 - val_loss: 2.2979 - val_accuracy: 0.3219\n",
      "Epoch 24/200\n",
      "27455/27455 [==============================] - 1s 42us/sample - loss: 2.3659 - accuracy: 0.2533 - val_loss: 2.2545 - val_accuracy: 0.3101\n",
      "Epoch 25/200\n",
      "27455/27455 [==============================] - 1s 42us/sample - loss: 2.3239 - accuracy: 0.2667 - val_loss: 2.2224 - val_accuracy: 0.3374\n",
      "Epoch 26/200\n",
      "27455/27455 [==============================] - 1s 42us/sample - loss: 2.2926 - accuracy: 0.2702 - val_loss: 2.1868 - val_accuracy: 0.3417\n",
      "Epoch 27/200\n",
      "27455/27455 [==============================] - 1s 42us/sample - loss: 2.2517 - accuracy: 0.2825 - val_loss: 2.1539 - val_accuracy: 0.3378\n",
      "Epoch 28/200\n",
      "27455/27455 [==============================] - 1s 43us/sample - loss: 2.2134 - accuracy: 0.2934 - val_loss: 2.1136 - val_accuracy: 0.3546\n",
      "Epoch 29/200\n",
      "27455/27455 [==============================] - 1s 44us/sample - loss: 2.1834 - accuracy: 0.3011 - val_loss: 2.0824 - val_accuracy: 0.3656\n",
      "Epoch 30/200\n",
      "27455/27455 [==============================] - 1s 42us/sample - loss: 2.1484 - accuracy: 0.3111 - val_loss: 2.0600 - val_accuracy: 0.3663\n",
      "Epoch 31/200\n",
      "27455/27455 [==============================] - 1s 42us/sample - loss: 2.1200 - accuracy: 0.3178 - val_loss: 2.0244 - val_accuracy: 0.3880\n",
      "Epoch 32/200\n",
      "27455/27455 [==============================] - 1s 42us/sample - loss: 2.0849 - accuracy: 0.3351 - val_loss: 1.9932 - val_accuracy: 0.3939\n",
      "Epoch 33/200\n",
      "27455/27455 [==============================] - 1s 43us/sample - loss: 2.0595 - accuracy: 0.3390 - val_loss: 1.9737 - val_accuracy: 0.3958\n",
      "Epoch 34/200\n",
      "27455/27455 [==============================] - 1s 43us/sample - loss: 2.0246 - accuracy: 0.3500 - val_loss: 1.9461 - val_accuracy: 0.4021\n",
      "Epoch 35/200\n",
      "27455/27455 [==============================] - 1s 44us/sample - loss: 2.0018 - accuracy: 0.3540 - val_loss: 1.9203 - val_accuracy: 0.4155\n",
      "Epoch 36/200\n",
      "27455/27455 [==============================] - 1s 44us/sample - loss: 1.9788 - accuracy: 0.3591 - val_loss: 1.9025 - val_accuracy: 0.4209\n",
      "Epoch 37/200\n",
      "27455/27455 [==============================] - 1s 42us/sample - loss: 1.9464 - accuracy: 0.3701 - val_loss: 1.8825 - val_accuracy: 0.4254\n",
      "Epoch 38/200\n",
      "27455/27455 [==============================] - 1s 43us/sample - loss: 1.9203 - accuracy: 0.3819 - val_loss: 1.8570 - val_accuracy: 0.4265\n",
      "Epoch 39/200\n",
      "27455/27455 [==============================] - 1s 43us/sample - loss: 1.8941 - accuracy: 0.3919 - val_loss: 1.8330 - val_accuracy: 0.4431\n",
      "Epoch 40/200\n",
      "27455/27455 [==============================] - 1s 43us/sample - loss: 1.8688 - accuracy: 0.3960 - val_loss: 1.8161 - val_accuracy: 0.4617\n",
      "Epoch 41/200\n",
      "27455/27455 [==============================] - 1s 43us/sample - loss: 1.8469 - accuracy: 0.4055 - val_loss: 1.7996 - val_accuracy: 0.4516\n",
      "Epoch 42/200\n",
      "27455/27455 [==============================] - 1s 43us/sample - loss: 1.8201 - accuracy: 0.4116 - val_loss: 1.7776 - val_accuracy: 0.4626\n",
      "Epoch 43/200\n",
      "27455/27455 [==============================] - 1s 43us/sample - loss: 1.7990 - accuracy: 0.4187 - val_loss: 1.7607 - val_accuracy: 0.4618\n",
      "Epoch 44/200\n",
      "27455/27455 [==============================] - 1s 44us/sample - loss: 1.7780 - accuracy: 0.4216 - val_loss: 1.7380 - val_accuracy: 0.4688\n",
      "Epoch 45/200\n",
      "27455/27455 [==============================] - 1s 43us/sample - loss: 1.7519 - accuracy: 0.4356 - val_loss: 1.7257 - val_accuracy: 0.4631\n",
      "Epoch 46/200\n",
      "27455/27455 [==============================] - 1s 43us/sample - loss: 1.7319 - accuracy: 0.4379 - val_loss: 1.7059 - val_accuracy: 0.4702\n",
      "Epoch 47/200\n",
      "27455/27455 [==============================] - 1s 42us/sample - loss: 1.7073 - accuracy: 0.4459 - val_loss: 1.6855 - val_accuracy: 0.4831\n",
      "Epoch 48/200\n",
      "27455/27455 [==============================] - 1s 42us/sample - loss: 1.6897 - accuracy: 0.4530 - val_loss: 1.6661 - val_accuracy: 0.4798\n",
      "Epoch 49/200\n",
      "27455/27455 [==============================] - 1s 42us/sample - loss: 1.6655 - accuracy: 0.4578 - val_loss: 1.6571 - val_accuracy: 0.4842\n",
      "Epoch 50/200\n",
      "27455/27455 [==============================] - 1s 43us/sample - loss: 1.6461 - accuracy: 0.4671 - val_loss: 1.6383 - val_accuracy: 0.4876\n",
      "Epoch 51/200\n",
      "27455/27455 [==============================] - 1s 43us/sample - loss: 1.6311 - accuracy: 0.4717 - val_loss: 1.6314 - val_accuracy: 0.4771\n",
      "Epoch 52/200\n",
      "27455/27455 [==============================] - 1s 42us/sample - loss: 1.6105 - accuracy: 0.4793 - val_loss: 1.6260 - val_accuracy: 0.4766\n",
      "Epoch 53/200\n",
      "27455/27455 [==============================] - 1s 43us/sample - loss: 1.5886 - accuracy: 0.4846 - val_loss: 1.5935 - val_accuracy: 0.5001\n",
      "Epoch 54/200\n",
      "27455/27455 [==============================] - 1s 42us/sample - loss: 1.5766 - accuracy: 0.4849 - val_loss: 1.5869 - val_accuracy: 0.4925\n"
     ]
    },
    {
     "name": "stdout",
     "output_type": "stream",
     "text": [
      "Epoch 55/200\n",
      "27455/27455 [==============================] - 1s 43us/sample - loss: 1.5587 - accuracy: 0.4932 - val_loss: 1.5902 - val_accuracy: 0.4964\n",
      "Epoch 56/200\n",
      "27455/27455 [==============================] - 1s 44us/sample - loss: 1.5379 - accuracy: 0.4990 - val_loss: 1.5556 - val_accuracy: 0.5018\n",
      "Epoch 57/200\n",
      "27455/27455 [==============================] - 1s 44us/sample - loss: 1.5161 - accuracy: 0.5053 - val_loss: 1.5399 - val_accuracy: 0.5185\n",
      "Epoch 58/200\n",
      "27455/27455 [==============================] - 1s 45us/sample - loss: 1.4980 - accuracy: 0.5099 - val_loss: 1.5316 - val_accuracy: 0.5124\n",
      "Epoch 59/200\n",
      "27455/27455 [==============================] - 1s 45us/sample - loss: 1.4778 - accuracy: 0.5156 - val_loss: 1.5099 - val_accuracy: 0.5218\n",
      "Epoch 60/200\n",
      "27455/27455 [==============================] - 1s 46us/sample - loss: 1.4625 - accuracy: 0.5224 - val_loss: 1.5037 - val_accuracy: 0.5227\n",
      "Epoch 61/200\n",
      "27455/27455 [==============================] - 1s 45us/sample - loss: 1.4481 - accuracy: 0.5252 - val_loss: 1.4939 - val_accuracy: 0.5230\n",
      "Epoch 62/200\n",
      "27455/27455 [==============================] - 1s 45us/sample - loss: 1.4342 - accuracy: 0.5300 - val_loss: 1.4853 - val_accuracy: 0.5265\n",
      "Epoch 63/200\n",
      "27455/27455 [==============================] - 1s 45us/sample - loss: 1.4188 - accuracy: 0.5401 - val_loss: 1.4751 - val_accuracy: 0.5266\n",
      "Epoch 64/200\n",
      "27455/27455 [==============================] - 1s 45us/sample - loss: 1.4032 - accuracy: 0.5409 - val_loss: 1.4656 - val_accuracy: 0.5321\n",
      "Epoch 65/200\n",
      "27455/27455 [==============================] - 1s 45us/sample - loss: 1.3882 - accuracy: 0.5457 - val_loss: 1.4550 - val_accuracy: 0.5336\n",
      "Epoch 66/200\n",
      "27455/27455 [==============================] - 1s 45us/sample - loss: 1.3741 - accuracy: 0.5484 - val_loss: 1.4582 - val_accuracy: 0.5216\n",
      "Epoch 67/200\n",
      "27455/27455 [==============================] - 1s 45us/sample - loss: 1.3564 - accuracy: 0.5544 - val_loss: 1.4300 - val_accuracy: 0.5475\n",
      "Epoch 68/200\n",
      "27455/27455 [==============================] - 1s 44us/sample - loss: 1.3438 - accuracy: 0.5596 - val_loss: 1.4352 - val_accuracy: 0.5428\n",
      "Epoch 69/200\n",
      "27455/27455 [==============================] - 1s 45us/sample - loss: 1.3292 - accuracy: 0.5629 - val_loss: 1.4124 - val_accuracy: 0.5549\n",
      "Epoch 70/200\n",
      "27455/27455 [==============================] - 1s 45us/sample - loss: 1.3155 - accuracy: 0.5697 - val_loss: 1.3959 - val_accuracy: 0.5559\n",
      "Epoch 71/200\n",
      "27455/27455 [==============================] - 1s 45us/sample - loss: 1.3060 - accuracy: 0.5693 - val_loss: 1.3904 - val_accuracy: 0.5671\n",
      "Epoch 72/200\n",
      "27455/27455 [==============================] - 1s 46us/sample - loss: 1.2916 - accuracy: 0.5750 - val_loss: 1.3950 - val_accuracy: 0.5623\n",
      "Epoch 73/200\n",
      "27455/27455 [==============================] - 1s 44us/sample - loss: 1.2808 - accuracy: 0.5746 - val_loss: 1.3730 - val_accuracy: 0.5717\n",
      "Epoch 74/200\n",
      "27455/27455 [==============================] - 1s 43us/sample - loss: 1.2629 - accuracy: 0.5838 - val_loss: 1.3652 - val_accuracy: 0.5746\n",
      "Epoch 75/200\n",
      "27455/27455 [==============================] - 1s 43us/sample - loss: 1.2516 - accuracy: 0.5892 - val_loss: 1.3616 - val_accuracy: 0.5736\n",
      "Epoch 76/200\n",
      "27455/27455 [==============================] - 1s 43us/sample - loss: 1.2341 - accuracy: 0.5954 - val_loss: 1.3529 - val_accuracy: 0.5771\n",
      "Epoch 77/200\n",
      "27455/27455 [==============================] - 1s 43us/sample - loss: 1.2248 - accuracy: 0.5981 - val_loss: 1.3452 - val_accuracy: 0.5784\n",
      "Epoch 78/200\n",
      "27455/27455 [==============================] - 1s 43us/sample - loss: 1.2123 - accuracy: 0.6008 - val_loss: 1.3291 - val_accuracy: 0.5910\n",
      "Epoch 79/200\n",
      "27455/27455 [==============================] - 1s 44us/sample - loss: 1.2031 - accuracy: 0.6053 - val_loss: 1.3373 - val_accuracy: 0.5866\n",
      "Epoch 80/200\n",
      "27455/27455 [==============================] - 1s 43us/sample - loss: 1.1916 - accuracy: 0.6071 - val_loss: 1.3167 - val_accuracy: 0.5909\n",
      "Epoch 81/200\n",
      "27455/27455 [==============================] - 1s 43us/sample - loss: 1.1799 - accuracy: 0.6086 - val_loss: 1.3133 - val_accuracy: 0.5948\n",
      "Epoch 82/200\n",
      "27455/27455 [==============================] - 1s 43us/sample - loss: 1.1679 - accuracy: 0.6156 - val_loss: 1.3022 - val_accuracy: 0.5980\n",
      "Epoch 83/200\n",
      "27455/27455 [==============================] - 1s 44us/sample - loss: 1.1615 - accuracy: 0.6136 - val_loss: 1.3113 - val_accuracy: 0.5906\n",
      "Epoch 84/200\n",
      "27455/27455 [==============================] - 1s 43us/sample - loss: 1.1477 - accuracy: 0.6223 - val_loss: 1.2912 - val_accuracy: 0.6035\n",
      "Epoch 85/200\n",
      "27455/27455 [==============================] - 1s 43us/sample - loss: 1.1410 - accuracy: 0.6219 - val_loss: 1.2828 - val_accuracy: 0.6030\n",
      "Epoch 86/200\n",
      "27455/27455 [==============================] - 1s 43us/sample - loss: 1.1227 - accuracy: 0.6289 - val_loss: 1.2777 - val_accuracy: 0.6067\n",
      "Epoch 87/200\n",
      "27455/27455 [==============================] - 1s 43us/sample - loss: 1.1141 - accuracy: 0.6292 - val_loss: 1.2693 - val_accuracy: 0.6108\n",
      "Epoch 88/200\n",
      "27455/27455 [==============================] - 1s 43us/sample - loss: 1.1027 - accuracy: 0.6367 - val_loss: 1.2700 - val_accuracy: 0.6141\n",
      "Epoch 89/200\n",
      "27455/27455 [==============================] - 1s 43us/sample - loss: 1.0940 - accuracy: 0.6376 - val_loss: 1.2663 - val_accuracy: 0.6089\n",
      "Epoch 90/200\n",
      "27455/27455 [==============================] - 1s 43us/sample - loss: 1.0907 - accuracy: 0.6405 - val_loss: 1.2584 - val_accuracy: 0.6134\n",
      "Epoch 91/200\n",
      "27455/27455 [==============================] - 1s 43us/sample - loss: 1.0779 - accuracy: 0.6448 - val_loss: 1.2647 - val_accuracy: 0.5984\n",
      "Epoch 92/200\n",
      "27455/27455 [==============================] - 1s 43us/sample - loss: 1.0640 - accuracy: 0.6471 - val_loss: 1.2544 - val_accuracy: 0.6022\n",
      "Epoch 93/200\n",
      "27455/27455 [==============================] - 1s 44us/sample - loss: 1.0565 - accuracy: 0.6503 - val_loss: 1.2375 - val_accuracy: 0.6089\n",
      "Epoch 94/200\n",
      "27455/27455 [==============================] - 1s 44us/sample - loss: 1.0491 - accuracy: 0.6506 - val_loss: 1.2341 - val_accuracy: 0.6111\n",
      "Epoch 95/200\n",
      "27455/27455 [==============================] - 1s 44us/sample - loss: 1.0349 - accuracy: 0.6585 - val_loss: 1.2372 - val_accuracy: 0.6134\n",
      "Epoch 96/200\n",
      "27455/27455 [==============================] - 1s 44us/sample - loss: 1.0286 - accuracy: 0.6600 - val_loss: 1.2309 - val_accuracy: 0.6128\n",
      "Epoch 97/200\n",
      "27455/27455 [==============================] - 1s 44us/sample - loss: 1.0224 - accuracy: 0.6635 - val_loss: 1.2190 - val_accuracy: 0.6256\n",
      "Epoch 98/200\n",
      "27455/27455 [==============================] - 1s 44us/sample - loss: 1.0131 - accuracy: 0.6684 - val_loss: 1.2110 - val_accuracy: 0.6228\n",
      "Epoch 99/200\n",
      "27455/27455 [==============================] - 1s 43us/sample - loss: 0.9991 - accuracy: 0.6724 - val_loss: 1.2028 - val_accuracy: 0.6284\n",
      "Epoch 100/200\n",
      "27455/27455 [==============================] - 1s 43us/sample - loss: 0.9905 - accuracy: 0.6740 - val_loss: 1.2037 - val_accuracy: 0.6309\n",
      "Epoch 101/200\n",
      "27455/27455 [==============================] - 1s 43us/sample - loss: 0.9808 - accuracy: 0.6762 - val_loss: 1.2008 - val_accuracy: 0.6293\n",
      "Epoch 102/200\n",
      "27455/27455 [==============================] - 1s 43us/sample - loss: 0.9750 - accuracy: 0.6781 - val_loss: 1.2013 - val_accuracy: 0.6163\n",
      "Epoch 103/200\n",
      "27455/27455 [==============================] - 1s 43us/sample - loss: 0.9686 - accuracy: 0.6794 - val_loss: 1.1813 - val_accuracy: 0.6389\n",
      "Epoch 104/200\n",
      "27455/27455 [==============================] - 1s 43us/sample - loss: 0.9622 - accuracy: 0.6840 - val_loss: 1.1846 - val_accuracy: 0.6312\n",
      "Epoch 105/200\n",
      "27455/27455 [==============================] - 1s 43us/sample - loss: 0.9554 - accuracy: 0.6849 - val_loss: 1.1748 - val_accuracy: 0.6362\n",
      "Epoch 106/200\n",
      "27455/27455 [==============================] - 1s 43us/sample - loss: 0.9473 - accuracy: 0.6884 - val_loss: 1.1750 - val_accuracy: 0.6378\n",
      "Epoch 107/200\n",
      "27455/27455 [==============================] - 1s 43us/sample - loss: 0.9379 - accuracy: 0.6913 - val_loss: 1.1706 - val_accuracy: 0.6365\n",
      "Epoch 108/200\n",
      "27455/27455 [==============================] - 1s 45us/sample - loss: 0.9256 - accuracy: 0.6951 - val_loss: 1.1742 - val_accuracy: 0.6385\n",
      "Epoch 109/200\n",
      "27455/27455 [==============================] - 1s 43us/sample - loss: 0.9243 - accuracy: 0.6949 - val_loss: 1.1577 - val_accuracy: 0.6431\n",
      "Epoch 110/200\n",
      "27455/27455 [==============================] - 1s 42us/sample - loss: 0.9201 - accuracy: 0.6950 - val_loss: 1.1580 - val_accuracy: 0.6400\n",
      "Epoch 111/200\n",
      "27455/27455 [==============================] - 1s 42us/sample - loss: 0.9036 - accuracy: 0.7019 - val_loss: 1.1519 - val_accuracy: 0.6392\n",
      "Epoch 112/200\n",
      "27455/27455 [==============================] - 1s 43us/sample - loss: 0.9055 - accuracy: 0.7002 - val_loss: 1.1593 - val_accuracy: 0.6426\n",
      "Epoch 113/200\n",
      "27455/27455 [==============================] - 1s 43us/sample - loss: 0.8930 - accuracy: 0.7041 - val_loss: 1.1422 - val_accuracy: 0.6497\n",
      "Epoch 114/200\n",
      "27455/27455 [==============================] - 1s 43us/sample - loss: 0.8863 - accuracy: 0.7078 - val_loss: 1.1427 - val_accuracy: 0.6502\n",
      "Epoch 115/200\n",
      "27455/27455 [==============================] - 1s 43us/sample - loss: 0.8771 - accuracy: 0.7157 - val_loss: 1.1370 - val_accuracy: 0.6555\n",
      "Epoch 116/200\n",
      "27455/27455 [==============================] - 1s 43us/sample - loss: 0.8756 - accuracy: 0.7126 - val_loss: 1.1269 - val_accuracy: 0.6535\n",
      "Epoch 117/200\n",
      "27455/27455 [==============================] - 1s 44us/sample - loss: 0.8657 - accuracy: 0.7160 - val_loss: 1.1306 - val_accuracy: 0.6453\n",
      "Epoch 118/200\n",
      "27455/27455 [==============================] - 1s 45us/sample - loss: 0.8555 - accuracy: 0.7183 - val_loss: 1.1376 - val_accuracy: 0.6504\n",
      "Epoch 119/200\n",
      "27455/27455 [==============================] - 1s 45us/sample - loss: 0.8519 - accuracy: 0.7183 - val_loss: 1.1312 - val_accuracy: 0.6549\n",
      "Epoch 120/200\n",
      "27455/27455 [==============================] - 1s 45us/sample - loss: 0.8432 - accuracy: 0.7213 - val_loss: 1.1460 - val_accuracy: 0.6411\n",
      "Epoch 121/200\n",
      "27455/27455 [==============================] - 1s 45us/sample - loss: 0.8406 - accuracy: 0.7234 - val_loss: 1.1164 - val_accuracy: 0.6615\n",
      "Epoch 122/200\n",
      "27455/27455 [==============================] - 1s 45us/sample - loss: 0.8329 - accuracy: 0.7262 - val_loss: 1.1163 - val_accuracy: 0.6573\n",
      "Epoch 123/200\n",
      "27455/27455 [==============================] - 1s 45us/sample - loss: 0.8258 - accuracy: 0.7315 - val_loss: 1.1106 - val_accuracy: 0.6601\n",
      "Epoch 124/200\n",
      "27455/27455 [==============================] - 1s 44us/sample - loss: 0.8212 - accuracy: 0.7302 - val_loss: 1.0997 - val_accuracy: 0.6595\n",
      "Epoch 125/200\n",
      "27455/27455 [==============================] - 1s 43us/sample - loss: 0.8167 - accuracy: 0.7315 - val_loss: 1.1004 - val_accuracy: 0.6584\n",
      "Epoch 126/200\n",
      "27455/27455 [==============================] - 1s 43us/sample - loss: 0.8103 - accuracy: 0.7329 - val_loss: 1.1116 - val_accuracy: 0.6602\n",
      "Epoch 127/200\n",
      "27455/27455 [==============================] - 1s 43us/sample - loss: 0.8028 - accuracy: 0.7369 - val_loss: 1.1025 - val_accuracy: 0.6599\n",
      "Epoch 128/200\n",
      "27455/27455 [==============================] - 1s 43us/sample - loss: 0.7908 - accuracy: 0.7411 - val_loss: 1.0961 - val_accuracy: 0.6648\n",
      "Epoch 129/200\n",
      "27455/27455 [==============================] - 1s 43us/sample - loss: 0.7951 - accuracy: 0.7388 - val_loss: 1.0964 - val_accuracy: 0.6662\n",
      "Epoch 130/200\n",
      "27455/27455 [==============================] - 1s 43us/sample - loss: 0.7813 - accuracy: 0.7444 - val_loss: 1.0947 - val_accuracy: 0.6570\n",
      "Epoch 131/200\n",
      "27455/27455 [==============================] - 1s 43us/sample - loss: 0.7767 - accuracy: 0.7441 - val_loss: 1.0915 - val_accuracy: 0.6661\n",
      "Epoch 132/200\n",
      "27455/27455 [==============================] - 1s 43us/sample - loss: 0.7721 - accuracy: 0.7469 - val_loss: 1.1017 - val_accuracy: 0.6570\n",
      "Epoch 133/200\n",
      "27455/27455 [==============================] - 1s 43us/sample - loss: 0.7609 - accuracy: 0.7539 - val_loss: 1.0814 - val_accuracy: 0.6695\n",
      "Epoch 134/200\n",
      "27455/27455 [==============================] - 1s 43us/sample - loss: 0.7569 - accuracy: 0.7508 - val_loss: 1.0791 - val_accuracy: 0.6612\n",
      "Epoch 135/200\n",
      "27455/27455 [==============================] - 1s 43us/sample - loss: 0.7541 - accuracy: 0.7510 - val_loss: 1.0765 - val_accuracy: 0.6647\n",
      "Epoch 136/200\n",
      "27455/27455 [==============================] - 1s 42us/sample - loss: 0.7540 - accuracy: 0.7523 - val_loss: 1.0731 - val_accuracy: 0.6666\n",
      "Epoch 137/200\n",
      "27455/27455 [==============================] - 1s 43us/sample - loss: 0.7376 - accuracy: 0.7600 - val_loss: 1.0678 - val_accuracy: 0.6624\n",
      "Epoch 138/200\n",
      "27455/27455 [==============================] - 1s 43us/sample - loss: 0.7337 - accuracy: 0.7608 - val_loss: 1.0737 - val_accuracy: 0.6655\n",
      "Epoch 139/200\n",
      "27455/27455 [==============================] - 1s 43us/sample - loss: 0.7314 - accuracy: 0.7628 - val_loss: 1.0849 - val_accuracy: 0.6645\n",
      "Epoch 140/200\n",
      "27455/27455 [==============================] - 1s 43us/sample - loss: 0.7278 - accuracy: 0.7648 - val_loss: 1.0750 - val_accuracy: 0.6669\n",
      "Epoch 141/200\n",
      "27455/27455 [==============================] - 1s 43us/sample - loss: 0.7213 - accuracy: 0.7644 - val_loss: 1.0653 - val_accuracy: 0.6712\n",
      "Epoch 142/200\n",
      "27455/27455 [==============================] - 1s 43us/sample - loss: 0.7125 - accuracy: 0.7683 - val_loss: 1.0624 - val_accuracy: 0.6708\n",
      "Epoch 143/200\n",
      "27455/27455 [==============================] - 1s 43us/sample - loss: 0.7121 - accuracy: 0.7649 - val_loss: 1.0682 - val_accuracy: 0.6723\n",
      "Epoch 144/200\n",
      "27455/27455 [==============================] - 1s 44us/sample - loss: 0.7084 - accuracy: 0.7716 - val_loss: 1.0548 - val_accuracy: 0.6764\n",
      "Epoch 145/200\n",
      "27455/27455 [==============================] - 1s 43us/sample - loss: 0.6968 - accuracy: 0.7738 - val_loss: 1.0633 - val_accuracy: 0.6806\n",
      "Epoch 146/200\n",
      "27455/27455 [==============================] - 1s 43us/sample - loss: 0.6926 - accuracy: 0.7765 - val_loss: 1.0630 - val_accuracy: 0.6709\n",
      "Epoch 147/200\n",
      "27455/27455 [==============================] - 1s 43us/sample - loss: 0.6903 - accuracy: 0.7761 - val_loss: 1.0546 - val_accuracy: 0.6723\n",
      "Epoch 148/200\n",
      "27455/27455 [==============================] - 1s 43us/sample - loss: 0.6838 - accuracy: 0.7757 - val_loss: 1.0523 - val_accuracy: 0.6796\n",
      "Epoch 149/200\n",
      "27455/27455 [==============================] - 1s 43us/sample - loss: 0.6813 - accuracy: 0.7778 - val_loss: 1.0447 - val_accuracy: 0.6775\n",
      "Epoch 150/200\n",
      "27455/27455 [==============================] - 1s 43us/sample - loss: 0.6744 - accuracy: 0.7798 - val_loss: 1.0465 - val_accuracy: 0.6843\n",
      "Epoch 151/200\n",
      "27455/27455 [==============================] - 1s 43us/sample - loss: 0.6689 - accuracy: 0.7812 - val_loss: 1.0446 - val_accuracy: 0.6866\n",
      "Epoch 152/200\n",
      "27455/27455 [==============================] - 1s 43us/sample - loss: 0.6631 - accuracy: 0.7840 - val_loss: 1.0564 - val_accuracy: 0.6827\n",
      "Epoch 153/200\n",
      "27455/27455 [==============================] - 1s 43us/sample - loss: 0.6578 - accuracy: 0.7848 - val_loss: 1.0390 - val_accuracy: 0.6850\n",
      "Epoch 154/200\n",
      "27455/27455 [==============================] - 1s 43us/sample - loss: 0.6541 - accuracy: 0.7848 - val_loss: 1.0523 - val_accuracy: 0.6794\n",
      "Epoch 155/200\n",
      "27455/27455 [==============================] - 1s 43us/sample - loss: 0.6497 - accuracy: 0.7889 - val_loss: 1.0381 - val_accuracy: 0.6839\n",
      "Epoch 156/200\n",
      "27455/27455 [==============================] - 1s 43us/sample - loss: 0.6461 - accuracy: 0.7885 - val_loss: 1.0449 - val_accuracy: 0.6818\n",
      "Epoch 157/200\n",
      "27455/27455 [==============================] - 1s 42us/sample - loss: 0.6361 - accuracy: 0.7945 - val_loss: 1.0310 - val_accuracy: 0.6885\n",
      "Epoch 158/200\n",
      "27455/27455 [==============================] - 1s 42us/sample - loss: 0.6306 - accuracy: 0.7934 - val_loss: 1.0317 - val_accuracy: 0.6938\n",
      "Epoch 159/200\n",
      "27455/27455 [==============================] - 1s 43us/sample - loss: 0.6305 - accuracy: 0.7940 - val_loss: 1.0373 - val_accuracy: 0.6853\n",
      "Epoch 160/200\n",
      "27455/27455 [==============================] - 1s 43us/sample - loss: 0.6249 - accuracy: 0.7956 - val_loss: 1.0433 - val_accuracy: 0.6863\n",
      "Epoch 161/200\n",
      "27455/27455 [==============================] - 1s 43us/sample - loss: 0.6237 - accuracy: 0.7964 - val_loss: 1.0293 - val_accuracy: 0.6920\n",
      "Epoch 162/200\n",
      "27455/27455 [==============================] - 1s 43us/sample - loss: 0.6203 - accuracy: 0.7976 - val_loss: 1.0179 - val_accuracy: 0.6983\n"
     ]
    },
    {
     "name": "stdout",
     "output_type": "stream",
     "text": [
      "Epoch 163/200\n",
      "27455/27455 [==============================] - 1s 43us/sample - loss: 0.6156 - accuracy: 0.8010 - val_loss: 1.0455 - val_accuracy: 0.6839\n",
      "Epoch 164/200\n",
      "27455/27455 [==============================] - 1s 43us/sample - loss: 0.6056 - accuracy: 0.8049 - val_loss: 1.0275 - val_accuracy: 0.6948\n",
      "Epoch 165/200\n",
      "27455/27455 [==============================] - 1s 43us/sample - loss: 0.6001 - accuracy: 0.8066 - val_loss: 1.0240 - val_accuracy: 0.6949\n",
      "Epoch 166/200\n",
      "27455/27455 [==============================] - 1s 43us/sample - loss: 0.5985 - accuracy: 0.8073 - val_loss: 1.0194 - val_accuracy: 0.6927\n",
      "Epoch 167/200\n",
      "27455/27455 [==============================] - 1s 44us/sample - loss: 0.5951 - accuracy: 0.8075 - val_loss: 1.0281 - val_accuracy: 0.6920\n",
      "Epoch 168/200\n",
      "27455/27455 [==============================] - 1s 42us/sample - loss: 0.5961 - accuracy: 0.8032 - val_loss: 1.0178 - val_accuracy: 0.6981\n",
      "Epoch 169/200\n",
      "27455/27455 [==============================] - 1s 43us/sample - loss: 0.5906 - accuracy: 0.8092 - val_loss: 1.0215 - val_accuracy: 0.6972\n",
      "Epoch 170/200\n",
      "27455/27455 [==============================] - 1s 42us/sample - loss: 0.5834 - accuracy: 0.8121 - val_loss: 1.0270 - val_accuracy: 0.6946\n",
      "Epoch 171/200\n",
      "27455/27455 [==============================] - 1s 43us/sample - loss: 0.5752 - accuracy: 0.8153 - val_loss: 1.0218 - val_accuracy: 0.6966\n",
      "Epoch 172/200\n",
      "27455/27455 [==============================] - 1s 43us/sample - loss: 0.5740 - accuracy: 0.8127 - val_loss: 1.0173 - val_accuracy: 0.7025\n",
      "Epoch 173/200\n",
      "27455/27455 [==============================] - 1s 43us/sample - loss: 0.5660 - accuracy: 0.8174 - val_loss: 1.0298 - val_accuracy: 0.6930\n",
      "Epoch 174/200\n",
      "27455/27455 [==============================] - 1s 44us/sample - loss: 0.5658 - accuracy: 0.8159 - val_loss: 1.0132 - val_accuracy: 0.6959\n",
      "Epoch 175/200\n",
      "27455/27455 [==============================] - 1s 44us/sample - loss: 0.5610 - accuracy: 0.8204 - val_loss: 1.0115 - val_accuracy: 0.7008\n",
      "Epoch 176/200\n",
      "27455/27455 [==============================] - 1s 43us/sample - loss: 0.5613 - accuracy: 0.8170 - val_loss: 1.0145 - val_accuracy: 0.7038\n",
      "Epoch 177/200\n",
      "27455/27455 [==============================] - 1s 43us/sample - loss: 0.5525 - accuracy: 0.8204 - val_loss: 1.0019 - val_accuracy: 0.7083\n",
      "Epoch 178/200\n",
      "27455/27455 [==============================] - 1s 43us/sample - loss: 0.5485 - accuracy: 0.8253 - val_loss: 1.0120 - val_accuracy: 0.7015\n",
      "Epoch 179/200\n",
      "27455/27455 [==============================] - 1s 44us/sample - loss: 0.5453 - accuracy: 0.8234 - val_loss: 1.0104 - val_accuracy: 0.6992\n",
      "Epoch 180/200\n",
      "27455/27455 [==============================] - 1s 43us/sample - loss: 0.5425 - accuracy: 0.8238 - val_loss: 1.0174 - val_accuracy: 0.7005\n",
      "Epoch 181/200\n",
      "27455/27455 [==============================] - 1s 43us/sample - loss: 0.5399 - accuracy: 0.8279 - val_loss: 1.0058 - val_accuracy: 0.7029\n",
      "Epoch 182/200\n",
      "27455/27455 [==============================] - 1s 43us/sample - loss: 0.5297 - accuracy: 0.8298 - val_loss: 1.0166 - val_accuracy: 0.7004\n",
      "Epoch 183/200\n",
      "27455/27455 [==============================] - 1s 43us/sample - loss: 0.5262 - accuracy: 0.8342 - val_loss: 1.0102 - val_accuracy: 0.7065\n",
      "Epoch 184/200\n",
      "27455/27455 [==============================] - 1s 44us/sample - loss: 0.5251 - accuracy: 0.8315 - val_loss: 1.0096 - val_accuracy: 0.7093\n",
      "Epoch 185/200\n",
      "27455/27455 [==============================] - 1s 44us/sample - loss: 0.5226 - accuracy: 0.8335 - val_loss: 1.0108 - val_accuracy: 0.7076\n",
      "Epoch 186/200\n",
      "27455/27455 [==============================] - 1s 43us/sample - loss: 0.5214 - accuracy: 0.8346 - val_loss: 1.0095 - val_accuracy: 0.7032\n",
      "Epoch 187/200\n",
      "27455/27455 [==============================] - 1s 43us/sample - loss: 0.5149 - accuracy: 0.8336 - val_loss: 1.0098 - val_accuracy: 0.7025\n",
      "Epoch 188/200\n",
      "27455/27455 [==============================] - 1s 43us/sample - loss: 0.5104 - accuracy: 0.8389 - val_loss: 1.0027 - val_accuracy: 0.7112\n",
      "Epoch 189/200\n",
      "27455/27455 [==============================] - 1s 44us/sample - loss: 0.5069 - accuracy: 0.8374 - val_loss: 1.0008 - val_accuracy: 0.7051\n",
      "Epoch 190/200\n",
      "27455/27455 [==============================] - 1s 43us/sample - loss: 0.5014 - accuracy: 0.8409 - val_loss: 1.0266 - val_accuracy: 0.6970\n",
      "Epoch 191/200\n",
      "27455/27455 [==============================] - 1s 43us/sample - loss: 0.4950 - accuracy: 0.8419 - val_loss: 1.0177 - val_accuracy: 0.7018\n",
      "Epoch 192/200\n",
      "27455/27455 [==============================] - 1s 43us/sample - loss: 0.4990 - accuracy: 0.8412 - val_loss: 1.0006 - val_accuracy: 0.7087\n",
      "Epoch 193/200\n",
      "27455/27455 [==============================] - 1s 43us/sample - loss: 0.4982 - accuracy: 0.8410 - val_loss: 1.0178 - val_accuracy: 0.7016\n",
      "Epoch 194/200\n",
      "27455/27455 [==============================] - 1s 43us/sample - loss: 0.4874 - accuracy: 0.8432 - val_loss: 1.0164 - val_accuracy: 0.7022\n",
      "Epoch 195/200\n",
      "27455/27455 [==============================] - 1s 43us/sample - loss: 0.4857 - accuracy: 0.8465 - val_loss: 0.9989 - val_accuracy: 0.7079\n",
      "Epoch 196/200\n",
      "27455/27455 [==============================] - 1s 43us/sample - loss: 0.4838 - accuracy: 0.8455 - val_loss: 1.0074 - val_accuracy: 0.7110\n",
      "Epoch 197/200\n",
      "27455/27455 [==============================] - 1s 43us/sample - loss: 0.4837 - accuracy: 0.8446 - val_loss: 1.0182 - val_accuracy: 0.6988\n",
      "Epoch 198/200\n",
      "27455/27455 [==============================] - 1s 43us/sample - loss: 0.4744 - accuracy: 0.8497 - val_loss: 1.0066 - val_accuracy: 0.7097\n",
      "Epoch 199/200\n",
      "27455/27455 [==============================] - 1s 43us/sample - loss: 0.4747 - accuracy: 0.8484 - val_loss: 1.0009 - val_accuracy: 0.7013\n",
      "Epoch 200/200\n",
      "27455/27455 [==============================] - 1s 43us/sample - loss: 0.4712 - accuracy: 0.8478 - val_loss: 1.0018 - val_accuracy: 0.7125\n"
     ]
    }
   ],
   "source": [
    "sgd_optimizer = tf.keras.optimizers.SGD(lr=0.001, decay=1e-7)\n",
    "\n",
    "model_MLP.compile(optimizer=sgd_optimizer, loss='categorical_crossentropy', metrics=['accuracy'])\n",
    "\n",
    "history_MLP = model_MLP.fit(X_train_MLP, y_train_MLP, validation_data=(X_test_MLP, y_test_MLP), \n",
    "                            batch_size=64, epochs=200, verbose=1)"
   ]
  },
  {
   "cell_type": "code",
   "execution_count": 55,
   "metadata": {},
   "outputs": [
    {
     "data": {
      "text/plain": [
       "0.3944506413831567"
      ]
     },
     "execution_count": 55,
     "metadata": {},
     "output_type": "execute_result"
    }
   ],
   "source": [
    "# not quite sure, why it shows different accuracy score from .evaluate version\n",
    "y_preds = model_MLP.predict_classes(X_test_MLP)\n",
    "accuracy_score(y_test, y_preds)"
   ]
  },
  {
   "cell_type": "code",
   "execution_count": 56,
   "metadata": {},
   "outputs": [
    {
     "name": "stdout",
     "output_type": "stream",
     "text": [
      "7172/1 - 0s - loss: 0.7858 - accuracy: 0.7125\n"
     ]
    }
   ],
   "source": [
    "# but the evaluation shows better results:\n",
    "res = model_MLP.evaluate(X_test_MLP, y_test_MLP, verbose=2)\n",
    "accuracy_MLP = res[1]"
   ]
  },
  {
   "cell_type": "code",
   "execution_count": 57,
   "metadata": {},
   "outputs": [],
   "source": [
    "y_preds_MLP = model_MLP.predict_classes(X_test_MLP)"
   ]
  },
  {
   "cell_type": "code",
   "execution_count": 58,
   "metadata": {},
   "outputs": [
    {
     "data": {
      "image/png": "[encoded data removed]",
      "text/plain": [
       "<Figure size 288x288 with 2 Axes>"
      ]
     },
     "metadata": {
      "needs_background": "light"
     },
     "output_type": "display_data"
    }
   ],
   "source": [
    "cm_MLP = confusion_matrix(y_test, pd.Series(y_preds_MLP))\n",
    "\n",
    "# Show confusion matrix in a separate window\n",
    "plt.matshow(cm_MLP)\n",
    "plt.title('Confusion matrix\\n')\n",
    "plt.colorbar()\n",
    "plt.ylabel('True label')\n",
    "plt.xlabel('Predicted label')\n",
    "plt.show()"
   ]
  },
  {
   "cell_type": "code",
   "execution_count": 59,
   "metadata": {},
   "outputs": [],
   "source": [
    "accuracy_MLP = accuracy_score(y_test, pd.Series(y_preds_MLP))\n",
    "precision_MLP = metrics.precision_score(y_test, y_preds_MLP, average='micro')\n",
    "recall_MLP = metrics.recall_score(y_test, y_preds_MLP, average='micro')"
   ]
  },
  {
   "cell_type": "code",
   "execution_count": 60,
   "metadata": {},
   "outputs": [
    {
     "name": "stdout",
     "output_type": "stream",
     "text": [
      "0.3944506413831567\n"
     ]
    }
   ],
   "source": [
    "print(recall_MLP)"
   ]
  },
  {
   "cell_type": "markdown",
   "metadata": {},
   "source": [
    "### Sklearn Method 6: Convolutional Network 2D"
   ]
  },
  {
   "cell_type": "code",
   "execution_count": 61,
   "metadata": {},
   "outputs": [
    {
     "name": "stdout",
     "output_type": "stream",
     "text": [
      "X_train.shape:  (27455, 28, 28, 1)\n",
      "y_train.shape (27455, 24)\n",
      "X_test.shape (7172, 28, 28, 1)\n",
      "y_test.shape (7172, 24)\n"
     ]
    }
   ],
   "source": [
    "# just for reminder of set names:\n",
    "#X_train_Conv.shape\n",
    "#y_train_Conv\n",
    "\n",
    "#X_test_Conv\n",
    "#y_test_Conv\n",
    "\n",
    "# check their shapes\n",
    "print(\"X_train.shape: \", X_train_Conv.shape)\n",
    "print(\"y_train.shape\", y_train_Conv.shape)\n",
    "\n",
    "print(\"X_test.shape\", X_test_Conv.shape)\n",
    "print(\"y_test.shape\", y_test_Conv.shape)"
   ]
  },
  {
   "cell_type": "code",
   "execution_count": 62,
   "metadata": {},
   "outputs": [],
   "source": [
    "# I made a mistake when it was looping over 1st layer, but it still had no more than 92% accuracy, \n",
    "# thus let's just start from 2 hidden layers right away\n",
    "\n",
    "def build_model(n_hidden, n_neurons, double_neurons):\n",
    "    \n",
    "    model = tf.keras.models.Sequential()\n",
    "    model.add(tf.keras.layers.Conv2D(n_neurons, 3, activation = 'relu', input_shape=(28, 28 ,1) ))\n",
    "    model.add(tf.keras.layers.MaxPooling2D(2))\n",
    "\n",
    "    for layer in range(0, n_hidden):\n",
    "        \n",
    "        if(double_neurons):            \n",
    "            model.add(tf.keras.layers.Conv2D(n_neurons, 3, activation = 'relu'))\n",
    "            model.add(tf.keras.layers.MaxPooling2D(2))\n",
    "            n_neurons = n_neurons * 2\n",
    "            \n",
    "        else:\n",
    "            model.add(tf.keras.layers.Conv2D(n_neurons, 3, activation = 'relu'))\n",
    "            model.add(tf.keras.layers.MaxPooling2D(2))\n",
    "            \n",
    "\n",
    "    model.add(tf.keras.layers.Flatten())\n",
    "    model.add(tf.keras.layers.Dense(128, activation = 'relu'))\n",
    "    model.add(tf.keras.layers.Dropout(0.20))\n",
    "\n",
    "    model.add(tf.keras.layers.Dense(24, activation = 'softmax'))\n",
    "    \n",
    "    return model"
   ]
  },
  {
   "cell_type": "code",
   "execution_count": 63,
   "metadata": {},
   "outputs": [
    {
     "name": "stdout",
     "output_type": "stream",
     "text": [
      "Train on 27455 samples\n",
      "Epoch 1/5\n",
      "27455/27455 [==============================] - 12s 448us/sample - loss: 1.6838 - accuracy: 0.4608\n",
      "Epoch 2/5\n",
      "27455/27455 [==============================] - 12s 429us/sample - loss: 0.5209 - accuracy: 0.8221\n",
      "Epoch 3/5\n",
      "27455/27455 [==============================] - 12s 429us/sample - loss: 0.2666 - accuracy: 0.9087\n",
      "Epoch 4/5\n",
      "27455/27455 [==============================] - 12s 430us/sample - loss: 0.1410 - accuracy: 0.9540\n",
      "Epoch 5/5\n",
      "27455/27455 [==============================] - 12s 429us/sample - loss: 0.0958 - accuracy: 0.9690\n",
      "7172/1 - 1s - loss: 0.5772 - accuracy: 0.8668\n",
      "hidden layers: 2\n",
      "neurons in each: 32\n",
      "Accuracy:  0.8668433 ; Loss:  0.4781447350147777\n",
      "*******\n",
      "\n",
      "Train on 27455 samples\n",
      "Epoch 1/5\n",
      "27455/27455 [==============================] - 14s 501us/sample - loss: 1.6493 - accuracy: 0.4680- l\n",
      "Epoch 2/5\n",
      "27455/27455 [==============================] - 13s 483us/sample - loss: 0.5279 - accuracy: 0.8186- loss:\n",
      "Epoch 3/5\n",
      "27455/27455 [==============================] - 13s 483us/sample - loss: 0.2581 - accuracy: 0.9110\n",
      "Epoch 4/5\n",
      "27455/27455 [==============================] - 13s 484us/sample - loss: 0.1238 - accuracy: 0.9597\n",
      "Epoch 5/5\n",
      "27455/27455 [==============================] - 13s 485us/sample - loss: 0.0753 - accuracy: 0.9772\n",
      "7172/1 - 1s - loss: 1.5649 - accuracy: 0.8583\n",
      "hidden layers: 2\n",
      "neurons in each: 34\n",
      "Accuracy:  0.858338 ; Loss:  0.581658994426823\n",
      "*******\n",
      "\n",
      "Train on 27455 samples\n",
      "Epoch 1/5\n",
      "27455/27455 [==============================] - 14s 523us/sample - loss: 1.7121 - accuracy: 0.4490\n",
      "Epoch 2/5\n",
      "27455/27455 [==============================] - 14s 510us/sample - loss: 0.5764 - accuracy: 0.8031\n",
      "Epoch 3/5\n",
      "27455/27455 [==============================] - 14s 509us/sample - loss: 0.2911 - accuracy: 0.9027\n",
      "Epoch 4/5\n",
      "27455/27455 [==============================] - 14s 510us/sample - loss: 0.1581 - accuracy: 0.9476\n",
      "Epoch 5/5\n",
      "27455/27455 [==============================] - 14s 509us/sample - loss: 0.0926 - accuracy: 0.9708\n",
      "7172/1 - 1s - loss: 1.0127 - accuracy: 0.8422\n",
      "hidden layers: 2\n",
      "neurons in each: 36\n",
      "Accuracy:  0.842164 ; Loss:  0.5385296195163716\n",
      "*******\n",
      "\n",
      "Train on 27455 samples\n",
      "Epoch 1/5\n",
      "27455/27455 [==============================] - 15s 550us/sample - loss: 1.7667 - accuracy: 0.4243\n",
      "Epoch 2/5\n",
      "27455/27455 [==============================] - 15s 535us/sample - loss: 0.5838 - accuracy: 0.7910\n",
      "Epoch 3/5\n",
      "27455/27455 [==============================] - 15s 536us/sample - loss: 0.2950 - accuracy: 0.8965\n",
      "Epoch 4/5\n",
      "27455/27455 [==============================] - 15s 539us/sample - loss: 0.1566 - accuracy: 0.9478\n",
      "Epoch 5/5\n",
      "27455/27455 [==============================] - 15s 535us/sample - loss: 0.1044 - accuracy: 0.9663\n",
      "7172/1 - 1s - loss: 0.9135 - accuracy: 0.8224\n",
      "hidden layers: 2\n",
      "neurons in each: 38\n",
      "Accuracy:  0.82236475 ; Loss:  0.5730570169114827\n",
      "*******\n",
      "\n",
      "Train on 27455 samples\n",
      "Epoch 1/5\n",
      "27455/27455 [==============================] - 15s 530us/sample - loss: 1.9700 - accuracy: 0.3727\n",
      "Epoch 2/5\n",
      "27455/27455 [==============================] - 14s 509us/sample - loss: 0.7161 - accuracy: 0.7536\n",
      "Epoch 3/5\n",
      "27455/27455 [==============================] - 14s 509us/sample - loss: 0.3184 - accuracy: 0.8900- l\n",
      "Epoch 4/5\n",
      "27455/27455 [==============================] - 14s 510us/sample - loss: 0.1695 - accuracy: 0.9437\n",
      "Epoch 5/5\n",
      "27455/27455 [==============================] - 14s 511us/sample - loss: 0.1017 - accuracy: 0.9665\n",
      "7172/1 - 1s - loss: 0.2573 - accuracy: 0.8544\n",
      "hidden layers: 2\n",
      "neurons in each: 40\n",
      "Accuracy:  0.8544339 ; Loss:  0.5069212820939304\n",
      "*******\n",
      "\n",
      "Train on 27455 samples\n",
      "Epoch 1/5\n",
      "27455/27455 [==============================] - 16s 599us/sample - loss: 1.5193 - accuracy: 0.5127\n",
      "Epoch 2/5\n",
      "27455/27455 [==============================] - 16s 585us/sample - loss: 0.3877 - accuracy: 0.8676\n",
      "Epoch 3/5\n",
      "27455/27455 [==============================] - 16s 585us/sample - loss: 0.1461 - accuracy: 0.9541\n",
      "Epoch 4/5\n",
      "27455/27455 [==============================] - 16s 584us/sample - loss: 0.0705 - accuracy: 0.9793\n",
      "Epoch 5/5\n",
      "27455/27455 [==============================] - 16s 584us/sample - loss: 0.0442 - accuracy: 0.9867\n",
      "7172/1 - 1s - loss: 0.2067 - accuracy: 0.8945\n",
      "hidden layers: 2\n",
      "neurons in each: 42\n",
      "Accuracy:  0.89445066 ; Loss:  0.36419274346104097\n",
      "*******\n",
      "\n",
      "Train on 27455 samples\n",
      "Epoch 1/5\n",
      "27455/27455 [==============================] - 17s 620us/sample - loss: 1.5874 - accuracy: 0.4916\n",
      "Epoch 2/5\n",
      "27455/27455 [==============================] - 16s 600us/sample - loss: 0.3968 - accuracy: 0.8664\n",
      "Epoch 3/5\n",
      "27455/27455 [==============================] - 16s 600us/sample - loss: 0.1562 - accuracy: 0.9494\n",
      "Epoch 4/5\n",
      "27455/27455 [==============================] - 17s 608us/sample - loss: 0.0713 - accuracy: 0.9782\n",
      "Epoch 5/5\n",
      "27455/27455 [==============================] - 17s 607us/sample - loss: 0.0415 - accuracy: 0.9883\n",
      "7172/1 - 1s - loss: 0.2746 - accuracy: 0.8698\n",
      "hidden layers: 2\n",
      "neurons in each: 44\n",
      "Accuracy:  0.86977136 ; Loss:  0.5225833669352634\n",
      "*******\n",
      "\n",
      "Train on 27455 samples\n",
      "Epoch 1/5\n",
      "27455/27455 [==============================] - 18s 653us/sample - loss: 1.5445 - accuracy: 0.5023\n",
      "Epoch 2/5\n",
      "27455/27455 [==============================] - 18s 642us/sample - loss: 0.4032 - accuracy: 0.8641- loss: 0.4077 - \n",
      "Epoch 3/5\n",
      "27455/27455 [==============================] - 18s 643us/sample - loss: 0.1547 - accuracy: 0.9522\n",
      "Epoch 4/5\n",
      "27455/27455 [==============================] - 18s 640us/sample - loss: 0.0685 - accuracy: 0.9805\n",
      "Epoch 5/5\n",
      "27455/27455 [==============================] - 18s 640us/sample - loss: 0.0448 - accuracy: 0.9868\n",
      "7172/1 - 1s - loss: 0.2460 - accuracy: 0.8737\n",
      "hidden layers: 2\n",
      "neurons in each: 46\n",
      "Accuracy:  0.8736754 ; Loss:  0.49076869785875277\n",
      "*******\n",
      "\n",
      "Train on 27455 samples\n",
      "Epoch 1/5\n",
      "27455/27455 [==============================] - 18s 641us/sample - loss: 1.6025 - accuracy: 0.4802\n",
      "Epoch 2/5\n",
      "27455/27455 [==============================] - 17s 620us/sample - loss: 0.3839 - accuracy: 0.8680\n",
      "Epoch 3/5\n",
      "27455/27455 [==============================] - 17s 618us/sample - loss: 0.1352 - accuracy: 0.9578\n",
      "Epoch 4/5\n",
      "27455/27455 [==============================] - 17s 621us/sample - loss: 0.0695 - accuracy: 0.9796\n",
      "Epoch 5/5\n",
      "27455/27455 [==============================] - 17s 620us/sample - loss: 0.0420 - accuracy: 0.9869\n",
      "7172/1 - 1s - loss: 1.6080 - accuracy: 0.8759\n",
      "hidden layers: 2\n",
      "neurons in each: 48\n",
      "Accuracy:  0.8759063 ; Loss:  0.5549593092639953\n",
      "*******\n",
      "\n",
      "Train on 27455 samples\n",
      "Epoch 1/5\n",
      "27455/27455 [==============================] - 20s 712us/sample - loss: 1.5581 - accuracy: 0.4979\n",
      "Epoch 2/5\n",
      "27455/27455 [==============================] - 19s 699us/sample - loss: 0.3761 - accuracy: 0.8710\n",
      "Epoch 3/5\n",
      "27455/27455 [==============================] - 19s 696us/sample - loss: 0.1506 - accuracy: 0.9504\n",
      "Epoch 4/5\n",
      "27455/27455 [==============================] - 19s 697us/sample - loss: 0.0741 - accuracy: 0.9768\n",
      "Epoch 5/5\n",
      "27455/27455 [==============================] - 19s 697us/sample - loss: 0.0473 - accuracy: 0.9856\n",
      "7172/1 - 2s - loss: 0.4961 - accuracy: 0.8848\n",
      "hidden layers: 2\n",
      "neurons in each: 50\n",
      "Accuracy:  0.8848299 ; Loss:  0.42555161436310174\n",
      "*******\n",
      "\n",
      "Train on 27455 samples\n",
      "Epoch 1/5\n",
      "27455/27455 [==============================] - 20s 725us/sample - loss: 1.6034 - accuracy: 0.4855\n",
      "Epoch 2/5\n",
      "27455/27455 [==============================] - 20s 712us/sample - loss: 0.4002 - accuracy: 0.8657\n",
      "Epoch 3/5\n",
      "27455/27455 [==============================] - 20s 713us/sample - loss: 0.1441 - accuracy: 0.9521\n",
      "Epoch 4/5\n",
      "27455/27455 [==============================] - 20s 715us/sample - loss: 0.0688 - accuracy: 0.9793\n",
      "Epoch 5/5\n",
      "27455/27455 [==============================] - 20s 713us/sample - loss: 0.0388 - accuracy: 0.9899\n",
      "7172/1 - 2s - loss: 0.3421 - accuracy: 0.9080\n",
      "hidden layers: 2\n",
      "neurons in each: 52\n",
      "Accuracy:  0.90797544 ; Loss:  0.35123496377976726\n",
      "*******\n",
      "\n",
      "Train on 27455 samples\n",
      "Epoch 1/5\n",
      "27455/27455 [==============================] - 21s 754us/sample - loss: 1.7103 - accuracy: 0.4443\n",
      "Epoch 2/5\n",
      "27455/27455 [==============================] - 20s 741us/sample - loss: 0.4726 - accuracy: 0.8375\n",
      "Epoch 3/5\n",
      "27455/27455 [==============================] - 20s 741us/sample - loss: 0.1957 - accuracy: 0.9347\n",
      "Epoch 4/5\n",
      "27455/27455 [==============================] - 20s 731us/sample - loss: 0.0960 - accuracy: 0.9688\n",
      "Epoch 5/5\n",
      "27455/27455 [==============================] - 20s 730us/sample - loss: 0.0596 - accuracy: 0.9809\n",
      "7172/1 - 2s - loss: 0.7219 - accuracy: 0.8766\n",
      "hidden layers: 2\n",
      "neurons in each: 54\n",
      "Accuracy:  0.8766035 ; Loss:  0.4708831184613791\n",
      "*******\n",
      "\n",
      "Train on 27455 samples\n",
      "Epoch 1/5\n",
      "27455/27455 [==============================] - 20s 733us/sample - loss: 1.6386 - accuracy: 0.4716\n",
      "Epoch 2/5\n",
      "27455/27455 [==============================] - 20s 720us/sample - loss: 0.4800 - accuracy: 0.8342\n",
      "Epoch 3/5\n",
      "27455/27455 [==============================] - 20s 717us/sample - loss: 0.2178 - accuracy: 0.9259\n",
      "Epoch 4/5\n",
      "27455/27455 [==============================] - 20s 719us/sample - loss: 0.1068 - accuracy: 0.9655\n",
      "Epoch 5/5\n",
      "27455/27455 [==============================] - 20s 719us/sample - loss: 0.0686 - accuracy: 0.9787\n",
      "7172/1 - 1s - loss: 0.3548 - accuracy: 0.8490\n",
      "hidden layers: 2\n",
      "neurons in each: 56\n",
      "Accuracy:  0.8489961 ; Loss:  0.6445067245087275\n",
      "*******\n",
      "\n",
      "Train on 27455 samples\n",
      "Epoch 1/5\n",
      "27455/27455 [==============================] - 22s 816us/sample - loss: 1.5961 - accuracy: 0.4840\n",
      "Epoch 2/5\n",
      "27455/27455 [==============================] - 22s 798us/sample - loss: 0.3450 - accuracy: 0.8852\n",
      "Epoch 3/5\n",
      "27455/27455 [==============================] - 22s 802us/sample - loss: 0.1244 - accuracy: 0.9606\n",
      "Epoch 4/5\n",
      "27455/27455 [==============================] - 22s 804us/sample - loss: 0.0590 - accuracy: 0.9823- loss: 0.0589 - accuracy: 0.98\n",
      "Epoch 5/5\n",
      "27455/27455 [==============================] - 22s 801us/sample - loss: 0.0358 - accuracy: 0.9892- loss: 0.0359 - accuracy\n",
      "7172/1 - 2s - loss: 0.3450 - accuracy: 0.8975\n",
      "hidden layers: 2\n",
      "neurons in each: 58\n",
      "Accuracy:  0.8975181 ; Loss:  0.423845170565444\n",
      "*******\n",
      "\n",
      "Train on 27455 samples\n",
      "Epoch 1/5\n",
      "27455/27455 [==============================] - 23s 834us/sample - loss: 1.5817 - accuracy: 0.4887\n",
      "Epoch 2/5\n",
      "27455/27455 [==============================] - 23s 821us/sample - loss: 0.3999 - accuracy: 0.8580\n",
      "Epoch 3/5\n",
      "27455/27455 [==============================] - 22s 818us/sample - loss: 0.1609 - accuracy: 0.9470\n",
      "Epoch 4/5\n",
      "27455/27455 [==============================] - 22s 819us/sample - loss: 0.0806 - accuracy: 0.9742\n",
      "Epoch 5/5\n",
      "27455/27455 [==============================] - 22s 819us/sample - loss: 0.0455 - accuracy: 0.9863\n",
      "7172/1 - 2s - loss: 0.2679 - accuracy: 0.8392\n",
      "hidden layers: 2\n",
      "neurons in each: 60\n",
      "Accuracy:  0.8392359 ; Loss:  0.5196179659508389\n",
      "*******\n",
      "\n",
      "Train on 27455 samples\n",
      "Epoch 1/5\n",
      "27455/27455 [==============================] - 24s 864us/sample - loss: 1.4982 - accuracy: 0.5166\n",
      "Epoch 2/5\n",
      "27455/27455 [==============================] - 23s 847us/sample - loss: 0.3677 - accuracy: 0.8738\n",
      "Epoch 3/5\n",
      "27455/27455 [==============================] - 23s 848us/sample - loss: 0.1449 - accuracy: 0.9522\n",
      "Epoch 4/5\n",
      "27455/27455 [==============================] - 23s 847us/sample - loss: 0.0692 - accuracy: 0.9776\n",
      "Epoch 5/5\n",
      "27455/27455 [==============================] - 23s 854us/sample - loss: 0.0490 - accuracy: 0.9849\n",
      "7172/1 - 2s - loss: 0.2974 - accuracy: 0.8684\n",
      "hidden layers: 2\n",
      "neurons in each: 62\n",
      "Accuracy:  0.86837703 ; Loss:  0.5259961934767485\n",
      "*******\n",
      "\n",
      "Train on 27455 samples\n",
      "Epoch 1/5\n",
      "27455/27455 [==============================] - 24s 862us/sample - loss: 1.4179 - accuracy: 0.5459\n",
      "Epoch 2/5\n",
      "27455/27455 [==============================] - 23s 844us/sample - loss: 0.3118 - accuracy: 0.8968\n",
      "Epoch 3/5\n",
      "27455/27455 [==============================] - 23s 846us/sample - loss: 0.1106 - accuracy: 0.9650\n",
      "Epoch 4/5\n",
      "27455/27455 [==============================] - 23s 845us/sample - loss: 0.0610 - accuracy: 0.9808\n",
      "Epoch 5/5\n",
      "27455/27455 [==============================] - 23s 846us/sample - loss: 0.0410 - accuracy: 0.9867\n",
      "7172/1 - 2s - loss: 1.2742 - accuracy: 0.8829\n",
      "hidden layers: 2\n",
      "neurons in each: 64\n",
      "Accuracy:  0.8828779 ; Loss:  0.4666507522104442\n",
      "*******\n",
      "\n"
     ]
    },
    {
     "ename": "ValueError",
     "evalue": "Negative dimension size caused by subtracting 3 from 1 for 'conv2d_54/Conv2D' (op: 'Conv2D') with input shapes: [?,1,1,32], [3,3,32,32].",
     "output_type": "error",
     "traceback": [
      "\u001b[1;31m---------------------------------------------------------------------------\u001b[0m",
      "\u001b[1;31mInvalidArgumentError\u001b[0m                      Traceback (most recent call last)",
      "\u001b[1;32mD:\\AI_ML\\envs\\ML_Projects\\lib\\site-packages\\tensorflow_core\\python\\framework\\ops.py\u001b[0m in \u001b[0;36m_create_c_op\u001b[1;34m(graph, node_def, inputs, control_inputs)\u001b[0m\n\u001b[0;32m   1609\u001b[0m   \u001b[1;32mtry\u001b[0m\u001b[1;33m:\u001b[0m\u001b[1;33m\u001b[0m\u001b[1;33m\u001b[0m\u001b[0m\n\u001b[1;32m-> 1610\u001b[1;33m     \u001b[0mc_op\u001b[0m \u001b[1;33m=\u001b[0m \u001b[0mc_api\u001b[0m\u001b[1;33m.\u001b[0m\u001b[0mTF_FinishOperation\u001b[0m\u001b[1;33m(\u001b[0m\u001b[0mop_desc\u001b[0m\u001b[1;33m)\u001b[0m\u001b[1;33m\u001b[0m\u001b[1;33m\u001b[0m\u001b[0m\n\u001b[0m\u001b[0;32m   1611\u001b[0m   \u001b[1;32mexcept\u001b[0m \u001b[0merrors\u001b[0m\u001b[1;33m.\u001b[0m\u001b[0mInvalidArgumentError\u001b[0m \u001b[1;32mas\u001b[0m \u001b[0me\u001b[0m\u001b[1;33m:\u001b[0m\u001b[1;33m\u001b[0m\u001b[1;33m\u001b[0m\u001b[0m\n",
      "\u001b[1;31mInvalidArgumentError\u001b[0m: Negative dimension size caused by subtracting 3 from 1 for 'conv2d_54/Conv2D' (op: 'Conv2D') with input shapes: [?,1,1,32], [3,3,32,32].",
      "\nDuring handling of the above exception, another exception occurred:\n",
      "\u001b[1;31mValueError\u001b[0m                                Traceback (most recent call last)",
      "\u001b[1;32m<ipython-input-63-47e25d4eda54>\u001b[0m in \u001b[0;36m<module>\u001b[1;34m\u001b[0m\n\u001b[0;32m      2\u001b[0m     \u001b[1;32mfor\u001b[0m \u001b[0mneurons\u001b[0m \u001b[1;32min\u001b[0m \u001b[0mrange\u001b[0m\u001b[1;33m(\u001b[0m\u001b[1;36m32\u001b[0m\u001b[1;33m,\u001b[0m \u001b[1;36m65\u001b[0m\u001b[1;33m,\u001b[0m \u001b[1;36m2\u001b[0m\u001b[1;33m)\u001b[0m\u001b[1;33m:\u001b[0m\u001b[1;33m\u001b[0m\u001b[1;33m\u001b[0m\u001b[0m\n\u001b[0;32m      3\u001b[0m \u001b[1;33m\u001b[0m\u001b[0m\n\u001b[1;32m----> 4\u001b[1;33m         \u001b[0mmodel\u001b[0m \u001b[1;33m=\u001b[0m \u001b[0mbuild_model\u001b[0m\u001b[1;33m(\u001b[0m\u001b[0mn_hidden\u001b[0m\u001b[1;33m=\u001b[0m\u001b[0mlayer\u001b[0m\u001b[1;33m,\u001b[0m \u001b[0mn_neurons\u001b[0m\u001b[1;33m=\u001b[0m\u001b[0mneurons\u001b[0m\u001b[1;33m,\u001b[0m \u001b[0mdouble_neurons\u001b[0m\u001b[1;33m=\u001b[0m\u001b[1;32mFalse\u001b[0m\u001b[1;33m)\u001b[0m\u001b[1;33m\u001b[0m\u001b[1;33m\u001b[0m\u001b[0m\n\u001b[0m\u001b[0;32m      5\u001b[0m \u001b[1;33m\u001b[0m\u001b[0m\n\u001b[0;32m      6\u001b[0m         model.compile(loss = \"categorical_crossentropy\", optimizer=\"adam\",\n",
      "\u001b[1;32m<ipython-input-62-9da3d75b226c>\u001b[0m in \u001b[0;36mbuild_model\u001b[1;34m(n_hidden, n_neurons, double_neurons)\u001b[0m\n\u001b[0;32m     16\u001b[0m \u001b[1;33m\u001b[0m\u001b[0m\n\u001b[0;32m     17\u001b[0m         \u001b[1;32melse\u001b[0m\u001b[1;33m:\u001b[0m\u001b[1;33m\u001b[0m\u001b[1;33m\u001b[0m\u001b[0m\n\u001b[1;32m---> 18\u001b[1;33m             \u001b[0mmodel\u001b[0m\u001b[1;33m.\u001b[0m\u001b[0madd\u001b[0m\u001b[1;33m(\u001b[0m\u001b[0mtf\u001b[0m\u001b[1;33m.\u001b[0m\u001b[0mkeras\u001b[0m\u001b[1;33m.\u001b[0m\u001b[0mlayers\u001b[0m\u001b[1;33m.\u001b[0m\u001b[0mConv2D\u001b[0m\u001b[1;33m(\u001b[0m\u001b[0mn_neurons\u001b[0m\u001b[1;33m,\u001b[0m \u001b[1;36m3\u001b[0m\u001b[1;33m,\u001b[0m \u001b[0mactivation\u001b[0m \u001b[1;33m=\u001b[0m \u001b[1;34m'relu'\u001b[0m\u001b[1;33m)\u001b[0m\u001b[1;33m)\u001b[0m\u001b[1;33m\u001b[0m\u001b[1;33m\u001b[0m\u001b[0m\n\u001b[0m\u001b[0;32m     19\u001b[0m             \u001b[0mmodel\u001b[0m\u001b[1;33m.\u001b[0m\u001b[0madd\u001b[0m\u001b[1;33m(\u001b[0m\u001b[0mtf\u001b[0m\u001b[1;33m.\u001b[0m\u001b[0mkeras\u001b[0m\u001b[1;33m.\u001b[0m\u001b[0mlayers\u001b[0m\u001b[1;33m.\u001b[0m\u001b[0mMaxPooling2D\u001b[0m\u001b[1;33m(\u001b[0m\u001b[1;36m2\u001b[0m\u001b[1;33m)\u001b[0m\u001b[1;33m)\u001b[0m\u001b[1;33m\u001b[0m\u001b[1;33m\u001b[0m\u001b[0m\n\u001b[0;32m     20\u001b[0m \u001b[1;33m\u001b[0m\u001b[0m\n",
      "\u001b[1;32mD:\\AI_ML\\envs\\ML_Projects\\lib\\site-packages\\tensorflow_core\\python\\training\\tracking\\base.py\u001b[0m in \u001b[0;36m_method_wrapper\u001b[1;34m(self, *args, **kwargs)\u001b[0m\n\u001b[0;32m    455\u001b[0m     \u001b[0mself\u001b[0m\u001b[1;33m.\u001b[0m\u001b[0m_self_setattr_tracking\u001b[0m \u001b[1;33m=\u001b[0m \u001b[1;32mFalse\u001b[0m  \u001b[1;31m# pylint: disable=protected-access\u001b[0m\u001b[1;33m\u001b[0m\u001b[1;33m\u001b[0m\u001b[0m\n\u001b[0;32m    456\u001b[0m     \u001b[1;32mtry\u001b[0m\u001b[1;33m:\u001b[0m\u001b[1;33m\u001b[0m\u001b[1;33m\u001b[0m\u001b[0m\n\u001b[1;32m--> 457\u001b[1;33m       \u001b[0mresult\u001b[0m \u001b[1;33m=\u001b[0m \u001b[0mmethod\u001b[0m\u001b[1;33m(\u001b[0m\u001b[0mself\u001b[0m\u001b[1;33m,\u001b[0m \u001b[1;33m*\u001b[0m\u001b[0margs\u001b[0m\u001b[1;33m,\u001b[0m \u001b[1;33m**\u001b[0m\u001b[0mkwargs\u001b[0m\u001b[1;33m)\u001b[0m\u001b[1;33m\u001b[0m\u001b[1;33m\u001b[0m\u001b[0m\n\u001b[0m\u001b[0;32m    458\u001b[0m     \u001b[1;32mfinally\u001b[0m\u001b[1;33m:\u001b[0m\u001b[1;33m\u001b[0m\u001b[1;33m\u001b[0m\u001b[0m\n\u001b[0;32m    459\u001b[0m       \u001b[0mself\u001b[0m\u001b[1;33m.\u001b[0m\u001b[0m_self_setattr_tracking\u001b[0m \u001b[1;33m=\u001b[0m \u001b[0mprevious_value\u001b[0m  \u001b[1;31m# pylint: disable=protected-access\u001b[0m\u001b[1;33m\u001b[0m\u001b[1;33m\u001b[0m\u001b[0m\n",
      "\u001b[1;32mD:\\AI_ML\\envs\\ML_Projects\\lib\\site-packages\\tensorflow_core\\python\\keras\\engine\\sequential.py\u001b[0m in \u001b[0;36madd\u001b[1;34m(self, layer)\u001b[0m\n\u001b[0;32m    194\u001b[0m       \u001b[1;31m# If the model is being built continuously on top of an input layer:\u001b[0m\u001b[1;33m\u001b[0m\u001b[1;33m\u001b[0m\u001b[1;33m\u001b[0m\u001b[0m\n\u001b[0;32m    195\u001b[0m       \u001b[1;31m# refresh its output.\u001b[0m\u001b[1;33m\u001b[0m\u001b[1;33m\u001b[0m\u001b[1;33m\u001b[0m\u001b[0m\n\u001b[1;32m--> 196\u001b[1;33m       \u001b[0moutput_tensor\u001b[0m \u001b[1;33m=\u001b[0m \u001b[0mlayer\u001b[0m\u001b[1;33m(\u001b[0m\u001b[0mself\u001b[0m\u001b[1;33m.\u001b[0m\u001b[0moutputs\u001b[0m\u001b[1;33m[\u001b[0m\u001b[1;36m0\u001b[0m\u001b[1;33m]\u001b[0m\u001b[1;33m)\u001b[0m\u001b[1;33m\u001b[0m\u001b[1;33m\u001b[0m\u001b[0m\n\u001b[0m\u001b[0;32m    197\u001b[0m       \u001b[1;32mif\u001b[0m \u001b[0mlen\u001b[0m\u001b[1;33m(\u001b[0m\u001b[0mnest\u001b[0m\u001b[1;33m.\u001b[0m\u001b[0mflatten\u001b[0m\u001b[1;33m(\u001b[0m\u001b[0moutput_tensor\u001b[0m\u001b[1;33m)\u001b[0m\u001b[1;33m)\u001b[0m \u001b[1;33m!=\u001b[0m \u001b[1;36m1\u001b[0m\u001b[1;33m:\u001b[0m\u001b[1;33m\u001b[0m\u001b[1;33m\u001b[0m\u001b[0m\n\u001b[0;32m    198\u001b[0m         raise TypeError('All layers in a Sequential model '\n",
      "\u001b[1;32mD:\\AI_ML\\envs\\ML_Projects\\lib\\site-packages\\tensorflow_core\\python\\keras\\engine\\base_layer.py\u001b[0m in \u001b[0;36m__call__\u001b[1;34m(self, inputs, *args, **kwargs)\u001b[0m\n\u001b[0;32m    840\u001b[0m                     not base_layer_utils.is_in_eager_or_tf_function()):\n\u001b[0;32m    841\u001b[0m                   \u001b[1;32mwith\u001b[0m \u001b[0mauto_control_deps\u001b[0m\u001b[1;33m.\u001b[0m\u001b[0mAutomaticControlDependencies\u001b[0m\u001b[1;33m(\u001b[0m\u001b[1;33m)\u001b[0m \u001b[1;32mas\u001b[0m \u001b[0macd\u001b[0m\u001b[1;33m:\u001b[0m\u001b[1;33m\u001b[0m\u001b[1;33m\u001b[0m\u001b[0m\n\u001b[1;32m--> 842\u001b[1;33m                     \u001b[0moutputs\u001b[0m \u001b[1;33m=\u001b[0m \u001b[0mcall_fn\u001b[0m\u001b[1;33m(\u001b[0m\u001b[0mcast_inputs\u001b[0m\u001b[1;33m,\u001b[0m \u001b[1;33m*\u001b[0m\u001b[0margs\u001b[0m\u001b[1;33m,\u001b[0m \u001b[1;33m**\u001b[0m\u001b[0mkwargs\u001b[0m\u001b[1;33m)\u001b[0m\u001b[1;33m\u001b[0m\u001b[1;33m\u001b[0m\u001b[0m\n\u001b[0m\u001b[0;32m    843\u001b[0m                     \u001b[1;31m# Wrap Tensors in `outputs` in `tf.identity` to avoid\u001b[0m\u001b[1;33m\u001b[0m\u001b[1;33m\u001b[0m\u001b[1;33m\u001b[0m\u001b[0m\n\u001b[0;32m    844\u001b[0m                     \u001b[1;31m# circular dependencies.\u001b[0m\u001b[1;33m\u001b[0m\u001b[1;33m\u001b[0m\u001b[1;33m\u001b[0m\u001b[0m\n",
      "\u001b[1;32mD:\\AI_ML\\envs\\ML_Projects\\lib\\site-packages\\tensorflow_core\\python\\keras\\layers\\convolutional.py\u001b[0m in \u001b[0;36mcall\u001b[1;34m(self, inputs)\u001b[0m\n\u001b[0;32m    195\u001b[0m \u001b[1;33m\u001b[0m\u001b[0m\n\u001b[0;32m    196\u001b[0m   \u001b[1;32mdef\u001b[0m \u001b[0mcall\u001b[0m\u001b[1;33m(\u001b[0m\u001b[0mself\u001b[0m\u001b[1;33m,\u001b[0m \u001b[0minputs\u001b[0m\u001b[1;33m)\u001b[0m\u001b[1;33m:\u001b[0m\u001b[1;33m\u001b[0m\u001b[1;33m\u001b[0m\u001b[0m\n\u001b[1;32m--> 197\u001b[1;33m     \u001b[0moutputs\u001b[0m \u001b[1;33m=\u001b[0m \u001b[0mself\u001b[0m\u001b[1;33m.\u001b[0m\u001b[0m_convolution_op\u001b[0m\u001b[1;33m(\u001b[0m\u001b[0minputs\u001b[0m\u001b[1;33m,\u001b[0m \u001b[0mself\u001b[0m\u001b[1;33m.\u001b[0m\u001b[0mkernel\u001b[0m\u001b[1;33m)\u001b[0m\u001b[1;33m\u001b[0m\u001b[1;33m\u001b[0m\u001b[0m\n\u001b[0m\u001b[0;32m    198\u001b[0m \u001b[1;33m\u001b[0m\u001b[0m\n\u001b[0;32m    199\u001b[0m     \u001b[1;32mif\u001b[0m \u001b[0mself\u001b[0m\u001b[1;33m.\u001b[0m\u001b[0muse_bias\u001b[0m\u001b[1;33m:\u001b[0m\u001b[1;33m\u001b[0m\u001b[1;33m\u001b[0m\u001b[0m\n",
      "\u001b[1;32mD:\\AI_ML\\envs\\ML_Projects\\lib\\site-packages\\tensorflow_core\\python\\ops\\nn_ops.py\u001b[0m in \u001b[0;36m__call__\u001b[1;34m(self, inp, filter)\u001b[0m\n\u001b[0;32m   1132\u001b[0m           call_from_convolution=False)\n\u001b[0;32m   1133\u001b[0m     \u001b[1;32melse\u001b[0m\u001b[1;33m:\u001b[0m\u001b[1;33m\u001b[0m\u001b[1;33m\u001b[0m\u001b[0m\n\u001b[1;32m-> 1134\u001b[1;33m       \u001b[1;32mreturn\u001b[0m \u001b[0mself\u001b[0m\u001b[1;33m.\u001b[0m\u001b[0mconv_op\u001b[0m\u001b[1;33m(\u001b[0m\u001b[0minp\u001b[0m\u001b[1;33m,\u001b[0m \u001b[0mfilter\u001b[0m\u001b[1;33m)\u001b[0m\u001b[1;33m\u001b[0m\u001b[1;33m\u001b[0m\u001b[0m\n\u001b[0m\u001b[0;32m   1135\u001b[0m     \u001b[1;31m# copybara:strip_end\u001b[0m\u001b[1;33m\u001b[0m\u001b[1;33m\u001b[0m\u001b[1;33m\u001b[0m\u001b[0m\n\u001b[0;32m   1136\u001b[0m     \u001b[1;31m# copybara:insert return self.conv_op(inp, filter)\u001b[0m\u001b[1;33m\u001b[0m\u001b[1;33m\u001b[0m\u001b[1;33m\u001b[0m\u001b[0m\n",
      "\u001b[1;32mD:\\AI_ML\\envs\\ML_Projects\\lib\\site-packages\\tensorflow_core\\python\\ops\\nn_ops.py\u001b[0m in \u001b[0;36m__call__\u001b[1;34m(self, inp, filter)\u001b[0m\n\u001b[0;32m    637\u001b[0m \u001b[1;33m\u001b[0m\u001b[0m\n\u001b[0;32m    638\u001b[0m   \u001b[1;32mdef\u001b[0m \u001b[0m__call__\u001b[0m\u001b[1;33m(\u001b[0m\u001b[0mself\u001b[0m\u001b[1;33m,\u001b[0m \u001b[0minp\u001b[0m\u001b[1;33m,\u001b[0m \u001b[0mfilter\u001b[0m\u001b[1;33m)\u001b[0m\u001b[1;33m:\u001b[0m  \u001b[1;31m# pylint: disable=redefined-builtin\u001b[0m\u001b[1;33m\u001b[0m\u001b[1;33m\u001b[0m\u001b[0m\n\u001b[1;32m--> 639\u001b[1;33m     \u001b[1;32mreturn\u001b[0m \u001b[0mself\u001b[0m\u001b[1;33m.\u001b[0m\u001b[0mcall\u001b[0m\u001b[1;33m(\u001b[0m\u001b[0minp\u001b[0m\u001b[1;33m,\u001b[0m \u001b[0mfilter\u001b[0m\u001b[1;33m)\u001b[0m\u001b[1;33m\u001b[0m\u001b[1;33m\u001b[0m\u001b[0m\n\u001b[0m\u001b[0;32m    640\u001b[0m \u001b[1;33m\u001b[0m\u001b[0m\n\u001b[0;32m    641\u001b[0m \u001b[1;33m\u001b[0m\u001b[0m\n",
      "\u001b[1;32mD:\\AI_ML\\envs\\ML_Projects\\lib\\site-packages\\tensorflow_core\\python\\ops\\nn_ops.py\u001b[0m in \u001b[0;36m__call__\u001b[1;34m(self, inp, filter)\u001b[0m\n\u001b[0;32m    236\u001b[0m         \u001b[0mpadding\u001b[0m\u001b[1;33m=\u001b[0m\u001b[0mself\u001b[0m\u001b[1;33m.\u001b[0m\u001b[0mpadding\u001b[0m\u001b[1;33m,\u001b[0m\u001b[1;33m\u001b[0m\u001b[1;33m\u001b[0m\u001b[0m\n\u001b[0;32m    237\u001b[0m         \u001b[0mdata_format\u001b[0m\u001b[1;33m=\u001b[0m\u001b[0mself\u001b[0m\u001b[1;33m.\u001b[0m\u001b[0mdata_format\u001b[0m\u001b[1;33m,\u001b[0m\u001b[1;33m\u001b[0m\u001b[1;33m\u001b[0m\u001b[0m\n\u001b[1;32m--> 238\u001b[1;33m         name=self.name)\n\u001b[0m\u001b[0;32m    239\u001b[0m \u001b[1;33m\u001b[0m\u001b[0m\n\u001b[0;32m    240\u001b[0m \u001b[1;33m\u001b[0m\u001b[0m\n",
      "\u001b[1;32mD:\\AI_ML\\envs\\ML_Projects\\lib\\site-packages\\tensorflow_core\\python\\ops\\nn_ops.py\u001b[0m in \u001b[0;36mconv2d\u001b[1;34m(input, filter, strides, padding, use_cudnn_on_gpu, data_format, dilations, name, filters)\u001b[0m\n\u001b[0;32m   2008\u001b[0m                            \u001b[0mdata_format\u001b[0m\u001b[1;33m=\u001b[0m\u001b[0mdata_format\u001b[0m\u001b[1;33m,\u001b[0m\u001b[1;33m\u001b[0m\u001b[1;33m\u001b[0m\u001b[0m\n\u001b[0;32m   2009\u001b[0m                            \u001b[0mdilations\u001b[0m\u001b[1;33m=\u001b[0m\u001b[0mdilations\u001b[0m\u001b[1;33m,\u001b[0m\u001b[1;33m\u001b[0m\u001b[1;33m\u001b[0m\u001b[0m\n\u001b[1;32m-> 2010\u001b[1;33m                            name=name)\n\u001b[0m\u001b[0;32m   2011\u001b[0m \u001b[1;33m\u001b[0m\u001b[0m\n\u001b[0;32m   2012\u001b[0m \u001b[1;33m\u001b[0m\u001b[0m\n",
      "\u001b[1;32mD:\\AI_ML\\envs\\ML_Projects\\lib\\site-packages\\tensorflow_core\\python\\ops\\gen_nn_ops.py\u001b[0m in \u001b[0;36mconv2d\u001b[1;34m(input, filter, strides, padding, use_cudnn_on_gpu, explicit_paddings, data_format, dilations, name)\u001b[0m\n\u001b[0;32m   1068\u001b[0m                   \u001b[0mpadding\u001b[0m\u001b[1;33m=\u001b[0m\u001b[0mpadding\u001b[0m\u001b[1;33m,\u001b[0m \u001b[0muse_cudnn_on_gpu\u001b[0m\u001b[1;33m=\u001b[0m\u001b[0muse_cudnn_on_gpu\u001b[0m\u001b[1;33m,\u001b[0m\u001b[1;33m\u001b[0m\u001b[1;33m\u001b[0m\u001b[0m\n\u001b[0;32m   1069\u001b[0m                   \u001b[0mexplicit_paddings\u001b[0m\u001b[1;33m=\u001b[0m\u001b[0mexplicit_paddings\u001b[0m\u001b[1;33m,\u001b[0m\u001b[1;33m\u001b[0m\u001b[1;33m\u001b[0m\u001b[0m\n\u001b[1;32m-> 1070\u001b[1;33m                   data_format=data_format, dilations=dilations, name=name)\n\u001b[0m\u001b[0;32m   1071\u001b[0m   \u001b[0m_result\u001b[0m \u001b[1;33m=\u001b[0m \u001b[0m_op\u001b[0m\u001b[1;33m.\u001b[0m\u001b[0moutputs\u001b[0m\u001b[1;33m[\u001b[0m\u001b[1;33m:\u001b[0m\u001b[1;33m]\u001b[0m\u001b[1;33m\u001b[0m\u001b[1;33m\u001b[0m\u001b[0m\n\u001b[0;32m   1072\u001b[0m   \u001b[0m_inputs_flat\u001b[0m \u001b[1;33m=\u001b[0m \u001b[0m_op\u001b[0m\u001b[1;33m.\u001b[0m\u001b[0minputs\u001b[0m\u001b[1;33m\u001b[0m\u001b[1;33m\u001b[0m\u001b[0m\n",
      "\u001b[1;32mD:\\AI_ML\\envs\\ML_Projects\\lib\\site-packages\\tensorflow_core\\python\\framework\\op_def_library.py\u001b[0m in \u001b[0;36m_apply_op_helper\u001b[1;34m(self, op_type_name, name, **keywords)\u001b[0m\n\u001b[0;32m    791\u001b[0m         op = g.create_op(op_type_name, inputs, dtypes=None, name=scope,\n\u001b[0;32m    792\u001b[0m                          \u001b[0minput_types\u001b[0m\u001b[1;33m=\u001b[0m\u001b[0minput_types\u001b[0m\u001b[1;33m,\u001b[0m \u001b[0mattrs\u001b[0m\u001b[1;33m=\u001b[0m\u001b[0mattr_protos\u001b[0m\u001b[1;33m,\u001b[0m\u001b[1;33m\u001b[0m\u001b[1;33m\u001b[0m\u001b[0m\n\u001b[1;32m--> 793\u001b[1;33m                          op_def=op_def)\n\u001b[0m\u001b[0;32m    794\u001b[0m       \u001b[1;32mreturn\u001b[0m \u001b[0moutput_structure\u001b[0m\u001b[1;33m,\u001b[0m \u001b[0mop_def\u001b[0m\u001b[1;33m.\u001b[0m\u001b[0mis_stateful\u001b[0m\u001b[1;33m,\u001b[0m \u001b[0mop\u001b[0m\u001b[1;33m\u001b[0m\u001b[1;33m\u001b[0m\u001b[0m\n\u001b[0;32m    795\u001b[0m \u001b[1;33m\u001b[0m\u001b[0m\n",
      "\u001b[1;32mD:\\AI_ML\\envs\\ML_Projects\\lib\\site-packages\\tensorflow_core\\python\\framework\\func_graph.py\u001b[0m in \u001b[0;36mcreate_op\u001b[1;34m(***failed resolving arguments***)\u001b[0m\n\u001b[0;32m    546\u001b[0m     return super(FuncGraph, self)._create_op_internal(  # pylint: disable=protected-access\n\u001b[0;32m    547\u001b[0m         \u001b[0mop_type\u001b[0m\u001b[1;33m,\u001b[0m \u001b[0minputs\u001b[0m\u001b[1;33m,\u001b[0m \u001b[0mdtypes\u001b[0m\u001b[1;33m,\u001b[0m \u001b[0minput_types\u001b[0m\u001b[1;33m,\u001b[0m \u001b[0mname\u001b[0m\u001b[1;33m,\u001b[0m \u001b[0mattrs\u001b[0m\u001b[1;33m,\u001b[0m \u001b[0mop_def\u001b[0m\u001b[1;33m,\u001b[0m\u001b[1;33m\u001b[0m\u001b[1;33m\u001b[0m\u001b[0m\n\u001b[1;32m--> 548\u001b[1;33m         compute_device)\n\u001b[0m\u001b[0;32m    549\u001b[0m \u001b[1;33m\u001b[0m\u001b[0m\n\u001b[0;32m    550\u001b[0m   \u001b[1;32mdef\u001b[0m \u001b[0mcapture\u001b[0m\u001b[1;33m(\u001b[0m\u001b[0mself\u001b[0m\u001b[1;33m,\u001b[0m \u001b[0mtensor\u001b[0m\u001b[1;33m,\u001b[0m \u001b[0mname\u001b[0m\u001b[1;33m=\u001b[0m\u001b[1;32mNone\u001b[0m\u001b[1;33m)\u001b[0m\u001b[1;33m:\u001b[0m\u001b[1;33m\u001b[0m\u001b[1;33m\u001b[0m\u001b[0m\n",
      "\u001b[1;32mD:\\AI_ML\\envs\\ML_Projects\\lib\\site-packages\\tensorflow_core\\python\\framework\\ops.py\u001b[0m in \u001b[0;36m_create_op_internal\u001b[1;34m(self, op_type, inputs, dtypes, input_types, name, attrs, op_def, compute_device)\u001b[0m\n\u001b[0;32m   3427\u001b[0m           \u001b[0minput_types\u001b[0m\u001b[1;33m=\u001b[0m\u001b[0minput_types\u001b[0m\u001b[1;33m,\u001b[0m\u001b[1;33m\u001b[0m\u001b[1;33m\u001b[0m\u001b[0m\n\u001b[0;32m   3428\u001b[0m           \u001b[0moriginal_op\u001b[0m\u001b[1;33m=\u001b[0m\u001b[0mself\u001b[0m\u001b[1;33m.\u001b[0m\u001b[0m_default_original_op\u001b[0m\u001b[1;33m,\u001b[0m\u001b[1;33m\u001b[0m\u001b[1;33m\u001b[0m\u001b[0m\n\u001b[1;32m-> 3429\u001b[1;33m           op_def=op_def)\n\u001b[0m\u001b[0;32m   3430\u001b[0m       \u001b[0mself\u001b[0m\u001b[1;33m.\u001b[0m\u001b[0m_create_op_helper\u001b[0m\u001b[1;33m(\u001b[0m\u001b[0mret\u001b[0m\u001b[1;33m,\u001b[0m \u001b[0mcompute_device\u001b[0m\u001b[1;33m=\u001b[0m\u001b[0mcompute_device\u001b[0m\u001b[1;33m)\u001b[0m\u001b[1;33m\u001b[0m\u001b[1;33m\u001b[0m\u001b[0m\n\u001b[0;32m   3431\u001b[0m     \u001b[1;32mreturn\u001b[0m \u001b[0mret\u001b[0m\u001b[1;33m\u001b[0m\u001b[1;33m\u001b[0m\u001b[0m\n",
      "\u001b[1;32mD:\\AI_ML\\envs\\ML_Projects\\lib\\site-packages\\tensorflow_core\\python\\framework\\ops.py\u001b[0m in \u001b[0;36m__init__\u001b[1;34m(self, node_def, g, inputs, output_types, control_inputs, input_types, original_op, op_def)\u001b[0m\n\u001b[0;32m   1771\u001b[0m           op_def, inputs, node_def.attr)\n\u001b[0;32m   1772\u001b[0m       self._c_op = _create_c_op(self._graph, node_def, grouped_inputs,\n\u001b[1;32m-> 1773\u001b[1;33m                                 control_input_ops)\n\u001b[0m\u001b[0;32m   1774\u001b[0m     \u001b[1;31m# pylint: enable=protected-access\u001b[0m\u001b[1;33m\u001b[0m\u001b[1;33m\u001b[0m\u001b[1;33m\u001b[0m\u001b[0m\n\u001b[0;32m   1775\u001b[0m \u001b[1;33m\u001b[0m\u001b[0m\n",
      "\u001b[1;32mD:\\AI_ML\\envs\\ML_Projects\\lib\\site-packages\\tensorflow_core\\python\\framework\\ops.py\u001b[0m in \u001b[0;36m_create_c_op\u001b[1;34m(graph, node_def, inputs, control_inputs)\u001b[0m\n\u001b[0;32m   1611\u001b[0m   \u001b[1;32mexcept\u001b[0m \u001b[0merrors\u001b[0m\u001b[1;33m.\u001b[0m\u001b[0mInvalidArgumentError\u001b[0m \u001b[1;32mas\u001b[0m \u001b[0me\u001b[0m\u001b[1;33m:\u001b[0m\u001b[1;33m\u001b[0m\u001b[1;33m\u001b[0m\u001b[0m\n\u001b[0;32m   1612\u001b[0m     \u001b[1;31m# Convert to ValueError for backwards compatibility.\u001b[0m\u001b[1;33m\u001b[0m\u001b[1;33m\u001b[0m\u001b[1;33m\u001b[0m\u001b[0m\n\u001b[1;32m-> 1613\u001b[1;33m     \u001b[1;32mraise\u001b[0m \u001b[0mValueError\u001b[0m\u001b[1;33m(\u001b[0m\u001b[0mstr\u001b[0m\u001b[1;33m(\u001b[0m\u001b[0me\u001b[0m\u001b[1;33m)\u001b[0m\u001b[1;33m)\u001b[0m\u001b[1;33m\u001b[0m\u001b[1;33m\u001b[0m\u001b[0m\n\u001b[0m\u001b[0;32m   1614\u001b[0m \u001b[1;33m\u001b[0m\u001b[0m\n\u001b[0;32m   1615\u001b[0m   \u001b[1;32mreturn\u001b[0m \u001b[0mc_op\u001b[0m\u001b[1;33m\u001b[0m\u001b[1;33m\u001b[0m\u001b[0m\n",
      "\u001b[1;31mValueError\u001b[0m: Negative dimension size caused by subtracting 3 from 1 for 'conv2d_54/Conv2D' (op: 'Conv2D') with input shapes: [?,1,1,32], [3,3,32,32]."
     ]
    }
   ],
   "source": [
    "for layer in range(2, 4):\n",
    "    for neurons in range(32, 65, 2):\n",
    "        \n",
    "        model = build_model(n_hidden=layer, n_neurons=neurons, double_neurons=False)\n",
    "\n",
    "        model.compile(loss = \"categorical_crossentropy\", optimizer=\"adam\",\n",
    "                      metrics=['accuracy'])\n",
    "        \n",
    "        history = model.fit(X_train_Conv, y_train_Conv, epochs=5)\n",
    "        \n",
    "        y_preds = model.evaluate(X_test_Conv, y_test_Conv, verbose=2)\n",
    "        \n",
    "        print(\"hidden layers:\", layer)\n",
    "        print(\"neurons in each:\", neurons)\n",
    "        print(\"Accuracy: \", y_preds[1], \"; Loss: \", y_preds[0])\n",
    "        print(\"*******\\n\")"
   ]
  },
  {
   "cell_type": "code",
   "execution_count": null,
   "metadata": {},
   "outputs": [],
   "source": [
    "for layer in range(2, 3):\n",
    "    for neurons in range(32, 62, 2):\n",
    "        \n",
    "        model = build_model(n_hidden=layer, n_neurons=neurons, double_neurons=True)\n",
    "\n",
    "        model.compile(loss = \"categorical_crossentropy\", optimizer=\"adam\",\n",
    "                      metrics=['accuracy'])\n",
    "        \n",
    "        history = model.fit(X_train_Conv, y_train_Conv, epochs=5)\n",
    "        \n",
    "        y_preds = model.evaluate(X_test_Conv, y_test_Conv, verbose=2)\n",
    "        \n",
    "        print(\"hidden layers:\", layer)\n",
    "        print(\"neurons in each:\", neurons)\n",
    "        print(\"Accuracy: \", y_preds[1], \"; Loss: \", y_preds[0])\n",
    "        print(\"*******\\n\")"
   ]
  },
  {
   "cell_type": "code",
   "execution_count": 69,
   "metadata": {},
   "outputs": [
    {
     "name": "stdout",
     "output_type": "stream",
     "text": [
      "Train on 27455 samples, validate on 7172 samples\n",
      "Epoch 1/10\n",
      "27455/27455 [==============================] - 24s 873us/sample - loss: 1.3540 - accuracy: 0.5657 - val_loss: 0.5615 - val_accuracy: 0.7882\n",
      "Epoch 2/10\n",
      "27455/27455 [==============================] - 25s 901us/sample - loss: 0.2522 - accuracy: 0.9163 - val_loss: 0.3767 - val_accuracy: 0.8811\n",
      "Epoch 3/10\n",
      "27455/27455 [==============================] - 23s 849us/sample - loss: 0.0801 - accuracy: 0.9760 - val_loss: 0.3858 - val_accuracy: 0.8947\n",
      "Epoch 4/10\n",
      "27455/27455 [==============================] - 23s 843us/sample - loss: 0.0418 - accuracy: 0.9875 - val_loss: 0.4549 - val_accuracy: 0.8795\n",
      "Epoch 5/10\n",
      "27455/27455 [==============================] - 24s 874us/sample - loss: 0.0259 - accuracy: 0.9924 - val_loss: 0.3307 - val_accuracy: 0.9140\n",
      "Epoch 6/10\n",
      "27455/27455 [==============================] - 25s 923us/sample - loss: 0.0207 - accuracy: 0.9941 - val_loss: 0.3319 - val_accuracy: 0.9223\n",
      "Epoch 7/10\n",
      "27455/27455 [==============================] - 23s 849us/sample - loss: 0.0226 - accuracy: 0.9932 - val_loss: 0.4361 - val_accuracy: 0.9006\n",
      "Epoch 8/10\n",
      "27455/27455 [==============================] - 24s 884us/sample - loss: 0.0111 - accuracy: 0.9964 - val_loss: 0.5237 - val_accuracy: 0.8834\n",
      "Epoch 9/10\n",
      "27455/27455 [==============================] - 23s 849us/sample - loss: 0.0176 - accuracy: 0.9943 - val_loss: 0.4303 - val_accuracy: 0.9064\n",
      "Epoch 10/10\n",
      "27455/27455 [==============================] - 23s 851us/sample - loss: 0.0089 - accuracy: 0.9971 - val_loss: 0.4905 - val_accuracy: 0.9038\n",
      "7172/1 - 2s - loss: 0.3837 - accuracy: 0.9038\n",
      "Accuracy:  0.9037925 ; Loss:  0.49045582182136116\n"
     ]
    }
   ],
   "source": [
    "# from analyses above, it seems that 2 layers and 44 neurons one each work good enough with neurons doulbe each inner layer\n",
    "model = tf.keras.models.Sequential()\n",
    "model.add(tf.keras.layers.Conv2D(44, 3, activation = 'relu', input_shape=(28, 28 ,1) ))\n",
    "model.add(tf.keras.layers.MaxPooling2D(2))         \n",
    "          \n",
    "model.add(tf.keras.layers.Conv2D(88, 3, activation = 'relu'))\n",
    "model.add(tf.keras.layers.MaxPooling2D(2))\n",
    "\n",
    "model.add(tf.keras.layers.Conv2D(172, 3, activation = 'relu'))\n",
    "model.add(tf.keras.layers.MaxPooling2D(2))\n",
    "\n",
    "model.add(tf.keras.layers.Flatten())\n",
    "model.add(tf.keras.layers.Dense(128, activation = 'relu'))\n",
    "model.add(tf.keras.layers.Dropout(0.20))\n",
    "model.add(tf.keras.layers.Dense(24, activation = 'softmax'))\n",
    "\n",
    "Adam_optimizer = tf.keras.optimizers.Adam(lr=0.001)\n",
    "\n",
    "model.compile(loss = \"categorical_crossentropy\", optimizer=Adam_optimizer,\n",
    "                      metrics=['accuracy'])\n",
    "\n",
    "history_CNN = model.fit(X_train_Conv, y_train_Conv, validation_data=(X_test_Conv, y_test_Conv), epochs=10)\n",
    "        \n",
    "y_preds = model.evaluate(X_test_Conv, y_test_Conv, verbose=2)\n",
    "\n",
    "print(\"Accuracy: \", y_preds[1], \"; Loss: \", y_preds[0])"
   ]
  },
  {
   "cell_type": "code",
   "execution_count": 70,
   "metadata": {},
   "outputs": [],
   "source": [
    "y_pred_CNN = model.predict_classes(X_test_Conv)"
   ]
  },
  {
   "cell_type": "code",
   "execution_count": 71,
   "metadata": {},
   "outputs": [
    {
     "name": "stdout",
     "output_type": "stream",
     "text": [
      "tf.Tensor([6 5 9 ... 2 4 2], shape=(7172,), dtype=int64)\n"
     ]
    }
   ],
   "source": [
    "y_test_cm = tf.argmax(y_test_Conv, axis=1)\n",
    "print(y_test_cm)"
   ]
  },
  {
   "cell_type": "code",
   "execution_count": 72,
   "metadata": {},
   "outputs": [
    {
     "data": {
      "image/png": "[encoded data removed]",
      "text/plain": [
       "<Figure size 288x288 with 2 Axes>"
      ]
     },
     "metadata": {
      "needs_background": "light"
     },
     "output_type": "display_data"
    }
   ],
   "source": [
    "cm_CNN = confusion_matrix(y_test, y_pred_CNN)\n",
    "\n",
    "# Show confusion matrix in a separate window\n",
    "plt.matshow(cm_CNN)\n",
    "plt.title('Confusion matrix\\n')\n",
    "plt.colorbar()\n",
    "plt.ylabel('True label')\n",
    "plt.xlabel('Predicted label')\n",
    "plt.show()"
   ]
  },
  {
   "cell_type": "code",
   "execution_count": 73,
   "metadata": {},
   "outputs": [
    {
     "name": "stdout",
     "output_type": "stream",
     "text": [
      "7172/1 - 2s - loss: 0.3837 - accuracy: 0.9038\n"
     ]
    }
   ],
   "source": [
    "accuracy_CNN = model.evaluate(X_test_Conv, y_test_Conv, verbose=2)"
   ]
  },
  {
   "cell_type": "code",
   "execution_count": 74,
   "metadata": {},
   "outputs": [],
   "source": [
    "y_preds_CNN = model.predict_classes(X_test_Conv)"
   ]
  },
  {
   "cell_type": "markdown",
   "metadata": {},
   "source": [
    "## Results"
   ]
  },
  {
   "cell_type": "markdown",
   "metadata": {},
   "source": [
    "### Comparison Table"
   ]
  },
  {
   "cell_type": "markdown",
   "metadata": {},
   "source": [
    "| Metric/Method | LogReg | Random Forest | SVC | Voting | MLP | CNN |\n",
    "|---------------|--------|---------------|-----|--------|-----|-----|\n",
    "| Accuracy      | 67%    | 77%           | 83% | 81%    | 72% | 93% |\n",
    "| Precision     | 66%    | 77%           | 82% | 81%    | 40% |     |\n",
    "| Recall        | 67%    | 77%           | 82% | 81%    | 40% |     |"
   ]
  },
  {
   "cell_type": "markdown",
   "metadata": {},
   "source": [
    "### Plots"
   ]
  },
  {
   "cell_type": "markdown",
   "metadata": {},
   "source": [
    "Using meaningful plots is an efficient way to visualize and conlude your experiments as well as results. Examples of acceptable plots include but are not limited to:\n",
    "- ROC curve (can be used with classification only)\n",
    "- loss plots (precision/recall for classification, mse or mae for regression)\n",
    "- hyperparameter tuning plots (varying one hyperparameter using for loops on x-axis and accuracy/loss on y-axis)\n",
    "- train/validation/test errors/loss plots, histogram of errors and so on.\n",
    "\n",
    "<b>Notice:</b> All plots should have title, xlabel, ylabel, and (if applicable) legend. Use different colors if you have multiple curves on one plot. Points will be deducted if your plots are incomplete. Check matplotlib documentation, examples from the assignments, and research papers or ML articles and find those plots that are applicable to your project. Individual students should have at least 2 plots while groups should have at least 4 plots.\n"
   ]
  },
  {
   "cell_type": "markdown",
   "metadata": {},
   "source": [
    "## <font color=\"red\"> Required Coding - Groups should add more cell as required"
   ]
  },
  {
   "cell_type": "markdown",
   "metadata": {},
   "source": [
    "#### MLP:"
   ]
  },
  {
   "cell_type": "code",
   "execution_count": 64,
   "metadata": {},
   "outputs": [
    {
     "data": {
      "text/plain": [
       "(0, 210)"
      ]
     },
     "execution_count": 64,
     "metadata": {},
     "output_type": "execute_result"
    },
    {
     "data": {
      "image/png": "[encoded data removed]",
      "text/plain": [
       "<Figure size 720x360 with 1 Axes>"
      ]
     },
     "metadata": {
      "needs_background": "light"
     },
     "output_type": "display_data"
    }
   ],
   "source": [
    "# MLP plot - not very successful, as we can see from the graph, train accuracy is high, validation accuracy floats above ~60%,\n",
    "# which is a sign of overfitting and tells that more hyperparameter tuning should be done\n",
    "pd.DataFrame(history_MLP.history).plot(figsize=(10, 5))\n",
    "plt.grid(True)\n",
    "\n",
    "# set the y-axis range to [0-1]\n",
    "plt.title('MLP')\n",
    "plt.gca().set_ylim(0, 2)\n",
    "plt.gca().set_xlim(0, 210) "
   ]
  },
  {
   "cell_type": "code",
   "execution_count": null,
   "metadata": {},
   "outputs": [],
   "source": [
    "#### Convolutional Neural Network:"
   ]
  },
  {
   "cell_type": "code",
   "execution_count": 75,
   "metadata": {},
   "outputs": [
    {
     "data": {
      "text/plain": [
       "(0, 8)"
      ]
     },
     "execution_count": 75,
     "metadata": {},
     "output_type": "execute_result"
    },
    {
     "data": {
      "image/png": "[encoded data removed]",
      "text/plain": [
       "<Figure size 720x360 with 1 Axes>"
      ]
     },
     "metadata": {
      "needs_background": "light"
     },
     "output_type": "display_data"
    }
   ],
   "source": [
    "# Convolutional Network:\n",
    "# Plot shows good results with loss (train and test) going down, while both of the accuracies going up\n",
    "pd.DataFrame(history_CNN.history).plot(figsize=(10, 5))\n",
    "plt.grid(True)\n",
    "\n",
    "# set the y-axis range to [0-1]\n",
    "plt.title('CNN')\n",
    "\n",
    "plt.xlabel('Epochs')\n",
    "plt.ylabel('Loss')\n",
    "\n",
    "plt.gca().set_ylim(0, 2)\n",
    "plt.gca().set_xlim(0, 8) "
   ]
  },
  {
   "cell_type": "markdown",
   "metadata": {},
   "source": [
    "#### Perhaps the best classifier, unless Conv2D is tuned more, due to precision/recall => Hard Voting Classifier"
   ]
  },
  {
   "cell_type": "code",
   "execution_count": 66,
   "metadata": {},
   "outputs": [
    {
     "data": {
      "image/png": "[encoded data removed]",
      "text/plain": [
       "<Figure size 288x288 with 2 Axes>"
      ]
     },
     "metadata": {
      "needs_background": "light"
     },
     "output_type": "display_data"
    }
   ],
   "source": [
    "cm_hard_voting = confusion_matrix(y_test, y_pred_hard_voting)\n",
    "\n",
    "# Show confusion matrix in a separate window\n",
    "plt.matshow(cm_hard_voting)\n",
    "plt.title('Hard Voting Confusion matrix\\n')\n",
    "plt.colorbar()\n",
    "plt.ylabel('True label')\n",
    "plt.xlabel('Predicted label')\n",
    "plt.rcParams[\"figure.figsize\"] = (12, 1)\n",
    "plt.show()"
   ]
  },
  {
   "cell_type": "code",
   "execution_count": 1,
   "metadata": {},
   "outputs": [
    {
     "ename": "NameError",
     "evalue": "name 'confusion_matrix' is not defined",
     "output_type": "error",
     "traceback": [
      "\u001b[1;31m---------------------------------------------------------------------------\u001b[0m",
      "\u001b[1;31mNameError\u001b[0m                                 Traceback (most recent call last)",
      "\u001b[1;32m<ipython-input-1-e43d56b4cf45>\u001b[0m in \u001b[0;36m<module>\u001b[1;34m\u001b[0m\n\u001b[0;32m      1\u001b[0m \u001b[1;31m#### SVC\u001b[0m\u001b[1;33m\u001b[0m\u001b[1;33m\u001b[0m\u001b[1;33m\u001b[0m\u001b[0m\n\u001b[0;32m      2\u001b[0m \u001b[1;33m\u001b[0m\u001b[0m\n\u001b[1;32m----> 3\u001b[1;33m \u001b[0mcm_SVC\u001b[0m \u001b[1;33m=\u001b[0m \u001b[0mconfusion_matrix\u001b[0m\u001b[1;33m(\u001b[0m\u001b[0my_test\u001b[0m\u001b[1;33m,\u001b[0m \u001b[0my_pred_svm\u001b[0m\u001b[1;33m)\u001b[0m\u001b[1;33m\u001b[0m\u001b[1;33m\u001b[0m\u001b[0m\n\u001b[0m\u001b[0;32m      4\u001b[0m \u001b[1;31m# Show confusion matrix in a separate window\u001b[0m\u001b[1;33m\u001b[0m\u001b[1;33m\u001b[0m\u001b[1;33m\u001b[0m\u001b[0m\n\u001b[0;32m      5\u001b[0m \u001b[0mplt\u001b[0m\u001b[1;33m.\u001b[0m\u001b[0mmatshow\u001b[0m\u001b[1;33m(\u001b[0m\u001b[0mcm_SVC\u001b[0m\u001b[1;33m)\u001b[0m\u001b[1;33m\u001b[0m\u001b[1;33m\u001b[0m\u001b[0m\n",
      "\u001b[1;31mNameError\u001b[0m: name 'confusion_matrix' is not defined"
     ]
    }
   ],
   "source": [
    "#### SVC \n",
    "\n",
    "cm_SVC = confusion_matrix(y_test, y_pred_svm)\n",
    "# Show confusion matrix in a separate window\n",
    "plt.matshow(cm_SVC)\n",
    "plt.title('SVC Confusion matrix\\n')\n",
    "plt.colorbar()\n",
    "plt.ylabel('True label')\n",
    "plt.xlabel('Predicted label')\n",
    "plt.show()\n",
    "\n",
    "\n",
    "cm_CNN = confusion_matrix(y_test, y_pred_CNN)\n",
    "\n",
    "# Show confusion matrix in a separate window\n",
    "plt.matshow(cm_CNN)\n",
    "plt.title('CNN Confusion matrix\\n')\n",
    "plt.colorbar()\n",
    "plt.ylabel('True label')\n",
    "plt.xlabel('Predicted label')\n",
    "plt.show()"
   ]
  },
  {
   "cell_type": "markdown",
   "metadata": {},
   "source": [
    "## Discussion"
   ]
  },
  {
   "cell_type": "markdown",
   "metadata": {},
   "source": [
    "Write at least two paragraphs to describe and discuss your results. Make arguments based on your observations and results. Use reasoning and analytical thinking for your discussion.\n",
    "\n",
    "\n",
    "<b>Notice:</b> Having a thorough discussion is VERY important and has a significant impact on your final score!\n",
    "\n",
    "Produced classifiers showed some successful results based on the Accuracy, Precision, and Recall metrics. First three classifiers: Logistic Regression, Random Forest, and SVC "
   ]
  },
  {
   "cell_type": "markdown",
   "metadata": {},
   "source": [
    "## Grading"
   ]
  },
  {
   "cell_type": "markdown",
   "metadata": {},
   "source": [
    "Project grading rubric (total 100 points - 20% of the final grade):\n",
    "\n",
    "- Project proposal: 10 points\n",
    "\n",
    "- Final submission: 70 points - Breakdown as follows\n",
    "\n",
    "    - 30 points: Methods, hyperparameter tuning and comparison table\n",
    "    \n",
    "    - 20 points: Plots\n",
    "\n",
    "    - 20 points: Discussion (2 paragraphs)\n",
    "    \n",
    "- Project complexity and intellectual efforts judged by the instructor: 20 points\n",
    "    \n",
    "<b>Notice:</b> similar to the assignments, up to 10 points may be deducted if your notebook is not easy to read and/or has spelling/grammatical errors, so proofread your notebook!"
   ]
  },
  {
   "cell_type": "markdown",
   "metadata": {},
   "source": [
    "## How to Submit and Due Date - Late Penalty Will be Strictly Applied!"
   ]
  },
  {
   "cell_type": "markdown",
   "metadata": {},
   "source": [
    "Name your final project notebook ```Lastname-Project.ipynb```. Submit the notebook file with your dataset file in a zip file named EXACTLY as `Lastname-Project.zip` using the ```Final Project``` link on Blackboard. For groups, only one submission is required.\n",
    "\n",
    "<font color=red><b>Project Final Submission Due Date: Monday Dec 9th 11:59PM.</b></font>"
   ]
  }
 ],
 "metadata": {
  "kernelspec": {
   "display_name": "Python 3",
   "language": "python",
   "name": "python3"
  },
  "language_info": {
   "codemirror_mode": {
    "name": "ipython",
    "version": 3
   },
   "file_extension": ".py",
   "mimetype": "text/x-python",
   "name": "python",
   "nbconvert_exporter": "python",
   "pygments_lexer": "ipython3",
   "version": "3.6.9"
  }
 },
 "nbformat": 4,
 "nbformat_minor": 2
}
