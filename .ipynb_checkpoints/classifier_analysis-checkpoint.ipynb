{
 "cells": [
  {
   "cell_type": "markdown",
   "metadata": {},
   "source": [
    "# ASL Sign Language: Aphabet Gesture Recognition using ML"
   ]
  },
  {
   "cell_type": "markdown",
   "metadata": {},
   "source": [
    "*Author: Levan Sulimanov"
   ]
  },
  {
   "cell_type": "markdown",
   "metadata": {},
   "source": [
    "## Problem Description\n",
    "\n",
    "- Following project's aim is to create a multi-class classification models and serve as an comminication alternative for people with loss of hearing.\n",
    "- Deaf people continue to struggle communicating with hearing people who have no knowledge of Sign Language. There does not exist a device that would be able to translate Sign Language into text or voiced form to hearing people. This project attempts to resolve this issue by creating (for this stage) an image classifier that would be able to differentiate Sign Language alphabet and link it with American Alphabet letters (current gestures are ASL = American Sign Language)."
   ]
  },
  {
   "cell_type": "markdown",
   "metadata": {},
   "source": [
    "## Dataset\n",
    "\n",
    "- Link to dataset source: https://www.kaggle.com/datamunge/sign-language-mnist\n",
    "\n",
    "\n",
    "- <b>Label/target</b> description - What column in your dataset you are trying to predict? Specify exactly what your target feature (label) is. It must be one of the dataset columns. For image classification, specify your class labels.\n",
    "\n",
    "- Dataset itself contains three CSV files: train_set, test_set, and combined full_set (train+test sets).\n",
    "\n",
    "- Feature description: Inside of dataset, there are 34627 samples of 28\\*28 pictures, thus the dataset has <b>34627 rows</b> and <b>784 columns + label column</b>. Each column (except 'label') is a pixel values, no RGB values, thus the image is stored in black and white color (grayscale). For visual representation of the data, please see recollected image from CSV pixel values down below, once the dataset is imported. In addition to that, we have 'label' column that has numbers that symbolize alphabet letters accordingly: 0=A, 1=B, etc. Note: Letter 'J' and 'Z' not included, b/c they are shown as moving gestures, thus not suitable for dataset.\n",
    "\n"
   ]
  },
  {
   "cell_type": "markdown",
   "metadata": {},
   "source": [
    "- Code for loading, showing the data head, is located in the following cells below.\n",
    "\n",
    "\n",
    "- Pixels recollected back into images are also shown below."
   ]
  },
  {
   "cell_type": "markdown",
   "metadata": {},
   "source": [
    "## <font color=\"red\"> Required Coding"
   ]
  },
  {
   "cell_type": "code",
   "execution_count": 1,
   "metadata": {},
   "outputs": [],
   "source": [
    "# Import necessary Python, sklearn and/or tensorflow/keras modules for loading the dataset\n",
    "# Import necessary Python modules\n",
    "import pandas as pd\n",
    "import numpy as np\n",
    "import os\n",
    "\n",
    "import matplotlib.pyplot as plt\n",
    "%matplotlib inline\n",
    "\n",
    "# TENSORFLOW IMPORTS\n",
    "import tensorflow as tf"
   ]
  },
  {
   "cell_type": "code",
   "execution_count": 2,
   "metadata": {},
   "outputs": [
    {
     "name": "stdout",
     "output_type": "stream",
     "text": [
      "tf Version:  2.0.0\n",
      "Eager Execution mode:  True\n"
     ]
    }
   ],
   "source": [
    "# making sure same version is used (2.0.0) and Eager Execution is TRUE\n",
    "print(\"tf Version: \", tf.__version__)\n",
    "print(\"Eager Execution mode: \", tf.executing_eagerly())"
   ]
  },
  {
   "cell_type": "code",
   "execution_count": 3,
   "metadata": {},
   "outputs": [],
   "source": [
    "# Load the data\n",
    "\n",
    "# we are getting current directory + the folder that contains our datasets\n",
    "current_Directory = str(os.getcwd() + '\\\\sign-language-mnist\\\\')\n",
    "\n",
    "# once the directory for CSV files is stored we start to gather the data:\n",
    "\n",
    "# gathering FULL dataset:\n",
    "full_dataset = pd.read_csv(current_Directory + \"\\\\full_dataset.csv\")\n",
    "\n",
    "# gathering TRAIN dataset\n",
    "train_set = pd.read_csv(current_Directory + \"\\\\sign_mnist_train.csv\")\n",
    "\n",
    "# gathering TEST dataset:\n",
    "test_set = pd.read_csv(current_Directory + \"\\\\sign_mnist_test.csv\")"
   ]
  },
  {
   "cell_type": "code",
   "execution_count": 4,
   "metadata": {},
   "outputs": [
    {
     "name": "stdout",
     "output_type": "stream",
     "text": [
      "Full dataset shape: (34627, 785)\n"
     ]
    }
   ],
   "source": [
    "# Print data shape via built-in methods of sklearn, pandas or tensorflow/keras (or other modules)\n",
    "\n",
    "# - full dataset's shape:\n",
    "print(\"Full dataset shape:\", full_dataset.shape)"
   ]
  },
  {
   "cell_type": "code",
   "execution_count": 5,
   "metadata": {},
   "outputs": [
    {
     "data": {
      "text/html": [
       "<div>\n",
       "<style scoped>\n",
       "    .dataframe tbody tr th:only-of-type {\n",
       "        vertical-align: middle;\n",
       "    }\n",
       "\n",
       "    .dataframe tbody tr th {\n",
       "        vertical-align: top;\n",
       "    }\n",
       "\n",
       "    .dataframe thead th {\n",
       "        text-align: right;\n",
       "    }\n",
       "</style>\n",
       "<table border=\"1\" class=\"dataframe\">\n",
       "  <thead>\n",
       "    <tr style=\"text-align: right;\">\n",
       "      <th></th>\n",
       "      <th>label</th>\n",
       "      <th>pixel1</th>\n",
       "      <th>pixel2</th>\n",
       "      <th>pixel3</th>\n",
       "      <th>pixel4</th>\n",
       "      <th>pixel5</th>\n",
       "      <th>pixel6</th>\n",
       "      <th>pixel7</th>\n",
       "      <th>pixel8</th>\n",
       "      <th>pixel9</th>\n",
       "      <th>...</th>\n",
       "      <th>pixel775</th>\n",
       "      <th>pixel776</th>\n",
       "      <th>pixel777</th>\n",
       "      <th>pixel778</th>\n",
       "      <th>pixel779</th>\n",
       "      <th>pixel780</th>\n",
       "      <th>pixel781</th>\n",
       "      <th>pixel782</th>\n",
       "      <th>pixel783</th>\n",
       "      <th>pixel784</th>\n",
       "    </tr>\n",
       "  </thead>\n",
       "  <tbody>\n",
       "    <tr>\n",
       "      <th>0</th>\n",
       "      <td>3</td>\n",
       "      <td>107</td>\n",
       "      <td>118</td>\n",
       "      <td>127</td>\n",
       "      <td>134</td>\n",
       "      <td>139</td>\n",
       "      <td>143</td>\n",
       "      <td>146</td>\n",
       "      <td>150</td>\n",
       "      <td>153</td>\n",
       "      <td>...</td>\n",
       "      <td>207</td>\n",
       "      <td>207</td>\n",
       "      <td>207</td>\n",
       "      <td>207</td>\n",
       "      <td>206</td>\n",
       "      <td>206</td>\n",
       "      <td>206</td>\n",
       "      <td>204</td>\n",
       "      <td>203</td>\n",
       "      <td>202</td>\n",
       "    </tr>\n",
       "    <tr>\n",
       "      <th>1</th>\n",
       "      <td>6</td>\n",
       "      <td>155</td>\n",
       "      <td>157</td>\n",
       "      <td>156</td>\n",
       "      <td>156</td>\n",
       "      <td>156</td>\n",
       "      <td>157</td>\n",
       "      <td>156</td>\n",
       "      <td>158</td>\n",
       "      <td>158</td>\n",
       "      <td>...</td>\n",
       "      <td>69</td>\n",
       "      <td>149</td>\n",
       "      <td>128</td>\n",
       "      <td>87</td>\n",
       "      <td>94</td>\n",
       "      <td>163</td>\n",
       "      <td>175</td>\n",
       "      <td>103</td>\n",
       "      <td>135</td>\n",
       "      <td>149</td>\n",
       "    </tr>\n",
       "    <tr>\n",
       "      <th>2</th>\n",
       "      <td>2</td>\n",
       "      <td>187</td>\n",
       "      <td>188</td>\n",
       "      <td>188</td>\n",
       "      <td>187</td>\n",
       "      <td>187</td>\n",
       "      <td>186</td>\n",
       "      <td>187</td>\n",
       "      <td>188</td>\n",
       "      <td>187</td>\n",
       "      <td>...</td>\n",
       "      <td>202</td>\n",
       "      <td>201</td>\n",
       "      <td>200</td>\n",
       "      <td>199</td>\n",
       "      <td>198</td>\n",
       "      <td>199</td>\n",
       "      <td>198</td>\n",
       "      <td>195</td>\n",
       "      <td>194</td>\n",
       "      <td>195</td>\n",
       "    </tr>\n",
       "    <tr>\n",
       "      <th>3</th>\n",
       "      <td>2</td>\n",
       "      <td>211</td>\n",
       "      <td>211</td>\n",
       "      <td>212</td>\n",
       "      <td>212</td>\n",
       "      <td>211</td>\n",
       "      <td>210</td>\n",
       "      <td>211</td>\n",
       "      <td>210</td>\n",
       "      <td>210</td>\n",
       "      <td>...</td>\n",
       "      <td>235</td>\n",
       "      <td>234</td>\n",
       "      <td>233</td>\n",
       "      <td>231</td>\n",
       "      <td>230</td>\n",
       "      <td>226</td>\n",
       "      <td>225</td>\n",
       "      <td>222</td>\n",
       "      <td>229</td>\n",
       "      <td>163</td>\n",
       "    </tr>\n",
       "    <tr>\n",
       "      <th>4</th>\n",
       "      <td>13</td>\n",
       "      <td>164</td>\n",
       "      <td>167</td>\n",
       "      <td>170</td>\n",
       "      <td>172</td>\n",
       "      <td>176</td>\n",
       "      <td>179</td>\n",
       "      <td>180</td>\n",
       "      <td>184</td>\n",
       "      <td>185</td>\n",
       "      <td>...</td>\n",
       "      <td>92</td>\n",
       "      <td>105</td>\n",
       "      <td>105</td>\n",
       "      <td>108</td>\n",
       "      <td>133</td>\n",
       "      <td>163</td>\n",
       "      <td>157</td>\n",
       "      <td>163</td>\n",
       "      <td>164</td>\n",
       "      <td>179</td>\n",
       "    </tr>\n",
       "  </tbody>\n",
       "</table>\n",
       "<p>5 rows × 785 columns</p>\n",
       "</div>"
      ],
      "text/plain": [
       "   label  pixel1  pixel2  pixel3  pixel4  pixel5  pixel6  pixel7  pixel8  \\\n",
       "0      3     107     118     127     134     139     143     146     150   \n",
       "1      6     155     157     156     156     156     157     156     158   \n",
       "2      2     187     188     188     187     187     186     187     188   \n",
       "3      2     211     211     212     212     211     210     211     210   \n",
       "4     13     164     167     170     172     176     179     180     184   \n",
       "\n",
       "   pixel9  ...  pixel775  pixel776  pixel777  pixel778  pixel779  pixel780  \\\n",
       "0     153  ...       207       207       207       207       206       206   \n",
       "1     158  ...        69       149       128        87        94       163   \n",
       "2     187  ...       202       201       200       199       198       199   \n",
       "3     210  ...       235       234       233       231       230       226   \n",
       "4     185  ...        92       105       105       108       133       163   \n",
       "\n",
       "   pixel781  pixel782  pixel783  pixel784  \n",
       "0       206       204       203       202  \n",
       "1       175       103       135       149  \n",
       "2       198       195       194       195  \n",
       "3       225       222       229       163  \n",
       "4       157       163       164       179  \n",
       "\n",
       "[5 rows x 785 columns]"
      ]
     },
     "execution_count": 5,
     "metadata": {},
     "output_type": "execute_result"
    }
   ],
   "source": [
    "# Show the data head (if pandas is used)\n",
    "# If the dataset contains images or is non-pandas/non-tabular, show at least one sample of the data\n",
    "# Create X and y datasets (merged = test + train)\n",
    "X = full_dataset.drop('label', axis=1)\n",
    "y = full_dataset['label']\n",
    "\n",
    "full_dataset.head()"
   ]
  },
  {
   "cell_type": "code",
   "execution_count": 6,
   "metadata": {},
   "outputs": [
    {
     "name": "stdout",
     "output_type": "stream",
     "text": [
      "Features Shape:  (34627, 784)\n",
      "Features:\n",
      " [[107 118 127 ... 204 203 202]\n",
      " [155 157 156 ... 103 135 149]\n",
      " [187 188 188 ... 195 194 195]\n",
      " ...\n",
      " [190 191 190 ... 211 209 208]\n",
      " [201 205 208 ...  67  70  63]\n",
      " [173 174 173 ... 195 193 192]]\n",
      "\n",
      "Labels Shape: (34627,)\n",
      "Labels:\n",
      " [3 6 2 ... 2 4 2]\n"
     ]
    },
    {
     "data": {
      "image/png": "[encoded data removed]",
      "text/plain": [
       "<Figure size 432x288 with 1 Axes>"
      ]
     },
     "metadata": {
      "needs_background": "light"
     },
     "output_type": "display_data"
    }
   ],
   "source": [
    "# and visualize the data:\n",
    "x_visualize = full_dataset.iloc[:, 1:].values\n",
    "y_visualize = full_dataset.iloc[:, :1].values.flatten()\n",
    "\n",
    "print('Features Shape: ', x_visualize.shape)\n",
    "print('Features:\\n', x_visualize)\n",
    "\n",
    "print('\\nLabels Shape:', y_visualize.shape)\n",
    "print('Labels:\\n', y_visualize)\n",
    "\n",
    "# borrowed from https://www.kaggle.com/soumikrakshit/sign-language-translation-mlp\n",
    "# used to visualize the image\n",
    "def display(index):\n",
    "    plt.imshow(x_visualize[index].reshape(28, 28), cmap = 'gray')\n",
    "    plt.title( \"'G' = \" + str(y_visualize[index]))\n",
    "    plt.show()\n",
    "    \n",
    "display(1)"
   ]
  },
  {
   "cell_type": "markdown",
   "metadata": {},
   "source": [
    "## Data Preprocessing"
   ]
  },
  {
   "cell_type": "markdown",
   "metadata": {},
   "source": [
    "List any steps you have taken for preprocessing, such as cleaning, dropping NAs, dropping any redundant/irrelevant column, normalizing/scaling, etc. HERE:\n",
    "\n",
    "<b>Preprocessing Steps:</b> \n",
    "- Convert pandas DataFrame into numpy for Logistic Regression\n",
    "- drop label from dataset and store rest into X_train/X_test\n",
    "- store only 'label' column into y_train/y_test datasets\n",
    "- For MLP Neural Network: reduce pixel values by 255, so that it is easier to train\n",
    "- For MLP Neural Network: hot encode 'label' values\n",
    "- For CNN: reduce pixel values by 255, so that it is easier to train\n",
    "- For CNN: hot encode 'label' values\n",
    "- For CNN: reshape X_train to feed into Input layer in the form of (28, 28, 1)\n",
    "<br>\n",
    "\n",
    "- Specify the details of data splitting to train/test or cross validation. Mention the ratio for splitting and number of folds for cv.\n",
    "- Both Train and Test sets are stored in separate CSV files. Ratio: 80% Train and 20% Test. \n",
    "- For cross validation, cv=10.\n",
    "- Train and Test were also merged together to produce X and y sets, so there is also full dataset CSV file.\n",
    "<br>"
   ]
  },
  {
   "cell_type": "markdown",
   "metadata": {},
   "source": [
    "## <font color=\"red\"> Required Coding"
   ]
  },
  {
   "cell_type": "code",
   "execution_count": 7,
   "metadata": {},
   "outputs": [],
   "source": [
    "# Import necessary preprocessing modules\n",
    "\n",
    "# for categorical conversion for Conv2D\n",
    "# from sklearn.preprocessing import LabelBinarizer\n",
    "# numpy was already imported"
   ]
  },
  {
   "cell_type": "code",
   "execution_count": 8,
   "metadata": {},
   "outputs": [
    {
     "name": "stdout",
     "output_type": "stream",
     "text": [
      "\n",
      "X_train set shape: (27455, 784)\n",
      "y_train set shape: (27455,)\n",
      "\n",
      "X_test set shape: (7172, 784)\n",
      "y_test set shape: (7172,)\n",
      "\n",
      "numpy_X_test set shape: (7172, 784)\n",
      "numpy_y_test set shape: (7172,)\n",
      "\n",
      "X set shape: (34627, 784)\n",
      "y shape: (34627,)\n"
     ]
    }
   ],
   "source": [
    "# Data Preprocessing code here\n",
    "# and declaring train and test sets as X_train, y_train, X_test, y_test\n",
    "# train and test were already separated in original dataset zip file\n",
    "\n",
    "# dropping the column (that we are trying to predict) from X_train\n",
    "X_train = train_set.drop('label', axis=1)\n",
    "y_train = train_set['label']\n",
    "\n",
    "# dropping the column (that we are trying to predict) from X_test\n",
    "X_test = test_set.drop('label', axis=1)\n",
    "y_test = test_set['label']\n",
    "\n",
    "# creating numpy array if needed in future\n",
    "# logReg and Neural network classifiers have their own variable set\n",
    "# the reason for that is that each classifier uses their own shape, but if each of\n",
    "# these sets are used interchangeably, it creates confusion + some of the variables get\n",
    "# stored in the memory and cause errors, due to inconsistent shapes\n",
    "\n",
    "# for Log Reg - numpy array\n",
    "X_train_LogReg = X_train.values\n",
    "X_test_LogReg = X_test.values\n",
    "\n",
    "y_train_LogReg = y_train.values\n",
    "y_test_LogReg = y_test.values\n",
    "\n",
    "# sets for Neural Network are defined in its own data processing section\n",
    "\n",
    "# following 2 lines were done earlier for visualization to work:\n",
    "#X = full_dataset.drop('label', axis=1)\n",
    "#y = full_dataset['label']\n",
    "\n",
    "# - train dataset's shape:\n",
    "print(\"\\nX_train set shape:\", X_train.shape)\n",
    "print(\"y_train set shape:\", y_train.shape)\n",
    "\n",
    "# - test dataset's shape\n",
    "print(\"\\nX_test set shape:\", X_test.shape)\n",
    "print(\"y_test set shape:\", y_test.shape)\n",
    "\n",
    "# - test dataset's shape\n",
    "print(\"\\nnumpy_X_test set shape:\", X_test_LogReg.shape)\n",
    "print(\"numpy_y_test set shape:\", y_test_LogReg.shape)\n",
    "\n",
    "print(\"\\nX set shape:\", X.shape)\n",
    "print(\"y shape:\", y.shape)"
   ]
  },
  {
   "cell_type": "markdown",
   "metadata": {},
   "source": [
    "##### Data Preprocessing just for Convolutional Neural Network"
   ]
  },
  {
   "cell_type": "code",
   "execution_count": 9,
   "metadata": {},
   "outputs": [
    {
     "name": "stdout",
     "output_type": "stream",
     "text": [
      "(27455, 784)\n"
     ]
    }
   ],
   "source": [
    "# This following cells is for Convolutional Network 2D:\n",
    "input_shape = X_train.shape\n",
    "print(input_shape)\n",
    "\n",
    "# we need to get it down to (27455, 28, 28, 1) in order to input it into CNN"
   ]
  },
  {
   "cell_type": "code",
   "execution_count": 10,
   "metadata": {},
   "outputs": [
    {
     "name": "stdout",
     "output_type": "stream",
     "text": [
      "\n",
      "X_train_Conv set shape: (27455, 784)\n",
      "y_train_Conv set shape: (27455,)\n",
      "\n",
      "X_test_Conv set shape: (7172, 784)\n",
      "y_test_Conv set shape: (7172,)\n"
     ]
    }
   ],
   "source": [
    "# list of datasets (in numpy) for CNN's inputs and evaluation, predifined in preprocessing section\n",
    "X_train_NN = X_train.values\n",
    "X_test_NN = X_test.values\n",
    "\n",
    "y_train_Conv = y_train.values\n",
    "y_test_Conv = y_test.values\n",
    "\n",
    "# - train dataset's shape:\n",
    "print(\"\\nX_train_Conv set shape:\", X_train_NN.shape)\n",
    "print(\"y_train_Conv set shape:\", y_train_Conv.shape)\n",
    "\n",
    "# - test dataset's shape\n",
    "print(\"\\nX_test_Conv set shape:\", X_test_NN.shape)\n",
    "print(\"y_test_Conv set shape:\", y_test_Conv.shape)"
   ]
  },
  {
   "cell_type": "code",
   "execution_count": 11,
   "metadata": {},
   "outputs": [
    {
     "data": {
      "text/plain": [
       "24"
      ]
     },
     "execution_count": 11,
     "metadata": {},
     "output_type": "execute_result"
    }
   ],
   "source": [
    "np.unique(y_train)\n",
    "len(np.unique(y_train))"
   ]
  },
  {
   "cell_type": "code",
   "execution_count": 12,
   "metadata": {},
   "outputs": [],
   "source": [
    "# defining number of classes for y_set categorical set up\n",
    "number_of_classes = len(np.unique(y_train)) # = 24 classes actually, but letter \"J\" is missing (#9), because it is dynamic gesture\n",
    "\n",
    "# casting from list to numpy array\n",
    "X_train_NN = X_train_NN / 255.0\n",
    "#np_y_train\n",
    "\n",
    "X_test_NN = X_test_NN / 255.0\n",
    "#np_y_test"
   ]
  },
  {
   "cell_type": "code",
   "execution_count": 13,
   "metadata": {},
   "outputs": [],
   "source": [
    "# categorize train test: doing it manually b/c it was found out that 'J' is missing, which is 9th class\n",
    "# if we do regular binarize, everything after 'J' shifts by one class and hurts results\n",
    "# thus it was decided to simply keep 9 as empty array of 0's and technically ignore it due to absense of pixels for it in dataset\n",
    "# the removal of it and renumbering of classes was not done, because it was found only on CNN analyses that showed the absense of 'J' on confusion matrix\n",
    "# did not want to renumber due to time, since then it would take a lot of time to rerun SVC, LogReg, RF, and Hard Voting\n",
    "\n",
    "# categorize train test\n",
    "y_train_2D = []\n",
    "length = len(y_train)\n",
    "for i in range(0, len(y_train)):\n",
    "    arr = [0] * 25\n",
    "    arr[y_train[i]] = 1\n",
    "    y_train_2D.append(arr)\n",
    "\n",
    "y_train_Conv = np.array(y_train_2D)\n",
    "\n",
    "# categorize test test\n",
    "y_test_2D = []\n",
    "length = len(y_test)\n",
    "for i in range(0, len(y_test)):\n",
    "    arr = [0] * 25\n",
    "    arr[y_test[i]] = 1\n",
    "    y_test_2D.append(arr)\n",
    "\n",
    "y_test_Conv = np.array(y_test_2D)"
   ]
  },
  {
   "cell_type": "code",
   "execution_count": 14,
   "metadata": {},
   "outputs": [
    {
     "name": "stdout",
     "output_type": "stream",
     "text": [
      "[[0 0 0 ... 0 0 0]\n",
      " [0 0 0 ... 0 0 0]\n",
      " [0 0 1 ... 0 0 0]\n",
      " ...\n",
      " [0 0 0 ... 0 0 0]\n",
      " [0 0 0 ... 0 0 0]\n",
      " [0 0 0 ... 0 1 0]]\n"
     ]
    }
   ],
   "source": [
    "print(y_train_Conv)"
   ]
  },
  {
   "cell_type": "code",
   "execution_count": 15,
   "metadata": {},
   "outputs": [
    {
     "name": "stdout",
     "output_type": "stream",
     "text": [
      "(27455, 25)\n",
      "(7172, 25)\n"
     ]
    }
   ],
   "source": [
    "print(y_train_Conv.shape)\n",
    "print(y_test_Conv.shape)"
   ]
  },
  {
   "cell_type": "code",
   "execution_count": 16,
   "metadata": {},
   "outputs": [
    {
     "name": "stdout",
     "output_type": "stream",
     "text": [
      "Number of classes: 24\n",
      "X_train.shape:  (27455, 28, 28, 1)\n",
      "y_train.shape (27455, 25)\n",
      "X_test.shape (7172, 28, 28, 1)\n",
      "y_test.shape (7172, 25)\n"
     ]
    }
   ],
   "source": [
    "number_of_classes = len(y_test.unique())\n",
    "print(\"Number of classes:\", number_of_classes)\n",
    "\n",
    "# List of numpy array for X_train, y_train, X_test, y_test:\n",
    "\n",
    "X_train_Conv = X_train_NN.reshape(X_train_NN.shape[0], 28, 28, 1)\n",
    "#y_train_Conv\n",
    "\n",
    "X_test_Conv = X_test_NN.reshape(X_test_NN.shape[0], 28, 28, 1)\n",
    "#y_test_Conv\n",
    "\n",
    "# check their shapes\n",
    "print(\"X_train.shape: \", X_train_Conv.shape)\n",
    "print(\"y_train.shape\", y_train_Conv.shape)\n",
    "\n",
    "print(\"X_test.shape\", X_test_Conv.shape)\n",
    "print(\"y_test.shape\", y_test_Conv.shape)\n",
    "\n",
    "# end of data processing for convolutional network"
   ]
  },
  {
   "cell_type": "markdown",
   "metadata": {},
   "source": [
    "##### Data Preprocessing just for MLP"
   ]
  },
  {
   "cell_type": "code",
   "execution_count": 17,
   "metadata": {},
   "outputs": [],
   "source": [
    "##################################################\n",
    "X_train_MLP = X_train.values\n",
    "X_test_MLP = X_test.values\n",
    "\n",
    "X_train_MLP = X_train_MLP.astype(float) / 255.0\n",
    "X_test_MLP = X_test_MLP.astype(float) / 255.0\n",
    "\n",
    "y_train_MLP = y_train.values\n",
    "y_test_MLP = y_test.values"
   ]
  },
  {
   "cell_type": "code",
   "execution_count": 18,
   "metadata": {},
   "outputs": [
    {
     "name": "stdout",
     "output_type": "stream",
     "text": [
      "(27455, 784)\n",
      "(27455, 25)\n",
      "(7172, 784)\n",
      "(7172, 25)\n"
     ]
    }
   ],
   "source": [
    "# categorize train test: doing it manually b/c it was found out that 'J' is missing, which is 9th class\n",
    "# if we do regular binarize, everything after 'J' shifts by one class and hurts results\n",
    "y_train_MLP_arr = []\n",
    "length = len(y_train)\n",
    "for i in range(0, len(y_train)):\n",
    "    arr = [0] * 25\n",
    "    arr[y_train[i]] = 1\n",
    "    y_train_MLP_arr.append(arr)\n",
    "\n",
    "y_train_MLP = np.array(y_train_MLP_arr)\n",
    "\n",
    "# categorize train test\n",
    "y_test_MLP_arr = []\n",
    "length = len(y_test)\n",
    "for i in range(0, len(y_test)):\n",
    "    arr = [0] * 25\n",
    "    arr[y_test[i]] = 1\n",
    "    y_test_MLP_arr.append(arr)\n",
    "\n",
    "y_test_MLP = np.array(y_test_MLP_arr)\n",
    "\n",
    "\n",
    "print(X_train_MLP.shape)\n",
    "print(y_train_MLP.shape)\n",
    "\n",
    "print(X_test_MLP.shape)\n",
    "print(y_test_MLP.shape)"
   ]
  },
  {
   "cell_type": "markdown",
   "metadata": {},
   "source": [
    "## Methods\n",
    "\n",
    "List your sklearn and tensorflow methods HERE:\n",
    "\n",
    "1- Sklearn Method No.1: Logistic Regression (OvR method)\n",
    "\n",
    "2- Sklearn Method No.2: Random Forest Classifier + Manual hyperparam tuning and Grid Search tuning\n",
    "\n",
    "3- Sklearn Method No.3: SVM Classifier (OvR method)\n",
    "\n",
    "4- Sklearn Method No.4: Hard Voting using LogReg, RFC, & SVC\n",
    "\n",
    "5- Tensorflow Method: Convolutional Network 2D\n",
    "\n",
    "6- Tensorflow Method: Multi Layer Perceptron\n",
    "\n",
    "<b>Notice:</b> You should fine-tune at least one hyperparameter of each method by using multiple values (at least 3 different values)."
   ]
  },
  {
   "cell_type": "markdown",
   "metadata": {},
   "source": [
    "## <font color=\"red\"> Required Coding"
   ]
  },
  {
   "cell_type": "code",
   "execution_count": 19,
   "metadata": {},
   "outputs": [
    {
     "name": "stderr",
     "output_type": "stream",
     "text": [
      "Using TensorFlow backend.\n"
     ]
    }
   ],
   "source": [
    "# Import any necessary method/algorithm modules from sklearn and tf/keras here\n",
    "from keras.utils import np_utils\n",
    "\n",
    "# SKLEARN IMPORTS:\n",
    "from sklearn.linear_model import LogisticRegression\n",
    "from sklearn.ensemble import RandomForestClassifier\n",
    "from sklearn.svm import SVC\n",
    "from sklearn.ensemble import VotingClassifier\n",
    "\n",
    "# TENSORFLOW IMPORTS:\n",
    "from tensorflow.keras import Sequential\n",
    "from tensorflow.keras.layers import Flatten, Dense, Dropout, BatchNormalization, Conv2D, MaxPool2D\n",
    "\n",
    "# additional, some defined just in case if needed\n",
    "from sklearn.model_selection import train_test_split\n",
    "import sklearn.metrics as metrics\n",
    "from sklearn.metrics import accuracy_score\n",
    "\n",
    "from sklearn.model_selection import cross_val_score\n",
    "from sklearn.metrics import classification_report, confusion_matrix\n",
    "\n",
    "from sklearn.model_selection import GridSearchCV"
   ]
  },
  {
   "cell_type": "markdown",
   "metadata": {},
   "source": [
    "### Sklearn Method 1: Logistic Regression (OvR)"
   ]
  },
  {
   "cell_type": "code",
   "execution_count": 19,
   "metadata": {},
   "outputs": [
    {
     "name": "stderr",
     "output_type": "stream",
     "text": [
      "D:\\AI_ML\\envs\\ML_Projects\\lib\\site-packages\\sklearn\\linear_model\\sag.py:337: ConvergenceWarning: The max_iter was reached which means the coef_ did not converge\n",
      "  \"the coef_ did not converge\", ConvergenceWarning)\n"
     ]
    },
    {
     "name": "stdout",
     "output_type": "stream",
     "text": [
      "Accuracy Score:  0.6766592303402119\n"
     ]
    }
   ],
   "source": [
    "# Sklearn Method 1: LogReg\n",
    "\n",
    "# declaring logistic regession classifier\n",
    "#log_clf = LogisticRegression(random_state=42, multi_class='ovr', solver='saga', n_jobs=-1, max_iter=200)\n",
    "log_clf = LogisticRegression(random_state=42, multi_class='ovr', solver='saga', n_jobs=-1)\n",
    "\n",
    "# training:\n",
    "log_clf.fit(X_train_LogReg, y_train_LogReg)\n",
    "\n",
    "# predict:\n",
    "y_preds_log = log_clf.predict(X_test_LogReg)\n",
    "Accuracy_Log_Reg = accuracy_score(y_test, y_preds_log)\n",
    "print(\"Accuracy Score: \", metrics.accuracy_score(y_test, y_preds_log))"
   ]
  },
  {
   "cell_type": "markdown",
   "metadata": {},
   "source": [
    "##### LogReg accuracy: 67.3%"
   ]
  },
  {
   "cell_type": "code",
   "execution_count": 145,
   "metadata": {},
   "outputs": [
    {
     "data": {
      "image/png": "[encoded data removed]",
      "text/plain": [
       "<Figure size 288x288 with 2 Axes>"
      ]
     },
     "metadata": {
      "needs_background": "light"
     },
     "output_type": "display_data"
    }
   ],
   "source": [
    "cm_LR = confusion_matrix(y_test, y_preds_log)\n",
    "\n",
    "# Show confusion matrix in a separate window\n",
    "plt.matshow(cm_LR)\n",
    "plt.title('Random Forest Confusion matrix\\n')\n",
    "plt.colorbar()\n",
    "plt.ylabel('True label')\n",
    "plt.xlabel('Predicted label')\n",
    "plt.show()"
   ]
  },
  {
   "cell_type": "code",
   "execution_count": 146,
   "metadata": {},
   "outputs": [],
   "source": [
    "accuracy_LR = accuracy_score(y_test, y_preds_log)\n",
    "precision_LR = np.mean(np.diag(cm_LR) / np.sum(cm_LR, axis = 1))\n",
    "recall_LR = np.mean(np.diag(cm_LR) / np.sum(cm_LR, axis = 0))"
   ]
  },
  {
   "cell_type": "code",
   "execution_count": 147,
   "metadata": {},
   "outputs": [
    {
     "name": "stdout",
     "output_type": "stream",
     "text": [
      "0.6766592303402119\n",
      "0.6616006771563053\n",
      "0.6768010778335123\n"
     ]
    }
   ],
   "source": [
    "print(accuracy_LR)\n",
    "print(precision_LR)\n",
    "print(recall_LR)"
   ]
  },
  {
   "cell_type": "markdown",
   "metadata": {},
   "source": [
    "### Sklearn Method 2: Random Forest Classifier (Ensemble Method of Decision Trees)"
   ]
  },
  {
   "cell_type": "code",
   "execution_count": 22,
   "metadata": {},
   "outputs": [],
   "source": [
    "# Sklearn Method 2 code here \n",
    "\n",
    "# Creating random forest classifier with 100 estimators and max_leaf_nodes=16 and n_jobs=-1\n",
    "rf_clf = RandomForestClassifier(n_estimators=100, max_leaf_nodes=16, n_jobs=-1)"
   ]
  },
  {
   "cell_type": "code",
   "execution_count": 23,
   "metadata": {},
   "outputs": [
    {
     "name": "stdout",
     "output_type": "stream",
     "text": [
      "cross val score (mean):  0.2128913685668123 ; max_leafs =  2\n",
      "cross val score (mean):  0.2658077706987753 ; max_leafs =  3\n",
      "cross val score (mean):  0.2941321825159192 ; max_leafs =  4\n",
      "cross val score (mean):  0.3187077373359243 ; max_leafs =  5\n",
      "cross val score (mean):  0.34207474356865475 ; max_leafs =  6\n",
      "cross val score (mean):  0.3641586794184102 ; max_leafs =  7\n",
      "cross val score (mean):  0.385761890740729 ; max_leafs =  8\n",
      "cross val score (mean):  0.404798884305572 ; max_leafs =  9\n",
      "cross val score (mean):  0.42515357187443803 ; max_leafs =  10\n",
      "cross val score (mean):  0.4342791775339692 ; max_leafs =  11\n",
      "cross val score (mean):  0.44698736613629475 ; max_leafs =  12\n",
      "cross val score (mean):  0.46250148697310384 ; max_leafs =  13\n",
      "cross val score (mean):  0.476864630092053 ; max_leafs =  14\n",
      "cross val score (mean):  0.48154720161197495 ; max_leafs =  15\n",
      "cross val score (mean):  0.4963408053331405 ; max_leafs =  16\n",
      "cross val score (mean):  0.5021446516930863 ; max_leafs =  17\n",
      "cross val score (mean):  0.5179375406758895 ; max_leafs =  18\n",
      "cross val score (mean):  0.5251911315074399 ; max_leafs =  19\n",
      "cross val score (mean):  0.5338427882988996 ; max_leafs =  20\n",
      "cross val score (mean):  0.5400585652881901 ; max_leafs =  21\n",
      "cross val score (mean):  0.5489457104860584 ; max_leafs =  22\n",
      "cross val score (mean):  0.5555875706670842 ; max_leafs =  23\n",
      "cross val score (mean):  0.5607873127644025 ; max_leafs =  24\n",
      "cross val score (mean):  0.5731180352562054 ; max_leafs =  25\n",
      "cross val score (mean):  0.5760120066150173 ; max_leafs =  26\n",
      "cross val score (mean):  0.5835172686659003 ; max_leafs =  27\n",
      "cross val score (mean):  0.5852836937695983 ; max_leafs =  28\n",
      "cross val score (mean):  0.5909595039356819 ; max_leafs =  29\n",
      "cross val score (mean):  0.5976091063811719 ; max_leafs =  30\n",
      "cross val score (mean):  0.6018433096279592 ; max_leafs =  31\n"
     ]
    }
   ],
   "source": [
    "# proceeding with manual hyperparameter tuning\n",
    "# 1st hyperparam is max_leaf_nodes\n",
    "for max_leaf_nodes in range(2, 32):\n",
    "    rf_clf = RandomForestClassifier(n_estimators=100, max_leaf_nodes = max_leaf_nodes, n_jobs=-1)\n",
    "    rf_cv_score = cross_val_score(rf_clf, X, y, cv=10)\n",
    "    print(\"cross val score (mean): \", rf_cv_score.mean(), \"; max_leafs = \", max_leaf_nodes)"
   ]
  },
  {
   "cell_type": "code",
   "execution_count": 24,
   "metadata": {},
   "outputs": [
    {
     "name": "stdout",
     "output_type": "stream",
     "text": [
      "cross val score (mean):  0.2639072320596451 ; n_estimators =  1\n",
      "cross val score (mean):  0.33502425372563777 ; n_estimators =  2\n",
      "cross val score (mean):  0.3859341624365452 ; n_estimators =  3\n",
      "cross val score (mean):  0.4145488733644577 ; n_estimators =  4\n",
      "cross val score (mean):  0.43013608210413395 ; n_estimators =  5\n",
      "cross val score (mean):  0.4576383547227164 ; n_estimators =  6\n",
      "cross val score (mean):  0.47126921932458343 ; n_estimators =  7\n",
      "cross val score (mean):  0.4841118626125141 ; n_estimators =  8\n",
      "cross val score (mean):  0.5007954657500074 ; n_estimators =  9\n",
      "cross val score (mean):  0.506376026418961 ; n_estimators =  10\n",
      "cross val score (mean):  0.5142723685892546 ; n_estimators =  11\n",
      "cross val score (mean):  0.5227334605461803 ; n_estimators =  12\n",
      "cross val score (mean):  0.530647074514013 ; n_estimators =  13\n",
      "cross val score (mean):  0.5332907058946655 ; n_estimators =  14\n",
      "cross val score (mean):  0.5366133063279208 ; n_estimators =  15\n",
      "cross val score (mean):  0.5455410335075765 ; n_estimators =  16\n",
      "cross val score (mean):  0.5492620509135582 ; n_estimators =  17\n",
      "cross val score (mean):  0.5554070300182872 ; n_estimators =  18\n",
      "cross val score (mean):  0.5528757155639762 ; n_estimators =  19\n",
      "cross val score (mean):  0.55559573998328 ; n_estimators =  20\n",
      "cross val score (mean):  0.5543210821071101 ; n_estimators =  21\n",
      "cross val score (mean):  0.567146379795233 ; n_estimators =  22\n",
      "cross val score (mean):  0.5642536841870704 ; n_estimators =  23\n",
      "cross val score (mean):  0.5657827886457126 ; n_estimators =  24\n",
      "cross val score (mean):  0.5707167621423894 ; n_estimators =  25\n",
      "cross val score (mean):  0.5665951821094848 ; n_estimators =  26\n",
      "cross val score (mean):  0.5752578382907896 ; n_estimators =  27\n",
      "cross val score (mean):  0.5785471071779851 ; n_estimators =  28\n",
      "cross val score (mean):  0.5714163929427043 ; n_estimators =  29\n",
      "cross val score (mean):  0.5767037604285661 ; n_estimators =  30\n",
      "cross val score (mean):  0.5778861852860209 ; n_estimators =  31\n",
      "cross val score (mean):  0.5803062625041799 ; n_estimators =  32\n",
      "cross val score (mean):  0.5822705889059124 ; n_estimators =  33\n",
      "cross val score (mean):  0.580418428892901 ; n_estimators =  34\n",
      "cross val score (mean):  0.5818916461755375 ; n_estimators =  35\n",
      "cross val score (mean):  0.5820695111337841 ; n_estimators =  36\n",
      "cross val score (mean):  0.587006661541467 ; n_estimators =  37\n",
      "cross val score (mean):  0.5824170627990228 ; n_estimators =  38\n",
      "cross val score (mean):  0.5886262302120754 ; n_estimators =  39\n",
      "cross val score (mean):  0.5789801196824227 ; n_estimators =  40\n",
      "cross val score (mean):  0.5874995573766142 ; n_estimators =  41\n",
      "cross val score (mean):  0.5888247522830719 ; n_estimators =  42\n",
      "cross val score (mean):  0.5882767591751297 ; n_estimators =  43\n",
      "cross val score (mean):  0.5873865548552057 ; n_estimators =  44\n",
      "cross val score (mean):  0.5920034730198415 ; n_estimators =  45\n",
      "cross val score (mean):  0.5909583840721748 ; n_estimators =  46\n",
      "cross val score (mean):  0.5901280025161295 ; n_estimators =  47\n",
      "cross val score (mean):  0.5941960381314806 ; n_estimators =  48\n",
      "cross val score (mean):  0.593758890919444 ; n_estimators =  49\n",
      "cross val score (mean):  0.5961083450204792 ; n_estimators =  50\n",
      "cross val score (mean):  0.5978900583675911 ; n_estimators =  51\n",
      "cross val score (mean):  0.5958228573385026 ; n_estimators =  52\n",
      "cross val score (mean):  0.5940828172201819 ; n_estimators =  53\n",
      "cross val score (mean):  0.5924308992015732 ; n_estimators =  54\n",
      "cross val score (mean):  0.5954952257549228 ; n_estimators =  55\n",
      "cross val score (mean):  0.5984965358778375 ; n_estimators =  56\n",
      "cross val score (mean):  0.5978661034375252 ; n_estimators =  57\n",
      "cross val score (mean):  0.599687908744533 ; n_estimators =  58\n",
      "cross val score (mean):  0.599456827217524 ; n_estimators =  59\n",
      "cross val score (mean):  0.6003092955584703 ; n_estimators =  60\n",
      "cross val score (mean):  0.6024601118938157 ; n_estimators =  61\n",
      "cross val score (mean):  0.6015840724251691 ; n_estimators =  62\n",
      "cross val score (mean):  0.5977203747401874 ; n_estimators =  63\n",
      "cross val score (mean):  0.5991982435062899 ; n_estimators =  64\n",
      "cross val score (mean):  0.6015244916232636 ; n_estimators =  65\n",
      "cross val score (mean):  0.5981876848506661 ; n_estimators =  66\n",
      "cross val score (mean):  0.6049414928447348 ; n_estimators =  67\n",
      "cross val score (mean):  0.5998194101442225 ; n_estimators =  68\n",
      "cross val score (mean):  0.6030199455568931 ; n_estimators =  69\n",
      "cross val score (mean):  0.6050038570623636 ; n_estimators =  70\n",
      "cross val score (mean):  0.6030330381353335 ; n_estimators =  71\n",
      "cross val score (mean):  0.5989923886871387 ; n_estimators =  72\n",
      "cross val score (mean):  0.6066744190761649 ; n_estimators =  73\n",
      "cross val score (mean):  0.6020132212357732 ; n_estimators =  74\n",
      "cross val score (mean):  0.6026534422393965 ; n_estimators =  75\n",
      "cross val score (mean):  0.6030938923561265 ; n_estimators =  76\n",
      "cross val score (mean):  0.6055135893162295 ; n_estimators =  77\n",
      "cross val score (mean):  0.6013859909952585 ; n_estimators =  78\n",
      "cross val score (mean):  0.6052039887037652 ; n_estimators =  79\n",
      "cross val score (mean):  0.6046795823160482 ; n_estimators =  80\n",
      "cross val score (mean):  0.6010719518565535 ; n_estimators =  81\n",
      "cross val score (mean):  0.6042462235197665 ; n_estimators =  82\n",
      "cross val score (mean):  0.6034297899658035 ; n_estimators =  83\n",
      "cross val score (mean):  0.6056351655122542 ; n_estimators =  84\n",
      "cross val score (mean):  0.6039229810395044 ; n_estimators =  85\n",
      "cross val score (mean):  0.6045933468140008 ; n_estimators =  86\n",
      "cross val score (mean):  0.6061261409960985 ; n_estimators =  87\n",
      "cross val score (mean):  0.6072209880932113 ; n_estimators =  88\n",
      "cross val score (mean):  0.6095315224475195 ; n_estimators =  89\n",
      "cross val score (mean):  0.6068458290828538 ; n_estimators =  90\n",
      "cross val score (mean):  0.6077143120812375 ; n_estimators =  91\n",
      "cross val score (mean):  0.6062006036108653 ; n_estimators =  92\n",
      "cross val score (mean):  0.6018163951440375 ; n_estimators =  93\n",
      "cross val score (mean):  0.6070773642614247 ; n_estimators =  94\n",
      "cross val score (mean):  0.6078869393632503 ; n_estimators =  95\n",
      "cross val score (mean):  0.6095878589951242 ; n_estimators =  96\n",
      "cross val score (mean):  0.6083192207873086 ; n_estimators =  97\n",
      "cross val score (mean):  0.6042444329753961 ; n_estimators =  98\n",
      "cross val score (mean):  0.6062139828444029 ; n_estimators =  99\n",
      "cross val score (mean):  0.607535416635228 ; n_estimators =  100\n"
     ]
    }
   ],
   "source": [
    "# as we saw with max_leafs, it is useful to keep around 32, but it might be the cast that we can even increase it\n",
    "\n",
    "# proceeding with manual hyperparameter tuning\n",
    "# 2nd hyperparam is n_estimators\n",
    "for n_estimators in range(1, 101):\n",
    "    rf_clf = RandomForestClassifier(n_estimators=n_estimators, max_leaf_nodes = 32, n_jobs=-1)\n",
    "    rf_cv_score = cross_val_score(rf_clf, X, y, cv=10)\n",
    "    print(\"cross val score (mean): \", rf_cv_score.mean(), \"; n_estimators = \", n_estimators)"
   ]
  },
  {
   "cell_type": "code",
   "execution_count": 25,
   "metadata": {},
   "outputs": [
    {
     "name": "stdout",
     "output_type": "stream",
     "text": [
      "cross val score (mean):  0.5957598003779281\n"
     ]
    }
   ],
   "source": [
    "# from the tuning above, it is possible to see that estimators amount does not give much improvement after ~50, thus:\n",
    "# based on manual hyperparameter tuning for n_estimators and max_leaf_nodes,\n",
    "# it seems that model performs well on the following setup:\n",
    "rf_clf = RandomForestClassifier(n_estimators=50, max_leaf_nodes=32, n_jobs=-1)\n",
    "# proceeding with cross validation score and printing its average value:\n",
    "rf_cv_score = cross_val_score(rf_clf, X, y, cv=10)\n",
    "print(\"cross val score (mean): \", rf_cv_score.mean())"
   ]
  },
  {
   "cell_type": "code",
   "execution_count": 26,
   "metadata": {},
   "outputs": [],
   "source": [
    "rf_clf = RandomForestClassifier(n_estimators=50, max_leaf_nodes=32, n_jobs=-1)\n",
    "\n",
    "# training random forest and then evaluating\n",
    "rf_clf.fit(X_train, y_train)\n",
    "\n",
    "y_preds = rf_clf.predict(X_test)"
   ]
  },
  {
   "cell_type": "code",
   "execution_count": 27,
   "metadata": {},
   "outputs": [
    {
     "name": "stdout",
     "output_type": "stream",
     "text": [
      "Accuracy: 0.4703011712214166\n"
     ]
    }
   ],
   "source": [
    "print(\"Accuracy:\", metrics.accuracy_score(y_test, y_preds))"
   ]
  },
  {
   "cell_type": "code",
   "execution_count": 28,
   "metadata": {},
   "outputs": [
    {
     "name": "stdout",
     "output_type": "stream",
     "text": [
      "max_leaf_nodes= 32\n",
      "Accuracy: 0.4807585052983826\n",
      "cross val score (mean):  0.594809426462706\n",
      "***\n",
      "\n",
      "max_leaf_nodes= 33\n",
      "Accuracy: 0.4703011712214166\n",
      "cross val score (mean):  0.591135161721293\n",
      "***\n",
      "\n",
      "max_leaf_nodes= 34\n",
      "Accuracy: 0.4906581148912437\n",
      "cross val score (mean):  0.590836953674083\n",
      "***\n",
      "\n",
      "max_leaf_nodes= 35\n",
      "Accuracy: 0.49107640825432236\n",
      "cross val score (mean):  0.5909594061175707\n",
      "***\n",
      "\n",
      "max_leaf_nodes= 36\n",
      "Accuracy: 0.4690462911321807\n",
      "cross val score (mean):  0.5945105928338263\n",
      "***\n",
      "\n",
      "max_leaf_nodes= 37\n",
      "Accuracy: 0.48020078081427775\n",
      "cross val score (mean):  0.5960768488479132\n",
      "***\n",
      "\n",
      "max_leaf_nodes= 38\n",
      "Accuracy: 0.5059955382041271\n",
      "cross val score (mean):  0.5974877534004144\n",
      "***\n",
      "\n",
      "max_leaf_nodes= 39\n",
      "Accuracy: 0.49344673731176797\n",
      "cross val score (mean):  0.5953505821619747\n",
      "***\n",
      "\n",
      "max_leaf_nodes= 40\n",
      "Accuracy: 0.49944227551589515\n",
      "cross val score (mean):  0.592917485986627\n",
      "***\n",
      "\n",
      "max_leaf_nodes= 41\n",
      "Accuracy: 0.4878694924707195\n",
      "cross val score (mean):  0.5945791436336272\n",
      "***\n",
      "\n",
      "max_leaf_nodes= 42\n",
      "Accuracy: 0.5122699386503068\n",
      "cross val score (mean):  0.5967626497713503\n",
      "***\n",
      "\n",
      "max_leaf_nodes= 43\n",
      "Accuracy: 0.5186837702175126\n",
      "cross val score (mean):  0.5909328998009966\n",
      "***\n",
      "\n",
      "max_leaf_nodes= 44\n",
      "Accuracy: 0.5121305075292806\n",
      "cross val score (mean):  0.5913035256340656\n",
      "***\n",
      "\n",
      "max_leaf_nodes= 45\n",
      "Accuracy: 0.5101784718349136\n",
      "cross val score (mean):  0.5951484549770579\n",
      "***\n",
      "\n",
      "max_leaf_nodes= 46\n",
      "Accuracy: 0.5202175125488009\n",
      "cross val score (mean):  0.5947488764879332\n",
      "***\n",
      "\n",
      "max_leaf_nodes= 47\n",
      "Accuracy: 0.5199386503067485\n",
      "cross val score (mean):  0.5942450488826981\n",
      "***\n",
      "\n",
      "max_leaf_nodes= 48\n",
      "Accuracy: 0.5117122141662019\n",
      "cross val score (mean):  0.5952849682146766\n",
      "***\n",
      "\n",
      "max_leaf_nodes= 49\n",
      "Accuracy: 0.5284439486893474\n",
      "cross val score (mean):  0.5966517876604638\n",
      "***\n",
      "\n",
      "max_leaf_nodes= 50\n",
      "Accuracy: 0.5319297267150028\n",
      "cross val score (mean):  0.5992530718428214\n",
      "***\n",
      "\n",
      "max_leaf_nodes= 51\n",
      "Accuracy: 0.5154768544339097\n",
      "cross val score (mean):  0.5915369233780992\n",
      "***\n",
      "\n",
      "max_leaf_nodes= 52\n",
      "Accuracy: 0.5402955939765756\n",
      "cross val score (mean):  0.5945442336439503\n",
      "***\n",
      "\n",
      "max_leaf_nodes= 53\n",
      "Accuracy: 0.5493586168432795\n",
      "cross val score (mean):  0.5924249621784923\n",
      "***\n",
      "\n",
      "max_leaf_nodes= 54\n",
      "Accuracy: 0.5387618516452872\n",
      "cross val score (mean):  0.5938486512160921\n",
      "***\n",
      "\n",
      "max_leaf_nodes= 55\n",
      "Accuracy: 0.5287228109313998\n",
      "cross val score (mean):  0.5975090891460421\n",
      "***\n",
      "\n",
      "max_leaf_nodes= 56\n",
      "Accuracy: 0.5323480200780815\n",
      "cross val score (mean):  0.5923474944611558\n",
      "***\n",
      "\n",
      "max_leaf_nodes= 57\n",
      "Accuracy: 0.5465699944227551\n",
      "cross val score (mean):  0.5942824059768429\n",
      "***\n",
      "\n",
      "max_leaf_nodes= 58\n",
      "Accuracy: 0.5423870607919687\n",
      "cross val score (mean):  0.5922369534449451\n",
      "***\n",
      "\n",
      "max_leaf_nodes= 59\n",
      "Accuracy: 0.5577244841048522\n",
      "cross val score (mean):  0.5936741342964872\n",
      "***\n",
      "\n",
      "max_leaf_nodes= 60\n",
      "Accuracy: 0.5479643056330172\n",
      "cross val score (mean):  0.5907389451825871\n",
      "***\n",
      "\n",
      "max_leaf_nodes= 61\n",
      "Accuracy: 0.5578639152258784\n",
      "cross val score (mean):  0.5947757889333528\n",
      "***\n",
      "\n",
      "max_leaf_nodes= 62\n",
      "Accuracy: 0.5542387060791969\n",
      "cross val score (mean):  0.5927522607225071\n",
      "***\n",
      "\n",
      "max_leaf_nodes= 63\n",
      "Accuracy: 0.5598159509202454\n",
      "cross val score (mean):  0.5888571977659215\n",
      "***\n",
      "\n",
      "max_leaf_nodes= 64\n",
      "Accuracy: 0.559537088678193\n",
      "cross val score (mean):  0.5901541117307004\n",
      "***\n",
      "\n",
      "max_leaf_nodes= 65\n",
      "Accuracy: 0.5568878973786949\n",
      "cross val score (mean):  0.592662831233785\n",
      "***\n",
      "\n",
      "max_leaf_nodes= 66\n",
      "Accuracy: 0.5538204127161183\n",
      "cross val score (mean):  0.5938746694024226\n",
      "***\n",
      "\n",
      "max_leaf_nodes= 67\n",
      "Accuracy: 0.5426659230340212\n",
      "cross val score (mean):  0.5945994626114055\n",
      "***\n",
      "\n",
      "max_leaf_nodes= 68\n",
      "Accuracy: 0.5732013385387619\n",
      "cross val score (mean):  0.5915376735231788\n",
      "***\n",
      "\n",
      "max_leaf_nodes= 69\n",
      "Accuracy: 0.5422476296709425\n",
      "cross val score (mean):  0.5940809969267924\n",
      "***\n",
      "\n",
      "max_leaf_nodes= 70\n",
      "Accuracy: 0.5628834355828221\n",
      "cross val score (mean):  0.5956685210044723\n",
      "***\n",
      "\n",
      "max_leaf_nodes= 71\n",
      "Accuracy: 0.5637200223089793\n",
      "cross val score (mean):  0.59544155361429\n",
      "***\n",
      "\n"
     ]
    }
   ],
   "source": [
    "# not the best we can go with, so it is possible to try more hyperparameter tuning:\n",
    "for max_leaf_nodes in range(32, 72):\n",
    "    temp_rf_clf = RandomForestClassifier(n_estimators=42, max_leaf_nodes=max_leaf_nodes, n_jobs=-1)\n",
    "    temp_rf_clf.fit(X_train, y_train)\n",
    "    y_preds_rf = temp_rf_clf.predict(X_test)\n",
    "    print(\"max_leaf_nodes=\", max_leaf_nodes)\n",
    "    print(\"Accuracy:\", metrics.accuracy_score(y_test, y_preds_rf))\n",
    "    rf_cv_score = cross_val_score(rf_clf, X, y, cv=10)\n",
    "    print(\"cross val score (mean): \", rf_cv_score.mean())\n",
    "    print(\"***\\n\")"
   ]
  },
  {
   "cell_type": "code",
   "execution_count": 29,
   "metadata": {},
   "outputs": [
    {
     "name": "stdout",
     "output_type": "stream",
     "text": [
      "Accuracy: 0.5637200223089793\n"
     ]
    }
   ],
   "source": [
    "print(\"Accuracy:\", accuracy_score(y_test, y_preds_rf))"
   ]
  },
  {
   "cell_type": "code",
   "execution_count": 30,
   "metadata": {},
   "outputs": [
    {
     "name": "stderr",
     "output_type": "stream",
     "text": [
      "D:\\AI_ML\\envs\\ML_Projects\\lib\\site-packages\\sklearn\\model_selection\\_search.py:814: DeprecationWarning: The default of the `iid` parameter will change from True to False in version 0.22 and will be removed in 0.24. This will change numeric results when test-set sizes are unequal.\n",
      "  DeprecationWarning)\n"
     ]
    },
    {
     "data": {
      "text/plain": [
       "RandomForestClassifier(bootstrap=True, class_weight=None, criterion='gini',\n",
       "                       max_depth=None, max_features=8, max_leaf_nodes=None,\n",
       "                       min_impurity_decrease=0.0, min_impurity_split=None,\n",
       "                       min_samples_leaf=1, min_samples_split=2,\n",
       "                       min_weight_fraction_leaf=0.0, n_estimators=60,\n",
       "                       n_jobs=None, oob_score=False, random_state=None,\n",
       "                       verbose=0, warm_start=False)"
      ]
     },
     "execution_count": 30,
     "metadata": {},
     "output_type": "execute_result"
    }
   ],
   "source": [
    "# Result from manual hyperparameter tuning:\n",
    "\n",
    "# It was found out that best hyperparam values of n_estimators and max_leaf_nodes is this set up:\n",
    "# rf_clf = RandomForestClassifier(n_estimators=~50, max_leaf_nodes=32, n_jobs=-1)*\n",
    "\n",
    "# now with this information, we can try Grid Search:\n",
    "param_grid = [{'n_estimators': [3, 10, 30, 60, 65], 'max_features': [2, 4, 6, 8]}, \n",
    "              {'bootstrap': [False], 'n_estimators': [3, 10], 'max_features': [2, 3, 4]}]\n",
    "\n",
    "forest_classifier = RandomForestClassifier()\n",
    "\n",
    "grid_search = GridSearchCV(forest_classifier, param_grid, cv=5, scoring='neg_mean_squared_error', return_train_score=True)\n",
    "grid_search.fit(X_train, y_train)\n",
    "\n",
    "grid_search.best_estimator_"
   ]
  },
  {
   "cell_type": "code",
   "execution_count": 31,
   "metadata": {},
   "outputs": [
    {
     "name": "stdout",
     "output_type": "stream",
     "text": [
      "Mean Cross Validation Score is: 0.6108604421969229\n"
     ]
    }
   ],
   "source": [
    "# Fit the rf_clf on the training set\n",
    "rf_clf_1 = RandomForestClassifier(max_features=6, n_estimators=50, max_leaf_nodes = 32, n_jobs=-1)\n",
    "\n",
    "rf_clf_1.fit(X_train,y_train)\n",
    "\n",
    "rf_probs = rf_clf_1.predict_proba(X_test)\n",
    "rf_cv_score = cross_val_score(rf_clf_1, X, y, cv=10)\n",
    "print(\"Mean Cross Validation Score is:\", rf_cv_score.mean())"
   ]
  },
  {
   "cell_type": "code",
   "execution_count": 32,
   "metadata": {},
   "outputs": [
    {
     "data": {
      "text/plain": [
       "RandomForestClassifier(bootstrap=False, class_weight=None, criterion='gini',\n",
       "                       max_depth=None, max_features=2, max_leaf_nodes=84,\n",
       "                       min_impurity_decrease=0.0, min_impurity_split=None,\n",
       "                       min_samples_leaf=1, min_samples_split=2,\n",
       "                       min_weight_fraction_leaf=0.0, n_estimators=50,\n",
       "                       n_jobs=None, oob_score=False, random_state=None,\n",
       "                       verbose=0, warm_start=False)"
      ]
     },
     "execution_count": 32,
     "metadata": {},
     "output_type": "execute_result"
    }
   ],
   "source": [
    "# since from manual tuning it was found that 45 estimators is pretty much enough, 45 is is stable,\n",
    "# in order to improve performance and save time\n",
    "# also, after 38 max_leaf_nodes, we get over 50% of accuracy from both accuracy metrics and cross validation,\n",
    "# thus grid search will start from 38 max leaf nodes and go from there\n",
    "param_grid = [{'n_estimators': [50], 'max_features': [2, 4, 6, 8], 'max_leaf_nodes': [42, 64, 72, 84]}, \n",
    "              {'bootstrap': [False], 'n_estimators': [50], 'max_features': [2, 3, 4, 6], 'max_leaf_nodes': [42, 64, 72, 84]}]\n",
    "\n",
    "forest_classifier = RandomForestClassifier()\n",
    "\n",
    "grid_search = GridSearchCV(forest_classifier, param_grid, cv=5, scoring='neg_mean_squared_error', return_train_score=True)\n",
    "grid_search.fit(X_train, y_train)\n",
    "\n",
    "grid_search.best_estimator_"
   ]
  },
  {
   "cell_type": "code",
   "execution_count": 33,
   "metadata": {},
   "outputs": [
    {
     "name": "stdout",
     "output_type": "stream",
     "text": [
      "Mean Cross Validation Score is: 0.7273760767498288\n"
     ]
    }
   ],
   "source": [
    "# Fit the rf_clf on the training set\n",
    "rf_clf_2 = RandomForestClassifier(max_features=6, n_estimators=50, max_leaf_nodes = 72, n_jobs=-1)\n",
    "\n",
    "rf_cv_score = cross_val_score(rf_clf_2, X, y, cv=10)\n",
    "print(\"Mean Cross Validation Score is:\", rf_cv_score.mean())"
   ]
  },
  {
   "cell_type": "code",
   "execution_count": 213,
   "metadata": {},
   "outputs": [],
   "source": [
    "rf_clf_res = RandomForestClassifier(max_features=6, n_estimators=50, max_leaf_nodes = 512, n_jobs=-1)\n",
    "\n",
    "rf_clf_res.fit(X_train,y_train)\n",
    "\n",
    "rf_probs = rf_clf_res.predict_proba(X_test)\n",
    "\n",
    "rf_clf_res = rf_clf_res.predict(X_test)"
   ]
  },
  {
   "cell_type": "code",
   "execution_count": 214,
   "metadata": {},
   "outputs": [
    {
     "name": "stdout",
     "output_type": "stream",
     "text": [
      "Accuracy: 0.7304796430563302\n"
     ]
    }
   ],
   "source": [
    "print(\"Accuracy:\", accuracy_score(y_test, rf_clf_res))"
   ]
  },
  {
   "cell_type": "code",
   "execution_count": 215,
   "metadata": {},
   "outputs": [],
   "source": [
    "rf_clf_3 = RandomForestClassifier(max_features=6, n_estimators=50, n_jobs=-1)\n",
    "rf_clf_3.fit(X_train,y_train)\n",
    "y_preds_rf3 = rf_clf_3.predict(X_test)"
   ]
  },
  {
   "cell_type": "code",
   "execution_count": 216,
   "metadata": {},
   "outputs": [
    {
     "name": "stdout",
     "output_type": "stream",
     "text": [
      "Accuracy: 0.77356385945343\n"
     ]
    }
   ],
   "source": [
    "# 77% accuracy, better then the rest, which is good\n",
    "print(\"Accuracy:\", accuracy_score(y_test, y_preds_rf3))"
   ]
  },
  {
   "cell_type": "markdown",
   "metadata": {},
   "source": [
    "##### RF accuracy: 77.5% or 73% if max_leaf is regulated down to 512"
   ]
  },
  {
   "cell_type": "code",
   "execution_count": 217,
   "metadata": {},
   "outputs": [
    {
     "data": {
      "image/png": "[encoded data removed]",
      "text/plain": [
       "<Figure size 288x288 with 2 Axes>"
      ]
     },
     "metadata": {
      "needs_background": "light"
     },
     "output_type": "display_data"
    }
   ],
   "source": [
    "cm_RF = confusion_matrix(y_test, y_preds_rf3)\n",
    "\n",
    "# Show confusion matrix in a separate window\n",
    "plt.matshow(cm_RF)\n",
    "plt.title('Random Forest Confusion matrix\\n')\n",
    "plt.colorbar()\n",
    "plt.ylabel('True label')\n",
    "plt.xlabel('Predicted label')\n",
    "plt.show()\n",
    "\n",
    "# alright, let's try SVC then."
   ]
  },
  {
   "cell_type": "code",
   "execution_count": 218,
   "metadata": {},
   "outputs": [],
   "source": [
    "accuracy_RF = accuracy_score(y_test, y_preds_rf3)\n",
    "precision_RF = np.mean(np.diag(cm_RF) / np.sum(cm_RF, axis = 1))\n",
    "recall_RF = np.mean(np.diag(cm_RF) / np.sum(cm_RF, axis = 0))"
   ]
  },
  {
   "cell_type": "code",
   "execution_count": 219,
   "metadata": {},
   "outputs": [
    {
     "name": "stdout",
     "output_type": "stream",
     "text": [
      "0.77356385945343\n",
      "0.7641036230238254\n",
      "0.7657397620729608\n"
     ]
    }
   ],
   "source": [
    "print(accuracy_RF)\n",
    "print(precision_RF)\n",
    "print(recall_RF)"
   ]
  },
  {
   "cell_type": "markdown",
   "metadata": {},
   "source": [
    "### Sklearn Method 3: SVM Classifier (OvR)"
   ]
  },
  {
   "cell_type": "code",
   "execution_count": 43,
   "metadata": {},
   "outputs": [
    {
     "name": "stdout",
     "output_type": "stream",
     "text": [
      "0.8418851087562744\n"
     ]
    }
   ],
   "source": [
    "svm_clf = SVC(decision_function_shape = 'ovr', gamma='scale')\n",
    "svm_clf.fit(X_train, y_train)\n",
    "y_pred_svm = svm_clf.predict(X_test)\n",
    "print(accuracy_score(y_test, y_pred_svm))"
   ]
  },
  {
   "cell_type": "code",
   "execution_count": 139,
   "metadata": {},
   "outputs": [
    {
     "data": {
      "image/png": "[encoded data removed]",
      "text/plain": [
       "<Figure size 288x288 with 2 Axes>"
      ]
     },
     "metadata": {
      "needs_background": "light"
     },
     "output_type": "display_data"
    }
   ],
   "source": [
    "cm_SVC = confusion_matrix(y_test, y_pred_svm)\n",
    "\n",
    "# Show confusion matrix in a separate window\n",
    "plt.matshow(cm_SVC)\n",
    "plt.title('Random Forest Confusion matrix\\n')\n",
    "plt.colorbar()\n",
    "plt.ylabel('True label')\n",
    "plt.xlabel('Predicted label')\n",
    "plt.show()"
   ]
  },
  {
   "cell_type": "code",
   "execution_count": 140,
   "metadata": {},
   "outputs": [],
   "source": [
    "accuracy_SVC = accuracy_score(y_test, y_pred_svm)\n",
    "precision_SVC = np.mean(np.diag(cm_SVC) / np.sum(cm_SVC, axis = 1))\n",
    "recall_SVC = np.mean(np.diag(cm_SVC) / np.sum(cm_SVC, axis = 0))"
   ]
  },
  {
   "cell_type": "code",
   "execution_count": 141,
   "metadata": {},
   "outputs": [
    {
     "name": "stdout",
     "output_type": "stream",
     "text": [
      "0.8418851087562744\n",
      "0.8302432984080914\n",
      "0.8326597334184695\n"
     ]
    }
   ],
   "source": [
    "print(accuracy_SVC)\n",
    "print(precision_SVC)\n",
    "print(recall_SVC)"
   ]
  },
  {
   "cell_type": "code",
   "execution_count": 46,
   "metadata": {},
   "outputs": [
    {
     "name": "stdout",
     "output_type": "stream",
     "text": [
      "[1.         0.99971182 1.         0.99971148 1.         1.\n",
      " 1.         1.         1.         0.97480452]\n"
     ]
    }
   ],
   "source": [
    "# this one gives very high predictions, no matter if cv=5 or 10\n",
    "svm_clf_for_cross_val = SVC(decision_function_shape = 'ovr', gamma='scale')\n",
    "scores = cross_val_score(svm_clf_for_cross_val, X, y, cv=10)\n",
    "print(scores)"
   ]
  },
  {
   "cell_type": "code",
   "execution_count": 47,
   "metadata": {},
   "outputs": [
    {
     "name": "stdout",
     "output_type": "stream",
     "text": [
      "0.9974227816350055\n"
     ]
    }
   ],
   "source": [
    "print(scores.mean())"
   ]
  },
  {
   "cell_type": "code",
   "execution_count": 48,
   "metadata": {},
   "outputs": [],
   "source": [
    "# skipping hyperparameter tuning for SVC: OvR takes too long \n",
    "# and after trying various C's in different ranges, results are similar\n",
    "\n",
    "\n",
    "#C_values = [1, 5, 9, 12, 18, 25, 40, 55, 70, 78, 88]\n",
    "#acc_scores = []\n",
    "\n",
    "#for c in C_values:\n",
    "#    svm_result = SVC(decision_function_shape = 'ovr', gamma='scale', C=c)\n",
    "    \n",
    "#    svm_result.fit(X_train, y_train)\n",
    "    \n",
    "#    y_pred_SVC = svm_result.predict(X_test)\n",
    "\n",
    "#    acc = accuracy_score(y_test, y_pred_SVC)\n",
    "#    acc_scores.append(acc)\n",
    "#    print(acc)    "
   ]
  },
  {
   "cell_type": "markdown",
   "metadata": {},
   "source": [
    "### Sklearn Method 4: Hard Voting, Ensemble Method of LogReg, RFC, & SVC"
   ]
  },
  {
   "cell_type": "code",
   "execution_count": 49,
   "metadata": {},
   "outputs": [
    {
     "data": {
      "text/plain": [
       "VotingClassifier(estimators=[('lr',\n",
       "                              LogisticRegression(C=1.0, class_weight=None,\n",
       "                                                 dual=False, fit_intercept=True,\n",
       "                                                 intercept_scaling=1,\n",
       "                                                 l1_ratio=None, max_iter=200,\n",
       "                                                 multi_class='ovr', n_jobs=-1,\n",
       "                                                 penalty='l2', random_state=42,\n",
       "                                                 solver='saga', tol=0.0001,\n",
       "                                                 verbose=0, warm_start=False)),\n",
       "                             ('rf',\n",
       "                              RandomForestClassifier(bootstrap=True,\n",
       "                                                     class_weight=None,\n",
       "                                                     criterion='gini',\n",
       "                                                     max_d...\n",
       "                                                     n_estimators=50, n_jobs=-1,\n",
       "                                                     oob_score=False,\n",
       "                                                     random_state=None,\n",
       "                                                     verbose=0,\n",
       "                                                     warm_start=False)),\n",
       "                             ('svc',\n",
       "                              SVC(C=1.0, cache_size=200, class_weight=None,\n",
       "                                  coef0=0.0, decision_function_shape='ovr',\n",
       "                                  degree=3, gamma='scale', kernel='rbf',\n",
       "                                  max_iter=-1, probability=False,\n",
       "                                  random_state=None, shrinking=True, tol=0.001,\n",
       "                                  verbose=False))],\n",
       "                 flatten_transform=True, n_jobs=None, voting='hard',\n",
       "                 weights=None)"
      ]
     },
     "execution_count": 49,
     "metadata": {},
     "output_type": "execute_result"
    }
   ],
   "source": [
    "# defining each classifier, based on previous analyses and tunings\n",
    "# logistic regression\n",
    "log_clf = LogisticRegression(random_state=42, multi_class='ovr', solver='saga', n_jobs=-1, max_iter=200)\n",
    "\n",
    "# random forest\n",
    "# can add max_leaf_nodes=512\n",
    "rf_clf = RandomForestClassifier(max_features=6, n_estimators=50, n_jobs=-1)\n",
    "\n",
    "# svc\n",
    "svm_clf = SVC(decision_function_shape = 'ovr', gamma='scale')\n",
    "\n",
    "# finally, put all of them inside of voting classifier and set voting to hard\n",
    "# the reason why it was decided to go with hard, is that Logistic Regression performs badly,\n",
    "# thus if it would have been soft voting, then it would take average of all votes, thus Logistic regression would bring it down\n",
    "# maybe, it is even better to do just two methods for Ensemble, let's see:\n",
    "voting_clf = VotingClassifier(estimators=[('lr', log_clf), ('rf', rf_clf), ('svc', svm_clf)],\n",
    "                              voting='hard')\n",
    "\n",
    "voting_clf.fit(X_train, y_train)"
   ]
  },
  {
   "cell_type": "code",
   "execution_count": 50,
   "metadata": {},
   "outputs": [
    {
     "name": "stdout",
     "output_type": "stream",
     "text": [
      "Ensemble Accuracy Score: 0.8156720580033463\n"
     ]
    }
   ],
   "source": [
    "y_pred_hard_voting = voting_clf.predict(X_test)\n",
    "\n",
    "print(\"Ensemble Accuracy Score:\", accuracy_score(y_test, y_pred_hard_voting))"
   ]
  },
  {
   "cell_type": "code",
   "execution_count": 137,
   "metadata": {},
   "outputs": [
    {
     "data": {
      "image/png": "[encoded data removed]",
      "text/plain": [
       "<Figure size 288x288 with 2 Axes>"
      ]
     },
     "metadata": {
      "needs_background": "light"
     },
     "output_type": "display_data"
    }
   ],
   "source": [
    "cm_HVote = confusion_matrix(y_test, y_pred_hard_voting)\n",
    "\n",
    "# Show confusion matrix in a separate window\n",
    "plt.matshow(cm_HVote)\n",
    "plt.title('Confusion matrix\\n')\n",
    "plt.colorbar()\n",
    "plt.ylabel('True label')\n",
    "plt.xlabel('Predicted label')\n",
    "plt.show()"
   ]
  },
  {
   "cell_type": "code",
   "execution_count": 52,
   "metadata": {},
   "outputs": [],
   "source": [
    "accuracy_HV = accuracy_score(y_test, y_pred_hard_voting)\n",
    "precision_HV = np.mean(np.diag(cm_HVote) / np.sum(cm_HVote, axis = 1))\n",
    "recall_HV = np.mean(np.diag(cm_HVote) / np.sum(cm_HVote, axis = 0))"
   ]
  },
  {
   "cell_type": "code",
   "execution_count": 138,
   "metadata": {},
   "outputs": [
    {
     "name": "stdout",
     "output_type": "stream",
     "text": [
      "0.8156720580033463\n",
      "0.8062818825852851\n",
      "0.808764006513483\n"
     ]
    }
   ],
   "source": [
    "print(accuracy_HV)\n",
    "print(precision_HV)\n",
    "print(recall_HV)"
   ]
  },
  {
   "cell_type": "markdown",
   "metadata": {},
   "source": [
    "### Sklearn Method 5: MLP"
   ]
  },
  {
   "cell_type": "code",
   "execution_count": 181,
   "metadata": {},
   "outputs": [],
   "source": [
    "# model is not successful. To make it, it needs further hyperparameter tuning. It seems that MLP is much more gentle,\n",
    "# compared to Convolutional Neural Network. Even slight change in decay, changes results drastically. Thus, this MLP model,\n",
    "# simply needs more time for hyperparameter tuning, in order to avoid overfitting that it definetely has.\n",
    "model_MLP = tf.keras.models.Sequential()\n",
    "\n",
    "model_MLP.add(tf.keras.layers.Dense(units=64, input_dim = X_train_MLP.shape[1], \n",
    "                                activation='relu'))\n",
    "\n",
    "# 2 hidden layers with 128 neurons on each. A lot of hyperparameter tuning was done, but this was most successful by far\n",
    "model_MLP.add(tf.keras.layers.Dense(units=128, activation='relu'))\n",
    "model_MLP.add(tf.keras.layers.Dropout(0.2))\n",
    "\n",
    "model_MLP.add(tf.keras.layers.Dense(units=64, activation='relu'))\n",
    "model_MLP.add(tf.keras.layers.Dropout(0.2))\n",
    "\n",
    "model_MLP.add(tf.keras.layers.Dense(units=y_train_MLP.shape[1], activation='softmax'))"
   ]
  },
  {
   "cell_type": "code",
   "execution_count": 182,
   "metadata": {},
   "outputs": [
    {
     "name": "stdout",
     "output_type": "stream",
     "text": [
      "Train on 27455 samples, validate on 7172 samples\n",
      "Epoch 1/170\n",
      "27455/27455 [==============================] - 2s 56us/sample - loss: 3.2335 - accuracy: 0.0454 - val_loss: 3.2021 - val_accuracy: 0.0374\n",
      "Epoch 2/170\n",
      "27455/27455 [==============================] - 1s 41us/sample - loss: 3.1980 - accuracy: 0.0538 - val_loss: 3.1867 - val_accuracy: 0.0439\n",
      "Epoch 3/170\n",
      "27455/27455 [==============================] - 1s 41us/sample - loss: 3.1814 - accuracy: 0.0609 - val_loss: 3.1745 - val_accuracy: 0.0566\n",
      "Epoch 4/170\n",
      "27455/27455 [==============================] - 1s 40us/sample - loss: 3.1700 - accuracy: 0.0682 - val_loss: 3.1607 - val_accuracy: 0.0711\n",
      "Epoch 5/170\n",
      "27455/27455 [==============================] - 1s 40us/sample - loss: 3.1538 - accuracy: 0.0746 - val_loss: 3.1445 - val_accuracy: 0.0956\n",
      "Epoch 6/170\n",
      "27455/27455 [==============================] - 1s 40us/sample - loss: 3.1390 - accuracy: 0.0823 - val_loss: 3.1256 - val_accuracy: 0.1316\n",
      "Epoch 7/170\n",
      "27455/27455 [==============================] - 1s 40us/sample - loss: 3.1230 - accuracy: 0.0936 - val_loss: 3.1043 - val_accuracy: 0.1477\n",
      "Epoch 8/170\n",
      "27455/27455 [==============================] - 1s 40us/sample - loss: 3.1022 - accuracy: 0.1012 - val_loss: 3.0812 - val_accuracy: 0.1606\n",
      "Epoch 9/170\n",
      "27455/27455 [==============================] - 1s 40us/sample - loss: 3.0786 - accuracy: 0.1107 - val_loss: 3.0543 - val_accuracy: 0.1790\n",
      "Epoch 10/170\n",
      "27455/27455 [==============================] - 1s 40us/sample - loss: 3.0550 - accuracy: 0.1198 - val_loss: 3.0271 - val_accuracy: 0.1808\n",
      "Epoch 11/170\n",
      "27455/27455 [==============================] - 1s 41us/sample - loss: 3.0261 - accuracy: 0.1269 - val_loss: 2.9941 - val_accuracy: 0.1981\n",
      "Epoch 12/170\n",
      "27455/27455 [==============================] - 1s 40us/sample - loss: 2.9961 - accuracy: 0.1372 - val_loss: 2.9594 - val_accuracy: 0.1916\n",
      "Epoch 13/170\n",
      "27455/27455 [==============================] - 1s 40us/sample - loss: 2.9620 - accuracy: 0.1440 - val_loss: 2.9185 - val_accuracy: 0.2126\n",
      "Epoch 14/170\n",
      "27455/27455 [==============================] - 1s 40us/sample - loss: 2.9259 - accuracy: 0.1510 - val_loss: 2.8750 - val_accuracy: 0.2157\n",
      "Epoch 15/170\n",
      "27455/27455 [==============================] - 1s 40us/sample - loss: 2.8856 - accuracy: 0.1603 - val_loss: 2.8305 - val_accuracy: 0.2164\n",
      "Epoch 16/170\n",
      "27455/27455 [==============================] - 1s 40us/sample - loss: 2.8397 - accuracy: 0.1664 - val_loss: 2.7793 - val_accuracy: 0.2161\n",
      "Epoch 17/170\n",
      "27455/27455 [==============================] - 1s 40us/sample - loss: 2.7912 - accuracy: 0.1761 - val_loss: 2.7272 - val_accuracy: 0.2151\n",
      "Epoch 18/170\n",
      "27455/27455 [==============================] - 1s 41us/sample - loss: 2.7419 - accuracy: 0.1884 - val_loss: 2.6703 - val_accuracy: 0.2282\n",
      "Epoch 19/170\n",
      "27455/27455 [==============================] - 1s 40us/sample - loss: 2.6992 - accuracy: 0.1898 - val_loss: 2.6122 - val_accuracy: 0.2448\n",
      "Epoch 20/170\n",
      "27455/27455 [==============================] - 1s 41us/sample - loss: 2.6539 - accuracy: 0.2001 - val_loss: 2.5607 - val_accuracy: 0.2472\n",
      "Epoch 21/170\n",
      "27455/27455 [==============================] - 1s 40us/sample - loss: 2.5996 - accuracy: 0.2079 - val_loss: 2.5034 - val_accuracy: 0.2545\n",
      "Epoch 22/170\n",
      "27455/27455 [==============================] - 1s 40us/sample - loss: 2.5467 - accuracy: 0.2235 - val_loss: 2.4430 - val_accuracy: 0.2673\n",
      "Epoch 23/170\n",
      "27455/27455 [==============================] - 1s 40us/sample - loss: 2.5087 - accuracy: 0.2303 - val_loss: 2.3911 - val_accuracy: 0.2854\n",
      "Epoch 24/170\n",
      "27455/27455 [==============================] - 1s 40us/sample - loss: 2.4580 - accuracy: 0.2400 - val_loss: 2.3441 - val_accuracy: 0.2995\n",
      "Epoch 25/170\n",
      "27455/27455 [==============================] - 1s 40us/sample - loss: 2.4130 - accuracy: 0.2499 - val_loss: 2.2956 - val_accuracy: 0.3300\n",
      "Epoch 26/170\n",
      "27455/27455 [==============================] - 1s 40us/sample - loss: 2.3696 - accuracy: 0.2566 - val_loss: 2.2505 - val_accuracy: 0.3549\n",
      "Epoch 27/170\n",
      "27455/27455 [==============================] - 1s 40us/sample - loss: 2.3308 - accuracy: 0.2665 - val_loss: 2.2055 - val_accuracy: 0.3539\n",
      "Epoch 28/170\n",
      "27455/27455 [==============================] - 1s 40us/sample - loss: 2.2877 - accuracy: 0.2756 - val_loss: 2.1640 - val_accuracy: 0.3723\n",
      "Epoch 29/170\n",
      "27455/27455 [==============================] - 1s 40us/sample - loss: 2.2522 - accuracy: 0.2830 - val_loss: 2.1255 - val_accuracy: 0.3945\n",
      "Epoch 30/170\n",
      "27455/27455 [==============================] - 1s 40us/sample - loss: 2.2099 - accuracy: 0.2946 - val_loss: 2.0908 - val_accuracy: 0.4011\n",
      "Epoch 31/170\n",
      "27455/27455 [==============================] - 1s 40us/sample - loss: 2.1800 - accuracy: 0.2998 - val_loss: 2.0630 - val_accuracy: 0.4064\n",
      "Epoch 32/170\n",
      "27455/27455 [==============================] - 1s 40us/sample - loss: 2.1479 - accuracy: 0.3065 - val_loss: 2.0342 - val_accuracy: 0.4088\n",
      "Epoch 33/170\n",
      "27455/27455 [==============================] - 1s 40us/sample - loss: 2.1229 - accuracy: 0.3156 - val_loss: 2.0050 - val_accuracy: 0.4318\n",
      "Epoch 34/170\n",
      "27455/27455 [==============================] - 1s 40us/sample - loss: 2.0892 - accuracy: 0.3215 - val_loss: 1.9787 - val_accuracy: 0.4329\n",
      "Epoch 35/170\n",
      "27455/27455 [==============================] - 1s 40us/sample - loss: 2.0614 - accuracy: 0.3332 - val_loss: 1.9550 - val_accuracy: 0.4483\n",
      "Epoch 36/170\n",
      "27455/27455 [==============================] - 1s 40us/sample - loss: 2.0318 - accuracy: 0.3423 - val_loss: 1.9248 - val_accuracy: 0.4481\n",
      "Epoch 37/170\n",
      "27455/27455 [==============================] - 1s 40us/sample - loss: 2.0041 - accuracy: 0.3493 - val_loss: 1.8973 - val_accuracy: 0.4631\n",
      "Epoch 38/170\n",
      "27455/27455 [==============================] - 1s 41us/sample - loss: 1.9762 - accuracy: 0.3545 - val_loss: 1.8791 - val_accuracy: 0.4642\n",
      "Epoch 39/170\n",
      "27455/27455 [==============================] - 1s 40us/sample - loss: 1.9550 - accuracy: 0.3650 - val_loss: 1.8604 - val_accuracy: 0.4757\n",
      "Epoch 40/170\n",
      "27455/27455 [==============================] - 1s 40us/sample - loss: 1.9324 - accuracy: 0.3685 - val_loss: 1.8348 - val_accuracy: 0.4738\n",
      "Epoch 41/170\n",
      "27455/27455 [==============================] - 1s 41us/sample - loss: 1.9004 - accuracy: 0.3800 - val_loss: 1.8071 - val_accuracy: 0.4947\n",
      "Epoch 42/170\n",
      "27455/27455 [==============================] - 1s 40us/sample - loss: 1.8903 - accuracy: 0.3827 - val_loss: 1.7928 - val_accuracy: 0.4989\n",
      "Epoch 43/170\n",
      "27455/27455 [==============================] - 1s 41us/sample - loss: 1.8603 - accuracy: 0.3921 - val_loss: 1.7734 - val_accuracy: 0.4969\n",
      "Epoch 44/170\n",
      "27455/27455 [==============================] - 1s 41us/sample - loss: 1.8430 - accuracy: 0.3975 - val_loss: 1.7548 - val_accuracy: 0.5121\n",
      "Epoch 45/170\n",
      "27455/27455 [==============================] - 1s 40us/sample - loss: 1.8184 - accuracy: 0.4043 - val_loss: 1.7308 - val_accuracy: 0.5142\n",
      "Epoch 46/170\n",
      "27455/27455 [==============================] - 1s 41us/sample - loss: 1.7988 - accuracy: 0.4135 - val_loss: 1.7267 - val_accuracy: 0.5060\n",
      "Epoch 47/170\n",
      "27455/27455 [==============================] - 1s 40us/sample - loss: 1.7769 - accuracy: 0.4182 - val_loss: 1.6998 - val_accuracy: 0.5195\n",
      "Epoch 48/170\n",
      "27455/27455 [==============================] - 1s 40us/sample - loss: 1.7594 - accuracy: 0.4245 - val_loss: 1.6816 - val_accuracy: 0.5201\n",
      "Epoch 49/170\n",
      "27455/27455 [==============================] - 1s 40us/sample - loss: 1.7409 - accuracy: 0.4264 - val_loss: 1.6642 - val_accuracy: 0.5251\n",
      "Epoch 50/170\n",
      "27455/27455 [==============================] - 1s 40us/sample - loss: 1.7203 - accuracy: 0.4385 - val_loss: 1.6528 - val_accuracy: 0.5283\n",
      "Epoch 51/170\n",
      "27455/27455 [==============================] - 1s 40us/sample - loss: 1.6984 - accuracy: 0.4440 - val_loss: 1.6408 - val_accuracy: 0.5276\n",
      "Epoch 52/170\n",
      "27455/27455 [==============================] - 1s 40us/sample - loss: 1.6845 - accuracy: 0.4490 - val_loss: 1.6259 - val_accuracy: 0.5303\n",
      "Epoch 53/170\n",
      "27455/27455 [==============================] - 1s 40us/sample - loss: 1.6644 - accuracy: 0.4518 - val_loss: 1.6031 - val_accuracy: 0.5369\n",
      "Epoch 54/170\n",
      "27455/27455 [==============================] - 1s 40us/sample - loss: 1.6496 - accuracy: 0.4573 - val_loss: 1.5942 - val_accuracy: 0.5262\n"
     ]
    },
    {
     "name": "stdout",
     "output_type": "stream",
     "text": [
      "Epoch 55/170\n",
      "27455/27455 [==============================] - 1s 39us/sample - loss: 1.6350 - accuracy: 0.4637 - val_loss: 1.5870 - val_accuracy: 0.5301\n",
      "Epoch 56/170\n",
      "27455/27455 [==============================] - 1s 39us/sample - loss: 1.6169 - accuracy: 0.4706 - val_loss: 1.5715 - val_accuracy: 0.5322\n",
      "Epoch 57/170\n",
      "27455/27455 [==============================] - 1s 39us/sample - loss: 1.5949 - accuracy: 0.4764 - val_loss: 1.5561 - val_accuracy: 0.5392\n",
      "Epoch 58/170\n",
      "27455/27455 [==============================] - 1s 40us/sample - loss: 1.5796 - accuracy: 0.4828 - val_loss: 1.5465 - val_accuracy: 0.5351\n",
      "Epoch 59/170\n",
      "27455/27455 [==============================] - 1s 40us/sample - loss: 1.5674 - accuracy: 0.4840 - val_loss: 1.5332 - val_accuracy: 0.5360\n",
      "Epoch 60/170\n",
      "27455/27455 [==============================] - 1s 40us/sample - loss: 1.5520 - accuracy: 0.4876 - val_loss: 1.5272 - val_accuracy: 0.5407\n",
      "Epoch 61/170\n",
      "27455/27455 [==============================] - 1s 40us/sample - loss: 1.5411 - accuracy: 0.4924 - val_loss: 1.5135 - val_accuracy: 0.5386\n",
      "Epoch 62/170\n",
      "27455/27455 [==============================] - 1s 40us/sample - loss: 1.5283 - accuracy: 0.4964 - val_loss: 1.5184 - val_accuracy: 0.5413\n",
      "Epoch 63/170\n",
      "27455/27455 [==============================] - 1s 40us/sample - loss: 1.5101 - accuracy: 0.5042 - val_loss: 1.4983 - val_accuracy: 0.5531\n",
      "Epoch 64/170\n",
      "27455/27455 [==============================] - 1s 40us/sample - loss: 1.4963 - accuracy: 0.5088 - val_loss: 1.4805 - val_accuracy: 0.5513\n",
      "Epoch 65/170\n",
      "27455/27455 [==============================] - 1s 40us/sample - loss: 1.4808 - accuracy: 0.5133 - val_loss: 1.4763 - val_accuracy: 0.5515\n",
      "Epoch 66/170\n",
      "27455/27455 [==============================] - 1s 40us/sample - loss: 1.4691 - accuracy: 0.5221 - val_loss: 1.4618 - val_accuracy: 0.5501\n",
      "Epoch 67/170\n",
      "27455/27455 [==============================] - 1s 40us/sample - loss: 1.4543 - accuracy: 0.5224 - val_loss: 1.4554 - val_accuracy: 0.5643\n",
      "Epoch 68/170\n",
      "27455/27455 [==============================] - 1s 40us/sample - loss: 1.4420 - accuracy: 0.5254 - val_loss: 1.4481 - val_accuracy: 0.5604\n",
      "Epoch 69/170\n",
      "27455/27455 [==============================] - 1s 40us/sample - loss: 1.4264 - accuracy: 0.5311 - val_loss: 1.4351 - val_accuracy: 0.5647\n",
      "Epoch 70/170\n",
      "27455/27455 [==============================] - 1s 40us/sample - loss: 1.4182 - accuracy: 0.5325 - val_loss: 1.4260 - val_accuracy: 0.5613\n",
      "Epoch 71/170\n",
      "27455/27455 [==============================] - 1s 40us/sample - loss: 1.4061 - accuracy: 0.5391 - val_loss: 1.4188 - val_accuracy: 0.5687\n",
      "Epoch 72/170\n",
      "27455/27455 [==============================] - 1s 40us/sample - loss: 1.3939 - accuracy: 0.5395 - val_loss: 1.4216 - val_accuracy: 0.5641\n",
      "Epoch 73/170\n",
      "27455/27455 [==============================] - 1s 39us/sample - loss: 1.3748 - accuracy: 0.5513 - val_loss: 1.4060 - val_accuracy: 0.5724\n",
      "Epoch 74/170\n",
      "27455/27455 [==============================] - 1s 39us/sample - loss: 1.3632 - accuracy: 0.5525 - val_loss: 1.4062 - val_accuracy: 0.5619\n",
      "Epoch 75/170\n",
      "27455/27455 [==============================] - 1s 39us/sample - loss: 1.3573 - accuracy: 0.5532 - val_loss: 1.3852 - val_accuracy: 0.5810\n",
      "Epoch 76/170\n",
      "27455/27455 [==============================] - 1s 40us/sample - loss: 1.3435 - accuracy: 0.5599 - val_loss: 1.3989 - val_accuracy: 0.5644\n",
      "Epoch 77/170\n",
      "27455/27455 [==============================] - 1s 40us/sample - loss: 1.3291 - accuracy: 0.5635 - val_loss: 1.3756 - val_accuracy: 0.5763\n",
      "Epoch 78/170\n",
      "27455/27455 [==============================] - 1s 39us/sample - loss: 1.3217 - accuracy: 0.5671 - val_loss: 1.3709 - val_accuracy: 0.5824\n",
      "Epoch 79/170\n",
      "27455/27455 [==============================] - 1s 40us/sample - loss: 1.3078 - accuracy: 0.5692 - val_loss: 1.3615 - val_accuracy: 0.5788\n",
      "Epoch 80/170\n",
      "27455/27455 [==============================] - 1s 39us/sample - loss: 1.2949 - accuracy: 0.5772 - val_loss: 1.3553 - val_accuracy: 0.5813\n",
      "Epoch 81/170\n",
      "27455/27455 [==============================] - 1s 39us/sample - loss: 1.2829 - accuracy: 0.5800 - val_loss: 1.3493 - val_accuracy: 0.5848\n",
      "Epoch 82/170\n",
      "27455/27455 [==============================] - 1s 40us/sample - loss: 1.2714 - accuracy: 0.5853 - val_loss: 1.3394 - val_accuracy: 0.5979\n",
      "Epoch 83/170\n",
      "27455/27455 [==============================] - 1s 40us/sample - loss: 1.2626 - accuracy: 0.5856 - val_loss: 1.3402 - val_accuracy: 0.5817\n",
      "Epoch 84/170\n",
      "27455/27455 [==============================] - 1s 40us/sample - loss: 1.2450 - accuracy: 0.5926 - val_loss: 1.3232 - val_accuracy: 0.5867\n",
      "Epoch 85/170\n",
      "27455/27455 [==============================] - 1s 40us/sample - loss: 1.2428 - accuracy: 0.5950 - val_loss: 1.3151 - val_accuracy: 0.5980\n",
      "Epoch 86/170\n",
      "27455/27455 [==============================] - 1s 40us/sample - loss: 1.2328 - accuracy: 0.5958 - val_loss: 1.3068 - val_accuracy: 0.5926\n",
      "Epoch 87/170\n",
      "27455/27455 [==============================] - 1s 40us/sample - loss: 1.2168 - accuracy: 0.6012 - val_loss: 1.3021 - val_accuracy: 0.6001\n",
      "Epoch 88/170\n",
      "27455/27455 [==============================] - 1s 40us/sample - loss: 1.2092 - accuracy: 0.6013 - val_loss: 1.3057 - val_accuracy: 0.5931\n",
      "Epoch 89/170\n",
      "27455/27455 [==============================] - 1s 40us/sample - loss: 1.2012 - accuracy: 0.6067 - val_loss: 1.2942 - val_accuracy: 0.5952\n",
      "Epoch 90/170\n",
      "27455/27455 [==============================] - 1s 40us/sample - loss: 1.1913 - accuracy: 0.6068 - val_loss: 1.2888 - val_accuracy: 0.5926\n",
      "Epoch 91/170\n",
      "27455/27455 [==============================] - 1s 40us/sample - loss: 1.1833 - accuracy: 0.6093 - val_loss: 1.2867 - val_accuracy: 0.5986\n",
      "Epoch 92/170\n",
      "27455/27455 [==============================] - 1s 40us/sample - loss: 1.1664 - accuracy: 0.6188 - val_loss: 1.2748 - val_accuracy: 0.6114\n",
      "Epoch 93/170\n",
      "27455/27455 [==============================] - 1s 41us/sample - loss: 1.1584 - accuracy: 0.6203 - val_loss: 1.2757 - val_accuracy: 0.6069\n",
      "Epoch 94/170\n",
      "27455/27455 [==============================] - 1s 41us/sample - loss: 1.1441 - accuracy: 0.6232 - val_loss: 1.2597 - val_accuracy: 0.6145\n",
      "Epoch 95/170\n",
      "27455/27455 [==============================] - 1s 40us/sample - loss: 1.1375 - accuracy: 0.6263 - val_loss: 1.2596 - val_accuracy: 0.6028\n",
      "Epoch 96/170\n",
      "27455/27455 [==============================] - 1s 40us/sample - loss: 1.1284 - accuracy: 0.6283 - val_loss: 1.2494 - val_accuracy: 0.6235\n",
      "Epoch 97/170\n",
      "27455/27455 [==============================] - 1s 42us/sample - loss: 1.1184 - accuracy: 0.6347 - val_loss: 1.2442 - val_accuracy: 0.6228\n",
      "Epoch 98/170\n",
      "27455/27455 [==============================] - 1s 40us/sample - loss: 1.1110 - accuracy: 0.6347 - val_loss: 1.2392 - val_accuracy: 0.6196\n",
      "Epoch 99/170\n",
      "27455/27455 [==============================] - 1s 40us/sample - loss: 1.1011 - accuracy: 0.6368 - val_loss: 1.2386 - val_accuracy: 0.6117\n",
      "Epoch 100/170\n",
      "27455/27455 [==============================] - 1s 40us/sample - loss: 1.0945 - accuracy: 0.6377 - val_loss: 1.2363 - val_accuracy: 0.6150\n",
      "Epoch 101/170\n",
      "27455/27455 [==============================] - 1s 40us/sample - loss: 1.0845 - accuracy: 0.6434 - val_loss: 1.2196 - val_accuracy: 0.6210\n",
      "Epoch 102/170\n",
      "27455/27455 [==============================] - 1s 40us/sample - loss: 1.0797 - accuracy: 0.6455 - val_loss: 1.2231 - val_accuracy: 0.6294\n",
      "Epoch 103/170\n",
      "27455/27455 [==============================] - 1s 40us/sample - loss: 1.0687 - accuracy: 0.6463 - val_loss: 1.2136 - val_accuracy: 0.6228\n",
      "Epoch 104/170\n",
      "27455/27455 [==============================] - 1s 40us/sample - loss: 1.0595 - accuracy: 0.6526 - val_loss: 1.2114 - val_accuracy: 0.6313\n",
      "Epoch 105/170\n",
      "27455/27455 [==============================] - 1s 40us/sample - loss: 1.0519 - accuracy: 0.6493 - val_loss: 1.2037 - val_accuracy: 0.6319\n",
      "Epoch 106/170\n",
      "27455/27455 [==============================] - 1s 40us/sample - loss: 1.0429 - accuracy: 0.6588 - val_loss: 1.2083 - val_accuracy: 0.6228\n",
      "Epoch 107/170\n",
      "27455/27455 [==============================] - 1s 40us/sample - loss: 1.0365 - accuracy: 0.6608 - val_loss: 1.1968 - val_accuracy: 0.6315\n",
      "Epoch 108/170\n",
      "27455/27455 [==============================] - 1s 40us/sample - loss: 1.0271 - accuracy: 0.6619 - val_loss: 1.1897 - val_accuracy: 0.6347\n",
      "Epoch 109/170\n",
      "27455/27455 [==============================] - 1s 39us/sample - loss: 1.0178 - accuracy: 0.6671 - val_loss: 1.1863 - val_accuracy: 0.6287\n",
      "Epoch 110/170\n",
      "27455/27455 [==============================] - 1s 39us/sample - loss: 1.0118 - accuracy: 0.6674 - val_loss: 1.1748 - val_accuracy: 0.6445\n",
      "Epoch 111/170\n",
      "27455/27455 [==============================] - 1s 40us/sample - loss: 0.9970 - accuracy: 0.6735 - val_loss: 1.1816 - val_accuracy: 0.6382\n",
      "Epoch 112/170\n",
      "27455/27455 [==============================] - 1s 40us/sample - loss: 0.9934 - accuracy: 0.6728 - val_loss: 1.1815 - val_accuracy: 0.6351\n",
      "Epoch 113/170\n",
      "27455/27455 [==============================] - 1s 40us/sample - loss: 0.9799 - accuracy: 0.6765 - val_loss: 1.1789 - val_accuracy: 0.6267\n",
      "Epoch 114/170\n",
      "27455/27455 [==============================] - 1s 39us/sample - loss: 0.9714 - accuracy: 0.6816 - val_loss: 1.1760 - val_accuracy: 0.6371\n",
      "Epoch 115/170\n",
      "27455/27455 [==============================] - 1s 39us/sample - loss: 0.9740 - accuracy: 0.6780 - val_loss: 1.1654 - val_accuracy: 0.6530\n",
      "Epoch 116/170\n",
      "27455/27455 [==============================] - 1s 40us/sample - loss: 0.9593 - accuracy: 0.6836 - val_loss: 1.1575 - val_accuracy: 0.6411\n",
      "Epoch 117/170\n",
      "27455/27455 [==============================] - 1s 40us/sample - loss: 0.9487 - accuracy: 0.6889 - val_loss: 1.1547 - val_accuracy: 0.6439\n",
      "Epoch 118/170\n",
      "27455/27455 [==============================] - 1s 40us/sample - loss: 0.9455 - accuracy: 0.6889 - val_loss: 1.1536 - val_accuracy: 0.6417\n",
      "Epoch 119/170\n",
      "27455/27455 [==============================] - 1s 39us/sample - loss: 0.9343 - accuracy: 0.6914 - val_loss: 1.1563 - val_accuracy: 0.6403\n",
      "Epoch 120/170\n",
      "27455/27455 [==============================] - 1s 40us/sample - loss: 0.9275 - accuracy: 0.6938 - val_loss: 1.1440 - val_accuracy: 0.6525\n",
      "Epoch 121/170\n",
      "27455/27455 [==============================] - 1s 39us/sample - loss: 0.9229 - accuracy: 0.6958 - val_loss: 1.1430 - val_accuracy: 0.6602\n",
      "Epoch 122/170\n",
      "27455/27455 [==============================] - 1s 40us/sample - loss: 0.9150 - accuracy: 0.6964 - val_loss: 1.1366 - val_accuracy: 0.6450\n",
      "Epoch 123/170\n",
      "27455/27455 [==============================] - 1s 39us/sample - loss: 0.9072 - accuracy: 0.7002 - val_loss: 1.1303 - val_accuracy: 0.6592\n",
      "Epoch 124/170\n",
      "27455/27455 [==============================] - 1s 39us/sample - loss: 0.9030 - accuracy: 0.7061 - val_loss: 1.1372 - val_accuracy: 0.6514\n",
      "Epoch 125/170\n",
      "27455/27455 [==============================] - 1s 39us/sample - loss: 0.8979 - accuracy: 0.7019 - val_loss: 1.1249 - val_accuracy: 0.6523\n",
      "Epoch 126/170\n",
      "27455/27455 [==============================] - 1s 40us/sample - loss: 0.8850 - accuracy: 0.7096 - val_loss: 1.1221 - val_accuracy: 0.6655\n",
      "Epoch 127/170\n",
      "27455/27455 [==============================] - 1s 40us/sample - loss: 0.8757 - accuracy: 0.7138 - val_loss: 1.1215 - val_accuracy: 0.6707\n",
      "Epoch 128/170\n",
      "27455/27455 [==============================] - 1s 41us/sample - loss: 0.8751 - accuracy: 0.7114 - val_loss: 1.1262 - val_accuracy: 0.6514\n",
      "Epoch 129/170\n",
      "27455/27455 [==============================] - 1s 40us/sample - loss: 0.8672 - accuracy: 0.7122 - val_loss: 1.1095 - val_accuracy: 0.6616\n",
      "Epoch 130/170\n",
      "27455/27455 [==============================] - 1s 40us/sample - loss: 0.8616 - accuracy: 0.7162 - val_loss: 1.1174 - val_accuracy: 0.6555\n",
      "Epoch 131/170\n",
      "27455/27455 [==============================] - 1s 40us/sample - loss: 0.8514 - accuracy: 0.7187 - val_loss: 1.1059 - val_accuracy: 0.6673\n",
      "Epoch 132/170\n",
      "27455/27455 [==============================] - 1s 40us/sample - loss: 0.8476 - accuracy: 0.7199 - val_loss: 1.1014 - val_accuracy: 0.6721\n",
      "Epoch 133/170\n",
      "27455/27455 [==============================] - 1s 40us/sample - loss: 0.8436 - accuracy: 0.7218 - val_loss: 1.0996 - val_accuracy: 0.6662\n",
      "Epoch 134/170\n",
      "27455/27455 [==============================] - 1s 39us/sample - loss: 0.8347 - accuracy: 0.7254 - val_loss: 1.0908 - val_accuracy: 0.6775\n",
      "Epoch 135/170\n",
      "27455/27455 [==============================] - 1s 39us/sample - loss: 0.8312 - accuracy: 0.7284 - val_loss: 1.1055 - val_accuracy: 0.6615\n",
      "Epoch 136/170\n",
      "27455/27455 [==============================] - 1s 39us/sample - loss: 0.8200 - accuracy: 0.7325 - val_loss: 1.0901 - val_accuracy: 0.6721\n",
      "Epoch 137/170\n",
      "27455/27455 [==============================] - 1s 40us/sample - loss: 0.8194 - accuracy: 0.7313 - val_loss: 1.0872 - val_accuracy: 0.6743\n",
      "Epoch 138/170\n",
      "27455/27455 [==============================] - 1s 40us/sample - loss: 0.8089 - accuracy: 0.7345 - val_loss: 1.0890 - val_accuracy: 0.6726\n",
      "Epoch 139/170\n",
      "27455/27455 [==============================] - 1s 40us/sample - loss: 0.8010 - accuracy: 0.7365 - val_loss: 1.0940 - val_accuracy: 0.6718\n",
      "Epoch 140/170\n",
      "27455/27455 [==============================] - 1s 40us/sample - loss: 0.7950 - accuracy: 0.7388 - val_loss: 1.0909 - val_accuracy: 0.6750\n",
      "Epoch 141/170\n",
      "27455/27455 [==============================] - 1s 39us/sample - loss: 0.7883 - accuracy: 0.7416 - val_loss: 1.0743 - val_accuracy: 0.6853\n",
      "Epoch 142/170\n",
      "27455/27455 [==============================] - 1s 40us/sample - loss: 0.7849 - accuracy: 0.7406 - val_loss: 1.0776 - val_accuracy: 0.6779\n",
      "Epoch 143/170\n",
      "27455/27455 [==============================] - 1s 39us/sample - loss: 0.7796 - accuracy: 0.7455 - val_loss: 1.0884 - val_accuracy: 0.6711\n",
      "Epoch 144/170\n",
      "27455/27455 [==============================] - 1s 39us/sample - loss: 0.7780 - accuracy: 0.7400 - val_loss: 1.0722 - val_accuracy: 0.6799\n",
      "Epoch 145/170\n",
      "27455/27455 [==============================] - 1s 39us/sample - loss: 0.7665 - accuracy: 0.7480 - val_loss: 1.0825 - val_accuracy: 0.6741\n",
      "Epoch 146/170\n",
      "27455/27455 [==============================] - 1s 39us/sample - loss: 0.7598 - accuracy: 0.7485 - val_loss: 1.0764 - val_accuracy: 0.6813\n",
      "Epoch 147/170\n",
      "27455/27455 [==============================] - 1s 40us/sample - loss: 0.7517 - accuracy: 0.7532 - val_loss: 1.0630 - val_accuracy: 0.6856\n",
      "Epoch 148/170\n",
      "27455/27455 [==============================] - 1s 40us/sample - loss: 0.7483 - accuracy: 0.7548 - val_loss: 1.0612 - val_accuracy: 0.6817\n",
      "Epoch 149/170\n",
      "27455/27455 [==============================] - 1s 40us/sample - loss: 0.7433 - accuracy: 0.7579 - val_loss: 1.0654 - val_accuracy: 0.6827\n",
      "Epoch 150/170\n",
      "27455/27455 [==============================] - 1s 40us/sample - loss: 0.7395 - accuracy: 0.7571 - val_loss: 1.0716 - val_accuracy: 0.6748\n",
      "Epoch 151/170\n",
      "27455/27455 [==============================] - 1s 40us/sample - loss: 0.7366 - accuracy: 0.7581 - val_loss: 1.0590 - val_accuracy: 0.6836\n",
      "Epoch 152/170\n",
      "27455/27455 [==============================] - 1s 40us/sample - loss: 0.7311 - accuracy: 0.7578 - val_loss: 1.0544 - val_accuracy: 0.6885\n",
      "Epoch 153/170\n",
      "27455/27455 [==============================] - 1s 40us/sample - loss: 0.7251 - accuracy: 0.7626 - val_loss: 1.0656 - val_accuracy: 0.6743\n",
      "Epoch 154/170\n",
      "27455/27455 [==============================] - 1s 40us/sample - loss: 0.7121 - accuracy: 0.7700 - val_loss: 1.0583 - val_accuracy: 0.6843\n",
      "Epoch 155/170\n",
      "27455/27455 [==============================] - 1s 40us/sample - loss: 0.7158 - accuracy: 0.7666 - val_loss: 1.0667 - val_accuracy: 0.6789\n",
      "Epoch 156/170\n",
      "27455/27455 [==============================] - 1s 40us/sample - loss: 0.7108 - accuracy: 0.7672 - val_loss: 1.0524 - val_accuracy: 0.6902\n",
      "Epoch 157/170\n",
      "27455/27455 [==============================] - 1s 40us/sample - loss: 0.7056 - accuracy: 0.7660 - val_loss: 1.0493 - val_accuracy: 0.6878\n",
      "Epoch 158/170\n",
      "27455/27455 [==============================] - 1s 40us/sample - loss: 0.6962 - accuracy: 0.7698 - val_loss: 1.0529 - val_accuracy: 0.6852\n",
      "Epoch 159/170\n",
      "27455/27455 [==============================] - 1s 40us/sample - loss: 0.6999 - accuracy: 0.7683 - val_loss: 1.0585 - val_accuracy: 0.6825\n",
      "Epoch 160/170\n",
      "27455/27455 [==============================] - 1s 40us/sample - loss: 0.6862 - accuracy: 0.7736 - val_loss: 1.0420 - val_accuracy: 0.6937\n",
      "Epoch 161/170\n",
      "27455/27455 [==============================] - 1s 40us/sample - loss: 0.6821 - accuracy: 0.7782 - val_loss: 1.0361 - val_accuracy: 0.6972\n",
      "Epoch 162/170\n",
      "27455/27455 [==============================] - 1s 40us/sample - loss: 0.6761 - accuracy: 0.7803 - val_loss: 1.0519 - val_accuracy: 0.6852\n"
     ]
    },
    {
     "name": "stdout",
     "output_type": "stream",
     "text": [
      "Epoch 163/170\n",
      "27455/27455 [==============================] - 1s 39us/sample - loss: 0.6669 - accuracy: 0.7856 - val_loss: 1.0397 - val_accuracy: 0.6974\n",
      "Epoch 164/170\n",
      "27455/27455 [==============================] - 1s 40us/sample - loss: 0.6619 - accuracy: 0.7856 - val_loss: 1.0431 - val_accuracy: 0.6914\n",
      "Epoch 165/170\n",
      "27455/27455 [==============================] - 1s 39us/sample - loss: 0.6631 - accuracy: 0.7828 - val_loss: 1.0380 - val_accuracy: 0.6958\n",
      "Epoch 166/170\n",
      "27455/27455 [==============================] - 1s 39us/sample - loss: 0.6541 - accuracy: 0.7886 - val_loss: 1.0297 - val_accuracy: 0.7026\n",
      "Epoch 167/170\n",
      "27455/27455 [==============================] - 1s 40us/sample - loss: 0.6445 - accuracy: 0.7906 - val_loss: 1.0424 - val_accuracy: 0.6903\n",
      "Epoch 168/170\n",
      "27455/27455 [==============================] - 1s 40us/sample - loss: 0.6458 - accuracy: 0.7902 - val_loss: 1.0490 - val_accuracy: 0.6863\n",
      "Epoch 169/170\n",
      "27455/27455 [==============================] - 1s 40us/sample - loss: 0.6418 - accuracy: 0.7893 - val_loss: 1.0349 - val_accuracy: 0.6979\n",
      "Epoch 170/170\n",
      "27455/27455 [==============================] - 1s 40us/sample - loss: 0.6387 - accuracy: 0.7904 - val_loss: 1.0267 - val_accuracy: 0.7012\n"
     ]
    }
   ],
   "source": [
    "sgd_optimizer = tf.keras.optimizers.SGD(lr=0.001, decay=1e-7)\n",
    "\n",
    "model_MLP.compile(optimizer=sgd_optimizer, loss='categorical_crossentropy', metrics=['accuracy'])\n",
    "\n",
    "history_MLP = model_MLP.fit(X_train_MLP, y_train_MLP, validation_data=(X_test_MLP, y_test_MLP), \n",
    "                            batch_size=64, epochs=170, verbose=1)"
   ]
  },
  {
   "cell_type": "code",
   "execution_count": 183,
   "metadata": {},
   "outputs": [
    {
     "data": {
      "text/plain": [
       "0.7011991076408254"
      ]
     },
     "execution_count": 183,
     "metadata": {},
     "output_type": "execute_result"
    }
   ],
   "source": [
    "# not quite sure, why it shows different accuracy score from .evaluate version\n",
    "y_preds_MLP = model_MLP.predict_classes(X_test_MLP)\n",
    "accuracy_score(y_test, y_preds_MLP)"
   ]
  },
  {
   "cell_type": "code",
   "execution_count": 184,
   "metadata": {},
   "outputs": [
    {
     "name": "stdout",
     "output_type": "stream",
     "text": [
      "7172/1 - 0s - loss: 0.7805 - accuracy: 0.7012\n"
     ]
    }
   ],
   "source": [
    "# but the evaluation shows better results:\n",
    "res = model_MLP.evaluate(X_test_MLP, y_test_MLP, verbose=2)\n",
    "accuracy_MLP = res[1]"
   ]
  },
  {
   "cell_type": "code",
   "execution_count": 220,
   "metadata": {},
   "outputs": [
    {
     "data": {
      "image/png": "[encoded data removed]",
      "text/plain": [
       "<Figure size 288x288 with 2 Axes>"
      ]
     },
     "metadata": {
      "needs_background": "light"
     },
     "output_type": "display_data"
    }
   ],
   "source": [
    "cm_MLP = confusion_matrix(y_test, pd.Series(y_preds_MLP))\n",
    "\n",
    "# Show confusion matrix in a separate window\n",
    "plt.matshow(cm_MLP)\n",
    "plt.title('Confusion matrix\\n')\n",
    "plt.colorbar()\n",
    "plt.ylabel('True label')\n",
    "plt.xlabel('Predicted label')\n",
    "plt.show()"
   ]
  },
  {
   "cell_type": "code",
   "execution_count": 221,
   "metadata": {},
   "outputs": [],
   "source": [
    "accuracy_MLP = accuracy_score(y_test, y_preds_MLP)\n",
    "precision_MLP = np.mean(np.diag(cm_MLP) / np.sum(cm_MLP, axis = 1))\n",
    "recall_MLP = np.mean(np.diag(cm_MLP) / np.sum(cm_MLP, axis = 0))"
   ]
  },
  {
   "cell_type": "code",
   "execution_count": 222,
   "metadata": {},
   "outputs": [
    {
     "name": "stdout",
     "output_type": "stream",
     "text": [
      "0.7011991076408254\n",
      "0.694959120528622\n",
      "0.6909174128228974\n"
     ]
    }
   ],
   "source": [
    "print(accuracy_MLP)\n",
    "print(precision_MLP)\n",
    "print(recall_MLP)"
   ]
  },
  {
   "cell_type": "markdown",
   "metadata": {},
   "source": [
    "### Sklearn Method 6: Convolutional Network 2D"
   ]
  },
  {
   "cell_type": "code",
   "execution_count": 226,
   "metadata": {},
   "outputs": [
    {
     "name": "stdout",
     "output_type": "stream",
     "text": [
      "X_train.shape:  (27455, 28, 28, 1)\n",
      "y_train.shape (27455, 25)\n",
      "X_test.shape (7172, 28, 28, 1)\n",
      "y_test.shape (7172, 25)\n"
     ]
    }
   ],
   "source": [
    "# just for reminder of set names:\n",
    "#X_train_Conv.shape\n",
    "#y_train_Conv\n",
    "\n",
    "#X_test_Conv\n",
    "#y_test_Conv\n",
    "\n",
    "# check their shapes\n",
    "print(\"X_train.shape: \", X_train_Conv.shape)\n",
    "print(\"y_train.shape\", y_train_Conv.shape)\n",
    "\n",
    "print(\"X_test.shape\", X_test_Conv.shape)\n",
    "print(\"y_test.shape\", y_test_Conv.shape)"
   ]
  },
  {
   "cell_type": "code",
   "execution_count": 224,
   "metadata": {},
   "outputs": [],
   "source": [
    "# I made a mistake when it was looping over 1st layer, but it still had no more than 92% accuracy, \n",
    "# thus let's just start from 2 hidden layers right away\n",
    "\n",
    "def build_model(n_hidden, n_neurons, double_neurons):\n",
    "    \n",
    "    model = tf.keras.models.Sequential()\n",
    "    model.add(tf.keras.layers.Conv2D(n_neurons, 3, activation = 'relu', input_shape=(28, 28 ,1) ))\n",
    "    model.add(tf.keras.layers.MaxPooling2D(2))\n",
    "\n",
    "    for layer in range(0, n_hidden):\n",
    "        \n",
    "        if(double_neurons):            \n",
    "            model.add(tf.keras.layers.Conv2D(n_neurons, 3, activation = 'relu'))\n",
    "            model.add(tf.keras.layers.MaxPooling2D(2))\n",
    "            n_neurons = n_neurons * 2\n",
    "            \n",
    "        else:\n",
    "            model.add(tf.keras.layers.Conv2D(n_neurons, 3, activation = 'relu'))\n",
    "            model.add(tf.keras.layers.MaxPooling2D(2))\n",
    "            \n",
    "\n",
    "    model.add(tf.keras.layers.Flatten())\n",
    "    model.add(tf.keras.layers.Dense(128, activation = 'relu'))\n",
    "    model.add(tf.keras.layers.Dropout(0.20))\n",
    "\n",
    "    model.add(tf.keras.layers.Dense(25, activation = 'softmax'))\n",
    "    \n",
    "    return model"
   ]
  },
  {
   "cell_type": "code",
   "execution_count": 225,
   "metadata": {},
   "outputs": [
    {
     "name": "stdout",
     "output_type": "stream",
     "text": [
      "Train on 27455 samples\n",
      "Epoch 1/5\n",
      "27455/27455 [==============================] - 13s 467us/sample - loss: 1.5161 - accuracy: 0.5149\n",
      "Epoch 2/5\n",
      "27455/27455 [==============================] - 12s 443us/sample - loss: 0.3990 - accuracy: 0.8665\n",
      "Epoch 3/5\n",
      "27455/27455 [==============================] - 12s 443us/sample - loss: 0.1548 - accuracy: 0.9498\n",
      "Epoch 4/5\n",
      "27455/27455 [==============================] - 12s 442us/sample - loss: 0.0758 - accuracy: 0.9771\n",
      "Epoch 5/5\n",
      "27455/27455 [==============================] - 12s 441us/sample - loss: 0.0426 - accuracy: 0.9880\n",
      "7172/1 - 1s - loss: 0.2912 - accuracy: 0.8847\n",
      "hidden layers: 2\n",
      "neurons in each: 32\n",
      "Accuracy:  0.88469046 ; Loss:  0.4411179974666868\n",
      "*******\n",
      "\n",
      "Train on 27455 samples\n",
      "Epoch 1/5\n",
      "27455/27455 [==============================] - 14s 518us/sample - loss: 1.7060 - accuracy: 0.4566\n",
      "Epoch 2/5\n",
      "27455/27455 [==============================] - 14s 505us/sample - loss: 0.4527 - accuracy: 0.8445\n",
      "Epoch 3/5\n",
      "27455/27455 [==============================] - 14s 506us/sample - loss: 0.1801 - accuracy: 0.9425\n",
      "Epoch 4/5\n",
      "27455/27455 [==============================] - 14s 506us/sample - loss: 0.0866 - accuracy: 0.9745\n",
      "Epoch 5/5\n",
      "27455/27455 [==============================] - 14s 507us/sample - loss: 0.0502 - accuracy: 0.9851\n",
      "7172/1 - 1s - loss: 0.3427 - accuracy: 0.8865\n",
      "hidden layers: 2\n",
      "neurons in each: 34\n",
      "Accuracy:  0.88650304 ; Loss:  0.4396799368959396\n",
      "*******\n",
      "\n",
      "Train on 27455 samples\n",
      "Epoch 1/5\n",
      "27455/27455 [==============================] - 15s 542us/sample - loss: 1.7019 - accuracy: 0.4571\n",
      "Epoch 2/5\n",
      "27455/27455 [==============================] - 15s 529us/sample - loss: 0.4170 - accuracy: 0.8598\n",
      "Epoch 3/5\n",
      "27455/27455 [==============================] - 14s 526us/sample - loss: 0.1653 - accuracy: 0.9448\n",
      "Epoch 4/5\n",
      "27455/27455 [==============================] - 14s 528us/sample - loss: 0.0794 - accuracy: 0.9751\n",
      "Epoch 5/5\n",
      "27455/27455 [==============================] - 14s 527us/sample - loss: 0.0483 - accuracy: 0.9854\n",
      "7172/1 - 1s - loss: 1.3403 - accuracy: 0.8808\n",
      "hidden layers: 2\n",
      "neurons in each: 36\n",
      "Accuracy:  0.8807864 ; Loss:  0.4866814051868526\n",
      "*******\n",
      "\n",
      "Train on 27455 samples\n",
      "Epoch 1/5\n",
      "27455/27455 [==============================] - 16s 583us/sample - loss: 1.6608 - accuracy: 0.4708\n",
      "Epoch 2/5\n",
      "27455/27455 [==============================] - 16s 565us/sample - loss: 0.3831 - accuracy: 0.8702\n",
      "Epoch 3/5\n",
      "27455/27455 [==============================] - 15s 563us/sample - loss: 0.1530 - accuracy: 0.9506\n",
      "Epoch 4/5\n",
      "27455/27455 [==============================] - 15s 558us/sample - loss: 0.0809 - accuracy: 0.9742\n",
      "Epoch 5/5\n",
      "27455/27455 [==============================] - 16s 572us/sample - loss: 0.0486 - accuracy: 0.9844\n",
      "7172/1 - 1s - loss: 0.8554 - accuracy: 0.8696\n",
      "hidden layers: 2\n",
      "neurons in each: 38\n",
      "Accuracy:  0.8696319 ; Loss:  0.5055353447371066\n",
      "*******\n",
      "\n",
      "Train on 27455 samples\n",
      "Epoch 1/5\n",
      "27455/27455 [==============================] - 16s 568us/sample - loss: 1.5300 - accuracy: 0.5160\n",
      "Epoch 2/5\n",
      "27455/27455 [==============================] - 17s 619us/sample - loss: 0.3019 - accuracy: 0.8984\n",
      "Epoch 3/5\n",
      "27455/27455 [==============================] - 15s 541us/sample - loss: 0.1006 - accuracy: 0.9701\n",
      "Epoch 4/5\n",
      "27455/27455 [==============================] - 15s 541us/sample - loss: 0.0452 - accuracy: 0.9876\n",
      "Epoch 5/5\n",
      "27455/27455 [==============================] - ETA: 0s - loss: 0.0286 - accuracy: 0.99 - 15s 541us/sample - loss: 0.0286 - accuracy: 0.9922\n",
      "7172/1 - 1s - loss: 0.9408 - accuracy: 0.8823\n",
      "hidden layers: 2\n",
      "neurons in each: 40\n",
      "Accuracy:  0.8823201 ; Loss:  0.4361170494915451\n",
      "*******\n",
      "\n",
      "Train on 27455 samples\n",
      "Epoch 1/5\n",
      "27455/27455 [==============================] - 18s 646us/sample - loss: 1.4764 - accuracy: 0.5153\n",
      "Epoch 2/5\n",
      "27455/27455 [==============================] - 18s 652us/sample - loss: 0.3337 - accuracy: 0.8863\n",
      "Epoch 3/5\n",
      "27455/27455 [==============================] - 17s 621us/sample - loss: 0.1080 - accuracy: 0.9682- loss: 0.1085 - accuracy: \n",
      "Epoch 4/5\n",
      "27455/27455 [==============================] - 17s 622us/sample - loss: 0.0487 - accuracy: 0.9861\n",
      "Epoch 5/5\n",
      "27455/27455 [==============================] - 18s 644us/sample - loss: 0.0357 - accuracy: 0.9895\n",
      "7172/1 - 1s - loss: 0.2643 - accuracy: 0.8816\n",
      "hidden layers: 2\n",
      "neurons in each: 42\n",
      "Accuracy:  0.88162297 ; Loss:  0.5026537991366238\n",
      "*******\n",
      "\n",
      "Train on 27455 samples\n",
      "Epoch 1/5\n",
      "27455/27455 [==============================] - 18s 656us/sample - loss: 1.6243 - accuracy: 0.4830\n",
      "Epoch 2/5\n",
      "27455/27455 [==============================] - 18s 640us/sample - loss: 0.4033 - accuracy: 0.8630\n",
      "Epoch 3/5\n",
      "27455/27455 [==============================] - 18s 640us/sample - loss: 0.1562 - accuracy: 0.9481\n",
      "Epoch 4/5\n",
      "27455/27455 [==============================] - 18s 642us/sample - loss: 0.0767 - accuracy: 0.9775\n",
      "Epoch 5/5\n",
      "27455/27455 [==============================] - 18s 648us/sample - loss: 0.0478 - accuracy: 0.9856\n",
      "7172/1 - 1s - loss: 0.5282 - accuracy: 0.8799\n",
      "hidden layers: 2\n",
      "neurons in each: 44\n",
      "Accuracy:  0.8799498 ; Loss:  0.5144440714317663\n",
      "*******\n",
      "\n",
      "Train on 27455 samples\n",
      "Epoch 1/5\n",
      "27455/27455 [==============================] - 19s 707us/sample - loss: 1.5107 - accuracy: 0.5183\n",
      "Epoch 2/5\n",
      "27455/27455 [==============================] - 19s 680us/sample - loss: 0.2910 - accuracy: 0.9032\n",
      "Epoch 3/5\n",
      "27455/27455 [==============================] - 19s 680us/sample - loss: 0.0986 - accuracy: 0.9700\n",
      "Epoch 4/5\n",
      "27455/27455 [==============================] - 19s 682us/sample - loss: 0.0536 - accuracy: 0.9837\n",
      "Epoch 5/5\n",
      "27455/27455 [==============================] - 19s 684us/sample - loss: 0.0378 - accuracy: 0.9885\n",
      "7172/1 - 1s - loss: 0.2908 - accuracy: 0.8596\n",
      "hidden layers: 2\n",
      "neurons in each: 46\n",
      "Accuracy:  0.85959285 ; Loss:  0.5740630732910532\n",
      "*******\n",
      "\n",
      "Train on 27455 samples\n",
      "Epoch 1/5\n",
      "27455/27455 [==============================] - 19s 682us/sample - loss: 1.4485 - accuracy: 0.5336\n",
      "Epoch 2/5\n",
      "27455/27455 [==============================] - 18s 669us/sample - loss: 0.2855 - accuracy: 0.9024\n",
      "Epoch 3/5\n",
      "27455/27455 [==============================] - 18s 671us/sample - loss: 0.1014 - accuracy: 0.9678- loss: 0.1023 - \n",
      "Epoch 4/5\n",
      "27455/27455 [==============================] - 19s 678us/sample - loss: 0.0525 - accuracy: 0.9840\n",
      "Epoch 5/5\n",
      "27455/27455 [==============================] - 19s 697us/sample - loss: 0.0331 - accuracy: 0.9903- ETA: 0s - l\n",
      "7172/1 - 1s - loss: 1.0865 - accuracy: 0.8908\n",
      "hidden layers: 2\n",
      "neurons in each: 48\n",
      "Accuracy:  0.89082545 ; Loss:  0.44697871052115173\n",
      "*******\n",
      "\n",
      "Train on 27455 samples\n",
      "Epoch 1/5\n",
      "27455/27455 [==============================] - 20s 745us/sample - loss: 1.6131 - accuracy: 0.4790\n",
      "Epoch 2/5\n",
      "27455/27455 [==============================] - 18s 672us/sample - loss: 0.3827 - accuracy: 0.8714\n",
      "Epoch 3/5\n",
      "27455/27455 [==============================] - 18s 674us/sample - loss: 0.1326 - accuracy: 0.9575\n",
      "Epoch 4/5\n",
      "27455/27455 [==============================] - 18s 671us/sample - loss: 0.0620 - accuracy: 0.9821\n",
      "Epoch 5/5\n",
      "27455/27455 [==============================] - 19s 674us/sample - loss: 0.0371 - accuracy: 0.9891\n",
      "7172/1 - 1s - loss: 1.3585 - accuracy: 0.8438\n",
      "hidden layers: 2\n",
      "neurons in each: 50\n",
      "Accuracy:  0.84383714 ; Loss:  0.6362025757043374\n",
      "*******\n",
      "\n",
      "Train on 27455 samples\n",
      "Epoch 1/5\n",
      "27455/27455 [==============================] - 19s 706us/sample - loss: 1.6428 - accuracy: 0.4708\n",
      "Epoch 2/5\n",
      "27455/27455 [==============================] - 19s 688us/sample - loss: 0.4130 - accuracy: 0.8586\n",
      "Epoch 3/5\n",
      "27455/27455 [==============================] - 19s 697us/sample - loss: 0.1630 - accuracy: 0.9464\n",
      "Epoch 4/5\n",
      "27455/27455 [==============================] - 19s 688us/sample - loss: 0.0778 - accuracy: 0.9756\n",
      "Epoch 5/5\n",
      "27455/27455 [==============================] - 19s 687us/sample - loss: 0.0527 - accuracy: 0.9828\n",
      "7172/1 - 2s - loss: 0.2937 - accuracy: 0.8585\n",
      "hidden layers: 2\n",
      "neurons in each: 52\n",
      "Accuracy:  0.8584774 ; Loss:  0.540910918246882\n",
      "*******\n",
      "\n",
      "Train on 27455 samples\n",
      "Epoch 1/5\n",
      "27455/27455 [==============================] - 21s 749us/sample - loss: 1.6236 - accuracy: 0.4842\n",
      "Epoch 2/5\n",
      "27455/27455 [==============================] - 20s 731us/sample - loss: 0.3012 - accuracy: 0.8992\n",
      "Epoch 3/5\n",
      "27455/27455 [==============================] - 20s 721us/sample - loss: 0.0946 - accuracy: 0.9728\n"
     ]
    },
    {
     "name": "stdout",
     "output_type": "stream",
     "text": [
      "Epoch 4/5\n",
      "27455/27455 [==============================] - 20s 723us/sample - loss: 0.0472 - accuracy: 0.9860\n",
      "Epoch 5/5\n",
      "27455/27455 [==============================] - 20s 720us/sample - loss: 0.0314 - accuracy: 0.9911\n",
      "7172/1 - 2s - loss: 0.2038 - accuracy: 0.8887\n",
      "hidden layers: 2\n",
      "neurons in each: 54\n",
      "Accuracy:  0.888734 ; Loss:  0.4066141596228174\n",
      "*******\n",
      "\n",
      "Train on 27455 samples\n",
      "Epoch 1/5\n",
      "27455/27455 [==============================] - 20s 728us/sample - loss: 1.3845 - accuracy: 0.5549\n",
      "Epoch 2/5\n",
      "27455/27455 [==============================] - 20s 712us/sample - loss: 0.2659 - accuracy: 0.9120\n",
      "Epoch 3/5\n",
      "27455/27455 [==============================] - 20s 712us/sample - loss: 0.0863 - accuracy: 0.9724\n",
      "Epoch 4/5\n",
      "27455/27455 [==============================] - 20s 711us/sample - loss: 0.0453 - accuracy: 0.9870\n",
      "Epoch 5/5\n",
      "27455/27455 [==============================] - 20s 717us/sample - loss: 0.0260 - accuracy: 0.9925\n",
      "7172/1 - 2s - loss: 0.5558 - accuracy: 0.8914\n",
      "hidden layers: 2\n",
      "neurons in each: 56\n",
      "Accuracy:  0.8913832 ; Loss:  0.4339514412733841\n",
      "*******\n",
      "\n",
      "Train on 27455 samples\n",
      "Epoch 1/5\n",
      "27455/27455 [==============================] - 22s 797us/sample - loss: 1.5245 - accuracy: 0.5088\n",
      "Epoch 2/5\n",
      "27455/27455 [==============================] - 21s 781us/sample - loss: 0.3244 - accuracy: 0.8896\n",
      "Epoch 3/5\n",
      "27455/27455 [==============================] - 21s 780us/sample - loss: 0.1081 - accuracy: 0.9664\n",
      "Epoch 4/5\n",
      "27455/27455 [==============================] - 21s 780us/sample - loss: 0.0516 - accuracy: 0.9847\n",
      "Epoch 5/5\n",
      "27455/27455 [==============================] - 22s 797us/sample - loss: 0.0389 - accuracy: 0.9885\n",
      "7172/1 - 2s - loss: 0.3242 - accuracy: 0.8935\n",
      "hidden layers: 2\n",
      "neurons in each: 58\n",
      "Accuracy:  0.89347464 ; Loss:  0.4715982970999262\n",
      "*******\n",
      "\n",
      "Train on 27455 samples\n",
      "Epoch 1/5\n",
      "27455/27455 [==============================] - 22s 813us/sample - loss: 1.3438 - accuracy: 0.5665\n",
      "Epoch 2/5\n",
      "27455/27455 [==============================] - 22s 799us/sample - loss: 0.2451 - accuracy: 0.9194\n",
      "Epoch 3/5\n",
      "27455/27455 [==============================] - 22s 799us/sample - loss: 0.0764 - accuracy: 0.9773\n",
      "Epoch 4/5\n",
      "27455/27455 [==============================] - 22s 798us/sample - loss: 0.0342 - accuracy: 0.9899\n",
      "Epoch 5/5\n",
      "27455/27455 [==============================] - 22s 798us/sample - loss: 0.0342 - accuracy: 0.9889\n",
      "7172/1 - 2s - loss: 0.2308 - accuracy: 0.8922\n",
      "hidden layers: 2\n",
      "neurons in each: 60\n",
      "Accuracy:  0.8922197 ; Loss:  0.44310674334243066\n",
      "*******\n",
      "\n"
     ]
    }
   ],
   "source": [
    "layer = 2\n",
    "for neurons in range(32, 62, 2):\n",
    "        \n",
    "    model = build_model(n_hidden=layer, n_neurons=neurons, double_neurons=True)\n",
    "\n",
    "    model.compile(loss = \"categorical_crossentropy\", optimizer=\"adam\",\n",
    "                      metrics=['accuracy'])\n",
    "        \n",
    "    history = model.fit(X_train_Conv, y_train_Conv, epochs=5)\n",
    "        \n",
    "    y_preds = model.evaluate(X_test_Conv, y_test_Conv, verbose=2)\n",
    "        \n",
    "    print(\"hidden layers:\", layer)\n",
    "    print(\"neurons in each:\", neurons)\n",
    "    print(\"Accuracy: \", y_preds[1], \"; Loss: \", y_preds[0])\n",
    "    print(\"*******\\n\")"
   ]
  },
  {
   "cell_type": "code",
   "execution_count": 31,
   "metadata": {},
   "outputs": [
    {
     "name": "stdout",
     "output_type": "stream",
     "text": [
      "Train on 27455 samples, validate on 7172 samples\n",
      "Epoch 1/50\n",
      "27455/27455 [==============================] - 22s 796us/sample - loss: 1.3426 - accuracy: 0.5705 - val_loss: 0.6270 - val_accuracy: 0.7957\n",
      "Epoch 2/50\n",
      "27455/27455 [==============================] - 23s 832us/sample - loss: 0.1746 - accuracy: 0.9422 - val_loss: 0.3918 - val_accuracy: 0.8572\n",
      "Epoch 3/50\n",
      "27455/27455 [==============================] - 22s 800us/sample - loss: 0.0501 - accuracy: 0.9858 - val_loss: 0.3709 - val_accuracy: 0.8954\n",
      "Epoch 4/50\n",
      "27455/27455 [==============================] - 24s 867us/sample - loss: 0.0267 - accuracy: 0.9921 - val_loss: 0.3642 - val_accuracy: 0.9083\n",
      "Epoch 5/50\n",
      "27455/27455 [==============================] - 22s 798us/sample - loss: 0.0187 - accuracy: 0.9944 - val_loss: 0.3053 - val_accuracy: 0.9207\n",
      "Epoch 6/50\n",
      "27455/27455 [==============================] - 24s 864us/sample - loss: 0.0216 - accuracy: 0.9936 - val_loss: 0.3558 - val_accuracy: 0.9165\n",
      "Epoch 7/50\n",
      "27455/27455 [==============================] - 23s 832us/sample - loss: 0.0117 - accuracy: 0.9961 - val_loss: 0.3825 - val_accuracy: 0.9023\n",
      "Epoch 8/50\n",
      "27455/27455 [==============================] - 22s 794us/sample - loss: 0.0109 - accuracy: 0.9971 - val_loss: 0.3784 - val_accuracy: 0.8995\n",
      "Epoch 9/50\n",
      "27455/27455 [==============================] - 22s 799us/sample - loss: 0.0110 - accuracy: 0.9963 - val_loss: 0.3666 - val_accuracy: 0.9208\n",
      "Epoch 10/50\n",
      "27455/27455 [==============================] - 22s 809us/sample - loss: 0.0141 - accuracy: 0.9947 - val_loss: 0.4070 - val_accuracy: 0.9130\n",
      "Epoch 11/50\n",
      "27455/27455 [==============================] - 22s 803us/sample - loss: 0.0121 - accuracy: 0.9968 - val_loss: 0.2994 - val_accuracy: 0.9268\n",
      "Epoch 12/50\n",
      "27455/27455 [==============================] - 22s 797us/sample - loss: 0.0112 - accuracy: 0.9971 - val_loss: 0.3920 - val_accuracy: 0.9046\n",
      "Epoch 13/50\n",
      "27455/27455 [==============================] - 22s 792us/sample - loss: 0.0106 - accuracy: 0.9966 - val_loss: 0.4099 - val_accuracy: 0.9161\n",
      "Epoch 14/50\n",
      "27455/27455 [==============================] - 21s 757us/sample - loss: 0.0054 - accuracy: 0.9982 - val_loss: 0.8017 - val_accuracy: 0.8402\n",
      "Epoch 15/50\n",
      "27455/27455 [==============================] - 21s 758us/sample - loss: 0.0050 - accuracy: 0.9986 - val_loss: 0.2914 - val_accuracy: 0.9200\n",
      "Epoch 16/50\n",
      "27455/27455 [==============================] - 21s 757us/sample - loss: 0.0109 - accuracy: 0.9964 - val_loss: 0.5171 - val_accuracy: 0.8878\n",
      "Epoch 17/50\n",
      "27455/27455 [==============================] - 21s 764us/sample - loss: 0.0105 - accuracy: 0.9970 - val_loss: 0.4898 - val_accuracy: 0.8928\n",
      "Epoch 18/50\n",
      "27455/27455 [==============================] - 21s 758us/sample - loss: 0.0023 - accuracy: 0.9994 - val_loss: 0.3253 - val_accuracy: 0.9318\n",
      "Epoch 19/50\n",
      "27455/27455 [==============================] - 21s 755us/sample - loss: 0.0052 - accuracy: 0.9985 - val_loss: 0.2637 - val_accuracy: 0.9274\n",
      "Epoch 20/50\n",
      "27455/27455 [==============================] - 21s 755us/sample - loss: 0.0108 - accuracy: 0.9971 - val_loss: 0.3241 - val_accuracy: 0.9286\n",
      "Epoch 21/50\n",
      "27455/27455 [==============================] - 21s 755us/sample - loss: 1.9725e-04 - accuracy: 1.0000 - val_loss: 0.2487 - val_accuracy: 0.9414\n",
      "Epoch 22/50\n",
      "27455/27455 [==============================] - 21s 761us/sample - loss: 0.0120 - accuracy: 0.9968 - val_loss: 0.2227 - val_accuracy: 0.9466\n",
      "Epoch 23/50\n",
      "27455/27455 [==============================] - 21s 758us/sample - loss: 4.6991e-04 - accuracy: 0.9999 - val_loss: 0.2593 - val_accuracy: 0.9385\n",
      "Epoch 24/50\n",
      "27455/27455 [==============================] - 21s 766us/sample - loss: 0.0070 - accuracy: 0.9980 - val_loss: 0.3416 - val_accuracy: 0.9303\n",
      "Epoch 25/50\n",
      "27455/27455 [==============================] - 21s 754us/sample - loss: 0.0091 - accuracy: 0.9975 - val_loss: 0.4694 - val_accuracy: 0.9248\n",
      "Epoch 26/50\n",
      "27455/27455 [==============================] - 21s 756us/sample - loss: 0.0021 - accuracy: 0.9995 - val_loss: 0.2771 - val_accuracy: 0.9465\n",
      "Epoch 27/50\n",
      "27455/27455 [==============================] - 22s 787us/sample - loss: 3.2038e-04 - accuracy: 0.9999 - val_loss: 0.3394 - val_accuracy: 0.9420\n",
      "Epoch 28/50\n",
      "27455/27455 [==============================] - 24s 862us/sample - loss: 6.7468e-05 - accuracy: 1.0000 - val_loss: 0.4359 - val_accuracy: 0.9363\n",
      "Epoch 29/50\n",
      "27455/27455 [==============================] - 24s 877us/sample - loss: 0.0117 - accuracy: 0.9965 - val_loss: 0.3467 - val_accuracy: 0.9508\n",
      "Epoch 30/50\n",
      "27455/27455 [==============================] - 21s 765us/sample - loss: 8.5210e-04 - accuracy: 0.9998 - val_loss: 0.3007 - val_accuracy: 0.9502\n",
      "Epoch 31/50\n",
      "27455/27455 [==============================] - 24s 880us/sample - loss: 0.0098 - accuracy: 0.9975 - val_loss: 0.5085 - val_accuracy: 0.9136\n",
      "Epoch 32/50\n",
      "27455/27455 [==============================] - 25s 904us/sample - loss: 0.0011 - accuracy: 0.9996 - val_loss: 0.4030 - val_accuracy: 0.9338\n",
      "Epoch 33/50\n",
      "27455/27455 [==============================] - 25s 896us/sample - loss: 0.0041 - accuracy: 0.9988 - val_loss: 0.5489 - val_accuracy: 0.9205\n",
      "Epoch 34/50\n",
      "27455/27455 [==============================] - 25s 905us/sample - loss: 0.0051 - accuracy: 0.9983 - val_loss: 0.6009 - val_accuracy: 0.9154\n",
      "Epoch 35/50\n",
      "27455/27455 [==============================] - 26s 949us/sample - loss: 0.0020 - accuracy: 0.9994 - val_loss: 0.5266 - val_accuracy: 0.9275\n",
      "Epoch 36/50\n",
      "27455/27455 [==============================] - 25s 898us/sample - loss: 0.0020 - accuracy: 0.9994 - val_loss: 0.7822 - val_accuracy: 0.8830\n",
      "Epoch 37/50\n",
      "27455/27455 [==============================] - 23s 832us/sample - loss: 0.0073 - accuracy: 0.9984 - val_loss: 0.4665 - val_accuracy: 0.9209\n",
      "Epoch 38/50\n",
      "27455/27455 [==============================] - 22s 804us/sample - loss: 2.7043e-04 - accuracy: 0.9999 - val_loss: 0.4270 - val_accuracy: 0.9363\n",
      "Epoch 39/50\n",
      "27455/27455 [==============================] - 21s 768us/sample - loss: 0.0100 - accuracy: 0.9975 - val_loss: 0.4996 - val_accuracy: 0.9189\n",
      "Epoch 40/50\n",
      "27455/27455 [==============================] - 21s 775us/sample - loss: 0.0032 - accuracy: 0.9991 - val_loss: 0.4891 - val_accuracy: 0.9324\n",
      "Epoch 41/50\n",
      "27455/27455 [==============================] - 21s 765us/sample - loss: 0.0027 - accuracy: 0.9995 - val_loss: 0.4885 - val_accuracy: 0.9345\n",
      "Epoch 42/50\n",
      "27455/27455 [==============================] - 21s 757us/sample - loss: 0.0023 - accuracy: 0.9994 - val_loss: 0.4826 - val_accuracy: 0.9360\n",
      "Epoch 43/50\n",
      "27455/27455 [==============================] - 21s 754us/sample - loss: 1.3189e-04 - accuracy: 1.0000 - val_loss: 0.4206 - val_accuracy: 0.9442\n",
      "Epoch 44/50\n",
      "27455/27455 [==============================] - 21s 751us/sample - loss: 0.0018 - accuracy: 0.9996 - val_loss: 0.6888 - val_accuracy: 0.8935\n",
      "Epoch 45/50\n",
      "27455/27455 [==============================] - 21s 767us/sample - loss: 0.0110 - accuracy: 0.9973 - val_loss: 0.5043 - val_accuracy: 0.9327\n",
      "Epoch 46/50\n",
      "27455/27455 [==============================] - 21s 756us/sample - loss: 0.0016 - accuracy: 0.9998 - val_loss: 0.5258 - val_accuracy: 0.9410\n",
      "Epoch 47/50\n",
      "27455/27455 [==============================] - 21s 756us/sample - loss: 0.0046 - accuracy: 0.9986 - val_loss: 0.4609 - val_accuracy: 0.9334\n",
      "Epoch 48/50\n",
      "27455/27455 [==============================] - 21s 758us/sample - loss: 0.0011 - accuracy: 0.9997 - val_loss: 0.5389 - val_accuracy: 0.9345\n",
      "Epoch 49/50\n",
      "27455/27455 [==============================] - 21s 755us/sample - loss: 0.0060 - accuracy: 0.9983 - val_loss: 0.4348 - val_accuracy: 0.9208\n",
      "Epoch 50/50\n",
      "27455/27455 [==============================] - 21s 758us/sample - loss: 0.0028 - accuracy: 0.9989 - val_loss: 0.4624 - val_accuracy: 0.9421\n",
      "7172/1 - 1s - loss: 0.2312 - accuracy: 0.9421\n",
      "Accuracy:  0.9421361 ; Loss:  0.46238795809589345\n"
     ]
    }
   ],
   "source": [
    "# from analyses above, it seems that 2 layers and 44 neurons one each work good enough with neurons doulbe each inner layer\n",
    "model = tf.keras.models.Sequential()\n",
    "model.add(tf.keras.layers.Conv2D(44, 3, activation = 'relu', input_shape=(28, 28 ,1) ))\n",
    "model.add(tf.keras.layers.MaxPooling2D(2))         \n",
    "          \n",
    "model.add(tf.keras.layers.Conv2D(88, 3, activation = 'relu'))\n",
    "model.add(tf.keras.layers.MaxPooling2D(2))\n",
    "\n",
    "model.add(tf.keras.layers.Conv2D(172, 3, activation = 'relu'))\n",
    "model.add(tf.keras.layers.MaxPooling2D(2))\n",
    "\n",
    "model.add(tf.keras.layers.Flatten())\n",
    "model.add(tf.keras.layers.Dense(128, activation = 'relu'))\n",
    "model.add(tf.keras.layers.Dropout(0.20))\n",
    "model.add(tf.keras.layers.Dense(25, activation = 'softmax'))\n",
    "\n",
    "Adam_optimizer = tf.keras.optimizers.Adam(lr=0.001)\n",
    "\n",
    "model.compile(loss = \"categorical_crossentropy\", optimizer=Adam_optimizer,\n",
    "                      metrics=['accuracy'])\n",
    "\n",
    "history_CNN = model.fit(X_train_Conv, y_train_Conv, validation_data=(X_test_Conv, y_test_Conv), epochs=50)\n",
    "        \n",
    "y_preds = model.evaluate(X_test_Conv, y_test_Conv, verbose=2)\n",
    "\n",
    "print(\"Accuracy: \", y_preds[1], \"; Loss: \", y_preds[0])"
   ]
  },
  {
   "cell_type": "code",
   "execution_count": 32,
   "metadata": {},
   "outputs": [],
   "source": [
    "y_pred_CNN = model.predict_classes(X_test_Conv)"
   ]
  },
  {
   "cell_type": "code",
   "execution_count": 33,
   "metadata": {},
   "outputs": [
    {
     "name": "stdout",
     "output_type": "stream",
     "text": [
      "tf.Tensor([ 6  5 10 ...  2  4  2], shape=(7172,), dtype=int64)\n"
     ]
    }
   ],
   "source": [
    "y_test_cm = tf.argmax(y_test_Conv, axis=1)\n",
    "print(y_test_cm)"
   ]
  },
  {
   "cell_type": "code",
   "execution_count": 34,
   "metadata": {},
   "outputs": [
    {
     "data": {
      "image/png": "[encoded data removed]",
      "text/plain": [
       "<Figure size 288x288 with 2 Axes>"
      ]
     },
     "metadata": {
      "needs_background": "light"
     },
     "output_type": "display_data"
    }
   ],
   "source": [
    "cm_CNN = confusion_matrix(y_test, y_pred_CNN)\n",
    "\n",
    "# Show confusion matrix in a separate window\n",
    "plt.matshow(cm_CNN)\n",
    "plt.title('Confusion matrix\\n')\n",
    "plt.colorbar()\n",
    "plt.ylabel('True label')\n",
    "plt.xlabel('Predicted label')\n",
    "plt.show()"
   ]
  },
  {
   "cell_type": "code",
   "execution_count": 35,
   "metadata": {},
   "outputs": [],
   "source": [
    "accuracy_CNN = accuracy_score(y_test, y_pred_CNN)\n",
    "precision_CNN = np.mean(np.diag(cm_CNN) / np.sum(cm_CNN, axis = 1))\n",
    "recall_CNN = np.mean(np.diag(cm_CNN) / np.sum(cm_CNN, axis = 0))"
   ]
  },
  {
   "cell_type": "code",
   "execution_count": 36,
   "metadata": {},
   "outputs": [
    {
     "name": "stdout",
     "output_type": "stream",
     "text": [
      "0.9421360847741216\n",
      "0.9387265859312546\n",
      "0.9363771216782476\n"
     ]
    }
   ],
   "source": [
    "print(accuracy_CNN)\n",
    "print(precision_CNN)\n",
    "print(recall_CNN)"
   ]
  },
  {
   "cell_type": "code",
   "execution_count": 37,
   "metadata": {},
   "outputs": [
    {
     "name": "stdout",
     "output_type": "stream",
     "text": [
      "7172/1 - 1s - loss: 0.2312 - accuracy: 0.9421\n"
     ]
    }
   ],
   "source": [
    "accuracy_CNN = model.evaluate(X_test_Conv, y_test_Conv, verbose=2)"
   ]
  },
  {
   "cell_type": "markdown",
   "metadata": {},
   "source": [
    "## Results:"
   ]
  },
  {
   "cell_type": "markdown",
   "metadata": {},
   "source": [
    "### Comparison Table"
   ]
  },
  {
   "cell_type": "markdown",
   "metadata": {},
   "source": [
    "| Metric/Method | LogReg | Random Forest | SVC   | Voting | MLP   | CNN    |\n",
    "|---------------|--------|---------------|-------|--------|-------|--------|\n",
    "| Accuracy      | 67%    | 77%           | 84%   | 81%    | 70%   | 94.7%  |\n",
    "| Precision     | 66%    | 76.24%        | 83%   | 80.6%  | 69.4% | 93.8% |\n",
    "| Recall        | 67%    | 77.26%        | 83.2% | 80.8%  | 69.1% | 93.6% |"
   ]
  },
  {
   "cell_type": "code",
   "execution_count": 38,
   "metadata": {},
   "outputs": [],
   "source": [
    "# Recall is included just for reference, whereas Accuracy and Precision are the most important for this classification task."
   ]
  },
  {
   "cell_type": "markdown",
   "metadata": {},
   "source": [
    "### Plots"
   ]
  },
  {
   "cell_type": "markdown",
   "metadata": {},
   "source": [
    "#### MLP:"
   ]
  },
  {
   "cell_type": "code",
   "execution_count": 167,
   "metadata": {},
   "outputs": [
    {
     "data": {
      "text/plain": [
       "(0, 175)"
      ]
     },
     "execution_count": 167,
     "metadata": {},
     "output_type": "execute_result"
    },
    {
     "data": {
      "image/png": "[encoded data removed]",
      "text/plain": [
       "<Figure size 720x360 with 1 Axes>"
      ]
     },
     "metadata": {
      "needs_background": "light"
     },
     "output_type": "display_data"
    }
   ],
   "source": [
    "# MLP plot - not very successful, as we can see from the graph, train accuracy is high, validation accuracy floats above ~60%,\n",
    "# which is a sign of overfitting and tells that more hyperparameter tuning should be done\n",
    "pd.DataFrame(history_MLP.history).plot(figsize=(10, 5))\n",
    "plt.grid(True)\n",
    "\n",
    "# set the y-axis range to [0-1]\n",
    "plt.title('MLP')\n",
    "plt.xlabel('Epochs')\n",
    "plt.ylabel('Loss | Accuracy')\n",
    "\n",
    "plt.xlabel('Epochs')\n",
    "plt.gca().set_ylim(0, 2)\n",
    "plt.gca().set_xlim(0, 175) "
   ]
  },
  {
   "cell_type": "code",
   "execution_count": 39,
   "metadata": {},
   "outputs": [],
   "source": [
    "#### Convolutional Neural Network:"
   ]
  },
  {
   "cell_type": "code",
   "execution_count": 40,
   "metadata": {},
   "outputs": [
    {
     "data": {
      "text/plain": [
       "(0, 8)"
      ]
     },
     "execution_count": 40,
     "metadata": {},
     "output_type": "execute_result"
    },
    {
     "data": {
      "image/png": "[encoded data removed]",
      "text/plain": [
       "<Figure size 720x360 with 1 Axes>"
      ]
     },
     "metadata": {
      "needs_background": "light"
     },
     "output_type": "display_data"
    }
   ],
   "source": [
    "# Convolutional Network:\n",
    "# Plot shows good results with loss (train and test) going down, while both of the accuracies going up\n",
    "pd.DataFrame(history_CNN.history).plot(figsize=(10, 5))\n",
    "plt.grid(True)\n",
    "\n",
    "# set the y-axis range to [0-1]\n",
    "plt.title('CNN')\n",
    "\n",
    "plt.xlabel('Epochs')\n",
    "plt.ylabel('Loss | Accuracy')\n",
    "\n",
    "plt.gca().set_ylim(0, 2)\n",
    "plt.gca().set_xlim(0, 8) "
   ]
  },
  {
   "cell_type": "code",
   "execution_count": 168,
   "metadata": {},
   "outputs": [
    {
     "data": {
      "image/png": "[encoded data removed]",
      "text/plain": [
       "<Figure size 288x288 with 2 Axes>"
      ]
     },
     "metadata": {
      "needs_background": "light"
     },
     "output_type": "display_data"
    }
   ],
   "source": [
    "cm_hard_voting = confusion_matrix(y_test, y_pred_hard_voting)\n",
    "\n",
    "# Show confusion matrix in a separate window\n",
    "plt.matshow(cm_hard_voting)\n",
    "plt.title('Hard Voting Confusion matrix\\n')\n",
    "plt.colorbar()\n",
    "plt.ylabel('True label')\n",
    "plt.xlabel('Predicted label')\n",
    "plt.rcParams[\"figure.figsize\"] = (12, 1)\n",
    "plt.show()"
   ]
  },
  {
   "cell_type": "code",
   "execution_count": 169,
   "metadata": {},
   "outputs": [
    {
     "data": {
      "image/png": "[encoded data removed]",
      "text/plain": [
       "<Figure size 288x288 with 2 Axes>"
      ]
     },
     "metadata": {
      "needs_background": "light"
     },
     "output_type": "display_data"
    },
    {
     "data": {
      "image/png": "[encoded data removed]",
      "text/plain": [
       "<Figure size 288x288 with 2 Axes>"
      ]
     },
     "metadata": {
      "needs_background": "light"
     },
     "output_type": "display_data"
    }
   ],
   "source": [
    "#### SVC \n",
    "\n",
    "cm_SVC = confusion_matrix(y_test, y_pred_svm)\n",
    "# Show confusion matrix in a separate window\n",
    "plt.matshow(cm_SVC)\n",
    "plt.title('SVC Confusion matrix\\n')\n",
    "plt.colorbar()\n",
    "plt.ylabel('True label')\n",
    "plt.xlabel('Predicted label')\n",
    "plt.show()\n",
    "\n",
    "\n",
    "cm_CNN = confusion_matrix(y_test, y_pred_CNN)\n",
    "\n",
    "# Show confusion matrix in a separate window\n",
    "plt.matshow(cm_CNN)\n",
    "plt.title('CNN Confusion matrix\\n')\n",
    "plt.colorbar()\n",
    "plt.ylabel('True label')\n",
    "plt.xlabel('Predicted label')\n",
    "plt.show()"
   ]
  },
  {
   "cell_type": "markdown",
   "metadata": {},
   "source": [
    "## Discussion"
   ]
  },
  {
   "cell_type": "markdown",
   "metadata": {},
   "source": [
    "   First of all, let us recap about classifiers that were produced: LogReg, RF, SVC, Hard Voting, MLP, and CNN. Provided classifiers showed some successful results based on the Accuracy, Precision, and Recall metrics. Logistic Regression was applied using One vs. Rest strategy and showed 67% of accuracy with slightly similar Precision and Recall. From this results it was possible to assume that most of the images were indeed linearly separable when OvR strategy was used, even for logistic regression. But LogReg was used mostly as an example, whereas SVC and RF were the ones that it was possible to gain more insights from. \n",
    "   \n",
    "   The dataset had large number of samples, thus it was applicable and good to use Random Forest, b/c there was a high chance for it to select unique set of values (without repeatitions) and generate trees with greater diversity. After multiple hyperparameter tuning, it was found that after 50 estimators accuracy was not imporoving much, so rest of the RF models started to use 50 estimators. Hyperparameter values were tested on Cross Validation to show overfitting status. In addition to that, maximum leaf nodes hyperparameter was also tuned and it seemed that the more max leafs there were, the better the performance was: it kept improving by ~1% with every ~other two additions of leaf nodes and it seemed that it was not causing overfitting, since accuracy results were both good on train and test. Grid search was also applied for RF and max_features=6 seemed to work best for the rest of parameters that were passed in grid search list. Random Forest seemed to classify letters up to 'P', but then started to confuse a letters after 'O' with 'A' through 'F', because of similar gesture signs: for example index vs. crossed fingers. Combining results on max leafs and the fact that it was confusing some of the images due to similarities, it was possible to assume that class purities were not enough clear and trees should have been expanded even further and new hyperparameter tuning should be added to address this issue.\n",
    "   \n",
    "   SVC performed surprisingly well, giving an accuracy score of 85% and cross validation score of 98-99% with cv=5, 10. C values were explored, but abandoned due to long computation time and C values of [1, 5, 50, 70] did not show much of variation in results. Metrics results were very surprising and led to the 3 concerned questions that were explored: 1. Were some of the variables used interchangeably and led to the use of already fitten model being trained and classified again?, 2. Were there leaky variables in the dataset?, 3. Was dataset of gestures actually good if it was used with OvR strategy? As a result, after inspecting variables and renaming them uniquely, accuracy scores remained the same, thus variables were not the issue. Also, I've inspected X_train, y_train datasets and they were clear from any leaking variables: X_train had only pixel values and y_train had only labels. Thus it was assumed that the gestures were actually very linearly separable if OvR was used. Therefore another insight was received: if classifier had bad score on this dataset, it was possibly due to low number of hyperparameter tuning, rather than bad data or look-alike gestures.\n",
    "    \n",
    "   Due to each of these above classifier's relatively good performance (definetely higher than random guessing), they were nominated for Ensemble Voting Classifier. Indeed, it seemed to be the case, since Hard Voting Classifier has showed strong precision, recall, and accuracy results (Soft Voting was similar). The only caviat was that it underperformed SVC, but that was possibly due to SVC's own superior performance on this dataset and Logistic Regression's underperformance that perhaps was bringing some precisions and recalls down when SVC and RF were failing too.\n",
    "    \n",
    "   Next, dataset was introduced to Neural Network Classifiers: MLP and CNN. MLP was given a very little attention, since CNN was attempted first and after seeing its performance, most of the time was spent at tweaking CNN parameters rather than MLP's. MLP has showed 70% of accuracy and from MLP's application on this dataset, it created an idea that MLP was much more sensitive than CNN. MLP had larger set of hyperparameters that had to be tuned and showed abrupt drops in performance when even slight hyperparameter was changed (decay in optimizer if changed from 1e-7 to 1e-4 started to greatly underperform). Larger amount of layers caused overfitting and if Dropout was applied under each, model was starting to underperform once again. MLP Graph also shows such tendency where it is possible to see validation loss From such results it was understood that it would require very thorough tuning: get Dropout, change it values and change the rate of the dropout, then change neurons amount, decide whether they are going to double or not, and so on, thus the aim was changed from MLP onto CNN fully.\n",
    "    \n",
    "   Finally, CNN showed best result on this dataset classification. Right from the beginning, it was fitting the train set right to ~80%-90% of accuracy even for single hidden layer without overfitting. CNN graph showed significant decrease of training loss and moderate loss of validation set, thus showing that along the way, there was little generalization error (this can be clearly seen at the CNN plot where loss increases while accuracy increases for both Train and Test sets. The pre-processing of data for both of Neural Network classifiers required for labels to be hot encoded. After using manual categorical function, CNN showed a step in the confusion matrix from class 9. As a result, it showed at the missed fact: letter 'J' was missing from the dataset because to create 'J', it had to be a moving gestures of 2 signs, thus author(s) has decided to omit it. To fix this issue, it was decided to create personal hot encoding loop that would account for missing gesture and align other classes appropriately and it seemed to both fix the issue on confusion matrix and improve performance metrics results. Finally, for hyperparameter tuning, it seemed that doubling neurons in hidden layer showed better results, combined with Adam and slow learning rate.\n",
    "    \n",
    "   After full analysis of classifiers, it seems that CNN should be the top choice and should be proceeded with further hyperparameter tuning on hidden layer amount and amount of neurons in each, in order to improve accuracy and precision."
   ]
  }
 ],
 "metadata": {
  "kernelspec": {
   "display_name": "Python 3",
   "language": "python",
   "name": "python3"
  },
  "language_info": {
   "codemirror_mode": {
    "name": "ipython",
    "version": 3
   },
   "file_extension": ".py",
   "mimetype": "text/x-python",
   "name": "python",
   "nbconvert_exporter": "python",
   "pygments_lexer": "ipython3",
   "version": "3.6.9"
  }
 },
 "nbformat": 4,
 "nbformat_minor": 2
}
