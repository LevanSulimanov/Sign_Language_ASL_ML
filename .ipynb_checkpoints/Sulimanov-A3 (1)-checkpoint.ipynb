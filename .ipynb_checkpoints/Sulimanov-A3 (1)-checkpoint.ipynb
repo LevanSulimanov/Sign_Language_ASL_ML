{
 "cells": [
  {
   "cell_type": "markdown",
   "metadata": {},
   "source": [
    "# CMSC478 Machine Learning\n",
    "\n",
    "# Assignment-3: Ensemble Methods and PCA"
   ]
  },
  {
   "cell_type": "markdown",
   "metadata": {},
   "source": [
    "*Levan Sulimanov* "
   ]
  },
  {
   "cell_type": "markdown",
   "metadata": {},
   "source": [
    "## Overview and Learning Objectives"
   ]
  },
  {
   "cell_type": "markdown",
   "metadata": {},
   "source": [
    "You've learnt about Ensemble Methods and how to use weak predictors to create strong predictors by combining them in different ways. You also learned that \"Curse of Dimensionality\" is a common challenge in ML and how PCA can help in dimensionality reduction.\n",
    "\n",
    "In Part I of this assignment, you are going to build and compare three ensemble methods on diabetes dataset. In Part II, you will transform your data to a lower dimensional space using PCA.\n",
    "\n",
    "Pedagogically, this assignment will help you:\n",
    "- better understand Ensemble Methods, as well as Random Forests.\n",
    "\n",
    "- better understand how to perform dimensionality reduction using PCA.\n",
    "\n",
    "- practice plotting ROC curves."
   ]
  },
  {
   "cell_type": "markdown",
   "metadata": {},
   "source": [
    "## Part I - Ensemble Methods"
   ]
  },
  {
   "cell_type": "markdown",
   "metadata": {},
   "source": [
    "You are going to use \"Ensemble\" of classifiers with the following ensemble methods:\n",
    "\n",
    "- Random Forests\n",
    "\n",
    "- AdaBoost\n",
    "\n",
    "- Gradient Boosting"
   ]
  },
  {
   "cell_type": "markdown",
   "metadata": {},
   "source": [
    "First [download the data](https://www.kaggle.com/uciml/pima-indians-diabetes-database) `diabetes.csv` and store it in the same working directory."
   ]
  },
  {
   "cell_type": "code",
   "execution_count": 72,
   "metadata": {},
   "outputs": [],
   "source": [
    "# Import necessary Python modules\n",
    "import pandas as pd\n",
    "import numpy as np\n",
    "\n",
    "import matplotlib.pyplot as plt\n",
    "%matplotlib inline\n",
    "\n",
    "from sklearn.tree import DecisionTreeClassifier\n",
    "from sklearn.ensemble import RandomForestClassifier\n",
    "from sklearn.ensemble import AdaBoostClassifier\n",
    "from sklearn.ensemble import GradientBoostingClassifier\n",
    "\n",
    "from sklearn.model_selection import train_test_split\n",
    "import sklearn.metrics as metrics\n",
    "from sklearn.model_selection import cross_val_score\n",
    "from sklearn.metrics import classification_report, confusion_matrix\n",
    "\n",
    "from sklearn.decomposition import PCA"
   ]
  },
  {
   "cell_type": "code",
   "execution_count": 73,
   "metadata": {},
   "outputs": [
    {
     "name": "stdout",
     "output_type": "stream",
     "text": [
      "(768, 9)\n"
     ]
    },
    {
     "data": {
      "text/html": [
       "<div>\n",
       "<style scoped>\n",
       "    .dataframe tbody tr th:only-of-type {\n",
       "        vertical-align: middle;\n",
       "    }\n",
       "\n",
       "    .dataframe tbody tr th {\n",
       "        vertical-align: top;\n",
       "    }\n",
       "\n",
       "    .dataframe thead th {\n",
       "        text-align: right;\n",
       "    }\n",
       "</style>\n",
       "<table border=\"1\" class=\"dataframe\">\n",
       "  <thead>\n",
       "    <tr style=\"text-align: right;\">\n",
       "      <th></th>\n",
       "      <th>Pregnancies</th>\n",
       "      <th>Glucose</th>\n",
       "      <th>BloodPressure</th>\n",
       "      <th>SkinThickness</th>\n",
       "      <th>Insulin</th>\n",
       "      <th>BMI</th>\n",
       "      <th>DiabetesPedigreeFunction</th>\n",
       "      <th>Age</th>\n",
       "      <th>Outcome</th>\n",
       "    </tr>\n",
       "  </thead>\n",
       "  <tbody>\n",
       "    <tr>\n",
       "      <th>0</th>\n",
       "      <td>6</td>\n",
       "      <td>148</td>\n",
       "      <td>72</td>\n",
       "      <td>35</td>\n",
       "      <td>0</td>\n",
       "      <td>33.6</td>\n",
       "      <td>0.627</td>\n",
       "      <td>50</td>\n",
       "      <td>1</td>\n",
       "    </tr>\n",
       "    <tr>\n",
       "      <th>1</th>\n",
       "      <td>1</td>\n",
       "      <td>85</td>\n",
       "      <td>66</td>\n",
       "      <td>29</td>\n",
       "      <td>0</td>\n",
       "      <td>26.6</td>\n",
       "      <td>0.351</td>\n",
       "      <td>31</td>\n",
       "      <td>0</td>\n",
       "    </tr>\n",
       "    <tr>\n",
       "      <th>2</th>\n",
       "      <td>8</td>\n",
       "      <td>183</td>\n",
       "      <td>64</td>\n",
       "      <td>0</td>\n",
       "      <td>0</td>\n",
       "      <td>23.3</td>\n",
       "      <td>0.672</td>\n",
       "      <td>32</td>\n",
       "      <td>1</td>\n",
       "    </tr>\n",
       "    <tr>\n",
       "      <th>3</th>\n",
       "      <td>1</td>\n",
       "      <td>89</td>\n",
       "      <td>66</td>\n",
       "      <td>23</td>\n",
       "      <td>94</td>\n",
       "      <td>28.1</td>\n",
       "      <td>0.167</td>\n",
       "      <td>21</td>\n",
       "      <td>0</td>\n",
       "    </tr>\n",
       "    <tr>\n",
       "      <th>4</th>\n",
       "      <td>0</td>\n",
       "      <td>137</td>\n",
       "      <td>40</td>\n",
       "      <td>35</td>\n",
       "      <td>168</td>\n",
       "      <td>43.1</td>\n",
       "      <td>2.288</td>\n",
       "      <td>33</td>\n",
       "      <td>1</td>\n",
       "    </tr>\n",
       "  </tbody>\n",
       "</table>\n",
       "</div>"
      ],
      "text/plain": [
       "   Pregnancies  Glucose  BloodPressure  SkinThickness  Insulin   BMI  \\\n",
       "0            6      148             72             35        0  33.6   \n",
       "1            1       85             66             29        0  26.6   \n",
       "2            8      183             64              0        0  23.3   \n",
       "3            1       89             66             23       94  28.1   \n",
       "4            0      137             40             35      168  43.1   \n",
       "\n",
       "   DiabetesPedigreeFunction  Age  Outcome  \n",
       "0                     0.627   50        1  \n",
       "1                     0.351   31        0  \n",
       "2                     0.672   32        1  \n",
       "3                     0.167   21        0  \n",
       "4                     2.288   33        1  "
      ]
     },
     "execution_count": 73,
     "metadata": {},
     "output_type": "execute_result"
    }
   ],
   "source": [
    "# Load diabetes data with Pandas, it should be in the same working directory.\n",
    "df = pd.read_csv(\"diabetes.csv\")\n",
    "\n",
    "print(df.shape)\n",
    "df.head()"
   ]
  },
  {
   "cell_type": "code",
   "execution_count": 74,
   "metadata": {},
   "outputs": [
    {
     "name": "stdout",
     "output_type": "stream",
     "text": [
      "(768, 8)\n",
      "(768,)\n"
     ]
    }
   ],
   "source": [
    "# Create X, y\n",
    "X = df.drop('Outcome', axis=1)\n",
    "y = df['Outcome']\n",
    "\n",
    "print(X.shape)\n",
    "print(y.shape)"
   ]
  },
  {
   "cell_type": "code",
   "execution_count": 75,
   "metadata": {},
   "outputs": [
    {
     "name": "stdout",
     "output_type": "stream",
     "text": [
      "(514, 8)\n",
      "(514,)\n",
      "(254, 8)\n",
      "(254,)\n"
     ]
    }
   ],
   "source": [
    "# Split the data to train and test\n",
    "X_train, X_test, y_train, y_test = train_test_split(X, y, test_size=0.33, random_state=66)\n",
    "\n",
    "print(X_train.shape)\n",
    "print(y_train.shape)\n",
    "print(X_test.shape)\n",
    "print(y_test.shape)"
   ]
  },
  {
   "cell_type": "markdown",
   "metadata": {},
   "source": [
    "## <font color=\"red\"> Required Coding"
   ]
  },
  {
   "cell_type": "code",
   "execution_count": 76,
   "metadata": {},
   "outputs": [],
   "source": [
    "# Create a random forest classifier with 100 estimators and max_leaf_nodes=16 and n_jobs=-1\n",
    "### START CODING HERE ###\n",
    "rf_clf = RandomForestClassifier(n_estimators=100, max_leaf_nodes=16, n_jobs=-1)\n",
    "### END CODING HERE ###"
   ]
  },
  {
   "cell_type": "code",
   "execution_count": 77,
   "metadata": {},
   "outputs": [
    {
     "name": "stdout",
     "output_type": "stream",
     "text": [
      "Mean AUC Score - Random Forest:  0.8345327635327635\n"
     ]
    }
   ],
   "source": [
    "# Perform a 10-fold cross validation with 'roc_auc' as scoring and print the cv_score mean\n",
    "### START CODING HERE ###\n",
    "rf_cv_score = cross_val_score(rf_clf, X, y, cv=10, scoring='roc_auc')\n",
    "### END CODING HERE ###\n",
    "print(\"Mean AUC Score - Random Forest: \", rf_cv_score.mean())"
   ]
  },
  {
   "cell_type": "markdown",
   "metadata": {},
   "source": [
    "> Now, plot the impact of varying `n_estimators` on cv scores (mean auc). This may take a few minutes to generate the plot."
   ]
  },
  {
   "cell_type": "markdown",
   "metadata": {},
   "source": [
    "## <font color=\"red\"> Required Coding"
   ]
  },
  {
   "cell_type": "code",
   "execution_count": 27,
   "metadata": {},
   "outputs": [
    {
     "name": "stdout",
     "output_type": "stream",
     "text": [
      "n_estimators=1 0.7116182336182336\n",
      "n_estimators=2 0.7794943019943019\n",
      "n_estimators=3 0.7944857549857549\n",
      "n_estimators=4 0.8039131054131052\n",
      "n_estimators=5 0.8171908831908832\n",
      "n_estimators=6 0.8096153846153846\n",
      "n_estimators=7 0.8080427350427349\n",
      "n_estimators=8 0.815633903133903\n",
      "n_estimators=9 0.8230099715099716\n",
      "n_estimators=10 0.8267207977207978\n",
      "n_estimators=11 0.8230555555555557\n",
      "n_estimators=12 0.828923076923077\n",
      "n_estimators=13 0.8218860398860398\n",
      "n_estimators=14 0.8353418803418803\n",
      "n_estimators=15 0.8294273504273504\n",
      "n_estimators=16 0.8293076923076923\n",
      "n_estimators=17 0.8267948717948718\n",
      "n_estimators=18 0.8288233618233619\n",
      "n_estimators=19 0.8337179487179487\n",
      "n_estimators=20 0.8236011396011396\n",
      "n_estimators=21 0.8233675213675214\n",
      "n_estimators=22 0.8287065527065527\n",
      "n_estimators=23 0.825290598290598\n",
      "n_estimators=24 0.8272236467236468\n",
      "n_estimators=25 0.829940170940171\n",
      "n_estimators=26 0.825883190883191\n",
      "n_estimators=27 0.8224387464387464\n",
      "n_estimators=28 0.8370000000000001\n",
      "n_estimators=29 0.8311965811965811\n",
      "n_estimators=30 0.8273703703703703\n",
      "n_estimators=31 0.8363960113960113\n",
      "n_estimators=32 0.8279515669515669\n",
      "n_estimators=33 0.837099715099715\n",
      "n_estimators=34 0.8394387464387464\n",
      "n_estimators=35 0.8308176638176639\n",
      "n_estimators=36 0.8261310541310541\n",
      "n_estimators=37 0.8336125356125356\n",
      "n_estimators=38 0.8303760683760684\n",
      "n_estimators=39 0.8344501424501424\n",
      "n_estimators=40 0.8302165242165243\n",
      "n_estimators=41 0.832954415954416\n",
      "n_estimators=42 0.8321310541310541\n",
      "n_estimators=43 0.834888888888889\n",
      "n_estimators=44 0.83705698005698\n",
      "n_estimators=45 0.8302535612535612\n",
      "n_estimators=46 0.8304985754985754\n",
      "n_estimators=47 0.8294501424501425\n",
      "n_estimators=48 0.8366125356125356\n",
      "n_estimators=49 0.8363903133903134\n",
      "n_estimators=50 0.8339572649572651\n",
      "n_estimators=51 0.8346381766381767\n",
      "n_estimators=52 0.8392250712250713\n",
      "n_estimators=53 0.829894586894587\n",
      "n_estimators=54 0.8317122507122507\n",
      "n_estimators=55 0.8365270655270656\n",
      "n_estimators=56 0.832945868945869\n",
      "n_estimators=57 0.8406780626780627\n",
      "n_estimators=58 0.8351054131054131\n",
      "n_estimators=59 0.8372507122507121\n",
      "n_estimators=60 0.8324358974358974\n",
      "n_estimators=61 0.8316125356125357\n",
      "n_estimators=62 0.8368005698005698\n",
      "n_estimators=63 0.8359886039886039\n",
      "n_estimators=64 0.8272877492877493\n",
      "n_estimators=65 0.8358433048433047\n",
      "n_estimators=66 0.8359943019943019\n",
      "n_estimators=67 0.8385840455840455\n",
      "n_estimators=68 0.8333646723646723\n",
      "n_estimators=69 0.8367179487179488\n",
      "n_estimators=70 0.8306695156695156\n",
      "n_estimators=71 0.8375270655270656\n",
      "n_estimators=72 0.8361396011396011\n",
      "n_estimators=73 0.8384301994301995\n",
      "n_estimators=74 0.8368433048433047\n",
      "n_estimators=75 0.8367065527065526\n",
      "n_estimators=76 0.8355897435897436\n",
      "n_estimators=77 0.830017094017094\n",
      "n_estimators=78 0.8314843304843305\n",
      "n_estimators=79 0.8336068376068377\n",
      "n_estimators=80 0.8338433048433048\n",
      "n_estimators=81 0.8339031339031339\n",
      "n_estimators=82 0.8387692307692307\n",
      "n_estimators=83 0.8380398860398861\n",
      "n_estimators=84 0.8378575498575497\n",
      "n_estimators=85 0.8336780626780627\n",
      "n_estimators=86 0.8342621082621082\n",
      "n_estimators=87 0.8374216524216525\n",
      "n_estimators=88 0.8319344729344728\n",
      "n_estimators=89 0.8355014245014246\n",
      "n_estimators=90 0.8370056980056979\n",
      "n_estimators=91 0.8355498575498576\n",
      "n_estimators=92 0.8377293447293447\n",
      "n_estimators=93 0.8396581196581197\n",
      "n_estimators=94 0.8349886039886039\n",
      "n_estimators=95 0.8347891737891737\n",
      "n_estimators=96 0.8366951566951567\n",
      "n_estimators=97 0.8389031339031339\n",
      "n_estimators=98 0.835025641025641\n",
      "n_estimators=99 0.8335555555555555\n",
      "n_estimators=100 0.835173789173789\n"
     ]
    },
    {
     "data": {
      "text/plain": [
       "[<matplotlib.lines.Line2D at 0x1f37a865358>]"
      ]
     },
     "execution_count": 27,
     "metadata": {},
     "output_type": "execute_result"
    },
    {
     "data": {
      "image/png": "[encoded data removed]",
      "text/plain": [
       "<Figure size 432x288 with 1 Axes>"
      ]
     },
     "metadata": {
      "needs_background": "light"
     },
     "output_type": "display_data"
    }
   ],
   "source": [
    "# Create a range of 1 to 100 and an empty list for n_estimators and mean_auc\n",
    "N_Estimators = range(1, 101)\n",
    "Mean_AUC = []\n",
    "\n",
    "### START CODING HERE ###\n",
    "# Write a for loop that does the following steps:\n",
    "# iterate over n_estimators in N_Estimators\n",
    "for n_estimators in N_Estimators:\n",
    "    # create rf_clf in each iteration passing n_estimators and other params\n",
    "    rf_clf = RandomForestClassifier(n_estimators=n_estimators, max_leaf_nodes=16, n_jobs=-1)\n",
    "    # do 10-fold cross validation on X and y with scoring='roc_auc'\n",
    "    rf_cv_score = cross_val_score(rf_clf, X, y, cv=10, scoring='roc_auc')\n",
    "    # compute the mean of the rf_cv_score and append it to Mean_AUC\n",
    "    Mean_AUC.append(rf_cv_score.mean())\n",
    "    #print('n_estimators=' + str(n_estimators), rf_cv_score.mean())\n",
    "### END CODING HERE ###\n",
    "\n",
    "plt.title('Impact of n_estimators on Mean_AUC')\n",
    "plt.xlabel('n_estimators', fontsize=14)\n",
    "plt.ylabel('mean_AUC', fontsize=14)\n",
    "plt.plot(N_Estimators, Mean_AUC)"
   ]
  },
  {
   "cell_type": "markdown",
   "metadata": {},
   "source": [
    "> You can now use `feature_importances_` to see the importance of each feature in the random forest classifier. As mentioned in the lecture, it is measured based on how much the tree nodes that use that feature reduce impurity on average."
   ]
  },
  {
   "cell_type": "code",
   "execution_count": 78,
   "metadata": {},
   "outputs": [
    {
     "name": "stdout",
     "output_type": "stream",
     "text": [
      "Pregnancies 0.07663679906674992\n",
      "Glucose 0.380389697979915\n",
      "BloodPressure 0.05401194595043214\n",
      "SkinThickness 0.04894095337383272\n",
      "Insulin 0.06186154187292131\n",
      "BMI 0.16196332350558262\n",
      "DiabetesPedigreeFunction 0.08902536526297024\n",
      "Age 0.12717037298759615\n"
     ]
    }
   ],
   "source": [
    "# Fit the rf_clf on the training set\n",
    "rf_clf.fit(X_train,y_train)\n",
    "\n",
    "# Get feature_importances for all features\n",
    "for name, score in zip(df, rf_clf.feature_importances_):\n",
    "    print(name, score)"
   ]
  },
  {
   "cell_type": "markdown",
   "metadata": {},
   "source": [
    "> Now, plot the ROC curve. Notice how [class probabilities](https://scikit-learn.org/stable/modules/generated/sklearn.ensemble.RandomForestClassifier.html#sklearn.ensemble.RandomForestClassifier.predict_proba), tpr (true positive rate) and fpr (false positive rate) should be computed for plotting ROC. Notice that Mean AUC Score might be slightly different from the AUC_RF computed below due to averaging in cv."
   ]
  },
  {
   "cell_type": "code",
   "execution_count": 79,
   "metadata": {},
   "outputs": [],
   "source": [
    "rf_probs = rf_clf.predict_proba(X_test)\n",
    "rf_preds = rf_probs[:,1]\n",
    "rf_fpr, rf_tpr, rf_threshold = metrics.roc_curve(y_test, rf_preds)\n",
    "rf_roc_auc = metrics.auc(rf_fpr, rf_tpr)"
   ]
  },
  {
   "cell_type": "code",
   "execution_count": 80,
   "metadata": {},
   "outputs": [
    {
     "data": {
      "text/plain": [
       "Text(0.5, 0, 'False Positive Rate')"
      ]
     },
     "execution_count": 80,
     "metadata": {},
     "output_type": "execute_result"
    },
    {
     "data": {
      "image/png": "[encoded data removed]",
      "text/plain": [
       "<Figure size 432x288 with 1 Axes>"
      ]
     },
     "metadata": {
      "needs_background": "light"
     },
     "output_type": "display_data"
    }
   ],
   "source": [
    "plt.title('ROC')\n",
    "plt.plot(rf_fpr, rf_tpr, 'b', label = 'AUC_RF = %0.2f' % rf_roc_auc)\n",
    "plt.legend(loc = 'lower right')\n",
    "plt.plot([0, 1], [0, 1],'r--')\n",
    "plt.xlim([0, 1])\n",
    "plt.ylim([0, 1])\n",
    "plt.ylabel('True Positive Rate')\n",
    "plt.xlabel('False Positive Rate')"
   ]
  },
  {
   "cell_type": "markdown",
   "metadata": {},
   "source": [
    "> Now do the exact same steps with AdaBoost."
   ]
  },
  {
   "cell_type": "markdown",
   "metadata": {},
   "source": [
    "## <font color=\"red\"> Required Coding"
   ]
  },
  {
   "cell_type": "code",
   "execution_count": 81,
   "metadata": {},
   "outputs": [
    {
     "name": "stdout",
     "output_type": "stream",
     "text": [
      "Mean AUC Score - AdaBoost:  0.8172094017094016\n"
     ]
    }
   ],
   "source": [
    "# Create AdaBoost ensemble of DecisionTreeClassifier(max_depth=2), n_estimators=5, algorithm=\"SAMME.R\", learning_rate=0.25\n",
    "### START CODING HERE ###\n",
    "ada_clf = AdaBoostClassifier(base_estimator=DecisionTreeClassifier(max_depth=2), n_estimators=5, algorithm=\"SAMME.R\", learning_rate=0.25)\n",
    "\n",
    "# Fit the ada_clf on the training set\n",
    "ada_clf.fit(X_train, y_train)\n",
    "\n",
    "# Perform a 10-fold cross validation with 'roc_auc' as scoring and print the cv_score mean\n",
    "ada_cv_score = cross_val_score(ada_clf, X, y, cv=10, scoring='roc_auc')\n",
    "### END CODING HERE ###\n",
    "print(\"Mean AUC Score - AdaBoost: \", ada_cv_score.mean())"
   ]
  },
  {
   "cell_type": "markdown",
   "metadata": {},
   "source": [
    ">And do the same with Gradient Boosting."
   ]
  },
  {
   "cell_type": "code",
   "execution_count": 82,
   "metadata": {},
   "outputs": [
    {
     "name": "stdout",
     "output_type": "stream",
     "text": [
      "Mean AUC Score - Gradinet Boosting:  0.8219729344729345\n"
     ]
    }
   ],
   "source": [
    "# Create GradientBoostingClassifier ensemble of max_depth=2, n_estimators=5, learning_rate=0.25\n",
    "### START CODING HERE ###\n",
    "gb_clf = GradientBoostingClassifier(max_depth=2, n_estimators=5, learning_rate=0.25)\n",
    "\n",
    "# Fit the gb_clf on the training set\n",
    "gb_clf.fit(X_train, y_train)\n",
    "\n",
    "# Perform a 10-fold cross validation with 'roc_auc' as scoring and print the cv_score mean\n",
    "gb_cv_score = cross_val_score(gb_clf, X, y, cv=10, scoring='roc_auc')\n",
    "### END CODING HERE ###\n",
    "print(\"Mean AUC Score - Gradinet Boosting: \", gb_cv_score.mean())"
   ]
  },
  {
   "cell_type": "markdown",
   "metadata": {},
   "source": [
    ">Now plot the ROC for all three ensembles in one plot, similar to the plot for random forest. AUC scores for each ensemble should be shown on the lower right. <b>Hint:</b> You should compute the probs, preds, fpr, tpr, threshold, and roc_auc for each ensmeble separately. Use different variable names for each ensemble to store them."
   ]
  },
  {
   "cell_type": "markdown",
   "metadata": {},
   "source": [
    "## <font color=\"red\"> Required Coding"
   ]
  },
  {
   "cell_type": "code",
   "execution_count": 83,
   "metadata": {},
   "outputs": [
    {
     "data": {
      "text/plain": [
       "Text(0.5, 0, 'False Positive Rate')"
      ]
     },
     "execution_count": 83,
     "metadata": {},
     "output_type": "execute_result"
    },
    {
     "data": {
      "image/png": "[encoded data removed]",
      "text/plain": [
       "<Figure size 432x288 with 1 Axes>"
      ]
     },
     "metadata": {
      "needs_background": "light"
     },
     "output_type": "display_data"
    }
   ],
   "source": [
    "# Plot ROC for all three ensemble methods in one plot with AUC scores shown on the 'lower right' of the plot.\n",
    "# Write as many number of lines as needed.\n",
    "### START CODING HERE ###\n",
    "\n",
    "# Random forest var declarations for plotting\n",
    "rf_probs = rf_clf.predict_proba(X_test)\n",
    "rf_preds = rf_probs[:,1]\n",
    "rf_fpr, rf_tpr, rf_threshold = metrics.roc_curve(y_test, rf_preds)\n",
    "rf_roc_auc = metrics.auc(rf_fpr, rf_tpr)\n",
    "\n",
    "# ADA var declarations for plotting\n",
    "ada_probs = ada_clf.predict_proba(X_test)\n",
    "ada_preds = ada_probs[:,1]\n",
    "ada_fpr, ada_tpr, ada_threshold = metrics.roc_curve(y_test, ada_preds)\n",
    "ada_roc_auc = metrics.auc(ada_fpr, ada_tpr)\n",
    "\n",
    "# Gradient Boosting Classifier var declarations for plotting\n",
    "gb_probs = gb_clf.predict_proba(X_test)\n",
    "gb_preds = gb_probs[:,1]\n",
    "gb_fpr, gb_tpr, gb_threshold = metrics.roc_curve(y_test, gb_preds)\n",
    "gb_roc_auc = metrics.auc(gb_fpr, gb_tpr)\n",
    "\n",
    "# Plotting all 3 ensembles in one plot\n",
    "plt.title('ROC')\n",
    "plt.plot(rf_fpr, rf_tpr, 'b', label = 'AUC_RF = %0.2f' % rf_roc_auc)\n",
    "plt.plot(ada_fpr, ada_tpr, 'g', label = 'AUC_ADA = %0.2f' % ada_roc_auc)\n",
    "plt.plot(gb_fpr, gb_tpr, 'r', label = 'AUC_GB = %0.2f' % gb_roc_auc)\n",
    "plt.legend(loc = 'lower right')\n",
    "plt.plot([0, 1], [0, 1],'r--')\n",
    "plt.xlim([0, 1])\n",
    "plt.ylim([0, 1])\n",
    "plt.ylabel('True Positive Rate')\n",
    "plt.xlabel('False Positive Rate')\n",
    "\n",
    "### END CODING HERE ###"
   ]
  },
  {
   "cell_type": "markdown",
   "metadata": {},
   "source": [
    "## Part I - Questions"
   ]
  },
  {
   "cell_type": "markdown",
   "metadata": {},
   "source": [
    "ANSWER THE FOLLOWING QUESTIONS HERE:\n",
    "\n",
    "Q1 - Given the plot above (3 ROC curves), which ensemble method has the best performance for this dataset? Which one is the 2nd best?\n",
    "\n",
    "- AUC_RF (Random Forest) has the best performance. 2nd best is AUC_GB.\n",
    "\n",
    "Q2 - Given the plot of the impact of varying `n_estimators` on cv scores (mean auc), what would be an appropriate number (or range) for `n_estimators` in random forest classifier for this problem?\n",
    "\n",
    "- List of some estimator numbers: n_estimators=1 -> 0.7116182336182336, n_estimators=2 -> 0.7794943019943019, n_estimators=3 -> 0.7944857549857549, n_estimators=4 -> 0.8039131054131052, n_estimators=5 -> 0.8171908831908832, n_estimators=10 -> 0.8267207977207978, n_estimators=19 -> 0.8337179487179487, n_estimators=20 -> 0.8236011396011396\n",
    "\n",
    "- As we can see, once we get over around ~10 estimators it is pretty much enough (range 5-20), because at that time it stabilizes, and the continuation of adding more does not make much of a difference."
   ]
  },
  {
   "cell_type": "markdown",
   "metadata": {},
   "source": [
    "## Part II - PCA"
   ]
  },
  {
   "cell_type": "markdown",
   "metadata": {},
   "source": [
    "In this part, you are going to reduce the dimensionality of the data by PCA."
   ]
  },
  {
   "cell_type": "markdown",
   "metadata": {},
   "source": [
    "## <font color=\"red\"> Required Coding"
   ]
  },
  {
   "cell_type": "code",
   "execution_count": 84,
   "metadata": {},
   "outputs": [
    {
     "name": "stdout",
     "output_type": "stream",
     "text": [
      "(768, 4)\n"
     ]
    }
   ],
   "source": [
    "# Create a pca with 4 n_components, and fit_transform(X) and store the transformed data in X4D\n",
    "### START CODING HERE ###\n",
    "pca = PCA(n_components=4)\n",
    "X4D = pca.fit_transform(X)\n",
    "### END CODING HERE ###\n",
    "print(X4D.shape)"
   ]
  },
  {
   "cell_type": "code",
   "execution_count": 85,
   "metadata": {},
   "outputs": [
    {
     "data": {
      "text/plain": [
       "array([-75.71465491, -35.95078264,  -7.26078895,  15.66926931])"
      ]
     },
     "execution_count": 85,
     "metadata": {},
     "output_type": "execute_result"
    }
   ],
   "source": [
    "X4D[0]"
   ]
  },
  {
   "cell_type": "code",
   "execution_count": 86,
   "metadata": {},
   "outputs": [
    {
     "data": {
      "text/plain": [
       "array([-2.02176587e-03,  9.78115765e-02,  1.60930503e-02,  6.07566861e-02,\n",
       "        9.93110844e-01,  1.40108085e-02,  5.37167919e-04, -3.56474430e-03])"
      ]
     },
     "execution_count": 86,
     "metadata": {},
     "output_type": "execute_result"
    }
   ],
   "source": [
    "# Check the pca components\n",
    "pca.components_.T[:,0]"
   ]
  },
  {
   "cell_type": "code",
   "execution_count": 87,
   "metadata": {},
   "outputs": [
    {
     "name": "stdout",
     "output_type": "stream",
     "text": [
      "(514, 4)\n",
      "(514,)\n",
      "(254, 4)\n",
      "(254,)\n"
     ]
    }
   ],
   "source": [
    "# Split the X4D to train and test\n",
    "X4D_train, X4D_test, y_train, y_test = train_test_split(X4D, y, test_size=0.33, random_state=66)\n",
    "\n",
    "print(X4D_train.shape)\n",
    "print(y_train.shape)\n",
    "print(X4D_test.shape)\n",
    "print(y_test.shape)"
   ]
  },
  {
   "cell_type": "markdown",
   "metadata": {},
   "source": [
    ">As discussed in the lecture, once you get your X4D, you can see the `explained_variance_ratio_` which shows the ratio of variance that lies in each Principal Component (PC)."
   ]
  },
  {
   "cell_type": "code",
   "execution_count": 88,
   "metadata": {},
   "outputs": [
    {
     "data": {
      "text/plain": [
       "array([0.88854663, 0.06159078, 0.02579012, 0.01308614])"
      ]
     },
     "execution_count": 88,
     "metadata": {},
     "output_type": "execute_result"
    }
   ],
   "source": [
    "pca.explained_variance_ratio_"
   ]
  },
  {
   "cell_type": "markdown",
   "metadata": {},
   "source": [
    ">You can also see the coefficients of each Principal Component (PC) corresponding to each feature as each PC is a linear combination of features."
   ]
  },
  {
   "cell_type": "code",
   "execution_count": 89,
   "metadata": {},
   "outputs": [
    {
     "data": {
      "text/html": [
       "<div>\n",
       "<style scoped>\n",
       "    .dataframe tbody tr th:only-of-type {\n",
       "        vertical-align: middle;\n",
       "    }\n",
       "\n",
       "    .dataframe tbody tr th {\n",
       "        vertical-align: top;\n",
       "    }\n",
       "\n",
       "    .dataframe thead th {\n",
       "        text-align: right;\n",
       "    }\n",
       "</style>\n",
       "<table border=\"1\" class=\"dataframe\">\n",
       "  <thead>\n",
       "    <tr style=\"text-align: right;\">\n",
       "      <th></th>\n",
       "      <th>Pregnancies</th>\n",
       "      <th>Glucose</th>\n",
       "      <th>BloodPressure</th>\n",
       "      <th>SkinThickness</th>\n",
       "      <th>Insulin</th>\n",
       "      <th>BMI</th>\n",
       "      <th>DiabetesPedigreeFunction</th>\n",
       "      <th>Age</th>\n",
       "    </tr>\n",
       "  </thead>\n",
       "  <tbody>\n",
       "    <tr>\n",
       "      <th>PC-1</th>\n",
       "      <td>-0.002022</td>\n",
       "      <td>0.097812</td>\n",
       "      <td>0.016093</td>\n",
       "      <td>0.060757</td>\n",
       "      <td>0.993111</td>\n",
       "      <td>0.014011</td>\n",
       "      <td>0.000537</td>\n",
       "      <td>-0.003565</td>\n",
       "    </tr>\n",
       "    <tr>\n",
       "      <th>PC-2</th>\n",
       "      <td>-0.022649</td>\n",
       "      <td>-0.972210</td>\n",
       "      <td>-0.141909</td>\n",
       "      <td>0.057861</td>\n",
       "      <td>0.094627</td>\n",
       "      <td>-0.046973</td>\n",
       "      <td>-0.000817</td>\n",
       "      <td>-0.140168</td>\n",
       "    </tr>\n",
       "    <tr>\n",
       "      <th>PC-3</th>\n",
       "      <td>-0.022465</td>\n",
       "      <td>0.143429</td>\n",
       "      <td>-0.922467</td>\n",
       "      <td>-0.307013</td>\n",
       "      <td>0.020977</td>\n",
       "      <td>-0.132445</td>\n",
       "      <td>-0.000640</td>\n",
       "      <td>-0.125454</td>\n",
       "    </tr>\n",
       "    <tr>\n",
       "      <th>PC-4</th>\n",
       "      <td>-0.049046</td>\n",
       "      <td>0.119830</td>\n",
       "      <td>-0.262743</td>\n",
       "      <td>0.884369</td>\n",
       "      <td>-0.065550</td>\n",
       "      <td>0.192802</td>\n",
       "      <td>0.002699</td>\n",
       "      <td>-0.301024</td>\n",
       "    </tr>\n",
       "  </tbody>\n",
       "</table>\n",
       "</div>"
      ],
      "text/plain": [
       "      Pregnancies   Glucose  BloodPressure  SkinThickness   Insulin       BMI  \\\n",
       "PC-1    -0.002022  0.097812       0.016093       0.060757  0.993111  0.014011   \n",
       "PC-2    -0.022649 -0.972210      -0.141909       0.057861  0.094627 -0.046973   \n",
       "PC-3    -0.022465  0.143429      -0.922467      -0.307013  0.020977 -0.132445   \n",
       "PC-4    -0.049046  0.119830      -0.262743       0.884369 -0.065550  0.192802   \n",
       "\n",
       "      DiabetesPedigreeFunction       Age  \n",
       "PC-1                  0.000537 -0.003565  \n",
       "PC-2                 -0.000817 -0.140168  \n",
       "PC-3                 -0.000640 -0.125454  \n",
       "PC-4                  0.002699 -0.301024  "
      ]
     },
     "execution_count": 89,
     "metadata": {},
     "output_type": "execute_result"
    }
   ],
   "source": [
    "pd.DataFrame(pca.components_,columns=X.columns,index = ['PC-1','PC-2', 'PC-3', 'PC-4'])"
   ]
  },
  {
   "cell_type": "markdown",
   "metadata": {},
   "source": [
    "## Part II - Questions"
   ]
  },
  {
   "cell_type": "markdown",
   "metadata": {},
   "source": [
    "ANSWER THE FOLLOWING QUESTIONS HERE:\n",
    "\n",
    "Q1- Specify for each PC, which feature has the highest correlation with that PC? You should name the feature that has the highest coefficient in the dataframe above.\n",
    "\n",
    "Highest correlation for:\n",
    "- <b>PC-1</b> => highest positive correlation with <b>Insulin</b> (0.993)\n",
    "- <b>PC-2</b> => highest negative correlation with <b>Glucose</b> (-0.97)\n",
    "- <b>PC-3</b> => highest negative correlation with <b>Blood Pressure</b> (-0.923)\n",
    "- <b>PC-4</b> => highest positive correlation with <b>Skin Thickness</b> (0.88)\n",
    "\n",
    "Q2 - Which of the 8 features has the highest importance in random forest `feature_importances_` which also has a high correlation with one of the 4 PCs returned by PCA? Can this be an indication of consistency between PCA results and `feature_importances_` results?\n",
    "\n",
    "- Glucose had highest importance in random forest feature_importances and also PCA-2 has the same feature (Glucose).\n",
    "- No, it cannot guarantee consistency between PCA and feature_imporances_ results, since feature_importances show that Glucose,   BMI, Age, and Pedigree are most important, whereas PCA says Insulin, Glucose, Blood Pressure and Skin Thickness are the top. If we look into feature_importance_'s percentages, we can see that Age and BMI pretty much can be used as most important feature, however, this is not the case for our dimensionality reduction decision, since they do not hold very heavy weights (percentage) when the dataset is reduced and we reduce based on PCA. Thus, it is not consistent and the results are not similar.\n",
    "\n",
    "Q3 - Compare the Mean AUC (by cv) of random forest classifier using only 1 principal component, versus 2, 3, and 4 prinicipal compenents. Use the cell below to write your code to answer this question.\n",
    "  <br><br>\n",
    "  <font color=\"red\">Comparison between 1 PC, 2PC, 3PC, 4PC:</font>\n",
    "- Mean AUC Score_from_1D - Random Forest:  0.7121695156695157\n",
    "- Mean AUC Score_from_2D - Random Forest:  0.7907905982905982\n",
    "- Mean AUC Score_from_3D - Random Forest:  0.7943732193732194\n",
    "- Mean AUC Score_from_4D - Random Forest:  0.7965470085470086\n",
    "\n",
    "* <font color=\"red\"> <b> Overall ratio: [0.88854663, 0.06159078, 0.02579012, 0.01308614] </b> </font>\n",
    "\n",
    "* As we can see, if we use only 1 Principal Component, then our Mean AUC is significantly decreased and we also loose a lot of data that we could have with higher dimensional data. In our dataset, once we use more Principal Components, we can see good rise of Mean AUC when the data is 2 dimensional, and from that point on as we increase to more dimensions we can see slight changes with addition of another dimension. The reason for such drastic change between 1 dimensional and 2 dimensional was that there were two very major features that were doing impact on Mean, which can be observed in overall ratio. As we added more dimensions, we also included another important features that aided in the increase of Mean AUC score."
   ]
  },
  {
   "cell_type": "markdown",
   "metadata": {},
   "source": [
    "## <font color=\"red\"> Required Coding"
   ]
  },
  {
   "cell_type": "code",
   "execution_count": 100,
   "metadata": {},
   "outputs": [
    {
     "name": "stdout",
     "output_type": "stream",
     "text": [
      "(514, 1)\n",
      "(514, 2)\n",
      "(514, 3)\n",
      "(514, 4)\n"
     ]
    }
   ],
   "source": [
    "# \n",
    "pca1 = PCA(n_components=1)\n",
    "X1D = pca1.fit_transform(X)\n",
    "X1D_train, X1D_test, y_train_1, y_test_1 = train_test_split(X1D, y, test_size=0.33, random_state=66)\n",
    "\n",
    "pca2 = PCA(n_components=2)\n",
    "X2D = pca2.fit_transform(X)\n",
    "X2D_train, X2D_test, y_train_2, y_test_2 = train_test_split(X2D, y, test_size=0.33, random_state=66)\n",
    "\n",
    "pca3 = PCA(n_components=3)\n",
    "X3D = pca3.fit_transform(X)\n",
    "X3D_train, X3D_test, y_train_3, y_test_3 = train_test_split(X3D, y, test_size=0.33, random_state=66)\n",
    "\n",
    "pca4 = PCA(n_components=4)\n",
    "X4D = pca4.fit_transform(X)\n",
    "X4D_train, X4D_test, y_train_4, y_test_4 = train_test_split(X4D, y, test_size=0.33, random_state=66)\n",
    "\n",
    "pca5 = PCA(n_components=5)\n",
    "X5D = pca5.fit_transform(X)\n",
    "X5D_train, X5D_test, y_train_5, y_test_5 = train_test_split(X5D, y, test_size=0.33, random_state=66)\n",
    "\n",
    "pca7 = PCA(n_components=7)\n",
    "X7D = pca7.fit_transform(X)\n",
    "X7D_train, X7D_test, y_train_7, y_test_7 = train_test_split(X7D, y, test_size=0.33, random_state=66)\n",
    "\n",
    "print(X1D_train.shape)\n",
    "print(X2D_train.shape)\n",
    "print(X3D_train.shape)\n",
    "print(X4D_train.shape)\n",
    "\n",
    "#print(X5D_train.shape)\n",
    "#print(X7D_train.shape)"
   ]
  },
  {
   "cell_type": "code",
   "execution_count": 102,
   "metadata": {},
   "outputs": [
    {
     "name": "stdout",
     "output_type": "stream",
     "text": [
      "Mean AUC Score_from_1D - Random Forest:  0.7190868945868946\n",
      "Mean AUC Score_from_2D - Random Forest:  0.790068376068376\n",
      "Mean AUC Score_from_3D - Random Forest:  0.7944672364672365\n",
      "Mean AUC Score_from_4D - Random Forest:  0.7943903133903134\n"
     ]
    }
   ],
   "source": [
    "# creating random forest classifier, training it on reduced dimensioned train datasets\n",
    "# and then use cross validation with each reduced dataset accordingly\n",
    "rf_clf_1 = RandomForestClassifier(n_estimators=100, max_leaf_nodes=16, n_jobs=-1)\n",
    "rf_clf_1.fit(X1D_train, y_train_1)\n",
    "rf_cv_score_1 = cross_val_score(rf_clf_1, X1D, y, cv=10, scoring='roc_auc')\n",
    "print(\"Mean AUC Score_from_1D - Random Forest: \", rf_cv_score_1.mean())\n",
    "\n",
    "rf_clf_2 = RandomForestClassifier(n_estimators=100, max_leaf_nodes=16, n_jobs=-1)\n",
    "rf_clf_2.fit(X2D_train, y_train_2)\n",
    "rf_cv_score_2 = cross_val_score(rf_clf_2, X2D, y, cv=10, scoring='roc_auc')\n",
    "print(\"Mean AUC Score_from_2D - Random Forest: \", rf_cv_score_2.mean())\n",
    "\n",
    "rf_clf_3 = RandomForestClassifier(n_estimators=100, max_leaf_nodes=16, n_jobs=-1)\n",
    "rf_clf_3.fit(X3D_train, y_train_3)\n",
    "rf_cv_score_3 = cross_val_score(rf_clf_3, X3D, y, cv=10, scoring='roc_auc')\n",
    "print(\"Mean AUC Score_from_3D - Random Forest: \", rf_cv_score_3.mean())\n",
    "\n",
    "rf_clf_4 = RandomForestClassifier(n_estimators=100, max_leaf_nodes=16, n_jobs=-1)\n",
    "rf_clf_4.fit(X4D_train, y_train_4)\n",
    "rf_cv_score_4 = cross_val_score(rf_clf_4, X4D, y, cv=10, scoring='roc_auc')\n",
    "print(\"Mean AUC Score_from_4D - Random Forest: \", rf_cv_score_4.mean())"
   ]
  },
  {
   "cell_type": "code",
   "execution_count": 103,
   "metadata": {},
   "outputs": [
    {
     "data": {
      "text/plain": [
       "array([0.88854663])"
      ]
     },
     "execution_count": 103,
     "metadata": {},
     "output_type": "execute_result"
    }
   ],
   "source": [
    "pca1.explained_variance_ratio_"
   ]
  },
  {
   "cell_type": "code",
   "execution_count": 104,
   "metadata": {},
   "outputs": [
    {
     "data": {
      "text/plain": [
       "array([0.88854663, 0.06159078])"
      ]
     },
     "execution_count": 104,
     "metadata": {},
     "output_type": "execute_result"
    }
   ],
   "source": [
    "pca2.explained_variance_ratio_"
   ]
  },
  {
   "cell_type": "code",
   "execution_count": 105,
   "metadata": {},
   "outputs": [
    {
     "data": {
      "text/plain": [
       "array([0.88854663, 0.06159078, 0.02579012])"
      ]
     },
     "execution_count": 105,
     "metadata": {},
     "output_type": "execute_result"
    }
   ],
   "source": [
    "pca3.explained_variance_ratio_"
   ]
  },
  {
   "cell_type": "code",
   "execution_count": 106,
   "metadata": {},
   "outputs": [
    {
     "data": {
      "text/plain": [
       "array([0.88854663, 0.06159078, 0.02579012, 0.01308614])"
      ]
     },
     "execution_count": 106,
     "metadata": {},
     "output_type": "execute_result"
    }
   ],
   "source": [
    "pca4.explained_variance_ratio_"
   ]
  },
  {
   "cell_type": "markdown",
   "metadata": {},
   "source": [
    "## Grading\n",
    "\n",
    "\n",
    "For Assignment 3, your notebook will be run and graded with a maximum of 100 points. Make sure that you get the correct outputs for all cells that you implement. Also, your notebook should be written with no grammatical and spelling errors and should be nicely-formatted and easy-to-read.\n",
    "\n",
    "The breakdown of the 100 points is as follows:\n",
    "\n",
    "Part I implementaion has 65 points:\n",
    "- 30 points: ensemble methods - each ensemble method (and cv) implementation has 10 points.\n",
    "- 20 points: correct plot of the impact of varying `n_estimators` on cv scores (mean auc).\n",
    "- 15 points: correct plot of 3 ROC for ensemble methods in one plot.\n",
    "\n",
    "Part I questions have 10 points (5 points each).\n",
    "\n",
    "Part II PCA implementation has 10 points, and Part II questions have 15 points (5 points each).\n",
    "\n",
    "Follow the instructions of each section carefully. Up to 10 points may be deducted if your submitted notebook is not easy to read and follow or if it has grammatical and spelling errors."
   ]
  },
  {
   "cell_type": "markdown",
   "metadata": {},
   "source": [
    "## How to Submit and Due Date"
   ]
  },
  {
   "cell_type": "markdown",
   "metadata": {},
   "source": [
    "Name your notebook ```Lastname-A3.ipynb```.  So, for me it would be ```Vafaei-A3.ipynb```.  Submit the file using the ```Assignment-3``` link on Blackboard.\n",
    "\n",
    "Grading will be based on \n",
    "\n",
    "  * correct implementation, correct answer to the questions, and\n",
    "  * readability of the notebook.\n",
    "  \n",
    "<font color=red><b>Due Date: Friday Nov 15th 11:59PM.</b></font>"
   ]
  }
 ],
 "metadata": {
  "kernelspec": {
   "display_name": "Python 3",
   "language": "python",
   "name": "python3"
  },
  "language_info": {
   "codemirror_mode": {
    "name": "ipython",
    "version": 3
   },
   "file_extension": ".py",
   "mimetype": "text/x-python",
   "name": "python",
   "nbconvert_exporter": "python",
   "pygments_lexer": "ipython3",
   "version": "3.6.9"
  }
 },
 "nbformat": 4,
 "nbformat_minor": 2
}
