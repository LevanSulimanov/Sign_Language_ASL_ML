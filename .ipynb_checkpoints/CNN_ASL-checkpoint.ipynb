{
 "cells": [
  {
   "cell_type": "markdown",
   "metadata": {},
   "source": [
    "# ASL Sign Language: Aphabet Gesture Recognition using ML"
   ]
  },
  {
   "cell_type": "markdown",
   "metadata": {},
   "source": [
    "## Dataset\n",
    "\n",
    "- Link to dataset source: https://www.kaggle.com/datamunge/sign-language-mnist\n",
    "\n",
    "\n",
    "- <b>Label/target</b> description - What column in your dataset you are trying to predict? Specify exactly what your target feature (label) is. It must be one of the dataset columns. For image classification, specify your class labels.\n",
    "\n",
    "- Dataset itself contains three CSV files: train_set, test_set, and combined full_set (train+test sets).\n",
    "\n",
    "- Feature description: Inside of dataset, there are 34627 samples of 28\\*28 pictures, thus the dataset has <b>34627 rows</b> and <b>784 columns + label column</b>. Each column (except 'label') is a pixel values, no RGB values, thus the image is stored in black and white color (grayscale). For visual representation of the data, please see recollected image from CSV pixel values down below, once the dataset is imported. In addition to that, we have 'label' column that has numbers that symbolize alphabet letters accordingly: 0=A, 1=B, etc. Note: Letter 'J' and 'Z' not included, b/c they are shown as moving gestures, thus not suitable for dataset."
   ]
  },
  {
   "cell_type": "markdown",
   "metadata": {},
   "source": [
    "- Code for loading, showing the data head, is located in the following cells below.\n",
    "\n",
    "\n",
    "- Pixels recollected back into images are also shown below."
   ]
  },
  {
   "cell_type": "code",
   "execution_count": null,
   "metadata": {},
   "outputs": [],
   "source": [
    "# Import necessary Python, sklearn and/or tensorflow/keras modules for loading the dataset\n",
    "# Import necessary Python modules\n",
    "import pandas as pd\n",
    "import numpy as np\n",
    "import os\n",
    "\n",
    "import matplotlib.pyplot as plt\n",
    "%matplotlib inline\n",
    "\n",
    "# TENSORFLOW IMPORTS\n",
    "import tensorflow as tf"
   ]
  },
  {
   "cell_type": "code",
   "execution_count": null,
   "metadata": {},
   "outputs": [],
   "source": [
    "# making sure same version is used (2.0.0) and Eager Execution is TRUE\n",
    "print(\"tf Version: \", tf.__version__)\n",
    "print(\"Eager Execution mode: \", tf.executing_eagerly())"
   ]
  },
  {
   "cell_type": "code",
   "execution_count": null,
   "metadata": {},
   "outputs": [],
   "source": [
    "# Load the data\n",
    "\n",
    "# we are getting current directory + the folder that contains our datasets\n",
    "current_Directory = str(os.getcwd() + '\\\\sign-language-mnist\\\\')\n",
    "\n",
    "# once the directory for CSV files is stored we start to gather the data:\n",
    "\n",
    "# gathering FULL dataset:\n",
    "full_dataset = pd.read_csv(current_Directory + \"\\\\full_dataset.csv\")\n",
    "\n",
    "# gathering TRAIN dataset\n",
    "train_set = pd.read_csv(current_Directory + \"\\\\sign_mnist_train.csv\")\n",
    "\n",
    "# gathering TEST dataset:\n",
    "test_set = pd.read_csv(current_Directory + \"\\\\sign_mnist_test.csv\")"
   ]
  },
  {
   "cell_type": "code",
   "execution_count": null,
   "metadata": {},
   "outputs": [],
   "source": []
  },
  {
   "cell_type": "code",
   "execution_count": null,
   "metadata": {},
   "outputs": [],
   "source": []
  },
  {
   "cell_type": "code",
   "execution_count": null,
   "metadata": {},
   "outputs": [],
   "source": []
  },
  {
   "cell_type": "code",
   "execution_count": null,
   "metadata": {},
   "outputs": [],
   "source": []
  },
  {
   "cell_type": "code",
   "execution_count": null,
   "metadata": {},
   "outputs": [],
   "source": []
  },
  {
   "cell_type": "code",
   "execution_count": null,
   "metadata": {},
   "outputs": [],
   "source": []
  },
  {
   "cell_type": "code",
   "execution_count": null,
   "metadata": {},
   "outputs": [],
   "source": []
  },
  {
   "cell_type": "code",
   "execution_count": null,
   "metadata": {},
   "outputs": [],
   "source": []
  }
 ],
 "metadata": {
  "kernelspec": {
   "display_name": "Python 3",
   "language": "python",
   "name": "python3"
  },
  "language_info": {
   "codemirror_mode": {
    "name": "ipython",
    "version": 3
   },
   "file_extension": ".py",
   "mimetype": "text/x-python",
   "name": "python",
   "nbconvert_exporter": "python",
   "pygments_lexer": "ipython3",
   "version": "3.6.9"
  }
 },
 "nbformat": 4,
 "nbformat_minor": 2
}
